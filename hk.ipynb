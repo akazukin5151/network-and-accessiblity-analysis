{
 "cells": [
  {
   "cell_type": "code",
   "execution_count": 1,
   "id": "521f9347",
   "metadata": {},
   "outputs": [
    {
     "name": "stderr",
     "output_type": "stream",
     "text": [
      "/home/twenty/miniconda3/lib/python3.9/site-packages/geopandas/_compat.py:111: UserWarning: The Shapely GEOS version (3.8.0-CAPI-1.13.1 ) is incompatible with the GEOS version PyGEOS was compiled with (3.9.0-CAPI-1.16.2). Conversions between both will be slow.\n",
      "  warnings.warn(\n"
     ]
    }
   ],
   "source": [
    "import datetime as dt\n",
    "from datetime import date\n",
    "from datetime import datetime\n",
    "from datetime import timedelta\n",
    "import pandas as pd\n",
    "import geopandas as gpd\n",
    "import numpy as np\n",
    "import seaborn as sns\n",
    "import matplotlib.pyplot as plt\n",
    "from shapely.geometry import LineString, Point\n",
    "import pyproj\n",
    "from shapely.ops import transform\n",
    "import networkx as nx\n",
    "import momepy"
   ]
  },
  {
   "cell_type": "code",
   "execution_count": 2,
   "id": "48b27dc5",
   "metadata": {},
   "outputs": [],
   "source": [
    "routes = pd.read_csv('data/hk/headway/routes.txt')"
   ]
  },
  {
   "cell_type": "code",
   "execution_count": 3,
   "id": "f6e131cd",
   "metadata": {},
   "outputs": [],
   "source": [
    "trips = pd.read_csv('data/hk/headway/trips.txt')"
   ]
  },
  {
   "cell_type": "code",
   "execution_count": 4,
   "id": "023ab9cf",
   "metadata": {},
   "outputs": [],
   "source": [
    "stops = pd.read_csv('data/hk/headway/stops.txt')"
   ]
  },
  {
   "cell_type": "code",
   "execution_count": 5,
   "id": "cfbdc331",
   "metadata": {},
   "outputs": [],
   "source": [
    "stop_times = pd.read_csv('data/hk/headway/stop_times.txt')"
   ]
  },
  {
   "cell_type": "code",
   "execution_count": 6,
   "id": "8f25bc82",
   "metadata": {},
   "outputs": [
    {
     "data": {
      "text/html": [
       "<div>\n",
       "<style scoped>\n",
       "    .dataframe tbody tr th:only-of-type {\n",
       "        vertical-align: middle;\n",
       "    }\n",
       "\n",
       "    .dataframe tbody tr th {\n",
       "        vertical-align: top;\n",
       "    }\n",
       "\n",
       "    .dataframe thead th {\n",
       "        text-align: right;\n",
       "    }\n",
       "</style>\n",
       "<table border=\"1\" class=\"dataframe\">\n",
       "  <thead>\n",
       "    <tr style=\"text-align: right;\">\n",
       "      <th></th>\n",
       "      <th>route_id</th>\n",
       "      <th>agency_id</th>\n",
       "      <th>route_short_name</th>\n",
       "      <th>route_long_name</th>\n",
       "      <th>route_type</th>\n",
       "      <th>route_url</th>\n",
       "    </tr>\n",
       "  </thead>\n",
       "  <tbody>\n",
       "    <tr>\n",
       "      <th>0</th>\n",
       "      <td>1001</td>\n",
       "      <td>KMB</td>\n",
       "      <td>1</td>\n",
       "      <td>CHUK YUEN ESTATE - STAR FERRY</td>\n",
       "      <td>3</td>\n",
       "      <td>https://search.kmb.hk/KMBWebSite/?action=route...</td>\n",
       "    </tr>\n",
       "    <tr>\n",
       "      <th>1</th>\n",
       "      <td>1002</td>\n",
       "      <td>KMB</td>\n",
       "      <td>10</td>\n",
       "      <td>CHOI WAN - TAI KOK TSUI (CIRCULAR)</td>\n",
       "      <td>3</td>\n",
       "      <td>https://search.kmb.hk/KMBWebSite/?action=route...</td>\n",
       "    </tr>\n",
       "    <tr>\n",
       "      <th>2</th>\n",
       "      <td>1006</td>\n",
       "      <td>KMB+CTB</td>\n",
       "      <td>102P</td>\n",
       "      <td>SHAU KEI WAN - MEI FOO</td>\n",
       "      <td>3</td>\n",
       "      <td>https://search.kmb.hk/KMBWebSite/?action=route...</td>\n",
       "    </tr>\n",
       "    <tr>\n",
       "      <th>3</th>\n",
       "      <td>1008</td>\n",
       "      <td>KMB+CTB</td>\n",
       "      <td>103</td>\n",
       "      <td>CHUK YUEN ESTATE - POKFIELD RD</td>\n",
       "      <td>3</td>\n",
       "      <td>https://search.kmb.hk/KMBWebSite/?action=route...</td>\n",
       "    </tr>\n",
       "    <tr>\n",
       "      <th>4</th>\n",
       "      <td>1010</td>\n",
       "      <td>KMB+NWFB</td>\n",
       "      <td>106</td>\n",
       "      <td>WONG TAI SIN - SIU SAI WAN (ISLAND RESORT)</td>\n",
       "      <td>3</td>\n",
       "      <td>https://search.kmb.hk/KMBWebSite/?action=route...</td>\n",
       "    </tr>\n",
       "  </tbody>\n",
       "</table>\n",
       "</div>"
      ],
      "text/plain": [
       "   route_id agency_id route_short_name  \\\n",
       "0      1001       KMB                1   \n",
       "1      1002       KMB               10   \n",
       "2      1006   KMB+CTB             102P   \n",
       "3      1008   KMB+CTB              103   \n",
       "4      1010  KMB+NWFB              106   \n",
       "\n",
       "                              route_long_name  route_type  \\\n",
       "0               CHUK YUEN ESTATE - STAR FERRY           3   \n",
       "1          CHOI WAN - TAI KOK TSUI (CIRCULAR)           3   \n",
       "2                      SHAU KEI WAN - MEI FOO           3   \n",
       "3              CHUK YUEN ESTATE - POKFIELD RD           3   \n",
       "4  WONG TAI SIN - SIU SAI WAN (ISLAND RESORT)           3   \n",
       "\n",
       "                                           route_url  \n",
       "0  https://search.kmb.hk/KMBWebSite/?action=route...  \n",
       "1  https://search.kmb.hk/KMBWebSite/?action=route...  \n",
       "2  https://search.kmb.hk/KMBWebSite/?action=route...  \n",
       "3  https://search.kmb.hk/KMBWebSite/?action=route...  \n",
       "4  https://search.kmb.hk/KMBWebSite/?action=route...  "
      ]
     },
     "execution_count": 6,
     "metadata": {},
     "output_type": "execute_result"
    }
   ],
   "source": [
    "routes.head()"
   ]
  },
  {
   "cell_type": "markdown",
   "id": "b5572a6d",
   "metadata": {},
   "source": [
    "## Filter trips that are buses (ie, not ferry, not GMB)"
   ]
  },
  {
   "cell_type": "code",
   "execution_count": 7,
   "id": "e37eb776",
   "metadata": {},
   "outputs": [],
   "source": [
    "# exclude ferry, peak tram, hki trams, and GMB\n",
    "conds = (routes.agency_id != 'FERRY') & (routes.agency_id != 'PTRAM') & (routes.agency_id != 'TRAM') & (routes.agency_id != 'GMB')\n",
    "bus_routes = routes[conds]"
   ]
  },
  {
   "cell_type": "code",
   "execution_count": 8,
   "id": "0e8d78fb",
   "metadata": {},
   "outputs": [
    {
     "data": {
      "text/plain": [
       "array(['KMB', 'KMB+CTB', 'KMB+NWFB', 'LWB', 'LWB+CTB', 'NWFB', 'CTB',\n",
       "       'NLB', 'LRTFeeder', 'XB', 'DB', 'PI'], dtype=object)"
      ]
     },
     "execution_count": 8,
     "metadata": {},
     "output_type": "execute_result"
    }
   ],
   "source": [
    "bus_routes.agency_id.unique()"
   ]
  },
  {
   "cell_type": "code",
   "execution_count": 9,
   "id": "489793f3",
   "metadata": {},
   "outputs": [
    {
     "data": {
      "text/html": [
       "<div>\n",
       "<style scoped>\n",
       "    .dataframe tbody tr th:only-of-type {\n",
       "        vertical-align: middle;\n",
       "    }\n",
       "\n",
       "    .dataframe tbody tr th {\n",
       "        vertical-align: top;\n",
       "    }\n",
       "\n",
       "    .dataframe thead th {\n",
       "        text-align: right;\n",
       "    }\n",
       "</style>\n",
       "<table border=\"1\" class=\"dataframe\">\n",
       "  <thead>\n",
       "    <tr style=\"text-align: right;\">\n",
       "      <th></th>\n",
       "      <th>route_id</th>\n",
       "      <th>agency_id</th>\n",
       "      <th>route_short_name</th>\n",
       "      <th>route_long_name</th>\n",
       "      <th>route_type</th>\n",
       "      <th>route_url</th>\n",
       "      <th>service_id</th>\n",
       "      <th>trip_id</th>\n",
       "    </tr>\n",
       "  </thead>\n",
       "  <tbody>\n",
       "    <tr>\n",
       "      <th>0</th>\n",
       "      <td>1001</td>\n",
       "      <td>KMB</td>\n",
       "      <td>1</td>\n",
       "      <td>CHUK YUEN ESTATE - STAR FERRY</td>\n",
       "      <td>3</td>\n",
       "      <td>https://search.kmb.hk/KMBWebSite/?action=route...</td>\n",
       "      <td>287</td>\n",
       "      <td>1001-1-287-0535</td>\n",
       "    </tr>\n",
       "    <tr>\n",
       "      <th>1</th>\n",
       "      <td>1001</td>\n",
       "      <td>KMB</td>\n",
       "      <td>1</td>\n",
       "      <td>CHUK YUEN ESTATE - STAR FERRY</td>\n",
       "      <td>3</td>\n",
       "      <td>https://search.kmb.hk/KMBWebSite/?action=route...</td>\n",
       "      <td>287</td>\n",
       "      <td>1001-1-287-0623</td>\n",
       "    </tr>\n",
       "    <tr>\n",
       "      <th>2</th>\n",
       "      <td>1001</td>\n",
       "      <td>KMB</td>\n",
       "      <td>1</td>\n",
       "      <td>CHUK YUEN ESTATE - STAR FERRY</td>\n",
       "      <td>3</td>\n",
       "      <td>https://search.kmb.hk/KMBWebSite/?action=route...</td>\n",
       "      <td>287</td>\n",
       "      <td>1001-1-287-0647</td>\n",
       "    </tr>\n",
       "    <tr>\n",
       "      <th>3</th>\n",
       "      <td>1001</td>\n",
       "      <td>KMB</td>\n",
       "      <td>1</td>\n",
       "      <td>CHUK YUEN ESTATE - STAR FERRY</td>\n",
       "      <td>3</td>\n",
       "      <td>https://search.kmb.hk/KMBWebSite/?action=route...</td>\n",
       "      <td>287</td>\n",
       "      <td>1001-1-287-0757</td>\n",
       "    </tr>\n",
       "    <tr>\n",
       "      <th>4</th>\n",
       "      <td>1001</td>\n",
       "      <td>KMB</td>\n",
       "      <td>1</td>\n",
       "      <td>CHUK YUEN ESTATE - STAR FERRY</td>\n",
       "      <td>3</td>\n",
       "      <td>https://search.kmb.hk/KMBWebSite/?action=route...</td>\n",
       "      <td>287</td>\n",
       "      <td>1001-1-287-0829</td>\n",
       "    </tr>\n",
       "  </tbody>\n",
       "</table>\n",
       "</div>"
      ],
      "text/plain": [
       "   route_id agency_id route_short_name                route_long_name  \\\n",
       "0      1001       KMB                1  CHUK YUEN ESTATE - STAR FERRY   \n",
       "1      1001       KMB                1  CHUK YUEN ESTATE - STAR FERRY   \n",
       "2      1001       KMB                1  CHUK YUEN ESTATE - STAR FERRY   \n",
       "3      1001       KMB                1  CHUK YUEN ESTATE - STAR FERRY   \n",
       "4      1001       KMB                1  CHUK YUEN ESTATE - STAR FERRY   \n",
       "\n",
       "   route_type                                          route_url  service_id  \\\n",
       "0           3  https://search.kmb.hk/KMBWebSite/?action=route...         287   \n",
       "1           3  https://search.kmb.hk/KMBWebSite/?action=route...         287   \n",
       "2           3  https://search.kmb.hk/KMBWebSite/?action=route...         287   \n",
       "3           3  https://search.kmb.hk/KMBWebSite/?action=route...         287   \n",
       "4           3  https://search.kmb.hk/KMBWebSite/?action=route...         287   \n",
       "\n",
       "           trip_id  \n",
       "0  1001-1-287-0535  \n",
       "1  1001-1-287-0623  \n",
       "2  1001-1-287-0647  \n",
       "3  1001-1-287-0757  \n",
       "4  1001-1-287-0829  "
      ]
     },
     "execution_count": 9,
     "metadata": {},
     "output_type": "execute_result"
    }
   ],
   "source": [
    "bus_trips = bus_routes.merge(trips, on='route_id', how='inner')\n",
    "bus_trips.head()"
   ]
  },
  {
   "cell_type": "code",
   "execution_count": 10,
   "id": "5db908fa",
   "metadata": {},
   "outputs": [],
   "source": [
    "assert trips.shape[0] > bus_trips.shape[0]"
   ]
  },
  {
   "cell_type": "code",
   "execution_count": 11,
   "id": "4ba356de",
   "metadata": {},
   "outputs": [
    {
     "data": {
      "text/html": [
       "<div>\n",
       "<style scoped>\n",
       "    .dataframe tbody tr th:only-of-type {\n",
       "        vertical-align: middle;\n",
       "    }\n",
       "\n",
       "    .dataframe tbody tr th {\n",
       "        vertical-align: top;\n",
       "    }\n",
       "\n",
       "    .dataframe thead th {\n",
       "        text-align: right;\n",
       "    }\n",
       "</style>\n",
       "<table border=\"1\" class=\"dataframe\">\n",
       "  <thead>\n",
       "    <tr style=\"text-align: right;\">\n",
       "      <th></th>\n",
       "      <th>trip_id</th>\n",
       "      <th>arrival_time</th>\n",
       "      <th>departure_time</th>\n",
       "      <th>stop_id</th>\n",
       "      <th>stop_sequence</th>\n",
       "      <th>pickup_type</th>\n",
       "      <th>drop_off_type</th>\n",
       "      <th>timepoint</th>\n",
       "    </tr>\n",
       "  </thead>\n",
       "  <tbody>\n",
       "    <tr>\n",
       "      <th>0</th>\n",
       "      <td>1001-1-287-0535</td>\n",
       "      <td>05:35:00</td>\n",
       "      <td>05:35:00</td>\n",
       "      <td>4001</td>\n",
       "      <td>1</td>\n",
       "      <td>0</td>\n",
       "      <td>1</td>\n",
       "      <td>1</td>\n",
       "    </tr>\n",
       "    <tr>\n",
       "      <th>1</th>\n",
       "      <td>1001-1-287-0535</td>\n",
       "      <td>NaN</td>\n",
       "      <td>NaN</td>\n",
       "      <td>4002</td>\n",
       "      <td>2</td>\n",
       "      <td>0</td>\n",
       "      <td>0</td>\n",
       "      <td>0</td>\n",
       "    </tr>\n",
       "    <tr>\n",
       "      <th>2</th>\n",
       "      <td>1001-1-287-0535</td>\n",
       "      <td>NaN</td>\n",
       "      <td>NaN</td>\n",
       "      <td>4003</td>\n",
       "      <td>3</td>\n",
       "      <td>0</td>\n",
       "      <td>0</td>\n",
       "      <td>0</td>\n",
       "    </tr>\n",
       "    <tr>\n",
       "      <th>3</th>\n",
       "      <td>1001-1-287-0535</td>\n",
       "      <td>NaN</td>\n",
       "      <td>NaN</td>\n",
       "      <td>4004</td>\n",
       "      <td>4</td>\n",
       "      <td>0</td>\n",
       "      <td>0</td>\n",
       "      <td>0</td>\n",
       "    </tr>\n",
       "    <tr>\n",
       "      <th>4</th>\n",
       "      <td>1001-1-287-0535</td>\n",
       "      <td>NaN</td>\n",
       "      <td>NaN</td>\n",
       "      <td>4005</td>\n",
       "      <td>5</td>\n",
       "      <td>0</td>\n",
       "      <td>0</td>\n",
       "      <td>0</td>\n",
       "    </tr>\n",
       "    <tr>\n",
       "      <th>...</th>\n",
       "      <td>...</td>\n",
       "      <td>...</td>\n",
       "      <td>...</td>\n",
       "      <td>...</td>\n",
       "      <td>...</td>\n",
       "      <td>...</td>\n",
       "      <td>...</td>\n",
       "      <td>...</td>\n",
       "    </tr>\n",
       "    <tr>\n",
       "      <th>552705</th>\n",
       "      <td>1000211-1-287-0730</td>\n",
       "      <td>NaN</td>\n",
       "      <td>NaN</td>\n",
       "      <td>1371</td>\n",
       "      <td>16</td>\n",
       "      <td>0</td>\n",
       "      <td>0</td>\n",
       "      <td>0</td>\n",
       "    </tr>\n",
       "    <tr>\n",
       "      <th>552706</th>\n",
       "      <td>1000211-1-287-0730</td>\n",
       "      <td>NaN</td>\n",
       "      <td>NaN</td>\n",
       "      <td>1148</td>\n",
       "      <td>17</td>\n",
       "      <td>0</td>\n",
       "      <td>0</td>\n",
       "      <td>0</td>\n",
       "    </tr>\n",
       "    <tr>\n",
       "      <th>552707</th>\n",
       "      <td>1000211-1-287-0730</td>\n",
       "      <td>NaN</td>\n",
       "      <td>NaN</td>\n",
       "      <td>8340</td>\n",
       "      <td>18</td>\n",
       "      <td>0</td>\n",
       "      <td>0</td>\n",
       "      <td>0</td>\n",
       "    </tr>\n",
       "    <tr>\n",
       "      <th>552708</th>\n",
       "      <td>1000211-1-287-0730</td>\n",
       "      <td>NaN</td>\n",
       "      <td>NaN</td>\n",
       "      <td>10265</td>\n",
       "      <td>19</td>\n",
       "      <td>0</td>\n",
       "      <td>0</td>\n",
       "      <td>0</td>\n",
       "    </tr>\n",
       "    <tr>\n",
       "      <th>552709</th>\n",
       "      <td>1000211-1-287-0730</td>\n",
       "      <td>08:10:00</td>\n",
       "      <td>08:10:00</td>\n",
       "      <td>8082</td>\n",
       "      <td>20</td>\n",
       "      <td>1</td>\n",
       "      <td>0</td>\n",
       "      <td>1</td>\n",
       "    </tr>\n",
       "  </tbody>\n",
       "</table>\n",
       "<p>552710 rows × 8 columns</p>\n",
       "</div>"
      ],
      "text/plain": [
       "                   trip_id arrival_time departure_time  stop_id  \\\n",
       "0          1001-1-287-0535     05:35:00       05:35:00     4001   \n",
       "1          1001-1-287-0535          NaN            NaN     4002   \n",
       "2          1001-1-287-0535          NaN            NaN     4003   \n",
       "3          1001-1-287-0535          NaN            NaN     4004   \n",
       "4          1001-1-287-0535          NaN            NaN     4005   \n",
       "...                    ...          ...            ...      ...   \n",
       "552705  1000211-1-287-0730          NaN            NaN     1371   \n",
       "552706  1000211-1-287-0730          NaN            NaN     1148   \n",
       "552707  1000211-1-287-0730          NaN            NaN     8340   \n",
       "552708  1000211-1-287-0730          NaN            NaN    10265   \n",
       "552709  1000211-1-287-0730     08:10:00       08:10:00     8082   \n",
       "\n",
       "        stop_sequence  pickup_type  drop_off_type  timepoint  \n",
       "0                   1            0              1          1  \n",
       "1                   2            0              0          0  \n",
       "2                   3            0              0          0  \n",
       "3                   4            0              0          0  \n",
       "4                   5            0              0          0  \n",
       "...               ...          ...            ...        ...  \n",
       "552705             16            0              0          0  \n",
       "552706             17            0              0          0  \n",
       "552707             18            0              0          0  \n",
       "552708             19            0              0          0  \n",
       "552709             20            1              0          1  \n",
       "\n",
       "[552710 rows x 8 columns]"
      ]
     },
     "execution_count": 11,
     "metadata": {},
     "output_type": "execute_result"
    }
   ],
   "source": [
    "bus_stop_times = stop_times[stop_times.trip_id.isin(bus_trips.trip_id)]\n",
    "bus_stop_times"
   ]
  },
  {
   "cell_type": "markdown",
   "id": "580ff2df",
   "metadata": {},
   "source": [
    "## Some GMB routes do not have intermediate stops, see below"
   ]
  },
  {
   "cell_type": "code",
   "execution_count": 12,
   "id": "d0392c39",
   "metadata": {},
   "outputs": [],
   "source": [
    "#num_stops_in_every_trip.sort_values()"
   ]
  },
  {
   "cell_type": "code",
   "execution_count": 13,
   "id": "925923f2",
   "metadata": {},
   "outputs": [],
   "source": [
    "# stop_times[stop_times.trip_id.str.startswith('2042-1-287')]"
   ]
  },
  {
   "cell_type": "code",
   "execution_count": 14,
   "id": "49fd1025",
   "metadata": {},
   "outputs": [],
   "source": [
    "# trips[trips.trip_id == '2042-1-287-0730']"
   ]
  },
  {
   "cell_type": "code",
   "execution_count": 15,
   "id": "50826c12",
   "metadata": {},
   "outputs": [],
   "source": [
    "# bus_routes[bus_routes.route_id == 2042]"
   ]
  },
  {
   "cell_type": "code",
   "execution_count": 16,
   "id": "87521aaa",
   "metadata": {},
   "outputs": [],
   "source": [
    "# stop_times[stop_times.trip_id == '2042-1-287-0730']"
   ]
  },
  {
   "cell_type": "markdown",
   "id": "1ec3e35a",
   "metadata": {},
   "source": [
    "Manually checked route 33M, it is indeed circular, shuttling between 2 stops"
   ]
  },
  {
   "cell_type": "code",
   "execution_count": 17,
   "id": "862e1ce3",
   "metadata": {},
   "outputs": [],
   "source": [
    "# num_stops_in_every_trip[num_stops_in_every_trip == 2].count()"
   ]
  },
  {
   "cell_type": "code",
   "execution_count": 18,
   "id": "8c6056c8",
   "metadata": {},
   "outputs": [],
   "source": [
    "# trips[trips.trip_id == '2003-1-287-0700']"
   ]
  },
  {
   "cell_type": "code",
   "execution_count": 19,
   "id": "86631421",
   "metadata": {},
   "outputs": [],
   "source": [
    "# bus_routes[bus_routes.route_id == 2003]"
   ]
  },
  {
   "cell_type": "code",
   "execution_count": 20,
   "id": "c7a1d381",
   "metadata": {},
   "outputs": [],
   "source": [
    "# bus_routes[bus_routes.route_id == 2003].route_long_name.iloc[0]"
   ]
  },
  {
   "cell_type": "code",
   "execution_count": 21,
   "id": "c3480732",
   "metadata": {},
   "outputs": [],
   "source": [
    "# stop_times[stop_times.trip_id == '2003-1-287-0700']"
   ]
  },
  {
   "cell_type": "code",
   "execution_count": 22,
   "id": "7596f146",
   "metadata": {},
   "outputs": [],
   "source": [
    "# stop_times[stop_times.trip_id.str.startswith('2003-')]"
   ]
  },
  {
   "cell_type": "code",
   "execution_count": 23,
   "id": "c452cada",
   "metadata": {},
   "outputs": [],
   "source": [
    "# idxes = num_stops_in_every_trip[num_stops_in_every_trip == 1].index\n",
    "# idxes"
   ]
  },
  {
   "cell_type": "code",
   "execution_count": 24,
   "id": "bee7f447",
   "metadata": {},
   "outputs": [],
   "source": [
    "# test = bus_trips[bus_trips.trip_id.isin(idxes)]\n",
    "# test"
   ]
  },
  {
   "cell_type": "code",
   "execution_count": 25,
   "id": "55614039",
   "metadata": {},
   "outputs": [],
   "source": [
    "# test2 = bus_routes[bus_routes.route_id.isin(test.route_id.unique())]\n",
    "# test2"
   ]
  },
  {
   "cell_type": "code",
   "execution_count": 26,
   "id": "d77d484e",
   "metadata": {},
   "outputs": [],
   "source": [
    "#test2.agency_id.unique()"
   ]
  },
  {
   "cell_type": "markdown",
   "id": "f9c6e30c",
   "metadata": {},
   "source": [
    "## Manual checks with map"
   ]
  },
  {
   "cell_type": "markdown",
   "id": "439eb5d7",
   "metadata": {},
   "source": [
    "https://www.hkemobility.gov.hk/en/public-transport/bus"
   ]
  },
  {
   "cell_type": "code",
   "execution_count": 27,
   "id": "9fa6c3a2",
   "metadata": {},
   "outputs": [
    {
     "data": {
      "text/html": [
       "<div>\n",
       "<style scoped>\n",
       "    .dataframe tbody tr th:only-of-type {\n",
       "        vertical-align: middle;\n",
       "    }\n",
       "\n",
       "    .dataframe tbody tr th {\n",
       "        vertical-align: top;\n",
       "    }\n",
       "\n",
       "    .dataframe thead th {\n",
       "        text-align: right;\n",
       "    }\n",
       "</style>\n",
       "<table border=\"1\" class=\"dataframe\">\n",
       "  <thead>\n",
       "    <tr style=\"text-align: right;\">\n",
       "      <th></th>\n",
       "      <th>route_id</th>\n",
       "      <th>service_id</th>\n",
       "      <th>trip_id</th>\n",
       "    </tr>\n",
       "  </thead>\n",
       "  <tbody>\n",
       "    <tr>\n",
       "      <th>18286</th>\n",
       "      <td>8071</td>\n",
       "      <td>448</td>\n",
       "      <td>8071-1-448-0830</td>\n",
       "    </tr>\n",
       "  </tbody>\n",
       "</table>\n",
       "</div>"
      ],
      "text/plain": [
       "       route_id  service_id          trip_id\n",
       "18286      8071         448  8071-1-448-0830"
      ]
     },
     "execution_count": 27,
     "metadata": {},
     "output_type": "execute_result"
    }
   ],
   "source": [
    "trips[trips.trip_id == '8071-1-448-0830']"
   ]
  },
  {
   "cell_type": "code",
   "execution_count": 28,
   "id": "827a6077",
   "metadata": {},
   "outputs": [
    {
     "data": {
      "text/html": [
       "<div>\n",
       "<style scoped>\n",
       "    .dataframe tbody tr th:only-of-type {\n",
       "        vertical-align: middle;\n",
       "    }\n",
       "\n",
       "    .dataframe tbody tr th {\n",
       "        vertical-align: top;\n",
       "    }\n",
       "\n",
       "    .dataframe thead th {\n",
       "        text-align: right;\n",
       "    }\n",
       "</style>\n",
       "<table border=\"1\" class=\"dataframe\">\n",
       "  <thead>\n",
       "    <tr style=\"text-align: right;\">\n",
       "      <th></th>\n",
       "      <th>route_id</th>\n",
       "      <th>agency_id</th>\n",
       "      <th>route_short_name</th>\n",
       "      <th>route_long_name</th>\n",
       "      <th>route_type</th>\n",
       "      <th>route_url</th>\n",
       "    </tr>\n",
       "  </thead>\n",
       "  <tbody>\n",
       "    <tr>\n",
       "      <th>674</th>\n",
       "      <td>8071</td>\n",
       "      <td>NLB</td>\n",
       "      <td>1R</td>\n",
       "      <td>HUNG HOM (HUNG LUEN ROAD) - NGONG PING</td>\n",
       "      <td>3</td>\n",
       "      <td>http://www.nlb.com.hk/route?q=1R</td>\n",
       "    </tr>\n",
       "  </tbody>\n",
       "</table>\n",
       "</div>"
      ],
      "text/plain": [
       "     route_id agency_id route_short_name  \\\n",
       "674      8071       NLB               1R   \n",
       "\n",
       "                            route_long_name  route_type  \\\n",
       "674  HUNG HOM (HUNG LUEN ROAD) - NGONG PING           3   \n",
       "\n",
       "                            route_url  \n",
       "674  http://www.nlb.com.hk/route?q=1R  "
      ]
     },
     "execution_count": 28,
     "metadata": {},
     "output_type": "execute_result"
    }
   ],
   "source": [
    "routes[routes.route_id == 8071]"
   ]
  },
  {
   "cell_type": "code",
   "execution_count": 29,
   "id": "00a6f661",
   "metadata": {},
   "outputs": [
    {
     "data": {
      "text/html": [
       "<div>\n",
       "<style scoped>\n",
       "    .dataframe tbody tr th:only-of-type {\n",
       "        vertical-align: middle;\n",
       "    }\n",
       "\n",
       "    .dataframe tbody tr th {\n",
       "        vertical-align: top;\n",
       "    }\n",
       "\n",
       "    .dataframe thead th {\n",
       "        text-align: right;\n",
       "    }\n",
       "</style>\n",
       "<table border=\"1\" class=\"dataframe\">\n",
       "  <thead>\n",
       "    <tr style=\"text-align: right;\">\n",
       "      <th></th>\n",
       "      <th>route_id</th>\n",
       "      <th>service_id</th>\n",
       "      <th>trip_id</th>\n",
       "    </tr>\n",
       "  </thead>\n",
       "  <tbody>\n",
       "    <tr>\n",
       "      <th>22306</th>\n",
       "      <td>1000193</td>\n",
       "      <td>287</td>\n",
       "      <td>1000193-1-287-0015</td>\n",
       "    </tr>\n",
       "  </tbody>\n",
       "</table>\n",
       "</div>"
      ],
      "text/plain": [
       "       route_id  service_id             trip_id\n",
       "22306   1000193         287  1000193-1-287-0015"
      ]
     },
     "execution_count": 29,
     "metadata": {},
     "output_type": "execute_result"
    }
   ],
   "source": [
    "trips[trips.trip_id == '1000193-1-287-0015']"
   ]
  },
  {
   "cell_type": "code",
   "execution_count": 30,
   "id": "6f3d23f5",
   "metadata": {},
   "outputs": [
    {
     "data": {
      "text/html": [
       "<div>\n",
       "<style scoped>\n",
       "    .dataframe tbody tr th:only-of-type {\n",
       "        vertical-align: middle;\n",
       "    }\n",
       "\n",
       "    .dataframe tbody tr th {\n",
       "        vertical-align: top;\n",
       "    }\n",
       "\n",
       "    .dataframe thead th {\n",
       "        text-align: right;\n",
       "    }\n",
       "</style>\n",
       "<table border=\"1\" class=\"dataframe\">\n",
       "  <thead>\n",
       "    <tr style=\"text-align: right;\">\n",
       "      <th></th>\n",
       "      <th>route_id</th>\n",
       "      <th>agency_id</th>\n",
       "      <th>route_short_name</th>\n",
       "      <th>route_long_name</th>\n",
       "      <th>route_type</th>\n",
       "      <th>route_url</th>\n",
       "    </tr>\n",
       "  </thead>\n",
       "  <tbody>\n",
       "    <tr>\n",
       "      <th>1427</th>\n",
       "      <td>1000193</td>\n",
       "      <td>DB</td>\n",
       "      <td>DB08R</td>\n",
       "      <td>DISCOVERY BAY - CENTRAL (CENTRAL PIER NO. 3)</td>\n",
       "      <td>3</td>\n",
       "      <td>https://www.td.gov.hk/en/transport_in_hong_kon...</td>\n",
       "    </tr>\n",
       "  </tbody>\n",
       "</table>\n",
       "</div>"
      ],
      "text/plain": [
       "      route_id agency_id route_short_name  \\\n",
       "1427   1000193        DB            DB08R   \n",
       "\n",
       "                                   route_long_name  route_type  \\\n",
       "1427  DISCOVERY BAY - CENTRAL (CENTRAL PIER NO. 3)           3   \n",
       "\n",
       "                                              route_url  \n",
       "1427  https://www.td.gov.hk/en/transport_in_hong_kon...  "
      ]
     },
     "execution_count": 30,
     "metadata": {},
     "output_type": "execute_result"
    }
   ],
   "source": [
    "routes[routes.route_id == 1000193]"
   ]
  },
  {
   "cell_type": "code",
   "execution_count": 31,
   "id": "e8bf218d",
   "metadata": {},
   "outputs": [
    {
     "data": {
      "text/html": [
       "<div>\n",
       "<style scoped>\n",
       "    .dataframe tbody tr th:only-of-type {\n",
       "        vertical-align: middle;\n",
       "    }\n",
       "\n",
       "    .dataframe tbody tr th {\n",
       "        vertical-align: top;\n",
       "    }\n",
       "\n",
       "    .dataframe thead th {\n",
       "        text-align: right;\n",
       "    }\n",
       "</style>\n",
       "<table border=\"1\" class=\"dataframe\">\n",
       "  <thead>\n",
       "    <tr style=\"text-align: right;\">\n",
       "      <th></th>\n",
       "      <th>route_id</th>\n",
       "      <th>service_id</th>\n",
       "      <th>trip_id</th>\n",
       "    </tr>\n",
       "  </thead>\n",
       "  <tbody>\n",
       "    <tr>\n",
       "      <th>22386</th>\n",
       "      <td>1000209</td>\n",
       "      <td>287</td>\n",
       "      <td>1000209-2-287-2007</td>\n",
       "    </tr>\n",
       "  </tbody>\n",
       "</table>\n",
       "</div>"
      ],
      "text/plain": [
       "       route_id  service_id             trip_id\n",
       "22386   1000209         287  1000209-2-287-2007"
      ]
     },
     "execution_count": 31,
     "metadata": {},
     "output_type": "execute_result"
    }
   ],
   "source": [
    "trips[trips.trip_id == '1000209-2-287-2007']"
   ]
  },
  {
   "cell_type": "code",
   "execution_count": 32,
   "id": "c25d1069",
   "metadata": {},
   "outputs": [
    {
     "data": {
      "text/html": [
       "<div>\n",
       "<style scoped>\n",
       "    .dataframe tbody tr th:only-of-type {\n",
       "        vertical-align: middle;\n",
       "    }\n",
       "\n",
       "    .dataframe tbody tr th {\n",
       "        vertical-align: top;\n",
       "    }\n",
       "\n",
       "    .dataframe thead th {\n",
       "        text-align: right;\n",
       "    }\n",
       "</style>\n",
       "<table border=\"1\" class=\"dataframe\">\n",
       "  <thead>\n",
       "    <tr style=\"text-align: right;\">\n",
       "      <th></th>\n",
       "      <th>route_id</th>\n",
       "      <th>agency_id</th>\n",
       "      <th>route_short_name</th>\n",
       "      <th>route_long_name</th>\n",
       "      <th>route_type</th>\n",
       "      <th>route_url</th>\n",
       "    </tr>\n",
       "  </thead>\n",
       "  <tbody>\n",
       "    <tr>\n",
       "      <th>1436</th>\n",
       "      <td>1000209</td>\n",
       "      <td>LWB</td>\n",
       "      <td>E37C</td>\n",
       "      <td>TIN SHUI WAI TOWN CENTRE - AIRCRAFT MAINTENANC...</td>\n",
       "      <td>3</td>\n",
       "      <td>https://search.kmb.hk/KMBWebSite/?action=route...</td>\n",
       "    </tr>\n",
       "  </tbody>\n",
       "</table>\n",
       "</div>"
      ],
      "text/plain": [
       "      route_id agency_id route_short_name  \\\n",
       "1436   1000209       LWB             E37C   \n",
       "\n",
       "                                        route_long_name  route_type  \\\n",
       "1436  TIN SHUI WAI TOWN CENTRE - AIRCRAFT MAINTENANC...           3   \n",
       "\n",
       "                                              route_url  \n",
       "1436  https://search.kmb.hk/KMBWebSite/?action=route...  "
      ]
     },
     "execution_count": 32,
     "metadata": {},
     "output_type": "execute_result"
    }
   ],
   "source": [
    "routes[routes.route_id == 1000209]"
   ]
  },
  {
   "cell_type": "code",
   "execution_count": 33,
   "id": "d06331b5",
   "metadata": {},
   "outputs": [
    {
     "data": {
      "text/html": [
       "<div>\n",
       "<style scoped>\n",
       "    .dataframe tbody tr th:only-of-type {\n",
       "        vertical-align: middle;\n",
       "    }\n",
       "\n",
       "    .dataframe tbody tr th {\n",
       "        vertical-align: top;\n",
       "    }\n",
       "\n",
       "    .dataframe thead th {\n",
       "        text-align: right;\n",
       "    }\n",
       "</style>\n",
       "<table border=\"1\" class=\"dataframe\">\n",
       "  <thead>\n",
       "    <tr style=\"text-align: right;\">\n",
       "      <th></th>\n",
       "      <th>route_id</th>\n",
       "      <th>service_id</th>\n",
       "      <th>trip_id</th>\n",
       "    </tr>\n",
       "  </thead>\n",
       "  <tbody>\n",
       "    <tr>\n",
       "      <th>7139</th>\n",
       "      <td>1271</td>\n",
       "      <td>287</td>\n",
       "      <td>1271-1-287-0732</td>\n",
       "    </tr>\n",
       "  </tbody>\n",
       "</table>\n",
       "</div>"
      ],
      "text/plain": [
       "      route_id  service_id          trip_id\n",
       "7139      1271         287  1271-1-287-0732"
      ]
     },
     "execution_count": 33,
     "metadata": {},
     "output_type": "execute_result"
    }
   ],
   "source": [
    "trips[trips.trip_id == '1271-1-287-0732']"
   ]
  },
  {
   "cell_type": "code",
   "execution_count": 34,
   "id": "a920e3a2",
   "metadata": {},
   "outputs": [
    {
     "data": {
      "text/html": [
       "<div>\n",
       "<style scoped>\n",
       "    .dataframe tbody tr th:only-of-type {\n",
       "        vertical-align: middle;\n",
       "    }\n",
       "\n",
       "    .dataframe tbody tr th {\n",
       "        vertical-align: top;\n",
       "    }\n",
       "\n",
       "    .dataframe thead th {\n",
       "        text-align: right;\n",
       "    }\n",
       "</style>\n",
       "<table border=\"1\" class=\"dataframe\">\n",
       "  <thead>\n",
       "    <tr style=\"text-align: right;\">\n",
       "      <th></th>\n",
       "      <th>route_id</th>\n",
       "      <th>agency_id</th>\n",
       "      <th>route_short_name</th>\n",
       "      <th>route_long_name</th>\n",
       "      <th>route_type</th>\n",
       "      <th>route_url</th>\n",
       "    </tr>\n",
       "  </thead>\n",
       "  <tbody>\n",
       "    <tr>\n",
       "      <th>221</th>\n",
       "      <td>1271</td>\n",
       "      <td>KMB+CTB</td>\n",
       "      <td>619X</td>\n",
       "      <td>SHUN LEE - CENTRAL (MACAU FERRY)</td>\n",
       "      <td>3</td>\n",
       "      <td>https://search.kmb.hk/KMBWebSite/?action=route...</td>\n",
       "    </tr>\n",
       "  </tbody>\n",
       "</table>\n",
       "</div>"
      ],
      "text/plain": [
       "     route_id agency_id route_short_name                   route_long_name  \\\n",
       "221      1271   KMB+CTB             619X  SHUN LEE - CENTRAL (MACAU FERRY)   \n",
       "\n",
       "     route_type                                          route_url  \n",
       "221           3  https://search.kmb.hk/KMBWebSite/?action=route...  "
      ]
     },
     "execution_count": 34,
     "metadata": {},
     "output_type": "execute_result"
    }
   ],
   "source": [
    "routes[routes.route_id == 1271]"
   ]
  },
  {
   "cell_type": "code",
   "execution_count": 35,
   "id": "1ac1539f",
   "metadata": {},
   "outputs": [
    {
     "data": {
      "text/html": [
       "<div>\n",
       "<style scoped>\n",
       "    .dataframe tbody tr th:only-of-type {\n",
       "        vertical-align: middle;\n",
       "    }\n",
       "\n",
       "    .dataframe tbody tr th {\n",
       "        vertical-align: top;\n",
       "    }\n",
       "\n",
       "    .dataframe thead th {\n",
       "        text-align: right;\n",
       "    }\n",
       "</style>\n",
       "<table border=\"1\" class=\"dataframe\">\n",
       "  <thead>\n",
       "    <tr style=\"text-align: right;\">\n",
       "      <th></th>\n",
       "      <th>route_id</th>\n",
       "      <th>service_id</th>\n",
       "      <th>trip_id</th>\n",
       "    </tr>\n",
       "  </thead>\n",
       "  <tbody>\n",
       "    <tr>\n",
       "      <th>18187</th>\n",
       "      <td>1993</td>\n",
       "      <td>287</td>\n",
       "      <td>1993-2-287-0601</td>\n",
       "    </tr>\n",
       "  </tbody>\n",
       "</table>\n",
       "</div>"
      ],
      "text/plain": [
       "       route_id  service_id          trip_id\n",
       "18187      1993         287  1993-2-287-0601"
      ]
     },
     "execution_count": 35,
     "metadata": {},
     "output_type": "execute_result"
    }
   ],
   "source": [
    "trips[trips.trip_id == '1993-2-287-0601']"
   ]
  },
  {
   "cell_type": "code",
   "execution_count": 36,
   "id": "7a102351",
   "metadata": {},
   "outputs": [
    {
     "data": {
      "text/html": [
       "<div>\n",
       "<style scoped>\n",
       "    .dataframe tbody tr th:only-of-type {\n",
       "        vertical-align: middle;\n",
       "    }\n",
       "\n",
       "    .dataframe tbody tr th {\n",
       "        vertical-align: top;\n",
       "    }\n",
       "\n",
       "    .dataframe thead th {\n",
       "        text-align: right;\n",
       "    }\n",
       "</style>\n",
       "<table border=\"1\" class=\"dataframe\">\n",
       "  <thead>\n",
       "    <tr style=\"text-align: right;\">\n",
       "      <th></th>\n",
       "      <th>route_id</th>\n",
       "      <th>agency_id</th>\n",
       "      <th>route_short_name</th>\n",
       "      <th>route_long_name</th>\n",
       "      <th>route_type</th>\n",
       "      <th>route_url</th>\n",
       "    </tr>\n",
       "  </thead>\n",
       "  <tbody>\n",
       "    <tr>\n",
       "      <th>666</th>\n",
       "      <td>1993</td>\n",
       "      <td>XB</td>\n",
       "      <td>Wan Chai - Huanggang (Day)</td>\n",
       "      <td>WAN CHAI - HUANGGANG</td>\n",
       "      <td>3</td>\n",
       "      <td>http://www.td.gov.hk/en/transport_in_hong_kong...</td>\n",
       "    </tr>\n",
       "  </tbody>\n",
       "</table>\n",
       "</div>"
      ],
      "text/plain": [
       "     route_id agency_id            route_short_name       route_long_name  \\\n",
       "666      1993        XB  Wan Chai - Huanggang (Day)  WAN CHAI - HUANGGANG   \n",
       "\n",
       "     route_type                                          route_url  \n",
       "666           3  http://www.td.gov.hk/en/transport_in_hong_kong...  "
      ]
     },
     "execution_count": 36,
     "metadata": {},
     "output_type": "execute_result"
    }
   ],
   "source": [
    "routes[routes.route_id == 1993]"
   ]
  },
  {
   "cell_type": "code",
   "execution_count": null,
   "id": "bf39b6e7",
   "metadata": {},
   "outputs": [],
   "source": []
  },
  {
   "cell_type": "code",
   "execution_count": 37,
   "id": "8e721006",
   "metadata": {},
   "outputs": [
    {
     "data": {
      "text/html": [
       "<div>\n",
       "<style scoped>\n",
       "    .dataframe tbody tr th:only-of-type {\n",
       "        vertical-align: middle;\n",
       "    }\n",
       "\n",
       "    .dataframe tbody tr th {\n",
       "        vertical-align: top;\n",
       "    }\n",
       "\n",
       "    .dataframe thead th {\n",
       "        text-align: right;\n",
       "    }\n",
       "</style>\n",
       "<table border=\"1\" class=\"dataframe\">\n",
       "  <thead>\n",
       "    <tr style=\"text-align: right;\">\n",
       "      <th></th>\n",
       "      <th>route_id</th>\n",
       "      <th>service_id</th>\n",
       "      <th>trip_id</th>\n",
       "    </tr>\n",
       "  </thead>\n",
       "  <tbody>\n",
       "    <tr>\n",
       "      <th>18779</th>\n",
       "      <td>8194</td>\n",
       "      <td>287</td>\n",
       "      <td>8194-2-287-0715</td>\n",
       "    </tr>\n",
       "  </tbody>\n",
       "</table>\n",
       "</div>"
      ],
      "text/plain": [
       "       route_id  service_id          trip_id\n",
       "18779      8194         287  8194-2-287-0715"
      ]
     },
     "execution_count": 37,
     "metadata": {},
     "output_type": "execute_result"
    }
   ],
   "source": [
    "trips[trips.trip_id == '8194-2-287-0715']"
   ]
  },
  {
   "cell_type": "code",
   "execution_count": 38,
   "id": "a2d77e35",
   "metadata": {},
   "outputs": [
    {
     "data": {
      "text/html": [
       "<div>\n",
       "<style scoped>\n",
       "    .dataframe tbody tr th:only-of-type {\n",
       "        vertical-align: middle;\n",
       "    }\n",
       "\n",
       "    .dataframe tbody tr th {\n",
       "        vertical-align: top;\n",
       "    }\n",
       "\n",
       "    .dataframe thead th {\n",
       "        text-align: right;\n",
       "    }\n",
       "</style>\n",
       "<table border=\"1\" class=\"dataframe\">\n",
       "  <thead>\n",
       "    <tr style=\"text-align: right;\">\n",
       "      <th></th>\n",
       "      <th>route_id</th>\n",
       "      <th>agency_id</th>\n",
       "      <th>route_short_name</th>\n",
       "      <th>route_long_name</th>\n",
       "      <th>route_type</th>\n",
       "      <th>route_url</th>\n",
       "    </tr>\n",
       "  </thead>\n",
       "  <tbody>\n",
       "    <tr>\n",
       "      <th>759</th>\n",
       "      <td>8194</td>\n",
       "      <td>KMB+NWFB</td>\n",
       "      <td>101X</td>\n",
       "      <td>KENNEDY TOWN - KWUN TONG (YUE MAN SQUARE)</td>\n",
       "      <td>3</td>\n",
       "      <td>https://search.kmb.hk/KMBWebSite/?action=route...</td>\n",
       "    </tr>\n",
       "  </tbody>\n",
       "</table>\n",
       "</div>"
      ],
      "text/plain": [
       "     route_id agency_id route_short_name  \\\n",
       "759      8194  KMB+NWFB             101X   \n",
       "\n",
       "                               route_long_name  route_type  \\\n",
       "759  KENNEDY TOWN - KWUN TONG (YUE MAN SQUARE)           3   \n",
       "\n",
       "                                             route_url  \n",
       "759  https://search.kmb.hk/KMBWebSite/?action=route...  "
      ]
     },
     "execution_count": 38,
     "metadata": {},
     "output_type": "execute_result"
    }
   ],
   "source": [
    "routes[routes.route_id == 8194]"
   ]
  },
  {
   "cell_type": "markdown",
   "id": "dc211e92",
   "metadata": {},
   "source": [
    "# Number of bus routes"
   ]
  },
  {
   "cell_type": "code",
   "execution_count": 39,
   "id": "f5790550",
   "metadata": {},
   "outputs": [
    {
     "data": {
      "text/plain": [
       "(1354,)"
      ]
     },
     "execution_count": 39,
     "metadata": {},
     "output_type": "execute_result"
    }
   ],
   "source": [
    "bus_routes.route_long_name.unique().shape"
   ]
  },
  {
   "cell_type": "code",
   "execution_count": 40,
   "id": "14317db3",
   "metadata": {},
   "outputs": [
    {
     "data": {
      "text/plain": [
       "(1438,)"
      ]
     },
     "execution_count": 40,
     "metadata": {},
     "output_type": "execute_result"
    }
   ],
   "source": [
    "bus_routes.route_id.unique().shape"
   ]
  },
  {
   "cell_type": "code",
   "execution_count": 41,
   "id": "0cab536a",
   "metadata": {},
   "outputs": [
    {
     "data": {
      "text/plain": [
       "(1438,)"
      ]
     },
     "execution_count": 41,
     "metadata": {},
     "output_type": "execute_result"
    }
   ],
   "source": [
    "bus_routes.route_id.shape"
   ]
  },
  {
   "cell_type": "markdown",
   "id": "5f61b7af",
   "metadata": {},
   "source": [
    "# Number of bus stops"
   ]
  },
  {
   "cell_type": "code",
   "execution_count": 42,
   "id": "0c3eddcc",
   "metadata": {},
   "outputs": [
    {
     "data": {
      "text/plain": [
       "(4282,)"
      ]
     },
     "execution_count": 42,
     "metadata": {},
     "output_type": "execute_result"
    }
   ],
   "source": [
    "bus_stop_times.stop_id.unique().shape"
   ]
  },
  {
   "cell_type": "markdown",
   "id": "cd227d62",
   "metadata": {},
   "source": [
    "# Average number of bus stops per bus route"
   ]
  },
  {
   "cell_type": "code",
   "execution_count": 43,
   "id": "03d99587",
   "metadata": {},
   "outputs": [
    {
     "data": {
      "text/html": [
       "<div>\n",
       "<style scoped>\n",
       "    .dataframe tbody tr th:only-of-type {\n",
       "        vertical-align: middle;\n",
       "    }\n",
       "\n",
       "    .dataframe tbody tr th {\n",
       "        vertical-align: top;\n",
       "    }\n",
       "\n",
       "    .dataframe thead th {\n",
       "        text-align: right;\n",
       "    }\n",
       "</style>\n",
       "<table border=\"1\" class=\"dataframe\">\n",
       "  <thead>\n",
       "    <tr style=\"text-align: right;\">\n",
       "      <th></th>\n",
       "      <th>trip_id</th>\n",
       "      <th>arrival_time</th>\n",
       "      <th>departure_time</th>\n",
       "      <th>stop_id</th>\n",
       "      <th>stop_sequence</th>\n",
       "      <th>pickup_type</th>\n",
       "      <th>drop_off_type</th>\n",
       "      <th>timepoint</th>\n",
       "    </tr>\n",
       "  </thead>\n",
       "  <tbody>\n",
       "    <tr>\n",
       "      <th>0</th>\n",
       "      <td>1001-1-287-0535</td>\n",
       "      <td>05:35:00</td>\n",
       "      <td>05:35:00</td>\n",
       "      <td>4001</td>\n",
       "      <td>1</td>\n",
       "      <td>0</td>\n",
       "      <td>1</td>\n",
       "      <td>1</td>\n",
       "    </tr>\n",
       "    <tr>\n",
       "      <th>1</th>\n",
       "      <td>1001-1-287-0535</td>\n",
       "      <td>NaN</td>\n",
       "      <td>NaN</td>\n",
       "      <td>4002</td>\n",
       "      <td>2</td>\n",
       "      <td>0</td>\n",
       "      <td>0</td>\n",
       "      <td>0</td>\n",
       "    </tr>\n",
       "    <tr>\n",
       "      <th>2</th>\n",
       "      <td>1001-1-287-0535</td>\n",
       "      <td>NaN</td>\n",
       "      <td>NaN</td>\n",
       "      <td>4003</td>\n",
       "      <td>3</td>\n",
       "      <td>0</td>\n",
       "      <td>0</td>\n",
       "      <td>0</td>\n",
       "    </tr>\n",
       "    <tr>\n",
       "      <th>3</th>\n",
       "      <td>1001-1-287-0535</td>\n",
       "      <td>NaN</td>\n",
       "      <td>NaN</td>\n",
       "      <td>4004</td>\n",
       "      <td>4</td>\n",
       "      <td>0</td>\n",
       "      <td>0</td>\n",
       "      <td>0</td>\n",
       "    </tr>\n",
       "    <tr>\n",
       "      <th>4</th>\n",
       "      <td>1001-1-287-0535</td>\n",
       "      <td>NaN</td>\n",
       "      <td>NaN</td>\n",
       "      <td>4005</td>\n",
       "      <td>5</td>\n",
       "      <td>0</td>\n",
       "      <td>0</td>\n",
       "      <td>0</td>\n",
       "    </tr>\n",
       "    <tr>\n",
       "      <th>...</th>\n",
       "      <td>...</td>\n",
       "      <td>...</td>\n",
       "      <td>...</td>\n",
       "      <td>...</td>\n",
       "      <td>...</td>\n",
       "      <td>...</td>\n",
       "      <td>...</td>\n",
       "      <td>...</td>\n",
       "    </tr>\n",
       "    <tr>\n",
       "      <th>552705</th>\n",
       "      <td>1000211-1-287-0730</td>\n",
       "      <td>NaN</td>\n",
       "      <td>NaN</td>\n",
       "      <td>1371</td>\n",
       "      <td>16</td>\n",
       "      <td>0</td>\n",
       "      <td>0</td>\n",
       "      <td>0</td>\n",
       "    </tr>\n",
       "    <tr>\n",
       "      <th>552706</th>\n",
       "      <td>1000211-1-287-0730</td>\n",
       "      <td>NaN</td>\n",
       "      <td>NaN</td>\n",
       "      <td>1148</td>\n",
       "      <td>17</td>\n",
       "      <td>0</td>\n",
       "      <td>0</td>\n",
       "      <td>0</td>\n",
       "    </tr>\n",
       "    <tr>\n",
       "      <th>552707</th>\n",
       "      <td>1000211-1-287-0730</td>\n",
       "      <td>NaN</td>\n",
       "      <td>NaN</td>\n",
       "      <td>8340</td>\n",
       "      <td>18</td>\n",
       "      <td>0</td>\n",
       "      <td>0</td>\n",
       "      <td>0</td>\n",
       "    </tr>\n",
       "    <tr>\n",
       "      <th>552708</th>\n",
       "      <td>1000211-1-287-0730</td>\n",
       "      <td>NaN</td>\n",
       "      <td>NaN</td>\n",
       "      <td>10265</td>\n",
       "      <td>19</td>\n",
       "      <td>0</td>\n",
       "      <td>0</td>\n",
       "      <td>0</td>\n",
       "    </tr>\n",
       "    <tr>\n",
       "      <th>552709</th>\n",
       "      <td>1000211-1-287-0730</td>\n",
       "      <td>08:10:00</td>\n",
       "      <td>08:10:00</td>\n",
       "      <td>8082</td>\n",
       "      <td>20</td>\n",
       "      <td>1</td>\n",
       "      <td>0</td>\n",
       "      <td>1</td>\n",
       "    </tr>\n",
       "  </tbody>\n",
       "</table>\n",
       "<p>552710 rows × 8 columns</p>\n",
       "</div>"
      ],
      "text/plain": [
       "                   trip_id arrival_time departure_time  stop_id  \\\n",
       "0          1001-1-287-0535     05:35:00       05:35:00     4001   \n",
       "1          1001-1-287-0535          NaN            NaN     4002   \n",
       "2          1001-1-287-0535          NaN            NaN     4003   \n",
       "3          1001-1-287-0535          NaN            NaN     4004   \n",
       "4          1001-1-287-0535          NaN            NaN     4005   \n",
       "...                    ...          ...            ...      ...   \n",
       "552705  1000211-1-287-0730          NaN            NaN     1371   \n",
       "552706  1000211-1-287-0730          NaN            NaN     1148   \n",
       "552707  1000211-1-287-0730          NaN            NaN     8340   \n",
       "552708  1000211-1-287-0730          NaN            NaN    10265   \n",
       "552709  1000211-1-287-0730     08:10:00       08:10:00     8082   \n",
       "\n",
       "        stop_sequence  pickup_type  drop_off_type  timepoint  \n",
       "0                   1            0              1          1  \n",
       "1                   2            0              0          0  \n",
       "2                   3            0              0          0  \n",
       "3                   4            0              0          0  \n",
       "4                   5            0              0          0  \n",
       "...               ...          ...            ...        ...  \n",
       "552705             16            0              0          0  \n",
       "552706             17            0              0          0  \n",
       "552707             18            0              0          0  \n",
       "552708             19            0              0          0  \n",
       "552709             20            1              0          1  \n",
       "\n",
       "[552710 rows x 8 columns]"
      ]
     },
     "execution_count": 43,
     "metadata": {},
     "output_type": "execute_result"
    }
   ],
   "source": [
    "# stop_sequences means entire thing has no duplicates\n",
    "trip_to_stop_id = bus_stop_times#[['trip_id', 'stop_id', 'stop_sequence']].drop_duplicates()\n",
    "trip_to_stop_id"
   ]
  },
  {
   "cell_type": "code",
   "execution_count": 44,
   "id": "a37c4915",
   "metadata": {},
   "outputs": [
    {
     "data": {
      "text/plain": [
       "trip_id\n",
       "1000001-1-287-0750    21\n",
       "1000002-1-287-1810    16\n",
       "1000003-1-287-0730    27\n",
       "1000004-1-511-0630    18\n",
       "1000004-1-511-0700    18\n",
       "                      ..\n",
       "8803-2-511-2240       28\n",
       "8803-2-511-2310       28\n",
       "8804-1-511-0600       20\n",
       "8805-1-511-0515       31\n",
       "8805-2-511-2325       30\n",
       "Name: stop_id, Length: 22390, dtype: int64"
      ]
     },
     "execution_count": 44,
     "metadata": {},
     "output_type": "execute_result"
    }
   ],
   "source": [
    "num_stops_in_every_trip = trip_to_stop_id.groupby('trip_id').stop_id.count()\n",
    "num_stops_in_every_trip"
   ]
  },
  {
   "cell_type": "code",
   "execution_count": 45,
   "id": "57db8a87",
   "metadata": {},
   "outputs": [
    {
     "data": {
      "image/png": "[encoded data removed]",
      "text/plain": [
       "<Figure size 432x288 with 1 Axes>"
      ]
     },
     "metadata": {
      "needs_background": "light"
     },
     "output_type": "display_data"
    }
   ],
   "source": [
    "sns.histplot(x=num_stops_in_every_trip)\n",
    "plt.xlabel('Number of stops')\n",
    "plt.title('HK')\n",
    "sns.despine()\n",
    "plt.savefig('figures/hk_nstops.png')"
   ]
  },
  {
   "cell_type": "code",
   "execution_count": 46,
   "id": "74fcadc9",
   "metadata": {},
   "outputs": [
    {
     "data": {
      "text/plain": [
       "24.6855739169272"
      ]
     },
     "execution_count": 46,
     "metadata": {},
     "output_type": "execute_result"
    }
   ],
   "source": [
    "num_stops_in_every_trip.mean()"
   ]
  },
  {
   "cell_type": "code",
   "execution_count": 47,
   "id": "45a82ab4",
   "metadata": {},
   "outputs": [
    {
     "data": {
      "text/plain": [
       "24.0"
      ]
     },
     "execution_count": 47,
     "metadata": {},
     "output_type": "execute_result"
    }
   ],
   "source": [
    "num_stops_in_every_trip.median()"
   ]
  },
  {
   "cell_type": "code",
   "execution_count": 48,
   "id": "4794c6f4",
   "metadata": {},
   "outputs": [],
   "source": [
    "#num_stops_in_every_trip.to_csv('gen/hk_nstops.csv')"
   ]
  },
  {
   "cell_type": "markdown",
   "id": "ff319b80",
   "metadata": {},
   "source": [
    "# Comparison needs route, not trips"
   ]
  },
  {
   "cell_type": "code",
   "execution_count": 49,
   "id": "a1e404d8",
   "metadata": {},
   "outputs": [
    {
     "data": {
      "text/html": [
       "<div>\n",
       "<style scoped>\n",
       "    .dataframe tbody tr th:only-of-type {\n",
       "        vertical-align: middle;\n",
       "    }\n",
       "\n",
       "    .dataframe tbody tr th {\n",
       "        vertical-align: top;\n",
       "    }\n",
       "\n",
       "    .dataframe thead th {\n",
       "        text-align: right;\n",
       "    }\n",
       "</style>\n",
       "<table border=\"1\" class=\"dataframe\">\n",
       "  <thead>\n",
       "    <tr style=\"text-align: right;\">\n",
       "      <th></th>\n",
       "      <th>route_id</th>\n",
       "      <th>trip_id</th>\n",
       "      <th>stop_id</th>\n",
       "    </tr>\n",
       "  </thead>\n",
       "  <tbody>\n",
       "    <tr>\n",
       "      <th>0</th>\n",
       "      <td>1001</td>\n",
       "      <td>1001-1-287-0535</td>\n",
       "      <td>25</td>\n",
       "    </tr>\n",
       "    <tr>\n",
       "      <th>1</th>\n",
       "      <td>1001</td>\n",
       "      <td>1001-1-287-0623</td>\n",
       "      <td>25</td>\n",
       "    </tr>\n",
       "    <tr>\n",
       "      <th>2</th>\n",
       "      <td>1001</td>\n",
       "      <td>1001-1-287-0647</td>\n",
       "      <td>25</td>\n",
       "    </tr>\n",
       "    <tr>\n",
       "      <th>3</th>\n",
       "      <td>1001</td>\n",
       "      <td>1001-1-287-0757</td>\n",
       "      <td>25</td>\n",
       "    </tr>\n",
       "    <tr>\n",
       "      <th>4</th>\n",
       "      <td>1001</td>\n",
       "      <td>1001-1-287-0829</td>\n",
       "      <td>25</td>\n",
       "    </tr>\n",
       "    <tr>\n",
       "      <th>...</th>\n",
       "      <td>...</td>\n",
       "      <td>...</td>\n",
       "      <td>...</td>\n",
       "    </tr>\n",
       "    <tr>\n",
       "      <th>22385</th>\n",
       "      <td>1000208</td>\n",
       "      <td>1000208-1-319-0820</td>\n",
       "      <td>4</td>\n",
       "    </tr>\n",
       "    <tr>\n",
       "      <th>22386</th>\n",
       "      <td>1000209</td>\n",
       "      <td>1000209-1-287-0620</td>\n",
       "      <td>28</td>\n",
       "    </tr>\n",
       "    <tr>\n",
       "      <th>22387</th>\n",
       "      <td>1000209</td>\n",
       "      <td>1000209-2-287-2007</td>\n",
       "      <td>29</td>\n",
       "    </tr>\n",
       "    <tr>\n",
       "      <th>22388</th>\n",
       "      <td>1000210</td>\n",
       "      <td>1000210-1-287-0625</td>\n",
       "      <td>19</td>\n",
       "    </tr>\n",
       "    <tr>\n",
       "      <th>22389</th>\n",
       "      <td>1000210</td>\n",
       "      <td>1000210-2-287-2008</td>\n",
       "      <td>19</td>\n",
       "    </tr>\n",
       "  </tbody>\n",
       "</table>\n",
       "<p>22390 rows × 3 columns</p>\n",
       "</div>"
      ],
      "text/plain": [
       "       route_id             trip_id  stop_id\n",
       "0          1001     1001-1-287-0535       25\n",
       "1          1001     1001-1-287-0623       25\n",
       "2          1001     1001-1-287-0647       25\n",
       "3          1001     1001-1-287-0757       25\n",
       "4          1001     1001-1-287-0829       25\n",
       "...         ...                 ...      ...\n",
       "22385   1000208  1000208-1-319-0820        4\n",
       "22386   1000209  1000209-1-287-0620       28\n",
       "22387   1000209  1000209-2-287-2007       29\n",
       "22388   1000210  1000210-1-287-0625       19\n",
       "22389   1000210  1000210-2-287-2008       19\n",
       "\n",
       "[22390 rows x 3 columns]"
      ]
     },
     "execution_count": 49,
     "metadata": {},
     "output_type": "execute_result"
    }
   ],
   "source": [
    "num_stops_in_every_route = bus_trips[['route_id', 'trip_id']].merge(num_stops_in_every_trip, on='trip_id')\n",
    "num_stops_in_every_route"
   ]
  },
  {
   "cell_type": "code",
   "execution_count": 50,
   "id": "c65c6800",
   "metadata": {},
   "outputs": [],
   "source": [
    "num_stops_in_every_route = num_stops_in_every_route[['route_id', 'stop_id']]"
   ]
  },
  {
   "cell_type": "code",
   "execution_count": 51,
   "id": "d87e3a4a",
   "metadata": {},
   "outputs": [],
   "source": [
    "# Only need one number for every route; routes are duplicated because it has multiple trips\n",
    "num_stops_in_every_route = num_stops_in_every_route.drop_duplicates()"
   ]
  },
  {
   "cell_type": "code",
   "execution_count": 52,
   "id": "4c287bf6",
   "metadata": {},
   "outputs": [],
   "source": [
    "num_stops_in_every_route.to_csv('./gen/hk_nstops.csv', index=False)"
   ]
  },
  {
   "cell_type": "markdown",
   "id": "e8595d62",
   "metadata": {},
   "source": [
    "# Average route length"
   ]
  },
  {
   "cell_type": "code",
   "execution_count": 53,
   "id": "b5ad5b3d",
   "metadata": {},
   "outputs": [],
   "source": [
    "# wgs84 is in degrees, pseudo mercator is in meters\n",
    "wgs84 = pyproj.CRS('EPSG:4326')\n",
    "pseudo_mercator = pyproj.CRS('EPSG:3857')\n",
    "project = pyproj.Transformer.from_crs(wgs84, pseudo_mercator, always_xy=True).transform\n",
    "\n",
    "def transformer(p: Point):\n",
    "    return transform(project, p)"
   ]
  },
  {
   "cell_type": "code",
   "execution_count": 54,
   "id": "11fca4da",
   "metadata": {},
   "outputs": [
    {
     "data": {
      "text/html": [
       "<div>\n",
       "<style scoped>\n",
       "    .dataframe tbody tr th:only-of-type {\n",
       "        vertical-align: middle;\n",
       "    }\n",
       "\n",
       "    .dataframe tbody tr th {\n",
       "        vertical-align: top;\n",
       "    }\n",
       "\n",
       "    .dataframe thead th {\n",
       "        text-align: right;\n",
       "    }\n",
       "</style>\n",
       "<table border=\"1\" class=\"dataframe\">\n",
       "  <thead>\n",
       "    <tr style=\"text-align: right;\">\n",
       "      <th></th>\n",
       "      <th>trip_id</th>\n",
       "      <th>arrival_time</th>\n",
       "      <th>departure_time</th>\n",
       "      <th>stop_id</th>\n",
       "      <th>stop_sequence</th>\n",
       "      <th>pickup_type</th>\n",
       "      <th>drop_off_type</th>\n",
       "      <th>timepoint</th>\n",
       "      <th>stop_name</th>\n",
       "      <th>stop_lat</th>\n",
       "      <th>stop_lon</th>\n",
       "      <th>zone_id</th>\n",
       "      <th>location_type</th>\n",
       "      <th>stop_timezone</th>\n",
       "    </tr>\n",
       "  </thead>\n",
       "  <tbody>\n",
       "    <tr>\n",
       "      <th>0</th>\n",
       "      <td>1001-1-287-0535</td>\n",
       "      <td>05:35:00</td>\n",
       "      <td>05:35:00</td>\n",
       "      <td>4001</td>\n",
       "      <td>1</td>\n",
       "      <td>0</td>\n",
       "      <td>1</td>\n",
       "      <td>1</td>\n",
       "      <td>[CTB] CHUK YUEN ESTATE|[KMB+CTB] CHUK YUEN EST...</td>\n",
       "      <td>22.34535</td>\n",
       "      <td>114.19244</td>\n",
       "      <td>4001</td>\n",
       "      <td>0</td>\n",
       "      <td>Asia/Hong_Kong</td>\n",
       "    </tr>\n",
       "    <tr>\n",
       "      <th>1</th>\n",
       "      <td>1001-1-287-0623</td>\n",
       "      <td>06:23:00</td>\n",
       "      <td>06:23:00</td>\n",
       "      <td>4001</td>\n",
       "      <td>1</td>\n",
       "      <td>0</td>\n",
       "      <td>1</td>\n",
       "      <td>1</td>\n",
       "      <td>[CTB] CHUK YUEN ESTATE|[KMB+CTB] CHUK YUEN EST...</td>\n",
       "      <td>22.34535</td>\n",
       "      <td>114.19244</td>\n",
       "      <td>4001</td>\n",
       "      <td>0</td>\n",
       "      <td>Asia/Hong_Kong</td>\n",
       "    </tr>\n",
       "    <tr>\n",
       "      <th>2</th>\n",
       "      <td>1001-1-287-0647</td>\n",
       "      <td>06:47:00</td>\n",
       "      <td>06:47:00</td>\n",
       "      <td>4001</td>\n",
       "      <td>1</td>\n",
       "      <td>0</td>\n",
       "      <td>1</td>\n",
       "      <td>1</td>\n",
       "      <td>[CTB] CHUK YUEN ESTATE|[KMB+CTB] CHUK YUEN EST...</td>\n",
       "      <td>22.34535</td>\n",
       "      <td>114.19244</td>\n",
       "      <td>4001</td>\n",
       "      <td>0</td>\n",
       "      <td>Asia/Hong_Kong</td>\n",
       "    </tr>\n",
       "    <tr>\n",
       "      <th>3</th>\n",
       "      <td>1001-1-287-0757</td>\n",
       "      <td>07:57:00</td>\n",
       "      <td>07:57:00</td>\n",
       "      <td>4001</td>\n",
       "      <td>1</td>\n",
       "      <td>0</td>\n",
       "      <td>1</td>\n",
       "      <td>1</td>\n",
       "      <td>[CTB] CHUK YUEN ESTATE|[KMB+CTB] CHUK YUEN EST...</td>\n",
       "      <td>22.34535</td>\n",
       "      <td>114.19244</td>\n",
       "      <td>4001</td>\n",
       "      <td>0</td>\n",
       "      <td>Asia/Hong_Kong</td>\n",
       "    </tr>\n",
       "    <tr>\n",
       "      <th>4</th>\n",
       "      <td>1001-1-287-0829</td>\n",
       "      <td>08:29:00</td>\n",
       "      <td>08:29:00</td>\n",
       "      <td>4001</td>\n",
       "      <td>1</td>\n",
       "      <td>0</td>\n",
       "      <td>1</td>\n",
       "      <td>1</td>\n",
       "      <td>[CTB] CHUK YUEN ESTATE|[KMB+CTB] CHUK YUEN EST...</td>\n",
       "      <td>22.34535</td>\n",
       "      <td>114.19244</td>\n",
       "      <td>4001</td>\n",
       "      <td>0</td>\n",
       "      <td>Asia/Hong_Kong</td>\n",
       "    </tr>\n",
       "  </tbody>\n",
       "</table>\n",
       "</div>"
      ],
      "text/plain": [
       "           trip_id arrival_time departure_time  stop_id  stop_sequence  \\\n",
       "0  1001-1-287-0535     05:35:00       05:35:00     4001              1   \n",
       "1  1001-1-287-0623     06:23:00       06:23:00     4001              1   \n",
       "2  1001-1-287-0647     06:47:00       06:47:00     4001              1   \n",
       "3  1001-1-287-0757     07:57:00       07:57:00     4001              1   \n",
       "4  1001-1-287-0829     08:29:00       08:29:00     4001              1   \n",
       "\n",
       "   pickup_type  drop_off_type  timepoint  \\\n",
       "0            0              1          1   \n",
       "1            0              1          1   \n",
       "2            0              1          1   \n",
       "3            0              1          1   \n",
       "4            0              1          1   \n",
       "\n",
       "                                           stop_name  stop_lat   stop_lon  \\\n",
       "0  [CTB] CHUK YUEN ESTATE|[KMB+CTB] CHUK YUEN EST...  22.34535  114.19244   \n",
       "1  [CTB] CHUK YUEN ESTATE|[KMB+CTB] CHUK YUEN EST...  22.34535  114.19244   \n",
       "2  [CTB] CHUK YUEN ESTATE|[KMB+CTB] CHUK YUEN EST...  22.34535  114.19244   \n",
       "3  [CTB] CHUK YUEN ESTATE|[KMB+CTB] CHUK YUEN EST...  22.34535  114.19244   \n",
       "4  [CTB] CHUK YUEN ESTATE|[KMB+CTB] CHUK YUEN EST...  22.34535  114.19244   \n",
       "\n",
       "   zone_id  location_type   stop_timezone  \n",
       "0     4001              0  Asia/Hong_Kong  \n",
       "1     4001              0  Asia/Hong_Kong  \n",
       "2     4001              0  Asia/Hong_Kong  \n",
       "3     4001              0  Asia/Hong_Kong  \n",
       "4     4001              0  Asia/Hong_Kong  "
      ]
     },
     "execution_count": 54,
     "metadata": {},
     "output_type": "execute_result"
    }
   ],
   "source": [
    "stop_times_with_loc = bus_stop_times.merge(stops, on='stop_id')\n",
    "stop_times_with_loc.head()"
   ]
  },
  {
   "cell_type": "code",
   "execution_count": 55,
   "id": "fd24ef99",
   "metadata": {},
   "outputs": [],
   "source": [
    "#stop_times_with_loc = stop_times_with_loc[stop_times_with_loc.trip_id.isin(bus_trips.trip_id)]"
   ]
  },
  {
   "cell_type": "code",
   "execution_count": 56,
   "id": "6730ddf4",
   "metadata": {},
   "outputs": [
    {
     "data": {
      "text/plain": [
       "trip_id\n",
       "1000001-1-287-0750    LINESTRING (12705867.52978075 2556085.96445838...\n",
       "1000002-1-287-1810    LINESTRING (12713733.36500021 2562811.69123546...\n",
       "1000003-1-287-0730    LINESTRING (12716338.24108477 2543284.91935929...\n",
       "1000004-1-511-0630    LINESTRING (12704733.18416957 2555692.32944062...\n",
       "1000004-1-511-0700    LINESTRING (12704733.18416957 2555692.32944062...\n",
       "                                            ...                        \n",
       "8803-2-511-2240       LINESTRING (12683516.80241928 2549143.93513729...\n",
       "8803-2-511-2310       LINESTRING (12683516.80241928 2549143.93513729...\n",
       "8804-1-511-0600       LINESTRING (12687906.12994126 2561411.17835715...\n",
       "8805-1-511-0515       LINESTRING (12692180.79838772 2555126.57053090...\n",
       "8805-2-511-2325       LINESTRING (12683516.80241928 2549143.93513729...\n",
       "Length: 22390, dtype: object"
      ]
     },
     "execution_count": 56,
     "metadata": {},
     "output_type": "execute_result"
    }
   ],
   "source": [
    "def f(x):\n",
    "    df = x.sort_values('stop_sequence')\n",
    "    points = df[['stop_lon', 'stop_lat']].apply(\n",
    "        lambda row: transformer(Point(row.stop_lon, row.stop_lat)),\n",
    "        axis=1\n",
    "    )\n",
    "    return LineString(points.reset_index(drop=True))\n",
    "\n",
    "trip_lines = stop_times_with_loc.groupby('trip_id').apply(f)\n",
    "trip_lines"
   ]
  },
  {
   "cell_type": "code",
   "execution_count": 57,
   "id": "c46048fb",
   "metadata": {},
   "outputs": [
    {
     "data": {
      "text/plain": [
       "trip_id\n",
       "1000001-1-287-0750    16251.904798\n",
       "1000002-1-287-1810    15921.906291\n",
       "1000003-1-287-0730     9912.221455\n",
       "1000004-1-511-0630    26455.963842\n",
       "1000004-1-511-0700    26455.963842\n",
       "                          ...     \n",
       "8803-2-511-2240       19710.448439\n",
       "8803-2-511-2310       19710.448439\n",
       "8804-1-511-0600       15452.704964\n",
       "8805-1-511-0515       21053.241753\n",
       "8805-2-511-2325       21546.326053\n",
       "Length: 22390, dtype: float64"
      ]
     },
     "execution_count": 57,
     "metadata": {},
     "output_type": "execute_result"
    }
   ],
   "source": [
    "trip_lengths = trip_lines.apply(lambda x: x.length)\n",
    "trip_lengths"
   ]
  },
  {
   "cell_type": "code",
   "execution_count": 58,
   "id": "03d25c45",
   "metadata": {},
   "outputs": [
    {
     "data": {
      "text/plain": [
       "16679.390887073783"
      ]
     },
     "execution_count": 58,
     "metadata": {},
     "output_type": "execute_result"
    }
   ],
   "source": [
    "# Average trip length in meters\n",
    "trip_lengths.mean()"
   ]
  },
  {
   "cell_type": "code",
   "execution_count": 59,
   "id": "0ad83915",
   "metadata": {},
   "outputs": [
    {
     "data": {
      "text/plain": [
       "15096.74230852681"
      ]
     },
     "execution_count": 59,
     "metadata": {},
     "output_type": "execute_result"
    }
   ],
   "source": [
    "trip_lengths.median()"
   ]
  },
  {
   "cell_type": "code",
   "execution_count": 60,
   "id": "c7a394d1",
   "metadata": {},
   "outputs": [
    {
     "data": {
      "image/png": "[encoded data removed]",
      "text/plain": [
       "<Figure size 432x288 with 1 Axes>"
      ]
     },
     "metadata": {
      "needs_background": "light"
     },
     "output_type": "display_data"
    }
   ],
   "source": [
    "sns.histplot(x=trip_lengths)\n",
    "sns.despine()\n",
    "plt.title('HK')\n",
    "plt.xlabel('Route length (m)')\n",
    "plt.savefig('figures/hk_rlengths.png')"
   ]
  },
  {
   "cell_type": "code",
   "execution_count": 61,
   "id": "4a48d7d6",
   "metadata": {},
   "outputs": [],
   "source": [
    "#trip_lengths.to_csv('gen/hk_rlengths.csv')"
   ]
  },
  {
   "cell_type": "code",
   "execution_count": 62,
   "id": "b446005b",
   "metadata": {},
   "outputs": [
    {
     "data": {
      "text/plain": [
       "trip_id\n",
       "1893-1-511-0350    55515.803551\n",
       "1893-1-511-0420    55515.803551\n",
       "1893-1-511-0450    55515.803551\n",
       "1893-2-511-0110    55455.881906\n",
       "1893-2-511-0015    55455.881906\n",
       "dtype: float64"
      ]
     },
     "execution_count": 62,
     "metadata": {},
     "output_type": "execute_result"
    }
   ],
   "source": [
    "trip_lengths.sort_values(ascending=False).head()"
   ]
  },
  {
   "cell_type": "markdown",
   "id": "abb4bebf",
   "metadata": {},
   "source": [
    "# Comparison need route not trip lengths"
   ]
  },
  {
   "cell_type": "code",
   "execution_count": 63,
   "id": "d8e20752",
   "metadata": {},
   "outputs": [],
   "source": [
    "trip_lengths.name = 'Length'"
   ]
  },
  {
   "cell_type": "code",
   "execution_count": 64,
   "id": "7804ddc8",
   "metadata": {},
   "outputs": [
    {
     "data": {
      "text/html": [
       "<div>\n",
       "<style scoped>\n",
       "    .dataframe tbody tr th:only-of-type {\n",
       "        vertical-align: middle;\n",
       "    }\n",
       "\n",
       "    .dataframe tbody tr th {\n",
       "        vertical-align: top;\n",
       "    }\n",
       "\n",
       "    .dataframe thead th {\n",
       "        text-align: right;\n",
       "    }\n",
       "</style>\n",
       "<table border=\"1\" class=\"dataframe\">\n",
       "  <thead>\n",
       "    <tr style=\"text-align: right;\">\n",
       "      <th></th>\n",
       "      <th>route_id</th>\n",
       "      <th>trip_id</th>\n",
       "      <th>Length</th>\n",
       "    </tr>\n",
       "  </thead>\n",
       "  <tbody>\n",
       "    <tr>\n",
       "      <th>0</th>\n",
       "      <td>1001</td>\n",
       "      <td>1001-1-287-0535</td>\n",
       "      <td>8640.700522</td>\n",
       "    </tr>\n",
       "    <tr>\n",
       "      <th>1</th>\n",
       "      <td>1001</td>\n",
       "      <td>1001-1-287-0623</td>\n",
       "      <td>8640.700522</td>\n",
       "    </tr>\n",
       "    <tr>\n",
       "      <th>2</th>\n",
       "      <td>1001</td>\n",
       "      <td>1001-1-287-0647</td>\n",
       "      <td>8640.700522</td>\n",
       "    </tr>\n",
       "    <tr>\n",
       "      <th>3</th>\n",
       "      <td>1001</td>\n",
       "      <td>1001-1-287-0757</td>\n",
       "      <td>8640.700522</td>\n",
       "    </tr>\n",
       "    <tr>\n",
       "      <th>4</th>\n",
       "      <td>1001</td>\n",
       "      <td>1001-1-287-0829</td>\n",
       "      <td>8640.700522</td>\n",
       "    </tr>\n",
       "    <tr>\n",
       "      <th>...</th>\n",
       "      <td>...</td>\n",
       "      <td>...</td>\n",
       "      <td>...</td>\n",
       "    </tr>\n",
       "    <tr>\n",
       "      <th>22385</th>\n",
       "      <td>1000208</td>\n",
       "      <td>1000208-1-319-0820</td>\n",
       "      <td>13490.223853</td>\n",
       "    </tr>\n",
       "    <tr>\n",
       "      <th>22386</th>\n",
       "      <td>1000209</td>\n",
       "      <td>1000209-1-287-0620</td>\n",
       "      <td>29479.526566</td>\n",
       "    </tr>\n",
       "    <tr>\n",
       "      <th>22387</th>\n",
       "      <td>1000209</td>\n",
       "      <td>1000209-2-287-2007</td>\n",
       "      <td>29900.782583</td>\n",
       "    </tr>\n",
       "    <tr>\n",
       "      <th>22388</th>\n",
       "      <td>1000210</td>\n",
       "      <td>1000210-1-287-0625</td>\n",
       "      <td>36974.009651</td>\n",
       "    </tr>\n",
       "    <tr>\n",
       "      <th>22389</th>\n",
       "      <td>1000210</td>\n",
       "      <td>1000210-2-287-2008</td>\n",
       "      <td>36746.677301</td>\n",
       "    </tr>\n",
       "  </tbody>\n",
       "</table>\n",
       "<p>22390 rows × 3 columns</p>\n",
       "</div>"
      ],
      "text/plain": [
       "       route_id             trip_id        Length\n",
       "0          1001     1001-1-287-0535   8640.700522\n",
       "1          1001     1001-1-287-0623   8640.700522\n",
       "2          1001     1001-1-287-0647   8640.700522\n",
       "3          1001     1001-1-287-0757   8640.700522\n",
       "4          1001     1001-1-287-0829   8640.700522\n",
       "...         ...                 ...           ...\n",
       "22385   1000208  1000208-1-319-0820  13490.223853\n",
       "22386   1000209  1000209-1-287-0620  29479.526566\n",
       "22387   1000209  1000209-2-287-2007  29900.782583\n",
       "22388   1000210  1000210-1-287-0625  36974.009651\n",
       "22389   1000210  1000210-2-287-2008  36746.677301\n",
       "\n",
       "[22390 rows x 3 columns]"
      ]
     },
     "execution_count": 64,
     "metadata": {},
     "output_type": "execute_result"
    }
   ],
   "source": [
    "route_lengths = bus_trips[['route_id', 'trip_id']].merge(trip_lengths, on='trip_id')\n",
    "route_lengths"
   ]
  },
  {
   "cell_type": "code",
   "execution_count": 65,
   "id": "36ccd9f7",
   "metadata": {},
   "outputs": [],
   "source": [
    "route_lengths = route_lengths[['route_id', 'Length']]"
   ]
  },
  {
   "cell_type": "code",
   "execution_count": 66,
   "id": "e62c17ae",
   "metadata": {},
   "outputs": [],
   "source": [
    "route_lengths = route_lengths.drop_duplicates()"
   ]
  },
  {
   "cell_type": "code",
   "execution_count": 67,
   "id": "09b326fc",
   "metadata": {},
   "outputs": [],
   "source": [
    "route_lengths.to_csv('./gen/hk_rlengths.csv', index=False)"
   ]
  },
  {
   "cell_type": "markdown",
   "id": "d8dc5631",
   "metadata": {},
   "source": [
    "# Map of bus network"
   ]
  },
  {
   "cell_type": "code",
   "execution_count": 68,
   "id": "b3414f51",
   "metadata": {},
   "outputs": [],
   "source": [
    "gdf = gpd.GeoDataFrame(trip_lines, columns=['geometry'])"
   ]
  },
  {
   "cell_type": "code",
   "execution_count": 69,
   "id": "e8bacf2b",
   "metadata": {},
   "outputs": [
    {
     "data": {
      "text/html": [
       "<div>\n",
       "<style scoped>\n",
       "    .dataframe tbody tr th:only-of-type {\n",
       "        vertical-align: middle;\n",
       "    }\n",
       "\n",
       "    .dataframe tbody tr th {\n",
       "        vertical-align: top;\n",
       "    }\n",
       "\n",
       "    .dataframe thead th {\n",
       "        text-align: right;\n",
       "    }\n",
       "</style>\n",
       "<table border=\"1\" class=\"dataframe\">\n",
       "  <thead>\n",
       "    <tr style=\"text-align: right;\">\n",
       "      <th></th>\n",
       "      <th>geometry</th>\n",
       "    </tr>\n",
       "    <tr>\n",
       "      <th>trip_id</th>\n",
       "      <th></th>\n",
       "    </tr>\n",
       "  </thead>\n",
       "  <tbody>\n",
       "    <tr>\n",
       "      <th>1000001-1-287-0750</th>\n",
       "      <td>LINESTRING (12705867.530 2556085.964, 12705961...</td>\n",
       "    </tr>\n",
       "    <tr>\n",
       "      <th>1000002-1-287-1810</th>\n",
       "      <td>LINESTRING (12713733.365 2562811.691, 12713669...</td>\n",
       "    </tr>\n",
       "    <tr>\n",
       "      <th>1000003-1-287-0730</th>\n",
       "      <td>LINESTRING (12716338.241 2543284.919, 12716459...</td>\n",
       "    </tr>\n",
       "    <tr>\n",
       "      <th>1000004-1-511-0630</th>\n",
       "      <td>LINESTRING (12704733.184 2555692.329, 12704845...</td>\n",
       "    </tr>\n",
       "    <tr>\n",
       "      <th>1000004-1-511-0700</th>\n",
       "      <td>LINESTRING (12704733.184 2555692.329, 12704845...</td>\n",
       "    </tr>\n",
       "  </tbody>\n",
       "</table>\n",
       "</div>"
      ],
      "text/plain": [
       "                                                             geometry\n",
       "trip_id                                                              \n",
       "1000001-1-287-0750  LINESTRING (12705867.530 2556085.964, 12705961...\n",
       "1000002-1-287-1810  LINESTRING (12713733.365 2562811.691, 12713669...\n",
       "1000003-1-287-0730  LINESTRING (12716338.241 2543284.919, 12716459...\n",
       "1000004-1-511-0630  LINESTRING (12704733.184 2555692.329, 12704845...\n",
       "1000004-1-511-0700  LINESTRING (12704733.184 2555692.329, 12704845..."
      ]
     },
     "execution_count": 69,
     "metadata": {},
     "output_type": "execute_result"
    }
   ],
   "source": [
    "gdf.head()"
   ]
  },
  {
   "cell_type": "code",
   "execution_count": 70,
   "id": "0c9efc54",
   "metadata": {},
   "outputs": [
    {
     "data": {
      "text/plain": [
       "<AxesSubplot:>"
      ]
     },
     "execution_count": 70,
     "metadata": {},
     "output_type": "execute_result"
    },
    {
     "data": {
      "image/png": "[encoded data removed]",
      "text/plain": [
       "<Figure size 432x288 with 1 Axes>"
      ]
     },
     "metadata": {
      "needs_background": "light"
     },
     "output_type": "display_data"
    }
   ],
   "source": [
    "gdf.plot()"
   ]
  },
  {
   "cell_type": "code",
   "execution_count": 71,
   "id": "dfc7f66a",
   "metadata": {},
   "outputs": [],
   "source": [
    "gdf.to_file('gen/hk_bus_routes.shp')"
   ]
  },
  {
   "cell_type": "markdown",
   "id": "e7287e12",
   "metadata": {},
   "source": [
    "## confirming sequence"
   ]
  },
  {
   "cell_type": "code",
   "execution_count": 72,
   "id": "5c12567d",
   "metadata": {},
   "outputs": [
    {
     "data": {
      "text/html": [
       "<div>\n",
       "<style scoped>\n",
       "    .dataframe tbody tr th:only-of-type {\n",
       "        vertical-align: middle;\n",
       "    }\n",
       "\n",
       "    .dataframe tbody tr th {\n",
       "        vertical-align: top;\n",
       "    }\n",
       "\n",
       "    .dataframe thead th {\n",
       "        text-align: right;\n",
       "    }\n",
       "</style>\n",
       "<table border=\"1\" class=\"dataframe\">\n",
       "  <thead>\n",
       "    <tr style=\"text-align: right;\">\n",
       "      <th></th>\n",
       "      <th>route_id</th>\n",
       "      <th>service_id</th>\n",
       "      <th>trip_id</th>\n",
       "    </tr>\n",
       "  </thead>\n",
       "  <tbody>\n",
       "    <tr>\n",
       "      <th>13109</th>\n",
       "      <td>1583</td>\n",
       "      <td>287</td>\n",
       "      <td>1583-1-287-0723</td>\n",
       "    </tr>\n",
       "  </tbody>\n",
       "</table>\n",
       "</div>"
      ],
      "text/plain": [
       "       route_id  service_id          trip_id\n",
       "13109      1583         287  1583-1-287-0723"
      ]
     },
     "execution_count": 72,
     "metadata": {},
     "output_type": "execute_result"
    }
   ],
   "source": [
    "trips[trips.trip_id ==  '1583-1-287-0723']"
   ]
  },
  {
   "cell_type": "code",
   "execution_count": 73,
   "id": "765bd717",
   "metadata": {},
   "outputs": [
    {
     "data": {
      "text/html": [
       "<div>\n",
       "<style scoped>\n",
       "    .dataframe tbody tr th:only-of-type {\n",
       "        vertical-align: middle;\n",
       "    }\n",
       "\n",
       "    .dataframe tbody tr th {\n",
       "        vertical-align: top;\n",
       "    }\n",
       "\n",
       "    .dataframe thead th {\n",
       "        text-align: right;\n",
       "    }\n",
       "</style>\n",
       "<table border=\"1\" class=\"dataframe\">\n",
       "  <thead>\n",
       "    <tr style=\"text-align: right;\">\n",
       "      <th></th>\n",
       "      <th>route_id</th>\n",
       "      <th>agency_id</th>\n",
       "      <th>route_short_name</th>\n",
       "      <th>route_long_name</th>\n",
       "      <th>route_type</th>\n",
       "      <th>route_url</th>\n",
       "    </tr>\n",
       "  </thead>\n",
       "  <tbody>\n",
       "    <tr>\n",
       "      <th>414</th>\n",
       "      <td>1583</td>\n",
       "      <td>NWFB</td>\n",
       "      <td>682</td>\n",
       "      <td>LEE ON - CHAI WAN (EAST)</td>\n",
       "      <td>3</td>\n",
       "      <td>https://mobile.bravobus.com.hk/nwp3/?f=1&amp;ds=68...</td>\n",
       "    </tr>\n",
       "  </tbody>\n",
       "</table>\n",
       "</div>"
      ],
      "text/plain": [
       "     route_id agency_id route_short_name           route_long_name  \\\n",
       "414      1583      NWFB              682  LEE ON - CHAI WAN (EAST)   \n",
       "\n",
       "     route_type                                          route_url  \n",
       "414           3  https://mobile.bravobus.com.hk/nwp3/?f=1&ds=68...  "
      ]
     },
     "execution_count": 73,
     "metadata": {},
     "output_type": "execute_result"
    }
   ],
   "source": [
    "bus_routes[bus_routes.route_id == 1583]"
   ]
  },
  {
   "cell_type": "code",
   "execution_count": 74,
   "id": "91a82da1",
   "metadata": {},
   "outputs": [
    {
     "data": {
      "text/html": [
       "<div>\n",
       "<style scoped>\n",
       "    .dataframe tbody tr th:only-of-type {\n",
       "        vertical-align: middle;\n",
       "    }\n",
       "\n",
       "    .dataframe tbody tr th {\n",
       "        vertical-align: top;\n",
       "    }\n",
       "\n",
       "    .dataframe thead th {\n",
       "        text-align: right;\n",
       "    }\n",
       "</style>\n",
       "<table border=\"1\" class=\"dataframe\">\n",
       "  <thead>\n",
       "    <tr style=\"text-align: right;\">\n",
       "      <th></th>\n",
       "      <th>trip_id</th>\n",
       "      <th>arrival_time</th>\n",
       "      <th>departure_time</th>\n",
       "      <th>stop_id</th>\n",
       "      <th>stop_sequence</th>\n",
       "      <th>pickup_type</th>\n",
       "      <th>drop_off_type</th>\n",
       "      <th>timepoint</th>\n",
       "    </tr>\n",
       "  </thead>\n",
       "  <tbody>\n",
       "    <tr>\n",
       "      <th>318581</th>\n",
       "      <td>1583-1-287-0723</td>\n",
       "      <td>07:23:00</td>\n",
       "      <td>07:23:00</td>\n",
       "      <td>6169</td>\n",
       "      <td>1</td>\n",
       "      <td>0</td>\n",
       "      <td>1</td>\n",
       "      <td>1</td>\n",
       "    </tr>\n",
       "    <tr>\n",
       "      <th>318582</th>\n",
       "      <td>1583-1-287-0723</td>\n",
       "      <td>NaN</td>\n",
       "      <td>NaN</td>\n",
       "      <td>6168</td>\n",
       "      <td>2</td>\n",
       "      <td>0</td>\n",
       "      <td>0</td>\n",
       "      <td>0</td>\n",
       "    </tr>\n",
       "    <tr>\n",
       "      <th>318583</th>\n",
       "      <td>1583-1-287-0723</td>\n",
       "      <td>NaN</td>\n",
       "      <td>NaN</td>\n",
       "      <td>6165</td>\n",
       "      <td>3</td>\n",
       "      <td>0</td>\n",
       "      <td>0</td>\n",
       "      <td>0</td>\n",
       "    </tr>\n",
       "    <tr>\n",
       "      <th>318584</th>\n",
       "      <td>1583-1-287-0723</td>\n",
       "      <td>NaN</td>\n",
       "      <td>NaN</td>\n",
       "      <td>6175</td>\n",
       "      <td>4</td>\n",
       "      <td>0</td>\n",
       "      <td>0</td>\n",
       "      <td>0</td>\n",
       "    </tr>\n",
       "    <tr>\n",
       "      <th>318585</th>\n",
       "      <td>1583-1-287-0723</td>\n",
       "      <td>NaN</td>\n",
       "      <td>NaN</td>\n",
       "      <td>1106</td>\n",
       "      <td>5</td>\n",
       "      <td>0</td>\n",
       "      <td>0</td>\n",
       "      <td>0</td>\n",
       "    </tr>\n",
       "    <tr>\n",
       "      <th>318586</th>\n",
       "      <td>1583-1-287-0723</td>\n",
       "      <td>NaN</td>\n",
       "      <td>NaN</td>\n",
       "      <td>6160</td>\n",
       "      <td>6</td>\n",
       "      <td>0</td>\n",
       "      <td>0</td>\n",
       "      <td>0</td>\n",
       "    </tr>\n",
       "    <tr>\n",
       "      <th>318587</th>\n",
       "      <td>1583-1-287-0723</td>\n",
       "      <td>NaN</td>\n",
       "      <td>NaN</td>\n",
       "      <td>1108</td>\n",
       "      <td>7</td>\n",
       "      <td>0</td>\n",
       "      <td>0</td>\n",
       "      <td>0</td>\n",
       "    </tr>\n",
       "    <tr>\n",
       "      <th>318588</th>\n",
       "      <td>1583-1-287-0723</td>\n",
       "      <td>NaN</td>\n",
       "      <td>NaN</td>\n",
       "      <td>6151</td>\n",
       "      <td>8</td>\n",
       "      <td>0</td>\n",
       "      <td>0</td>\n",
       "      <td>0</td>\n",
       "    </tr>\n",
       "    <tr>\n",
       "      <th>318589</th>\n",
       "      <td>1583-1-287-0723</td>\n",
       "      <td>NaN</td>\n",
       "      <td>NaN</td>\n",
       "      <td>6117</td>\n",
       "      <td>9</td>\n",
       "      <td>0</td>\n",
       "      <td>0</td>\n",
       "      <td>0</td>\n",
       "    </tr>\n",
       "    <tr>\n",
       "      <th>318590</th>\n",
       "      <td>1583-1-287-0723</td>\n",
       "      <td>NaN</td>\n",
       "      <td>NaN</td>\n",
       "      <td>1100</td>\n",
       "      <td>10</td>\n",
       "      <td>0</td>\n",
       "      <td>0</td>\n",
       "      <td>0</td>\n",
       "    </tr>\n",
       "    <tr>\n",
       "      <th>318591</th>\n",
       "      <td>1583-1-287-0723</td>\n",
       "      <td>NaN</td>\n",
       "      <td>NaN</td>\n",
       "      <td>6114</td>\n",
       "      <td>11</td>\n",
       "      <td>0</td>\n",
       "      <td>0</td>\n",
       "      <td>0</td>\n",
       "    </tr>\n",
       "    <tr>\n",
       "      <th>318592</th>\n",
       "      <td>1583-1-287-0723</td>\n",
       "      <td>NaN</td>\n",
       "      <td>NaN</td>\n",
       "      <td>6110</td>\n",
       "      <td>12</td>\n",
       "      <td>0</td>\n",
       "      <td>0</td>\n",
       "      <td>0</td>\n",
       "    </tr>\n",
       "    <tr>\n",
       "      <th>318593</th>\n",
       "      <td>1583-1-287-0723</td>\n",
       "      <td>NaN</td>\n",
       "      <td>NaN</td>\n",
       "      <td>6109</td>\n",
       "      <td>13</td>\n",
       "      <td>0</td>\n",
       "      <td>0</td>\n",
       "      <td>0</td>\n",
       "    </tr>\n",
       "    <tr>\n",
       "      <th>318594</th>\n",
       "      <td>1583-1-287-0723</td>\n",
       "      <td>NaN</td>\n",
       "      <td>NaN</td>\n",
       "      <td>6107</td>\n",
       "      <td>14</td>\n",
       "      <td>0</td>\n",
       "      <td>0</td>\n",
       "      <td>0</td>\n",
       "    </tr>\n",
       "    <tr>\n",
       "      <th>318595</th>\n",
       "      <td>1583-1-287-0723</td>\n",
       "      <td>NaN</td>\n",
       "      <td>NaN</td>\n",
       "      <td>884</td>\n",
       "      <td>15</td>\n",
       "      <td>0</td>\n",
       "      <td>0</td>\n",
       "      <td>0</td>\n",
       "    </tr>\n",
       "    <tr>\n",
       "      <th>318596</th>\n",
       "      <td>1583-1-287-0723</td>\n",
       "      <td>NaN</td>\n",
       "      <td>NaN</td>\n",
       "      <td>885</td>\n",
       "      <td>16</td>\n",
       "      <td>0</td>\n",
       "      <td>0</td>\n",
       "      <td>0</td>\n",
       "    </tr>\n",
       "    <tr>\n",
       "      <th>318597</th>\n",
       "      <td>1583-1-287-0723</td>\n",
       "      <td>NaN</td>\n",
       "      <td>NaN</td>\n",
       "      <td>144</td>\n",
       "      <td>17</td>\n",
       "      <td>0</td>\n",
       "      <td>0</td>\n",
       "      <td>0</td>\n",
       "    </tr>\n",
       "    <tr>\n",
       "      <th>318598</th>\n",
       "      <td>1583-1-287-0723</td>\n",
       "      <td>NaN</td>\n",
       "      <td>NaN</td>\n",
       "      <td>3263</td>\n",
       "      <td>18</td>\n",
       "      <td>0</td>\n",
       "      <td>0</td>\n",
       "      <td>0</td>\n",
       "    </tr>\n",
       "    <tr>\n",
       "      <th>318599</th>\n",
       "      <td>1583-1-287-0723</td>\n",
       "      <td>NaN</td>\n",
       "      <td>NaN</td>\n",
       "      <td>146</td>\n",
       "      <td>19</td>\n",
       "      <td>0</td>\n",
       "      <td>0</td>\n",
       "      <td>0</td>\n",
       "    </tr>\n",
       "    <tr>\n",
       "      <th>318600</th>\n",
       "      <td>1583-1-287-0723</td>\n",
       "      <td>NaN</td>\n",
       "      <td>NaN</td>\n",
       "      <td>147</td>\n",
       "      <td>20</td>\n",
       "      <td>0</td>\n",
       "      <td>0</td>\n",
       "      <td>0</td>\n",
       "    </tr>\n",
       "    <tr>\n",
       "      <th>318601</th>\n",
       "      <td>1583-1-287-0723</td>\n",
       "      <td>NaN</td>\n",
       "      <td>NaN</td>\n",
       "      <td>148</td>\n",
       "      <td>21</td>\n",
       "      <td>0</td>\n",
       "      <td>0</td>\n",
       "      <td>0</td>\n",
       "    </tr>\n",
       "    <tr>\n",
       "      <th>318602</th>\n",
       "      <td>1583-1-287-0723</td>\n",
       "      <td>NaN</td>\n",
       "      <td>NaN</td>\n",
       "      <td>180</td>\n",
       "      <td>22</td>\n",
       "      <td>0</td>\n",
       "      <td>0</td>\n",
       "      <td>0</td>\n",
       "    </tr>\n",
       "    <tr>\n",
       "      <th>318603</th>\n",
       "      <td>1583-1-287-0723</td>\n",
       "      <td>NaN</td>\n",
       "      <td>NaN</td>\n",
       "      <td>151</td>\n",
       "      <td>23</td>\n",
       "      <td>0</td>\n",
       "      <td>0</td>\n",
       "      <td>0</td>\n",
       "    </tr>\n",
       "    <tr>\n",
       "      <th>318604</th>\n",
       "      <td>1583-1-287-0723</td>\n",
       "      <td>NaN</td>\n",
       "      <td>NaN</td>\n",
       "      <td>152</td>\n",
       "      <td>24</td>\n",
       "      <td>0</td>\n",
       "      <td>0</td>\n",
       "      <td>0</td>\n",
       "    </tr>\n",
       "    <tr>\n",
       "      <th>318605</th>\n",
       "      <td>1583-1-287-0723</td>\n",
       "      <td>NaN</td>\n",
       "      <td>NaN</td>\n",
       "      <td>3001</td>\n",
       "      <td>25</td>\n",
       "      <td>0</td>\n",
       "      <td>0</td>\n",
       "      <td>0</td>\n",
       "    </tr>\n",
       "    <tr>\n",
       "      <th>318606</th>\n",
       "      <td>1583-1-287-0723</td>\n",
       "      <td>NaN</td>\n",
       "      <td>NaN</td>\n",
       "      <td>3268</td>\n",
       "      <td>26</td>\n",
       "      <td>0</td>\n",
       "      <td>0</td>\n",
       "      <td>0</td>\n",
       "    </tr>\n",
       "    <tr>\n",
       "      <th>318607</th>\n",
       "      <td>1583-1-287-0723</td>\n",
       "      <td>NaN</td>\n",
       "      <td>NaN</td>\n",
       "      <td>33</td>\n",
       "      <td>27</td>\n",
       "      <td>0</td>\n",
       "      <td>0</td>\n",
       "      <td>0</td>\n",
       "    </tr>\n",
       "    <tr>\n",
       "      <th>318608</th>\n",
       "      <td>1583-1-287-0723</td>\n",
       "      <td>NaN</td>\n",
       "      <td>NaN</td>\n",
       "      <td>3002</td>\n",
       "      <td>28</td>\n",
       "      <td>0</td>\n",
       "      <td>0</td>\n",
       "      <td>0</td>\n",
       "    </tr>\n",
       "    <tr>\n",
       "      <th>318609</th>\n",
       "      <td>1583-1-287-0723</td>\n",
       "      <td>NaN</td>\n",
       "      <td>NaN</td>\n",
       "      <td>35</td>\n",
       "      <td>29</td>\n",
       "      <td>0</td>\n",
       "      <td>0</td>\n",
       "      <td>0</td>\n",
       "    </tr>\n",
       "    <tr>\n",
       "      <th>318610</th>\n",
       "      <td>1583-1-287-0723</td>\n",
       "      <td>NaN</td>\n",
       "      <td>NaN</td>\n",
       "      <td>36</td>\n",
       "      <td>30</td>\n",
       "      <td>0</td>\n",
       "      <td>0</td>\n",
       "      <td>0</td>\n",
       "    </tr>\n",
       "    <tr>\n",
       "      <th>318611</th>\n",
       "      <td>1583-1-287-0723</td>\n",
       "      <td>NaN</td>\n",
       "      <td>NaN</td>\n",
       "      <td>3253</td>\n",
       "      <td>31</td>\n",
       "      <td>0</td>\n",
       "      <td>0</td>\n",
       "      <td>0</td>\n",
       "    </tr>\n",
       "    <tr>\n",
       "      <th>318612</th>\n",
       "      <td>1583-1-287-0723</td>\n",
       "      <td>NaN</td>\n",
       "      <td>NaN</td>\n",
       "      <td>155</td>\n",
       "      <td>32</td>\n",
       "      <td>0</td>\n",
       "      <td>0</td>\n",
       "      <td>0</td>\n",
       "    </tr>\n",
       "    <tr>\n",
       "      <th>318613</th>\n",
       "      <td>1583-1-287-0723</td>\n",
       "      <td>NaN</td>\n",
       "      <td>NaN</td>\n",
       "      <td>1549</td>\n",
       "      <td>33</td>\n",
       "      <td>0</td>\n",
       "      <td>0</td>\n",
       "      <td>0</td>\n",
       "    </tr>\n",
       "    <tr>\n",
       "      <th>318614</th>\n",
       "      <td>1583-1-287-0723</td>\n",
       "      <td>NaN</td>\n",
       "      <td>NaN</td>\n",
       "      <td>43</td>\n",
       "      <td>34</td>\n",
       "      <td>0</td>\n",
       "      <td>0</td>\n",
       "      <td>0</td>\n",
       "    </tr>\n",
       "    <tr>\n",
       "      <th>318615</th>\n",
       "      <td>1583-1-287-0723</td>\n",
       "      <td>NaN</td>\n",
       "      <td>NaN</td>\n",
       "      <td>1551</td>\n",
       "      <td>35</td>\n",
       "      <td>0</td>\n",
       "      <td>0</td>\n",
       "      <td>0</td>\n",
       "    </tr>\n",
       "    <tr>\n",
       "      <th>318616</th>\n",
       "      <td>1583-1-287-0723</td>\n",
       "      <td>NaN</td>\n",
       "      <td>NaN</td>\n",
       "      <td>12983</td>\n",
       "      <td>36</td>\n",
       "      <td>0</td>\n",
       "      <td>0</td>\n",
       "      <td>0</td>\n",
       "    </tr>\n",
       "    <tr>\n",
       "      <th>318617</th>\n",
       "      <td>1583-1-287-0723</td>\n",
       "      <td>NaN</td>\n",
       "      <td>NaN</td>\n",
       "      <td>914</td>\n",
       "      <td>37</td>\n",
       "      <td>0</td>\n",
       "      <td>0</td>\n",
       "      <td>0</td>\n",
       "    </tr>\n",
       "    <tr>\n",
       "      <th>318618</th>\n",
       "      <td>1583-1-287-0723</td>\n",
       "      <td>NaN</td>\n",
       "      <td>NaN</td>\n",
       "      <td>915</td>\n",
       "      <td>38</td>\n",
       "      <td>0</td>\n",
       "      <td>0</td>\n",
       "      <td>0</td>\n",
       "    </tr>\n",
       "    <tr>\n",
       "      <th>318619</th>\n",
       "      <td>1583-1-287-0723</td>\n",
       "      <td>NaN</td>\n",
       "      <td>NaN</td>\n",
       "      <td>916</td>\n",
       "      <td>39</td>\n",
       "      <td>0</td>\n",
       "      <td>0</td>\n",
       "      <td>0</td>\n",
       "    </tr>\n",
       "    <tr>\n",
       "      <th>318620</th>\n",
       "      <td>1583-1-287-0723</td>\n",
       "      <td>NaN</td>\n",
       "      <td>NaN</td>\n",
       "      <td>1562</td>\n",
       "      <td>40</td>\n",
       "      <td>0</td>\n",
       "      <td>0</td>\n",
       "      <td>0</td>\n",
       "    </tr>\n",
       "    <tr>\n",
       "      <th>318621</th>\n",
       "      <td>1583-1-287-0723</td>\n",
       "      <td>08:48:00</td>\n",
       "      <td>08:48:00</td>\n",
       "      <td>917</td>\n",
       "      <td>41</td>\n",
       "      <td>1</td>\n",
       "      <td>0</td>\n",
       "      <td>1</td>\n",
       "    </tr>\n",
       "  </tbody>\n",
       "</table>\n",
       "</div>"
      ],
      "text/plain": [
       "                trip_id arrival_time departure_time  stop_id  stop_sequence  \\\n",
       "318581  1583-1-287-0723     07:23:00       07:23:00     6169              1   \n",
       "318582  1583-1-287-0723          NaN            NaN     6168              2   \n",
       "318583  1583-1-287-0723          NaN            NaN     6165              3   \n",
       "318584  1583-1-287-0723          NaN            NaN     6175              4   \n",
       "318585  1583-1-287-0723          NaN            NaN     1106              5   \n",
       "318586  1583-1-287-0723          NaN            NaN     6160              6   \n",
       "318587  1583-1-287-0723          NaN            NaN     1108              7   \n",
       "318588  1583-1-287-0723          NaN            NaN     6151              8   \n",
       "318589  1583-1-287-0723          NaN            NaN     6117              9   \n",
       "318590  1583-1-287-0723          NaN            NaN     1100             10   \n",
       "318591  1583-1-287-0723          NaN            NaN     6114             11   \n",
       "318592  1583-1-287-0723          NaN            NaN     6110             12   \n",
       "318593  1583-1-287-0723          NaN            NaN     6109             13   \n",
       "318594  1583-1-287-0723          NaN            NaN     6107             14   \n",
       "318595  1583-1-287-0723          NaN            NaN      884             15   \n",
       "318596  1583-1-287-0723          NaN            NaN      885             16   \n",
       "318597  1583-1-287-0723          NaN            NaN      144             17   \n",
       "318598  1583-1-287-0723          NaN            NaN     3263             18   \n",
       "318599  1583-1-287-0723          NaN            NaN      146             19   \n",
       "318600  1583-1-287-0723          NaN            NaN      147             20   \n",
       "318601  1583-1-287-0723          NaN            NaN      148             21   \n",
       "318602  1583-1-287-0723          NaN            NaN      180             22   \n",
       "318603  1583-1-287-0723          NaN            NaN      151             23   \n",
       "318604  1583-1-287-0723          NaN            NaN      152             24   \n",
       "318605  1583-1-287-0723          NaN            NaN     3001             25   \n",
       "318606  1583-1-287-0723          NaN            NaN     3268             26   \n",
       "318607  1583-1-287-0723          NaN            NaN       33             27   \n",
       "318608  1583-1-287-0723          NaN            NaN     3002             28   \n",
       "318609  1583-1-287-0723          NaN            NaN       35             29   \n",
       "318610  1583-1-287-0723          NaN            NaN       36             30   \n",
       "318611  1583-1-287-0723          NaN            NaN     3253             31   \n",
       "318612  1583-1-287-0723          NaN            NaN      155             32   \n",
       "318613  1583-1-287-0723          NaN            NaN     1549             33   \n",
       "318614  1583-1-287-0723          NaN            NaN       43             34   \n",
       "318615  1583-1-287-0723          NaN            NaN     1551             35   \n",
       "318616  1583-1-287-0723          NaN            NaN    12983             36   \n",
       "318617  1583-1-287-0723          NaN            NaN      914             37   \n",
       "318618  1583-1-287-0723          NaN            NaN      915             38   \n",
       "318619  1583-1-287-0723          NaN            NaN      916             39   \n",
       "318620  1583-1-287-0723          NaN            NaN     1562             40   \n",
       "318621  1583-1-287-0723     08:48:00       08:48:00      917             41   \n",
       "\n",
       "        pickup_type  drop_off_type  timepoint  \n",
       "318581            0              1          1  \n",
       "318582            0              0          0  \n",
       "318583            0              0          0  \n",
       "318584            0              0          0  \n",
       "318585            0              0          0  \n",
       "318586            0              0          0  \n",
       "318587            0              0          0  \n",
       "318588            0              0          0  \n",
       "318589            0              0          0  \n",
       "318590            0              0          0  \n",
       "318591            0              0          0  \n",
       "318592            0              0          0  \n",
       "318593            0              0          0  \n",
       "318594            0              0          0  \n",
       "318595            0              0          0  \n",
       "318596            0              0          0  \n",
       "318597            0              0          0  \n",
       "318598            0              0          0  \n",
       "318599            0              0          0  \n",
       "318600            0              0          0  \n",
       "318601            0              0          0  \n",
       "318602            0              0          0  \n",
       "318603            0              0          0  \n",
       "318604            0              0          0  \n",
       "318605            0              0          0  \n",
       "318606            0              0          0  \n",
       "318607            0              0          0  \n",
       "318608            0              0          0  \n",
       "318609            0              0          0  \n",
       "318610            0              0          0  \n",
       "318611            0              0          0  \n",
       "318612            0              0          0  \n",
       "318613            0              0          0  \n",
       "318614            0              0          0  \n",
       "318615            0              0          0  \n",
       "318616            0              0          0  \n",
       "318617            0              0          0  \n",
       "318618            0              0          0  \n",
       "318619            0              0          0  \n",
       "318620            0              0          0  \n",
       "318621            1              0          1  "
      ]
     },
     "execution_count": 74,
     "metadata": {},
     "output_type": "execute_result"
    }
   ],
   "source": [
    "stop_times[stop_times.trip_id == '1583-1-287-0723']"
   ]
  },
  {
   "cell_type": "code",
   "execution_count": 75,
   "id": "20029c6e",
   "metadata": {},
   "outputs": [
    {
     "data": {
      "text/html": [
       "<div>\n",
       "<style scoped>\n",
       "    .dataframe tbody tr th:only-of-type {\n",
       "        vertical-align: middle;\n",
       "    }\n",
       "\n",
       "    .dataframe tbody tr th {\n",
       "        vertical-align: top;\n",
       "    }\n",
       "\n",
       "    .dataframe thead th {\n",
       "        text-align: right;\n",
       "    }\n",
       "</style>\n",
       "<table border=\"1\" class=\"dataframe\">\n",
       "  <thead>\n",
       "    <tr style=\"text-align: right;\">\n",
       "      <th></th>\n",
       "      <th>stop_id</th>\n",
       "      <th>stop_name</th>\n",
       "      <th>stop_lat</th>\n",
       "      <th>stop_lon</th>\n",
       "      <th>zone_id</th>\n",
       "      <th>location_type</th>\n",
       "      <th>stop_timezone</th>\n",
       "    </tr>\n",
       "  </thead>\n",
       "  <tbody>\n",
       "    <tr>\n",
       "      <th>3802</th>\n",
       "      <td>12983</td>\n",
       "      <td>[CTB] HARMONY GARDEN, SIU SAI WAN ROAD|[KMB+CT...</td>\n",
       "      <td>22.26462</td>\n",
       "      <td>114.24824</td>\n",
       "      <td>12983</td>\n",
       "      <td>0</td>\n",
       "      <td>Asia/Hong_Kong</td>\n",
       "    </tr>\n",
       "  </tbody>\n",
       "</table>\n",
       "</div>"
      ],
      "text/plain": [
       "      stop_id                                          stop_name  stop_lat  \\\n",
       "3802    12983  [CTB] HARMONY GARDEN, SIU SAI WAN ROAD|[KMB+CT...  22.26462   \n",
       "\n",
       "       stop_lon  zone_id  location_type   stop_timezone  \n",
       "3802  114.24824    12983              0  Asia/Hong_Kong  "
      ]
     },
     "execution_count": 75,
     "metadata": {},
     "output_type": "execute_result"
    }
   ],
   "source": [
    "stops[stops.stop_id == 12983]"
   ]
  },
  {
   "cell_type": "code",
   "execution_count": 76,
   "id": "8fd50b9f",
   "metadata": {},
   "outputs": [
    {
     "data": {
      "text/html": [
       "<div>\n",
       "<style scoped>\n",
       "    .dataframe tbody tr th:only-of-type {\n",
       "        vertical-align: middle;\n",
       "    }\n",
       "\n",
       "    .dataframe tbody tr th {\n",
       "        vertical-align: top;\n",
       "    }\n",
       "\n",
       "    .dataframe thead th {\n",
       "        text-align: right;\n",
       "    }\n",
       "</style>\n",
       "<table border=\"1\" class=\"dataframe\">\n",
       "  <thead>\n",
       "    <tr style=\"text-align: right;\">\n",
       "      <th></th>\n",
       "      <th>stop_id</th>\n",
       "      <th>stop_name</th>\n",
       "      <th>stop_lat</th>\n",
       "      <th>stop_lon</th>\n",
       "      <th>zone_id</th>\n",
       "      <th>location_type</th>\n",
       "      <th>stop_timezone</th>\n",
       "    </tr>\n",
       "  </thead>\n",
       "  <tbody>\n",
       "    <tr>\n",
       "      <th>637</th>\n",
       "      <td>914</td>\n",
       "      <td>[CTB] CHEERFUL GARDEN, SIU SAI WAN ROAD|[NWFB]...</td>\n",
       "      <td>22.26249</td>\n",
       "      <td>114.25027</td>\n",
       "      <td>914</td>\n",
       "      <td>0</td>\n",
       "      <td>Asia/Hong_Kong</td>\n",
       "    </tr>\n",
       "  </tbody>\n",
       "</table>\n",
       "</div>"
      ],
      "text/plain": [
       "     stop_id                                          stop_name  stop_lat  \\\n",
       "637      914  [CTB] CHEERFUL GARDEN, SIU SAI WAN ROAD|[NWFB]...  22.26249   \n",
       "\n",
       "      stop_lon  zone_id  location_type   stop_timezone  \n",
       "637  114.25027      914              0  Asia/Hong_Kong  "
      ]
     },
     "execution_count": 76,
     "metadata": {},
     "output_type": "execute_result"
    }
   ],
   "source": [
    "stops[stops.stop_id == 914]"
   ]
  },
  {
   "cell_type": "code",
   "execution_count": 77,
   "id": "3fae17c8",
   "metadata": {},
   "outputs": [
    {
     "data": {
      "text/html": [
       "<div>\n",
       "<style scoped>\n",
       "    .dataframe tbody tr th:only-of-type {\n",
       "        vertical-align: middle;\n",
       "    }\n",
       "\n",
       "    .dataframe tbody tr th {\n",
       "        vertical-align: top;\n",
       "    }\n",
       "\n",
       "    .dataframe thead th {\n",
       "        text-align: right;\n",
       "    }\n",
       "</style>\n",
       "<table border=\"1\" class=\"dataframe\">\n",
       "  <thead>\n",
       "    <tr style=\"text-align: right;\">\n",
       "      <th></th>\n",
       "      <th>stop_id</th>\n",
       "      <th>stop_name</th>\n",
       "      <th>stop_lat</th>\n",
       "      <th>stop_lon</th>\n",
       "      <th>zone_id</th>\n",
       "      <th>location_type</th>\n",
       "      <th>stop_timezone</th>\n",
       "    </tr>\n",
       "  </thead>\n",
       "  <tbody>\n",
       "    <tr>\n",
       "      <th>638</th>\n",
       "      <td>915</td>\n",
       "      <td>[CTB] FULLVIEW GARDEN, SIU SAI WAN ROAD|[NWFB]...</td>\n",
       "      <td>22.26357</td>\n",
       "      <td>114.25185</td>\n",
       "      <td>915</td>\n",
       "      <td>0</td>\n",
       "      <td>Asia/Hong_Kong</td>\n",
       "    </tr>\n",
       "  </tbody>\n",
       "</table>\n",
       "</div>"
      ],
      "text/plain": [
       "     stop_id                                          stop_name  stop_lat  \\\n",
       "638      915  [CTB] FULLVIEW GARDEN, SIU SAI WAN ROAD|[NWFB]...  22.26357   \n",
       "\n",
       "      stop_lon  zone_id  location_type   stop_timezone  \n",
       "638  114.25185      915              0  Asia/Hong_Kong  "
      ]
     },
     "execution_count": 77,
     "metadata": {},
     "output_type": "execute_result"
    }
   ],
   "source": [
    "stops[stops.stop_id == 915]"
   ]
  },
  {
   "cell_type": "code",
   "execution_count": 78,
   "id": "85130e66",
   "metadata": {},
   "outputs": [
    {
     "data": {
      "text/html": [
       "<div>\n",
       "<style scoped>\n",
       "    .dataframe tbody tr th:only-of-type {\n",
       "        vertical-align: middle;\n",
       "    }\n",
       "\n",
       "    .dataframe tbody tr th {\n",
       "        vertical-align: top;\n",
       "    }\n",
       "\n",
       "    .dataframe thead th {\n",
       "        text-align: right;\n",
       "    }\n",
       "</style>\n",
       "<table border=\"1\" class=\"dataframe\">\n",
       "  <thead>\n",
       "    <tr style=\"text-align: right;\">\n",
       "      <th></th>\n",
       "      <th>stop_id</th>\n",
       "      <th>stop_name</th>\n",
       "      <th>stop_lat</th>\n",
       "      <th>stop_lon</th>\n",
       "      <th>zone_id</th>\n",
       "      <th>location_type</th>\n",
       "      <th>stop_timezone</th>\n",
       "    </tr>\n",
       "  </thead>\n",
       "  <tbody>\n",
       "    <tr>\n",
       "      <th>639</th>\n",
       "      <td>916</td>\n",
       "      <td>[KMB] SIU SAI WAN SPORTS GROUND|[NWFB] SIU SAI...</td>\n",
       "      <td>22.2664</td>\n",
       "      <td>114.24847</td>\n",
       "      <td>916</td>\n",
       "      <td>0</td>\n",
       "      <td>Asia/Hong_Kong</td>\n",
       "    </tr>\n",
       "  </tbody>\n",
       "</table>\n",
       "</div>"
      ],
      "text/plain": [
       "     stop_id                                          stop_name  stop_lat  \\\n",
       "639      916  [KMB] SIU SAI WAN SPORTS GROUND|[NWFB] SIU SAI...   22.2664   \n",
       "\n",
       "      stop_lon  zone_id  location_type   stop_timezone  \n",
       "639  114.24847      916              0  Asia/Hong_Kong  "
      ]
     },
     "execution_count": 78,
     "metadata": {},
     "output_type": "execute_result"
    }
   ],
   "source": [
    "stops[stops.stop_id == 916]"
   ]
  },
  {
   "cell_type": "markdown",
   "id": "49a02554",
   "metadata": {},
   "source": [
    "## seems to have ferries, need to remove"
   ]
  },
  {
   "cell_type": "code",
   "execution_count": 79,
   "id": "6d606ac3",
   "metadata": {},
   "outputs": [
    {
     "data": {
      "text/html": [
       "<div>\n",
       "<style scoped>\n",
       "    .dataframe tbody tr th:only-of-type {\n",
       "        vertical-align: middle;\n",
       "    }\n",
       "\n",
       "    .dataframe tbody tr th {\n",
       "        vertical-align: top;\n",
       "    }\n",
       "\n",
       "    .dataframe thead th {\n",
       "        text-align: right;\n",
       "    }\n",
       "</style>\n",
       "<table border=\"1\" class=\"dataframe\">\n",
       "  <thead>\n",
       "    <tr style=\"text-align: right;\">\n",
       "      <th></th>\n",
       "      <th>route_id</th>\n",
       "      <th>service_id</th>\n",
       "      <th>trip_id</th>\n",
       "    </tr>\n",
       "  </thead>\n",
       "  <tbody>\n",
       "    <tr>\n",
       "      <th>25237</th>\n",
       "      <td>7016</td>\n",
       "      <td>288</td>\n",
       "      <td>7016-1-288-0900</td>\n",
       "    </tr>\n",
       "  </tbody>\n",
       "</table>\n",
       "</div>"
      ],
      "text/plain": [
       "       route_id  service_id          trip_id\n",
       "25237      7016         288  7016-1-288-0900"
      ]
     },
     "execution_count": 79,
     "metadata": {},
     "output_type": "execute_result"
    }
   ],
   "source": [
    "trips[trips.trip_id == '7016-1-288-0900']"
   ]
  },
  {
   "cell_type": "code",
   "execution_count": 80,
   "id": "5b0b757a",
   "metadata": {},
   "outputs": [
    {
     "data": {
      "text/html": [
       "<div>\n",
       "<style scoped>\n",
       "    .dataframe tbody tr th:only-of-type {\n",
       "        vertical-align: middle;\n",
       "    }\n",
       "\n",
       "    .dataframe tbody tr th {\n",
       "        vertical-align: top;\n",
       "    }\n",
       "\n",
       "    .dataframe thead th {\n",
       "        text-align: right;\n",
       "    }\n",
       "</style>\n",
       "<table border=\"1\" class=\"dataframe\">\n",
       "  <thead>\n",
       "    <tr style=\"text-align: right;\">\n",
       "      <th></th>\n",
       "      <th>route_id</th>\n",
       "      <th>agency_id</th>\n",
       "      <th>route_short_name</th>\n",
       "      <th>route_long_name</th>\n",
       "      <th>route_type</th>\n",
       "      <th>route_url</th>\n",
       "    </tr>\n",
       "  </thead>\n",
       "  <tbody>\n",
       "  </tbody>\n",
       "</table>\n",
       "</div>"
      ],
      "text/plain": [
       "Empty DataFrame\n",
       "Columns: [route_id, agency_id, route_short_name, route_long_name, route_type, route_url]\n",
       "Index: []"
      ]
     },
     "execution_count": 80,
     "metadata": {},
     "output_type": "execute_result"
    }
   ],
   "source": [
    "bus_routes[bus_routes.route_id == 7016]"
   ]
  },
  {
   "cell_type": "code",
   "execution_count": 81,
   "id": "c2a85788",
   "metadata": {},
   "outputs": [
    {
     "data": {
      "text/plain": [
       "array(['KMB', 'KMB+CTB', 'KMB+NWFB', 'LWB', 'LWB+CTB', 'NWFB', 'CTB',\n",
       "       'NLB', 'LRTFeeder', 'XB', 'DB', 'PI', 'GMB', 'FERRY', 'PTRAM',\n",
       "       'TRAM'], dtype=object)"
      ]
     },
     "execution_count": 81,
     "metadata": {},
     "output_type": "execute_result"
    }
   ],
   "source": [
    "routes.agency_id.unique()"
   ]
  },
  {
   "cell_type": "markdown",
   "id": "1cc24ca1",
   "metadata": {},
   "source": [
    "# Average distance between stops"
   ]
  },
  {
   "cell_type": "code",
   "execution_count": 82,
   "id": "c9382667",
   "metadata": {},
   "outputs": [],
   "source": [
    "def calc_distances(x):\n",
    "    '''\n",
    "    input: [(float, float)]\n",
    "        a list of coordinates\n",
    "    output: [float]\n",
    "        the distances between each coordinates\n",
    "    '''\n",
    "    return [Point(a).distance(Point(b)) for a, b in zip(x, x[1:])]"
   ]
  },
  {
   "cell_type": "code",
   "execution_count": 83,
   "id": "7df6f6c0",
   "metadata": {},
   "outputs": [
    {
     "data": {
      "text/plain": [
       "trip_id\n",
       "1000001-1-287-0750    [221.7173949923343, 464.371135741395, 541.7150...\n",
       "1000002-1-287-1810    [71.85531037179265, 385.97822178236294, 364.36...\n",
       "1000003-1-287-0730    [173.41590726816406, 147.5033219474707, 146.01...\n",
       "1000004-1-511-0630    [206.61270050926788, 440.96460042560307, 324.5...\n",
       "1000004-1-511-0700    [206.61270050926788, 440.96460042560307, 324.5...\n",
       "                                            ...                        \n",
       "8803-2-511-2240       [6789.557865971986, 1537.4377922321773, 420.26...\n",
       "8803-2-511-2310       [6789.557865971986, 1537.4377922321773, 420.26...\n",
       "8804-1-511-0600       [594.2009656522827, 421.1248205682452, 596.602...\n",
       "8805-1-511-0515       [527.2613587543468, 354.02940591808584, 419.91...\n",
       "8805-2-511-2325       [6789.557865971986, 1537.4377922321773, 420.26...\n",
       "Length: 22390, dtype: object"
      ]
     },
     "execution_count": 83,
     "metadata": {},
     "output_type": "execute_result"
    }
   ],
   "source": [
    "def f(x):\n",
    "    df = x.sort_values('stop_sequence')\n",
    "    points = df[['stop_lon', 'stop_lat']].apply(\n",
    "        lambda row: transformer(Point(row.stop_lon, row.stop_lat)),\n",
    "        axis=1\n",
    "    )\n",
    "    return calc_distances(points.reset_index(drop=True))\n",
    "\n",
    "trip_stop_dists = stop_times_with_loc.groupby('trip_id').apply(f)\n",
    "trip_stop_dists"
   ]
  },
  {
   "cell_type": "code",
   "execution_count": 84,
   "id": "678bcdc5",
   "metadata": {},
   "outputs": [
    {
     "data": {
      "text/plain": [
       "trip_id\n",
       "1000001-1-287-0750     812.595240\n",
       "1000002-1-287-1810    1061.460419\n",
       "1000003-1-287-0730     381.239287\n",
       "1000004-1-511-0630    1556.233167\n",
       "1000004-1-511-0700    1556.233167\n",
       "                         ...     \n",
       "8803-2-511-2240        730.016609\n",
       "8803-2-511-2310        730.016609\n",
       "8804-1-511-0600        813.300261\n",
       "8805-1-511-0515        701.774725\n",
       "8805-2-511-2325        742.976760\n",
       "Length: 22390, dtype: float64"
      ]
     },
     "execution_count": 84,
     "metadata": {},
     "output_type": "execute_result"
    }
   ],
   "source": [
    "trip_avg_stop_dists = trip_stop_dists.apply(np.mean)\n",
    "trip_avg_stop_dists"
   ]
  },
  {
   "cell_type": "code",
   "execution_count": 85,
   "id": "f9a011b3",
   "metadata": {},
   "outputs": [
    {
     "data": {
      "text/plain": [
       "864.9109231970274"
      ]
     },
     "execution_count": 85,
     "metadata": {},
     "output_type": "execute_result"
    }
   ],
   "source": [
    "# Global average distance between stops (meters)\n",
    "trip_avg_stop_dists.mean()"
   ]
  },
  {
   "cell_type": "code",
   "execution_count": 86,
   "id": "44d4a51c",
   "metadata": {},
   "outputs": [
    {
     "data": {
      "text/plain": [
       "581.0095810241379"
      ]
     },
     "execution_count": 86,
     "metadata": {},
     "output_type": "execute_result"
    }
   ],
   "source": [
    "trip_avg_stop_dists.median()"
   ]
  },
  {
   "cell_type": "code",
   "execution_count": 87,
   "id": "e7c91f25",
   "metadata": {},
   "outputs": [
    {
     "data": {
      "text/plain": [
       "<AxesSubplot:ylabel='Count'>"
      ]
     },
     "execution_count": 87,
     "metadata": {},
     "output_type": "execute_result"
    },
    {
     "data": {
      "image/png": "[encoded data removed]",
      "text/plain": [
       "<Figure size 432x288 with 1 Axes>"
      ]
     },
     "metadata": {
      "needs_background": "light"
     },
     "output_type": "display_data"
    }
   ],
   "source": [
    "sns.histplot(x=trip_avg_stop_dists)"
   ]
  },
  {
   "cell_type": "code",
   "execution_count": 88,
   "id": "1c31cfb5",
   "metadata": {},
   "outputs": [
    {
     "data": {
      "text/plain": [
       "count    530320.000000\n",
       "mean        704.200411\n",
       "std        1594.318902\n",
       "min           8.236476\n",
       "25%         268.748435\n",
       "50%         385.268395\n",
       "75%         559.881846\n",
       "max       31011.840537\n",
       "dtype: float64"
      ]
     },
     "execution_count": 88,
     "metadata": {},
     "output_type": "execute_result"
    }
   ],
   "source": [
    "# The individual distances between every stops in every route\n",
    "trip_stop_dists.explode().astype(float).describe()"
   ]
  },
  {
   "cell_type": "code",
   "execution_count": 89,
   "id": "b69f85f0",
   "metadata": {},
   "outputs": [
    {
     "data": {
      "text/plain": [
       "<AxesSubplot:>"
      ]
     },
     "execution_count": 89,
     "metadata": {},
     "output_type": "execute_result"
    },
    {
     "data": {
      "image/png": "[encoded data removed]",
      "text/plain": [
       "<Figure size 432x288 with 1 Axes>"
      ]
     },
     "metadata": {
      "needs_background": "light"
     },
     "output_type": "display_data"
    }
   ],
   "source": [
    "trip_stop_dists.explode().astype(float).plot.box()"
   ]
  },
  {
   "cell_type": "code",
   "execution_count": 90,
   "id": "c47b13c7",
   "metadata": {},
   "outputs": [
    {
     "data": {
      "text/plain": [
       "trip_id\n",
       "1992-1-511-0330    28327.860920\n",
       "8239-1-511-0600    28327.860920\n",
       "1992-1-511-0500    28327.860920\n",
       "1992-1-511-2330    28327.860920\n",
       "1992-1-511-0200    28327.860920\n",
       "                       ...     \n",
       "1509-1-287-1900      209.028123\n",
       "1509-1-287-1600      209.028123\n",
       "1509-1-287-1020      209.028123\n",
       "1509-1-287-0935      209.028123\n",
       "1509-1-288-0630      209.028123\n",
       "Length: 22390, dtype: float64"
      ]
     },
     "execution_count": 90,
     "metadata": {},
     "output_type": "execute_result"
    }
   ],
   "source": [
    "trip_avg_stop_dists.sort_values(ascending=False)"
   ]
  },
  {
   "cell_type": "code",
   "execution_count": 91,
   "id": "4e03c0b1",
   "metadata": {},
   "outputs": [],
   "source": [
    "#trip_avg_stop_dists.to_csv('gen/hk_stop_dists.csv')"
   ]
  },
  {
   "cell_type": "code",
   "execution_count": 92,
   "id": "c55e6ca7",
   "metadata": {},
   "outputs": [
    {
     "data": {
      "text/html": [
       "<div>\n",
       "<style scoped>\n",
       "    .dataframe tbody tr th:only-of-type {\n",
       "        vertical-align: middle;\n",
       "    }\n",
       "\n",
       "    .dataframe tbody tr th {\n",
       "        vertical-align: top;\n",
       "    }\n",
       "\n",
       "    .dataframe thead th {\n",
       "        text-align: right;\n",
       "    }\n",
       "</style>\n",
       "<table border=\"1\" class=\"dataframe\">\n",
       "  <thead>\n",
       "    <tr style=\"text-align: right;\">\n",
       "      <th></th>\n",
       "      <th>0</th>\n",
       "    </tr>\n",
       "    <tr>\n",
       "      <th>trip_id</th>\n",
       "      <th></th>\n",
       "    </tr>\n",
       "  </thead>\n",
       "  <tbody>\n",
       "    <tr>\n",
       "      <th>1000001-1-287-0750</th>\n",
       "      <td>812.595240</td>\n",
       "    </tr>\n",
       "    <tr>\n",
       "      <th>1000002-1-287-1810</th>\n",
       "      <td>1061.460419</td>\n",
       "    </tr>\n",
       "    <tr>\n",
       "      <th>1000003-1-287-0730</th>\n",
       "      <td>381.239287</td>\n",
       "    </tr>\n",
       "    <tr>\n",
       "      <th>1000004-1-511-0630</th>\n",
       "      <td>1556.233167</td>\n",
       "    </tr>\n",
       "    <tr>\n",
       "      <th>1000004-1-511-0700</th>\n",
       "      <td>1556.233167</td>\n",
       "    </tr>\n",
       "    <tr>\n",
       "      <th>...</th>\n",
       "      <td>...</td>\n",
       "    </tr>\n",
       "    <tr>\n",
       "      <th>8803-2-511-2240</th>\n",
       "      <td>730.016609</td>\n",
       "    </tr>\n",
       "    <tr>\n",
       "      <th>8803-2-511-2310</th>\n",
       "      <td>730.016609</td>\n",
       "    </tr>\n",
       "    <tr>\n",
       "      <th>8804-1-511-0600</th>\n",
       "      <td>813.300261</td>\n",
       "    </tr>\n",
       "    <tr>\n",
       "      <th>8805-1-511-0515</th>\n",
       "      <td>701.774725</td>\n",
       "    </tr>\n",
       "    <tr>\n",
       "      <th>8805-2-511-2325</th>\n",
       "      <td>742.976760</td>\n",
       "    </tr>\n",
       "  </tbody>\n",
       "</table>\n",
       "<p>22390 rows × 1 columns</p>\n",
       "</div>"
      ],
      "text/plain": [
       "                              0\n",
       "trip_id                        \n",
       "1000001-1-287-0750   812.595240\n",
       "1000002-1-287-1810  1061.460419\n",
       "1000003-1-287-0730   381.239287\n",
       "1000004-1-511-0630  1556.233167\n",
       "1000004-1-511-0700  1556.233167\n",
       "...                         ...\n",
       "8803-2-511-2240      730.016609\n",
       "8803-2-511-2310      730.016609\n",
       "8804-1-511-0600      813.300261\n",
       "8805-1-511-0515      701.774725\n",
       "8805-2-511-2325      742.976760\n",
       "\n",
       "[22390 rows x 1 columns]"
      ]
     },
     "execution_count": 92,
     "metadata": {},
     "output_type": "execute_result"
    }
   ],
   "source": [
    "trip_avg_stop_dists = pd.DataFrame(trip_avg_stop_dists)\n",
    "trip_avg_stop_dists"
   ]
  },
  {
   "cell_type": "code",
   "execution_count": 93,
   "id": "2b09a697",
   "metadata": {},
   "outputs": [],
   "source": [
    "trip_avg_stop_dists.columns = ['distance']"
   ]
  },
  {
   "cell_type": "code",
   "execution_count": 94,
   "id": "ae3129f9",
   "metadata": {},
   "outputs": [],
   "source": [
    "trip_avg_stop_dists.reset_index(inplace=True)"
   ]
  },
  {
   "cell_type": "code",
   "execution_count": 95,
   "id": "14529a02",
   "metadata": {},
   "outputs": [
    {
     "data": {
      "text/html": [
       "<div>\n",
       "<style scoped>\n",
       "    .dataframe tbody tr th:only-of-type {\n",
       "        vertical-align: middle;\n",
       "    }\n",
       "\n",
       "    .dataframe tbody tr th {\n",
       "        vertical-align: top;\n",
       "    }\n",
       "\n",
       "    .dataframe thead th {\n",
       "        text-align: right;\n",
       "    }\n",
       "</style>\n",
       "<table border=\"1\" class=\"dataframe\">\n",
       "  <thead>\n",
       "    <tr style=\"text-align: right;\">\n",
       "      <th></th>\n",
       "      <th>route_id</th>\n",
       "      <th>agency_id</th>\n",
       "      <th>route_short_name</th>\n",
       "      <th>route_long_name</th>\n",
       "      <th>route_type</th>\n",
       "      <th>route_url</th>\n",
       "      <th>service_id</th>\n",
       "      <th>trip_id</th>\n",
       "      <th>distance</th>\n",
       "    </tr>\n",
       "  </thead>\n",
       "  <tbody>\n",
       "    <tr>\n",
       "      <th>0</th>\n",
       "      <td>1001</td>\n",
       "      <td>KMB</td>\n",
       "      <td>1</td>\n",
       "      <td>CHUK YUEN ESTATE - STAR FERRY</td>\n",
       "      <td>3</td>\n",
       "      <td>https://search.kmb.hk/KMBWebSite/?action=route...</td>\n",
       "      <td>287</td>\n",
       "      <td>1001-1-287-0535</td>\n",
       "      <td>360.029188</td>\n",
       "    </tr>\n",
       "    <tr>\n",
       "      <th>1</th>\n",
       "      <td>1001</td>\n",
       "      <td>KMB</td>\n",
       "      <td>1</td>\n",
       "      <td>CHUK YUEN ESTATE - STAR FERRY</td>\n",
       "      <td>3</td>\n",
       "      <td>https://search.kmb.hk/KMBWebSite/?action=route...</td>\n",
       "      <td>287</td>\n",
       "      <td>1001-1-287-0623</td>\n",
       "      <td>360.029188</td>\n",
       "    </tr>\n",
       "    <tr>\n",
       "      <th>2</th>\n",
       "      <td>1001</td>\n",
       "      <td>KMB</td>\n",
       "      <td>1</td>\n",
       "      <td>CHUK YUEN ESTATE - STAR FERRY</td>\n",
       "      <td>3</td>\n",
       "      <td>https://search.kmb.hk/KMBWebSite/?action=route...</td>\n",
       "      <td>287</td>\n",
       "      <td>1001-1-287-0647</td>\n",
       "      <td>360.029188</td>\n",
       "    </tr>\n",
       "    <tr>\n",
       "      <th>3</th>\n",
       "      <td>1001</td>\n",
       "      <td>KMB</td>\n",
       "      <td>1</td>\n",
       "      <td>CHUK YUEN ESTATE - STAR FERRY</td>\n",
       "      <td>3</td>\n",
       "      <td>https://search.kmb.hk/KMBWebSite/?action=route...</td>\n",
       "      <td>287</td>\n",
       "      <td>1001-1-287-0757</td>\n",
       "      <td>360.029188</td>\n",
       "    </tr>\n",
       "    <tr>\n",
       "      <th>4</th>\n",
       "      <td>1001</td>\n",
       "      <td>KMB</td>\n",
       "      <td>1</td>\n",
       "      <td>CHUK YUEN ESTATE - STAR FERRY</td>\n",
       "      <td>3</td>\n",
       "      <td>https://search.kmb.hk/KMBWebSite/?action=route...</td>\n",
       "      <td>287</td>\n",
       "      <td>1001-1-287-0829</td>\n",
       "      <td>360.029188</td>\n",
       "    </tr>\n",
       "    <tr>\n",
       "      <th>...</th>\n",
       "      <td>...</td>\n",
       "      <td>...</td>\n",
       "      <td>...</td>\n",
       "      <td>...</td>\n",
       "      <td>...</td>\n",
       "      <td>...</td>\n",
       "      <td>...</td>\n",
       "      <td>...</td>\n",
       "      <td>...</td>\n",
       "    </tr>\n",
       "    <tr>\n",
       "      <th>22385</th>\n",
       "      <td>1000208</td>\n",
       "      <td>NLB</td>\n",
       "      <td>36X</td>\n",
       "      <td>MUN TUNG ESTATE - DISNEYLAND</td>\n",
       "      <td>3</td>\n",
       "      <td>http://www.nlb.com.hk/route?q=36X#</td>\n",
       "      <td>319</td>\n",
       "      <td>1000208-1-319-0820</td>\n",
       "      <td>4496.741284</td>\n",
       "    </tr>\n",
       "    <tr>\n",
       "      <th>22386</th>\n",
       "      <td>1000209</td>\n",
       "      <td>LWB</td>\n",
       "      <td>E37C</td>\n",
       "      <td>TIN SHUI WAI TOWN CENTRE - AIRCRAFT MAINTENANC...</td>\n",
       "      <td>3</td>\n",
       "      <td>https://search.kmb.hk/KMBWebSite/?action=route...</td>\n",
       "      <td>287</td>\n",
       "      <td>1000209-1-287-0620</td>\n",
       "      <td>1091.834317</td>\n",
       "    </tr>\n",
       "    <tr>\n",
       "      <th>22387</th>\n",
       "      <td>1000209</td>\n",
       "      <td>LWB</td>\n",
       "      <td>E37C</td>\n",
       "      <td>TIN SHUI WAI TOWN CENTRE - AIRCRAFT MAINTENANC...</td>\n",
       "      <td>3</td>\n",
       "      <td>https://search.kmb.hk/KMBWebSite/?action=route...</td>\n",
       "      <td>287</td>\n",
       "      <td>1000209-2-287-2007</td>\n",
       "      <td>1067.885092</td>\n",
       "    </tr>\n",
       "    <tr>\n",
       "      <th>22388</th>\n",
       "      <td>1000210</td>\n",
       "      <td>LWB</td>\n",
       "      <td>E42C</td>\n",
       "      <td>POK HONG - AIRCRAFT MAINTENANCE AREA</td>\n",
       "      <td>3</td>\n",
       "      <td>https://search.kmb.hk/KMBWebSite/?action=route...</td>\n",
       "      <td>287</td>\n",
       "      <td>1000210-1-287-0625</td>\n",
       "      <td>2054.111647</td>\n",
       "    </tr>\n",
       "    <tr>\n",
       "      <th>22389</th>\n",
       "      <td>1000210</td>\n",
       "      <td>LWB</td>\n",
       "      <td>E42C</td>\n",
       "      <td>POK HONG - AIRCRAFT MAINTENANCE AREA</td>\n",
       "      <td>3</td>\n",
       "      <td>https://search.kmb.hk/KMBWebSite/?action=route...</td>\n",
       "      <td>287</td>\n",
       "      <td>1000210-2-287-2008</td>\n",
       "      <td>2041.482072</td>\n",
       "    </tr>\n",
       "  </tbody>\n",
       "</table>\n",
       "<p>22390 rows × 9 columns</p>\n",
       "</div>"
      ],
      "text/plain": [
       "       route_id agency_id route_short_name  \\\n",
       "0          1001       KMB                1   \n",
       "1          1001       KMB                1   \n",
       "2          1001       KMB                1   \n",
       "3          1001       KMB                1   \n",
       "4          1001       KMB                1   \n",
       "...         ...       ...              ...   \n",
       "22385   1000208       NLB              36X   \n",
       "22386   1000209       LWB             E37C   \n",
       "22387   1000209       LWB             E37C   \n",
       "22388   1000210       LWB             E42C   \n",
       "22389   1000210       LWB             E42C   \n",
       "\n",
       "                                         route_long_name  route_type  \\\n",
       "0                          CHUK YUEN ESTATE - STAR FERRY           3   \n",
       "1                          CHUK YUEN ESTATE - STAR FERRY           3   \n",
       "2                          CHUK YUEN ESTATE - STAR FERRY           3   \n",
       "3                          CHUK YUEN ESTATE - STAR FERRY           3   \n",
       "4                          CHUK YUEN ESTATE - STAR FERRY           3   \n",
       "...                                                  ...         ...   \n",
       "22385                       MUN TUNG ESTATE - DISNEYLAND           3   \n",
       "22386  TIN SHUI WAI TOWN CENTRE - AIRCRAFT MAINTENANC...           3   \n",
       "22387  TIN SHUI WAI TOWN CENTRE - AIRCRAFT MAINTENANC...           3   \n",
       "22388               POK HONG - AIRCRAFT MAINTENANCE AREA           3   \n",
       "22389               POK HONG - AIRCRAFT MAINTENANCE AREA           3   \n",
       "\n",
       "                                               route_url  service_id  \\\n",
       "0      https://search.kmb.hk/KMBWebSite/?action=route...         287   \n",
       "1      https://search.kmb.hk/KMBWebSite/?action=route...         287   \n",
       "2      https://search.kmb.hk/KMBWebSite/?action=route...         287   \n",
       "3      https://search.kmb.hk/KMBWebSite/?action=route...         287   \n",
       "4      https://search.kmb.hk/KMBWebSite/?action=route...         287   \n",
       "...                                                  ...         ...   \n",
       "22385                 http://www.nlb.com.hk/route?q=36X#         319   \n",
       "22386  https://search.kmb.hk/KMBWebSite/?action=route...         287   \n",
       "22387  https://search.kmb.hk/KMBWebSite/?action=route...         287   \n",
       "22388  https://search.kmb.hk/KMBWebSite/?action=route...         287   \n",
       "22389  https://search.kmb.hk/KMBWebSite/?action=route...         287   \n",
       "\n",
       "                  trip_id     distance  \n",
       "0         1001-1-287-0535   360.029188  \n",
       "1         1001-1-287-0623   360.029188  \n",
       "2         1001-1-287-0647   360.029188  \n",
       "3         1001-1-287-0757   360.029188  \n",
       "4         1001-1-287-0829   360.029188  \n",
       "...                   ...          ...  \n",
       "22385  1000208-1-319-0820  4496.741284  \n",
       "22386  1000209-1-287-0620  1091.834317  \n",
       "22387  1000209-2-287-2007  1067.885092  \n",
       "22388  1000210-1-287-0625  2054.111647  \n",
       "22389  1000210-2-287-2008  2041.482072  \n",
       "\n",
       "[22390 rows x 9 columns]"
      ]
     },
     "execution_count": 95,
     "metadata": {},
     "output_type": "execute_result"
    }
   ],
   "source": [
    "route_avg_stop_dists = bus_trips.merge(trip_avg_stop_dists, on='trip_id')\n",
    "route_avg_stop_dists"
   ]
  },
  {
   "cell_type": "code",
   "execution_count": 96,
   "id": "a74381f0",
   "metadata": {},
   "outputs": [
    {
     "data": {
      "text/plain": [
       "route_id\n",
       "1001        364.932494\n",
       "1002        373.773440\n",
       "1006        547.914668\n",
       "1008        446.814018\n",
       "1010        406.577768\n",
       "              ...     \n",
       "1000207    1085.143987\n",
       "1000208    4496.741284\n",
       "1000209    1079.859705\n",
       "1000210    2047.796860\n",
       "1000211     616.028241\n",
       "Name: distance, Length: 1438, dtype: float64"
      ]
     },
     "execution_count": 96,
     "metadata": {},
     "output_type": "execute_result"
    }
   ],
   "source": [
    "route_avg_stop_dists_ = route_avg_stop_dists.groupby('route_id')['distance'].mean()\n",
    "route_avg_stop_dists_"
   ]
  },
  {
   "cell_type": "code",
   "execution_count": 97,
   "id": "3823f36a",
   "metadata": {},
   "outputs": [
    {
     "data": {
      "text/plain": [
       "<AxesSubplot:>"
      ]
     },
     "execution_count": 97,
     "metadata": {},
     "output_type": "execute_result"
    },
    {
     "data": {
      "image/png": "[encoded data removed]",
      "text/plain": [
       "<Figure size 432x288 with 1 Axes>"
      ]
     },
     "metadata": {
      "needs_background": "light"
     },
     "output_type": "display_data"
    }
   ],
   "source": [
    "route_avg_stop_dists_.plot.box()"
   ]
  },
  {
   "cell_type": "code",
   "execution_count": 98,
   "id": "2a289ca9",
   "metadata": {},
   "outputs": [],
   "source": [
    "route_avg_stop_dists_.to_csv('gen/hk_stop_dists.csv')"
   ]
  },
  {
   "cell_type": "code",
   "execution_count": 99,
   "id": "3b207347",
   "metadata": {},
   "outputs": [
    {
     "data": {
      "text/plain": [
       "route_id\n",
       "8146         210.236948\n",
       "1000072      211.449586\n",
       "1527         220.840719\n",
       "1196         220.921939\n",
       "8655         225.939365\n",
       "               ...     \n",
       "8239       18903.089833\n",
       "1992       19237.024592\n",
       "1991       19833.776696\n",
       "1999       24562.061322\n",
       "8250       26036.886216\n",
       "Name: distance, Length: 1438, dtype: float64"
      ]
     },
     "execution_count": 99,
     "metadata": {},
     "output_type": "execute_result"
    }
   ],
   "source": [
    "route_avg_stop_dists_.sort_values()"
   ]
  },
  {
   "cell_type": "code",
   "execution_count": 100,
   "id": "1144d2a4",
   "metadata": {},
   "outputs": [
    {
     "data": {
      "text/html": [
       "<div>\n",
       "<style scoped>\n",
       "    .dataframe tbody tr th:only-of-type {\n",
       "        vertical-align: middle;\n",
       "    }\n",
       "\n",
       "    .dataframe tbody tr th {\n",
       "        vertical-align: top;\n",
       "    }\n",
       "\n",
       "    .dataframe thead th {\n",
       "        text-align: right;\n",
       "    }\n",
       "</style>\n",
       "<table border=\"1\" class=\"dataframe\">\n",
       "  <thead>\n",
       "    <tr style=\"text-align: right;\">\n",
       "      <th></th>\n",
       "      <th>route_id</th>\n",
       "      <th>agency_id</th>\n",
       "      <th>route_short_name</th>\n",
       "      <th>route_long_name</th>\n",
       "      <th>route_type</th>\n",
       "      <th>route_url</th>\n",
       "    </tr>\n",
       "  </thead>\n",
       "  <tbody>\n",
       "    <tr>\n",
       "      <th>821</th>\n",
       "      <td>8250</td>\n",
       "      <td>XB</td>\n",
       "      <td>Mong Kok - Huanggang (Night)</td>\n",
       "      <td>MONG KOK - HUANGGANG</td>\n",
       "      <td>3</td>\n",
       "      <td>http://www.td.gov.hk/en/transport_in_hong_kong...</td>\n",
       "    </tr>\n",
       "  </tbody>\n",
       "</table>\n",
       "</div>"
      ],
      "text/plain": [
       "     route_id agency_id              route_short_name       route_long_name  \\\n",
       "821      8250        XB  Mong Kok - Huanggang (Night)  MONG KOK - HUANGGANG   \n",
       "\n",
       "     route_type                                          route_url  \n",
       "821           3  http://www.td.gov.hk/en/transport_in_hong_kong...  "
      ]
     },
     "execution_count": 100,
     "metadata": {},
     "output_type": "execute_result"
    }
   ],
   "source": [
    "bus_routes[bus_routes.route_id == 8250]"
   ]
  }
 ],
 "metadata": {
  "kernelspec": {
   "display_name": "Python 3 (ipykernel)",
   "language": "python",
   "name": "python3"
  },
  "language_info": {
   "codemirror_mode": {
    "name": "ipython",
    "version": 3
   },
   "file_extension": ".py",
   "mimetype": "text/x-python",
   "name": "python",
   "nbconvert_exporter": "python",
   "pygments_lexer": "ipython3",
   "version": "3.9.1"
  }
 },
 "nbformat": 4,
 "nbformat_minor": 5
}
