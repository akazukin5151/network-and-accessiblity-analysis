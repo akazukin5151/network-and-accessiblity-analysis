{
 "cells": [
  {
   "cell_type": "code",
   "execution_count": 2,
   "id": "49967dea",
   "metadata": {},
   "outputs": [],
   "source": [
    "import pandas as pd\n",
    "import seaborn as sns\n",
    "import matplotlib.pyplot as plt"
   ]
  },
  {
   "cell_type": "markdown",
   "id": "b13ee64b",
   "metadata": {},
   "source": [
    "# Avg Number of stops"
   ]
  },
  {
   "cell_type": "code",
   "execution_count": 38,
   "id": "229825ac",
   "metadata": {},
   "outputs": [],
   "source": [
    "l_nstops = pd.read_csv('gen/l_nstops.csv')"
   ]
  },
  {
   "cell_type": "code",
   "execution_count": 39,
   "id": "6fc09902",
   "metadata": {},
   "outputs": [],
   "source": [
    "l_nstops = l_nstops.set_index('Route')"
   ]
  },
  {
   "cell_type": "code",
   "execution_count": 40,
   "id": "da71db28",
   "metadata": {},
   "outputs": [],
   "source": [
    "d_nstops = pd.read_csv('gen/hk_nstops.csv')"
   ]
  },
  {
   "cell_type": "code",
   "execution_count": 41,
   "id": "865c28de",
   "metadata": {},
   "outputs": [],
   "source": [
    "d_nstops = d_nstops.set_index('route_id')"
   ]
  },
  {
   "cell_type": "code",
   "execution_count": 42,
   "id": "c7dd3ca3",
   "metadata": {},
   "outputs": [],
   "source": [
    "d_nstops['City'] = 'Hong Kong'"
   ]
  },
  {
   "cell_type": "code",
   "execution_count": 43,
   "id": "8e752d53",
   "metadata": {},
   "outputs": [],
   "source": [
    "l_nstops['City'] = 'London'"
   ]
  },
  {
   "cell_type": "code",
   "execution_count": 44,
   "id": "5ed93156",
   "metadata": {},
   "outputs": [],
   "source": [
    "d_nstops.rename(columns={'stop_id': 'Stops'}, inplace=True)"
   ]
  },
  {
   "cell_type": "code",
   "execution_count": 45,
   "id": "6fc68490",
   "metadata": {},
   "outputs": [],
   "source": [
    "l_nstops.rename(columns={'Stop_Code_LBSL': 'Stops'}, inplace=True)"
   ]
  },
  {
   "cell_type": "code",
   "execution_count": 46,
   "id": "d3b060ec",
   "metadata": {},
   "outputs": [
    {
     "data": {
      "text/html": [
       "<div>\n",
       "<style scoped>\n",
       "    .dataframe tbody tr th:only-of-type {\n",
       "        vertical-align: middle;\n",
       "    }\n",
       "\n",
       "    .dataframe tbody tr th {\n",
       "        vertical-align: top;\n",
       "    }\n",
       "\n",
       "    .dataframe thead th {\n",
       "        text-align: right;\n",
       "    }\n",
       "</style>\n",
       "<table border=\"1\" class=\"dataframe\">\n",
       "  <thead>\n",
       "    <tr style=\"text-align: right;\">\n",
       "      <th></th>\n",
       "      <th>Stops_x</th>\n",
       "      <th>City</th>\n",
       "      <th>Stops_y</th>\n",
       "    </tr>\n",
       "  </thead>\n",
       "  <tbody>\n",
       "    <tr>\n",
       "      <th>0</th>\n",
       "      <td>25.0</td>\n",
       "      <td>Hong Kong</td>\n",
       "      <td>NaN</td>\n",
       "    </tr>\n",
       "    <tr>\n",
       "      <th>1</th>\n",
       "      <td>48.0</td>\n",
       "      <td>Hong Kong</td>\n",
       "      <td>NaN</td>\n",
       "    </tr>\n",
       "    <tr>\n",
       "      <th>2</th>\n",
       "      <td>26.0</td>\n",
       "      <td>Hong Kong</td>\n",
       "      <td>NaN</td>\n",
       "    </tr>\n",
       "    <tr>\n",
       "      <th>3</th>\n",
       "      <td>36.0</td>\n",
       "      <td>Hong Kong</td>\n",
       "      <td>NaN</td>\n",
       "    </tr>\n",
       "    <tr>\n",
       "      <th>4</th>\n",
       "      <td>41.0</td>\n",
       "      <td>Hong Kong</td>\n",
       "      <td>NaN</td>\n",
       "    </tr>\n",
       "    <tr>\n",
       "      <th>...</th>\n",
       "      <td>...</td>\n",
       "      <td>...</td>\n",
       "      <td>...</td>\n",
       "    </tr>\n",
       "    <tr>\n",
       "      <th>2749</th>\n",
       "      <td>NaN</td>\n",
       "      <td>London</td>\n",
       "      <td>73.0</td>\n",
       "    </tr>\n",
       "    <tr>\n",
       "      <th>2750</th>\n",
       "      <td>NaN</td>\n",
       "      <td>London</td>\n",
       "      <td>37.0</td>\n",
       "    </tr>\n",
       "    <tr>\n",
       "      <th>2751</th>\n",
       "      <td>NaN</td>\n",
       "      <td>London</td>\n",
       "      <td>26.0</td>\n",
       "    </tr>\n",
       "    <tr>\n",
       "      <th>2752</th>\n",
       "      <td>NaN</td>\n",
       "      <td>London</td>\n",
       "      <td>28.0</td>\n",
       "    </tr>\n",
       "    <tr>\n",
       "      <th>2753</th>\n",
       "      <td>NaN</td>\n",
       "      <td>London</td>\n",
       "      <td>69.0</td>\n",
       "    </tr>\n",
       "  </tbody>\n",
       "</table>\n",
       "<p>2754 rows × 3 columns</p>\n",
       "</div>"
      ],
      "text/plain": [
       "      Stops_x       City  Stops_y\n",
       "0        25.0  Hong Kong      NaN\n",
       "1        48.0  Hong Kong      NaN\n",
       "2        26.0  Hong Kong      NaN\n",
       "3        36.0  Hong Kong      NaN\n",
       "4        41.0  Hong Kong      NaN\n",
       "...       ...        ...      ...\n",
       "2749      NaN     London     73.0\n",
       "2750      NaN     London     37.0\n",
       "2751      NaN     London     26.0\n",
       "2752      NaN     London     28.0\n",
       "2753      NaN     London     69.0\n",
       "\n",
       "[2754 rows x 3 columns]"
      ]
     },
     "execution_count": 46,
     "metadata": {},
     "output_type": "execute_result"
    }
   ],
   "source": [
    "nstops = pd.merge(d_nstops, l_nstops, on='City', how='outer')\n",
    "nstops"
   ]
  },
  {
   "cell_type": "code",
   "execution_count": 47,
   "id": "fefc896b",
   "metadata": {},
   "outputs": [
    {
     "data": {
      "text/plain": [
       "(2754, 3)"
      ]
     },
     "execution_count": 47,
     "metadata": {},
     "output_type": "execute_result"
    }
   ],
   "source": [
    "nstops.shape"
   ]
  },
  {
   "cell_type": "code",
   "execution_count": 48,
   "id": "3d59eb59",
   "metadata": {},
   "outputs": [
    {
     "data": {
      "text/plain": [
       "1981"
      ]
     },
     "execution_count": 48,
     "metadata": {},
     "output_type": "execute_result"
    }
   ],
   "source": [
    "d_nstops.shape[0]"
   ]
  },
  {
   "cell_type": "code",
   "execution_count": 49,
   "id": "866c46d4",
   "metadata": {},
   "outputs": [
    {
     "data": {
      "text/plain": [
       "773"
      ]
     },
     "execution_count": 49,
     "metadata": {},
     "output_type": "execute_result"
    }
   ],
   "source": [
    "l_nstops.shape[0]"
   ]
  },
  {
   "cell_type": "code",
   "execution_count": 50,
   "id": "dfbc92a0",
   "metadata": {},
   "outputs": [
    {
     "data": {
      "text/plain": [
       "2754"
      ]
     },
     "execution_count": 50,
     "metadata": {},
     "output_type": "execute_result"
    }
   ],
   "source": [
    "d_nstops.shape[0] + l_nstops.shape[0]"
   ]
  },
  {
   "cell_type": "code",
   "execution_count": 51,
   "id": "26bd7849",
   "metadata": {},
   "outputs": [],
   "source": [
    "cols = ['Stops_x', 'Stops_y']\n",
    "nstops = nstops.assign(value=nstops[cols].sum(1)).drop(labels=cols, axis=1)"
   ]
  },
  {
   "cell_type": "code",
   "execution_count": 52,
   "id": "6840ed6b",
   "metadata": {},
   "outputs": [
    {
     "data": {
      "image/png": "[encoded data removed]",
      "text/plain": [
       "<Figure size 432x288 with 1 Axes>"
      ]
     },
     "metadata": {
      "needs_background": "light"
     },
     "output_type": "display_data"
    }
   ],
   "source": [
    "_, ax = plt.subplots()\n",
    "sns.histplot(data=nstops, ax=ax, x='value', hue='City')\n",
    "sns.despine()\n",
    "plt.xlabel('Number of stops')\n",
    "plt.savefig('figures/nstops.png')"
   ]
  },
  {
   "cell_type": "code",
   "execution_count": 53,
   "id": "2d9704e5",
   "metadata": {},
   "outputs": [
    {
     "data": {
      "text/plain": [
       "Text(0.5, 0, 'Number of stops')"
      ]
     },
     "execution_count": 53,
     "metadata": {},
     "output_type": "execute_result"
    },
    {
     "data": {
      "image/png": "[encoded data removed]",
      "text/plain": [
       "<Figure size 432x288 with 1 Axes>"
      ]
     },
     "metadata": {
      "needs_background": "light"
     },
     "output_type": "display_data"
    }
   ],
   "source": [
    "_, ax = plt.subplots()\n",
    "sns.boxplot(data=nstops, ax=ax, x='value', y='City')\n",
    "sns.despine()\n",
    "plt.xlabel('Number of stops')\n",
    "#plt.savefig('figures/nstops.png')"
   ]
  },
  {
   "cell_type": "markdown",
   "id": "04832ae7",
   "metadata": {},
   "source": [
    "# Route lengths"
   ]
  },
  {
   "cell_type": "code",
   "execution_count": 54,
   "id": "98560e85",
   "metadata": {},
   "outputs": [],
   "source": [
    "l_rlengths = pd.read_csv('gen/l_rlengths.csv')"
   ]
  },
  {
   "cell_type": "code",
   "execution_count": 55,
   "id": "0638a0c4",
   "metadata": {},
   "outputs": [],
   "source": [
    "d_rlengths = pd.read_csv('gen/hk_rlengths.csv')"
   ]
  },
  {
   "cell_type": "code",
   "execution_count": 56,
   "id": "f81c721b",
   "metadata": {},
   "outputs": [],
   "source": [
    "d_rlengths['City'] = 'Hong Kong'"
   ]
  },
  {
   "cell_type": "code",
   "execution_count": 57,
   "id": "fd85feea",
   "metadata": {},
   "outputs": [],
   "source": [
    "l_rlengths['City'] = 'London'"
   ]
  },
  {
   "cell_type": "code",
   "execution_count": 58,
   "id": "e671cb9e",
   "metadata": {},
   "outputs": [],
   "source": [
    "d_rlengths.rename(columns={'0': 'Length'}, inplace=True)"
   ]
  },
  {
   "cell_type": "code",
   "execution_count": 59,
   "id": "629cbd97",
   "metadata": {},
   "outputs": [],
   "source": [
    "l_rlengths.rename(columns={'0': 'Length'}, inplace=True)"
   ]
  },
  {
   "cell_type": "code",
   "execution_count": 60,
   "id": "604c522a",
   "metadata": {},
   "outputs": [
    {
     "data": {
      "text/html": [
       "<div>\n",
       "<style scoped>\n",
       "    .dataframe tbody tr th:only-of-type {\n",
       "        vertical-align: middle;\n",
       "    }\n",
       "\n",
       "    .dataframe tbody tr th {\n",
       "        vertical-align: top;\n",
       "    }\n",
       "\n",
       "    .dataframe thead th {\n",
       "        text-align: right;\n",
       "    }\n",
       "</style>\n",
       "<table border=\"1\" class=\"dataframe\">\n",
       "  <thead>\n",
       "    <tr style=\"text-align: right;\">\n",
       "      <th></th>\n",
       "      <th>City</th>\n",
       "      <th>Length_x</th>\n",
       "      <th>Length_y</th>\n",
       "    </tr>\n",
       "  </thead>\n",
       "  <tbody>\n",
       "    <tr>\n",
       "      <th>0</th>\n",
       "      <td>Hong Kong</td>\n",
       "      <td>8640.700522</td>\n",
       "      <td>NaN</td>\n",
       "    </tr>\n",
       "    <tr>\n",
       "      <th>1</th>\n",
       "      <td>Hong Kong</td>\n",
       "      <td>8916.991116</td>\n",
       "      <td>NaN</td>\n",
       "    </tr>\n",
       "    <tr>\n",
       "      <th>2</th>\n",
       "      <td>Hong Kong</td>\n",
       "      <td>17567.351697</td>\n",
       "      <td>NaN</td>\n",
       "    </tr>\n",
       "    <tr>\n",
       "      <th>3</th>\n",
       "      <td>Hong Kong</td>\n",
       "      <td>13866.262750</td>\n",
       "      <td>NaN</td>\n",
       "    </tr>\n",
       "    <tr>\n",
       "      <th>4</th>\n",
       "      <td>Hong Kong</td>\n",
       "      <td>13553.527218</td>\n",
       "      <td>NaN</td>\n",
       "    </tr>\n",
       "    <tr>\n",
       "      <th>...</th>\n",
       "      <td>...</td>\n",
       "      <td>...</td>\n",
       "      <td>...</td>\n",
       "    </tr>\n",
       "    <tr>\n",
       "      <th>3645</th>\n",
       "      <td>London</td>\n",
       "      <td>NaN</td>\n",
       "      <td>14821.371159</td>\n",
       "    </tr>\n",
       "    <tr>\n",
       "      <th>3646</th>\n",
       "      <td>London</td>\n",
       "      <td>NaN</td>\n",
       "      <td>30937.166032</td>\n",
       "    </tr>\n",
       "    <tr>\n",
       "      <th>3647</th>\n",
       "      <td>London</td>\n",
       "      <td>NaN</td>\n",
       "      <td>31094.572755</td>\n",
       "    </tr>\n",
       "    <tr>\n",
       "      <th>3648</th>\n",
       "      <td>London</td>\n",
       "      <td>NaN</td>\n",
       "      <td>17299.840987</td>\n",
       "    </tr>\n",
       "    <tr>\n",
       "      <th>3649</th>\n",
       "      <td>London</td>\n",
       "      <td>NaN</td>\n",
       "      <td>17573.124391</td>\n",
       "    </tr>\n",
       "  </tbody>\n",
       "</table>\n",
       "<p>3650 rows × 3 columns</p>\n",
       "</div>"
      ],
      "text/plain": [
       "           City      Length_x      Length_y\n",
       "0     Hong Kong   8640.700522           NaN\n",
       "1     Hong Kong   8916.991116           NaN\n",
       "2     Hong Kong  17567.351697           NaN\n",
       "3     Hong Kong  13866.262750           NaN\n",
       "4     Hong Kong  13553.527218           NaN\n",
       "...         ...           ...           ...\n",
       "3645     London           NaN  14821.371159\n",
       "3646     London           NaN  30937.166032\n",
       "3647     London           NaN  31094.572755\n",
       "3648     London           NaN  17299.840987\n",
       "3649     London           NaN  17573.124391\n",
       "\n",
       "[3650 rows x 3 columns]"
      ]
     },
     "execution_count": 60,
     "metadata": {},
     "output_type": "execute_result"
    }
   ],
   "source": [
    "lengths = pd.merge(d_rlengths[['City', 'Length']], l_rlengths[['City', 'Length']], on='City', how='outer')\n",
    "lengths"
   ]
  },
  {
   "cell_type": "code",
   "execution_count": 61,
   "id": "b87aefa0",
   "metadata": {},
   "outputs": [
    {
     "data": {
      "text/plain": [
       "(3650, 3)"
      ]
     },
     "execution_count": 61,
     "metadata": {},
     "output_type": "execute_result"
    }
   ],
   "source": [
    "lengths.shape"
   ]
  },
  {
   "cell_type": "code",
   "execution_count": 62,
   "id": "ddbf5110",
   "metadata": {},
   "outputs": [
    {
     "data": {
      "text/plain": [
       "3650"
      ]
     },
     "execution_count": 62,
     "metadata": {},
     "output_type": "execute_result"
    }
   ],
   "source": [
    "d_rlengths.shape[0] + l_rlengths.shape[0]"
   ]
  },
  {
   "cell_type": "code",
   "execution_count": 63,
   "id": "44ba06f2",
   "metadata": {},
   "outputs": [],
   "source": [
    "cols = ['Length_x', 'Length_y']\n",
    "lengths = lengths.assign(value=lengths[cols].sum(1)).drop(labels=cols, axis=1)"
   ]
  },
  {
   "cell_type": "code",
   "execution_count": 64,
   "id": "f9a646ce",
   "metadata": {},
   "outputs": [],
   "source": [
    "lengths['value'] = lengths.value / 1000"
   ]
  },
  {
   "cell_type": "code",
   "execution_count": 65,
   "id": "d0f2952b",
   "metadata": {},
   "outputs": [
    {
     "data": {
      "text/plain": [
       "18031.303450460367"
      ]
     },
     "execution_count": 65,
     "metadata": {},
     "output_type": "execute_result"
    }
   ],
   "source": [
    "d_rlengths.Length.mean()"
   ]
  },
  {
   "cell_type": "code",
   "execution_count": 66,
   "id": "699ac8d6",
   "metadata": {},
   "outputs": [
    {
     "data": {
      "text/plain": [
       "15525.663512962012"
      ]
     },
     "execution_count": 66,
     "metadata": {},
     "output_type": "execute_result"
    }
   ],
   "source": [
    "d_rlengths.Length.median()"
   ]
  },
  {
   "cell_type": "code",
   "execution_count": 67,
   "id": "9fa81d05",
   "metadata": {},
   "outputs": [
    {
     "data": {
      "text/plain": [
       "11853.769624649534"
      ]
     },
     "execution_count": 67,
     "metadata": {},
     "output_type": "execute_result"
    }
   ],
   "source": [
    "l_rlengths.Length.mean()"
   ]
  },
  {
   "cell_type": "code",
   "execution_count": 68,
   "id": "cc8a6cd0",
   "metadata": {},
   "outputs": [
    {
     "data": {
      "text/plain": [
       "11462.78139141907"
      ]
     },
     "execution_count": 68,
     "metadata": {},
     "output_type": "execute_result"
    }
   ],
   "source": [
    "l_rlengths.Length.median()"
   ]
  },
  {
   "cell_type": "code",
   "execution_count": 69,
   "id": "43e80643",
   "metadata": {},
   "outputs": [
    {
     "data": {
      "image/png": "[encoded data removed]",
      "text/plain": [
       "<Figure size 432x288 with 1 Axes>"
      ]
     },
     "metadata": {
      "needs_background": "light"
     },
     "output_type": "display_data"
    }
   ],
   "source": [
    "_, ax = plt.subplots()\n",
    "sns.histplot(data=lengths, ax=ax, x='value', hue='City')\n",
    "sns.despine()\n",
    "plt.xlabel('Route length (km)')\n",
    "plt.savefig('figures/rlengths.png')"
   ]
  },
  {
   "cell_type": "code",
   "execution_count": 70,
   "id": "cfe73d00",
   "metadata": {},
   "outputs": [
    {
     "data": {
      "text/plain": [
       "Text(0.5, 0, 'Route length (km)')"
      ]
     },
     "execution_count": 70,
     "metadata": {},
     "output_type": "execute_result"
    },
    {
     "data": {
      "image/png": "[encoded data removed]",
      "text/plain": [
       "<Figure size 432x288 with 1 Axes>"
      ]
     },
     "metadata": {
      "needs_background": "light"
     },
     "output_type": "display_data"
    }
   ],
   "source": [
    "_, ax = plt.subplots()\n",
    "sns.boxplot(data=lengths, ax=ax, x='value', y='City')\n",
    "sns.despine()\n",
    "plt.xlabel('Route length (km)')\n",
    "#plt.savefig('figures/rlengths.png')"
   ]
  },
  {
   "cell_type": "markdown",
   "id": "d94670bc",
   "metadata": {},
   "source": [
    "# number of stops in route vs route length"
   ]
  },
  {
   "cell_type": "code",
   "execution_count": 71,
   "id": "9ecd7870",
   "metadata": {},
   "outputs": [
    {
     "data": {
      "text/html": [
       "<div>\n",
       "<style scoped>\n",
       "    .dataframe tbody tr th:only-of-type {\n",
       "        vertical-align: middle;\n",
       "    }\n",
       "\n",
       "    .dataframe tbody tr th {\n",
       "        vertical-align: top;\n",
       "    }\n",
       "\n",
       "    .dataframe thead th {\n",
       "        text-align: right;\n",
       "    }\n",
       "</style>\n",
       "<table border=\"1\" class=\"dataframe\">\n",
       "  <thead>\n",
       "    <tr style=\"text-align: right;\">\n",
       "      <th></th>\n",
       "      <th>route_id</th>\n",
       "      <th>Stops</th>\n",
       "      <th>City_x</th>\n",
       "      <th>Length</th>\n",
       "      <th>City_y</th>\n",
       "    </tr>\n",
       "  </thead>\n",
       "  <tbody>\n",
       "    <tr>\n",
       "      <th>0</th>\n",
       "      <td>1001</td>\n",
       "      <td>25</td>\n",
       "      <td>Hong Kong</td>\n",
       "      <td>8640.700522</td>\n",
       "      <td>Hong Kong</td>\n",
       "    </tr>\n",
       "    <tr>\n",
       "      <th>1</th>\n",
       "      <td>1001</td>\n",
       "      <td>25</td>\n",
       "      <td>Hong Kong</td>\n",
       "      <td>8916.991116</td>\n",
       "      <td>Hong Kong</td>\n",
       "    </tr>\n",
       "    <tr>\n",
       "      <th>2</th>\n",
       "      <td>1002</td>\n",
       "      <td>48</td>\n",
       "      <td>Hong Kong</td>\n",
       "      <td>17567.351697</td>\n",
       "      <td>Hong Kong</td>\n",
       "    </tr>\n",
       "    <tr>\n",
       "      <th>3</th>\n",
       "      <td>1006</td>\n",
       "      <td>26</td>\n",
       "      <td>Hong Kong</td>\n",
       "      <td>13866.262750</td>\n",
       "      <td>Hong Kong</td>\n",
       "    </tr>\n",
       "    <tr>\n",
       "      <th>4</th>\n",
       "      <td>1006</td>\n",
       "      <td>26</td>\n",
       "      <td>Hong Kong</td>\n",
       "      <td>13553.527218</td>\n",
       "      <td>Hong Kong</td>\n",
       "    </tr>\n",
       "    <tr>\n",
       "      <th>...</th>\n",
       "      <td>...</td>\n",
       "      <td>...</td>\n",
       "      <td>...</td>\n",
       "      <td>...</td>\n",
       "      <td>...</td>\n",
       "    </tr>\n",
       "    <tr>\n",
       "      <th>3184</th>\n",
       "      <td>1000209</td>\n",
       "      <td>28</td>\n",
       "      <td>Hong Kong</td>\n",
       "      <td>29900.782583</td>\n",
       "      <td>Hong Kong</td>\n",
       "    </tr>\n",
       "    <tr>\n",
       "      <th>3185</th>\n",
       "      <td>1000209</td>\n",
       "      <td>29</td>\n",
       "      <td>Hong Kong</td>\n",
       "      <td>29479.526566</td>\n",
       "      <td>Hong Kong</td>\n",
       "    </tr>\n",
       "    <tr>\n",
       "      <th>3186</th>\n",
       "      <td>1000209</td>\n",
       "      <td>29</td>\n",
       "      <td>Hong Kong</td>\n",
       "      <td>29900.782583</td>\n",
       "      <td>Hong Kong</td>\n",
       "    </tr>\n",
       "    <tr>\n",
       "      <th>3187</th>\n",
       "      <td>1000210</td>\n",
       "      <td>19</td>\n",
       "      <td>Hong Kong</td>\n",
       "      <td>36974.009651</td>\n",
       "      <td>Hong Kong</td>\n",
       "    </tr>\n",
       "    <tr>\n",
       "      <th>3188</th>\n",
       "      <td>1000210</td>\n",
       "      <td>19</td>\n",
       "      <td>Hong Kong</td>\n",
       "      <td>36746.677301</td>\n",
       "      <td>Hong Kong</td>\n",
       "    </tr>\n",
       "  </tbody>\n",
       "</table>\n",
       "<p>3189 rows × 5 columns</p>\n",
       "</div>"
      ],
      "text/plain": [
       "      route_id  Stops     City_x        Length     City_y\n",
       "0         1001     25  Hong Kong   8640.700522  Hong Kong\n",
       "1         1001     25  Hong Kong   8916.991116  Hong Kong\n",
       "2         1002     48  Hong Kong  17567.351697  Hong Kong\n",
       "3         1006     26  Hong Kong  13866.262750  Hong Kong\n",
       "4         1006     26  Hong Kong  13553.527218  Hong Kong\n",
       "...        ...    ...        ...           ...        ...\n",
       "3184   1000209     28  Hong Kong  29900.782583  Hong Kong\n",
       "3185   1000209     29  Hong Kong  29479.526566  Hong Kong\n",
       "3186   1000209     29  Hong Kong  29900.782583  Hong Kong\n",
       "3187   1000210     19  Hong Kong  36974.009651  Hong Kong\n",
       "3188   1000210     19  Hong Kong  36746.677301  Hong Kong\n",
       "\n",
       "[3189 rows x 5 columns]"
      ]
     },
     "execution_count": 71,
     "metadata": {},
     "output_type": "execute_result"
    }
   ],
   "source": [
    "hk_merged = d_nstops.reset_index().merge(d_rlengths, on='route_id')\n",
    "hk_merged"
   ]
  },
  {
   "cell_type": "code",
   "execution_count": 72,
   "id": "e4dd6925",
   "metadata": {},
   "outputs": [
    {
     "data": {
      "text/html": [
       "<div>\n",
       "<style scoped>\n",
       "    .dataframe tbody tr th:only-of-type {\n",
       "        vertical-align: middle;\n",
       "    }\n",
       "\n",
       "    .dataframe tbody tr th {\n",
       "        vertical-align: top;\n",
       "    }\n",
       "\n",
       "    .dataframe thead th {\n",
       "        text-align: right;\n",
       "    }\n",
       "</style>\n",
       "<table border=\"1\" class=\"dataframe\">\n",
       "  <thead>\n",
       "    <tr style=\"text-align: right;\">\n",
       "      <th></th>\n",
       "      <th>Route</th>\n",
       "      <th>Stops</th>\n",
       "      <th>City_x</th>\n",
       "      <th>Run</th>\n",
       "      <th>Length</th>\n",
       "      <th>City_y</th>\n",
       "    </tr>\n",
       "  </thead>\n",
       "  <tbody>\n",
       "    <tr>\n",
       "      <th>0</th>\n",
       "      <td>1</td>\n",
       "      <td>56</td>\n",
       "      <td>London</td>\n",
       "      <td>1</td>\n",
       "      <td>8247.834640</td>\n",
       "      <td>London</td>\n",
       "    </tr>\n",
       "    <tr>\n",
       "      <th>1</th>\n",
       "      <td>1</td>\n",
       "      <td>56</td>\n",
       "      <td>London</td>\n",
       "      <td>2</td>\n",
       "      <td>8552.044646</td>\n",
       "      <td>London</td>\n",
       "    </tr>\n",
       "    <tr>\n",
       "      <th>2</th>\n",
       "      <td>100</td>\n",
       "      <td>46</td>\n",
       "      <td>London</td>\n",
       "      <td>1</td>\n",
       "      <td>5753.782624</td>\n",
       "      <td>London</td>\n",
       "    </tr>\n",
       "    <tr>\n",
       "      <th>3</th>\n",
       "      <td>100</td>\n",
       "      <td>46</td>\n",
       "      <td>London</td>\n",
       "      <td>2</td>\n",
       "      <td>5209.819719</td>\n",
       "      <td>London</td>\n",
       "    </tr>\n",
       "    <tr>\n",
       "      <th>4</th>\n",
       "      <td>101</td>\n",
       "      <td>86</td>\n",
       "      <td>London</td>\n",
       "      <td>1</td>\n",
       "      <td>10804.467542</td>\n",
       "      <td>London</td>\n",
       "    </tr>\n",
       "    <tr>\n",
       "      <th>...</th>\n",
       "      <td>...</td>\n",
       "      <td>...</td>\n",
       "      <td>...</td>\n",
       "      <td>...</td>\n",
       "      <td>...</td>\n",
       "      <td>...</td>\n",
       "    </tr>\n",
       "    <tr>\n",
       "      <th>1542</th>\n",
       "      <td>X140</td>\n",
       "      <td>26</td>\n",
       "      <td>London</td>\n",
       "      <td>2</td>\n",
       "      <td>14821.371159</td>\n",
       "      <td>London</td>\n",
       "    </tr>\n",
       "    <tr>\n",
       "      <th>1543</th>\n",
       "      <td>X26</td>\n",
       "      <td>28</td>\n",
       "      <td>London</td>\n",
       "      <td>1</td>\n",
       "      <td>30937.166032</td>\n",
       "      <td>London</td>\n",
       "    </tr>\n",
       "    <tr>\n",
       "      <th>1544</th>\n",
       "      <td>X26</td>\n",
       "      <td>28</td>\n",
       "      <td>London</td>\n",
       "      <td>2</td>\n",
       "      <td>31094.572755</td>\n",
       "      <td>London</td>\n",
       "    </tr>\n",
       "    <tr>\n",
       "      <th>1545</th>\n",
       "      <td>X68</td>\n",
       "      <td>69</td>\n",
       "      <td>London</td>\n",
       "      <td>1</td>\n",
       "      <td>17299.840987</td>\n",
       "      <td>London</td>\n",
       "    </tr>\n",
       "    <tr>\n",
       "      <th>1546</th>\n",
       "      <td>X68</td>\n",
       "      <td>69</td>\n",
       "      <td>London</td>\n",
       "      <td>2</td>\n",
       "      <td>17573.124391</td>\n",
       "      <td>London</td>\n",
       "    </tr>\n",
       "  </tbody>\n",
       "</table>\n",
       "<p>1547 rows × 6 columns</p>\n",
       "</div>"
      ],
      "text/plain": [
       "     Route  Stops  City_x  Run        Length  City_y\n",
       "0        1     56  London    1   8247.834640  London\n",
       "1        1     56  London    2   8552.044646  London\n",
       "2      100     46  London    1   5753.782624  London\n",
       "3      100     46  London    2   5209.819719  London\n",
       "4      101     86  London    1  10804.467542  London\n",
       "...    ...    ...     ...  ...           ...     ...\n",
       "1542  X140     26  London    2  14821.371159  London\n",
       "1543   X26     28  London    1  30937.166032  London\n",
       "1544   X26     28  London    2  31094.572755  London\n",
       "1545   X68     69  London    1  17299.840987  London\n",
       "1546   X68     69  London    2  17573.124391  London\n",
       "\n",
       "[1547 rows x 6 columns]"
      ]
     },
     "execution_count": 72,
     "metadata": {},
     "output_type": "execute_result"
    }
   ],
   "source": [
    "l_merged = l_nstops.reset_index().merge(l_rlengths, on='Route')\n",
    "l_merged"
   ]
  },
  {
   "cell_type": "code",
   "execution_count": 73,
   "id": "c75a13ed",
   "metadata": {},
   "outputs": [],
   "source": [
    "merged = pd.concat([\n",
    "    hk_merged[['Stops', 'Length', 'City_x']],\n",
    "    l_merged[['Stops', 'Length', 'City_x']]\n",
    "], ignore_index=True)"
   ]
  },
  {
   "cell_type": "code",
   "execution_count": 74,
   "id": "e4dd6823",
   "metadata": {},
   "outputs": [],
   "source": [
    "merged.rename(columns={'City_x': 'City'}, inplace=True)"
   ]
  },
  {
   "cell_type": "code",
   "execution_count": 75,
   "id": "72f3f44b",
   "metadata": {},
   "outputs": [],
   "source": [
    "merged['Length'] = merged['Length'] / 1000"
   ]
  },
  {
   "cell_type": "code",
   "execution_count": 76,
   "id": "e29a27cd",
   "metadata": {},
   "outputs": [
    {
     "data": {
      "image/png": "[encoded data removed]",
      "text/plain": [
       "<Figure size 720x720 with 3 Axes>"
      ]
     },
     "metadata": {
      "needs_background": "light"
     },
     "output_type": "display_data"
    }
   ],
   "source": [
    "g = sns.JointGrid(data=merged, x='Stops', y='Length', hue='City', height=10)\n",
    "g.plot(sns.scatterplot, sns.histplot)\n",
    "#for _,gr in merged.groupby('City'):\n",
    "#    sns.regplot(x='Stops', y='Length', data=gr, scatter=False, ax=g.ax_joint, truncate=False)\n",
    "g.set_axis_labels('Number of stops in route', 'Length of route (km)')\n",
    "plt.savefig('figures/route_nstops_len.png')"
   ]
  },
  {
   "cell_type": "code",
   "execution_count": 41,
   "id": "d925f9b5",
   "metadata": {},
   "outputs": [
    {
     "data": {
      "text/plain": [
       "<AxesSubplot:xlabel='Stops', ylabel='Length'>"
      ]
     },
     "execution_count": 41,
     "metadata": {},
     "output_type": "execute_result"
    },
    {
     "data": {
      "image/png": "[encoded data removed]",
      "text/plain": [
       "<Figure size 432x288 with 1 Axes>"
      ]
     },
     "metadata": {
      "needs_background": "light"
     },
     "output_type": "display_data"
    }
   ],
   "source": [
    "sns.regplot(data=hk_merged, x='Stops', y='Length')"
   ]
  },
  {
   "cell_type": "markdown",
   "id": "795de8d9",
   "metadata": {},
   "source": [
    "## validation"
   ]
  },
  {
   "cell_type": "code",
   "execution_count": 80,
   "id": "8b5b3d89",
   "metadata": {},
   "outputs": [
    {
     "data": {
      "text/html": [
       "<div>\n",
       "<style scoped>\n",
       "    .dataframe tbody tr th:only-of-type {\n",
       "        vertical-align: middle;\n",
       "    }\n",
       "\n",
       "    .dataframe tbody tr th {\n",
       "        vertical-align: top;\n",
       "    }\n",
       "\n",
       "    .dataframe thead th {\n",
       "        text-align: right;\n",
       "    }\n",
       "</style>\n",
       "<table border=\"1\" class=\"dataframe\">\n",
       "  <thead>\n",
       "    <tr style=\"text-align: right;\">\n",
       "      <th></th>\n",
       "      <th>Route</th>\n",
       "      <th>Stops</th>\n",
       "      <th>City_x</th>\n",
       "      <th>Run</th>\n",
       "      <th>Length</th>\n",
       "      <th>City_y</th>\n",
       "    </tr>\n",
       "  </thead>\n",
       "  <tbody>\n",
       "    <tr>\n",
       "      <th>1186</th>\n",
       "      <td>N199</td>\n",
       "      <td>224</td>\n",
       "      <td>London</td>\n",
       "      <td>1</td>\n",
       "      <td>32406.206615</td>\n",
       "      <td>London</td>\n",
       "    </tr>\n",
       "    <tr>\n",
       "      <th>1187</th>\n",
       "      <td>N199</td>\n",
       "      <td>224</td>\n",
       "      <td>London</td>\n",
       "      <td>2</td>\n",
       "      <td>32374.462137</td>\n",
       "      <td>London</td>\n",
       "    </tr>\n",
       "    <tr>\n",
       "      <th>1271</th>\n",
       "      <td>N89</td>\n",
       "      <td>213</td>\n",
       "      <td>London</td>\n",
       "      <td>2</td>\n",
       "      <td>32082.524668</td>\n",
       "      <td>London</td>\n",
       "    </tr>\n",
       "    <tr>\n",
       "      <th>1270</th>\n",
       "      <td>N89</td>\n",
       "      <td>213</td>\n",
       "      <td>London</td>\n",
       "      <td>1</td>\n",
       "      <td>32306.152415</td>\n",
       "      <td>London</td>\n",
       "    </tr>\n",
       "    <tr>\n",
       "      <th>1253</th>\n",
       "      <td>N68</td>\n",
       "      <td>194</td>\n",
       "      <td>London</td>\n",
       "      <td>2</td>\n",
       "      <td>28940.387658</td>\n",
       "      <td>London</td>\n",
       "    </tr>\n",
       "    <tr>\n",
       "      <th>...</th>\n",
       "      <td>...</td>\n",
       "      <td>...</td>\n",
       "      <td>...</td>\n",
       "      <td>...</td>\n",
       "      <td>...</td>\n",
       "      <td>...</td>\n",
       "    </tr>\n",
       "    <tr>\n",
       "      <th>869</th>\n",
       "      <td>631</td>\n",
       "      <td>4</td>\n",
       "      <td>London</td>\n",
       "      <td>1</td>\n",
       "      <td>322.851359</td>\n",
       "      <td>London</td>\n",
       "    </tr>\n",
       "    <tr>\n",
       "      <th>870</th>\n",
       "      <td>631</td>\n",
       "      <td>4</td>\n",
       "      <td>London</td>\n",
       "      <td>2</td>\n",
       "      <td>77.884530</td>\n",
       "      <td>London</td>\n",
       "    </tr>\n",
       "    <tr>\n",
       "      <th>1493</th>\n",
       "      <td>UL82</td>\n",
       "      <td>4</td>\n",
       "      <td>London</td>\n",
       "      <td>1</td>\n",
       "      <td>5417.517605</td>\n",
       "      <td>London</td>\n",
       "    </tr>\n",
       "    <tr>\n",
       "      <th>1372</th>\n",
       "      <td>UL22</td>\n",
       "      <td>3</td>\n",
       "      <td>London</td>\n",
       "      <td>1</td>\n",
       "      <td>1461.610413</td>\n",
       "      <td>London</td>\n",
       "    </tr>\n",
       "    <tr>\n",
       "      <th>1444</th>\n",
       "      <td>UL6</td>\n",
       "      <td>2</td>\n",
       "      <td>London</td>\n",
       "      <td>1</td>\n",
       "      <td>9490.832682</td>\n",
       "      <td>London</td>\n",
       "    </tr>\n",
       "  </tbody>\n",
       "</table>\n",
       "<p>1547 rows × 6 columns</p>\n",
       "</div>"
      ],
      "text/plain": [
       "     Route  Stops  City_x  Run        Length  City_y\n",
       "1186  N199    224  London    1  32406.206615  London\n",
       "1187  N199    224  London    2  32374.462137  London\n",
       "1271   N89    213  London    2  32082.524668  London\n",
       "1270   N89    213  London    1  32306.152415  London\n",
       "1253   N68    194  London    2  28940.387658  London\n",
       "...    ...    ...     ...  ...           ...     ...\n",
       "869    631      4  London    1    322.851359  London\n",
       "870    631      4  London    2     77.884530  London\n",
       "1493  UL82      4  London    1   5417.517605  London\n",
       "1372  UL22      3  London    1   1461.610413  London\n",
       "1444   UL6      2  London    1   9490.832682  London\n",
       "\n",
       "[1547 rows x 6 columns]"
      ]
     },
     "execution_count": 80,
     "metadata": {},
     "output_type": "execute_result"
    }
   ],
   "source": [
    "# https://tfl.gov.uk/bus/route/n199/\n",
    "# night buses have hundreds of stops\n",
    "l_merged.sort_values('Stops', ascending=False)"
   ]
  },
  {
   "cell_type": "code",
   "execution_count": 84,
   "id": "4ae6afdd",
   "metadata": {},
   "outputs": [
    {
     "data": {
      "text/html": [
       "<div>\n",
       "<style scoped>\n",
       "    .dataframe tbody tr th:only-of-type {\n",
       "        vertical-align: middle;\n",
       "    }\n",
       "\n",
       "    .dataframe tbody tr th {\n",
       "        vertical-align: top;\n",
       "    }\n",
       "\n",
       "    .dataframe thead th {\n",
       "        text-align: right;\n",
       "    }\n",
       "</style>\n",
       "<table border=\"1\" class=\"dataframe\">\n",
       "  <thead>\n",
       "    <tr style=\"text-align: right;\">\n",
       "      <th></th>\n",
       "      <th>Route</th>\n",
       "      <th>Stops</th>\n",
       "      <th>City_x</th>\n",
       "      <th>Run</th>\n",
       "      <th>Length</th>\n",
       "      <th>City_y</th>\n",
       "    </tr>\n",
       "  </thead>\n",
       "  <tbody>\n",
       "    <tr>\n",
       "      <th>1543</th>\n",
       "      <td>X26</td>\n",
       "      <td>28</td>\n",
       "      <td>London</td>\n",
       "      <td>1</td>\n",
       "      <td>30937.166032</td>\n",
       "      <td>London</td>\n",
       "    </tr>\n",
       "    <tr>\n",
       "      <th>1544</th>\n",
       "      <td>X26</td>\n",
       "      <td>28</td>\n",
       "      <td>London</td>\n",
       "      <td>2</td>\n",
       "      <td>31094.572755</td>\n",
       "      <td>London</td>\n",
       "    </tr>\n",
       "  </tbody>\n",
       "</table>\n",
       "</div>"
      ],
      "text/plain": [
       "     Route  Stops  City_x  Run        Length  City_y\n",
       "1543   X26     28  London    1  30937.166032  London\n",
       "1544   X26     28  London    2  31094.572755  London"
      ]
     },
     "execution_count": 84,
     "metadata": {},
     "output_type": "execute_result"
    }
   ],
   "source": [
    "# https://tfl.gov.uk/bus/route/X26\n",
    "# Going to heathrow (route length = long), but doesn't have a lot of stops\n",
    "l_merged[(l_merged['Length'] > 30000) & (l_merged['Stops'] < 50)]"
   ]
  },
  {
   "cell_type": "code",
   "execution_count": 85,
   "id": "bc85735c",
   "metadata": {},
   "outputs": [
    {
     "data": {
      "text/html": [
       "<div>\n",
       "<style scoped>\n",
       "    .dataframe tbody tr th:only-of-type {\n",
       "        vertical-align: middle;\n",
       "    }\n",
       "\n",
       "    .dataframe tbody tr th {\n",
       "        vertical-align: top;\n",
       "    }\n",
       "\n",
       "    .dataframe thead th {\n",
       "        text-align: right;\n",
       "    }\n",
       "</style>\n",
       "<table border=\"1\" class=\"dataframe\">\n",
       "  <thead>\n",
       "    <tr style=\"text-align: right;\">\n",
       "      <th></th>\n",
       "      <th>Route</th>\n",
       "      <th>Stops</th>\n",
       "      <th>City_x</th>\n",
       "      <th>Run</th>\n",
       "      <th>Length</th>\n",
       "      <th>City_y</th>\n",
       "    </tr>\n",
       "  </thead>\n",
       "  <tbody>\n",
       "    <tr>\n",
       "      <th>20</th>\n",
       "      <td>108</td>\n",
       "      <td>122</td>\n",
       "      <td>London</td>\n",
       "      <td>3</td>\n",
       "      <td>1068.375610</td>\n",
       "      <td>London</td>\n",
       "    </tr>\n",
       "    <tr>\n",
       "      <th>21</th>\n",
       "      <td>108</td>\n",
       "      <td>122</td>\n",
       "      <td>London</td>\n",
       "      <td>4</td>\n",
       "      <td>1201.170333</td>\n",
       "      <td>London</td>\n",
       "    </tr>\n",
       "    <tr>\n",
       "      <th>558</th>\n",
       "      <td>357</td>\n",
       "      <td>61</td>\n",
       "      <td>London</td>\n",
       "      <td>3</td>\n",
       "      <td>444.918955</td>\n",
       "      <td>London</td>\n",
       "    </tr>\n",
       "    <tr>\n",
       "      <th>559</th>\n",
       "      <td>357</td>\n",
       "      <td>61</td>\n",
       "      <td>London</td>\n",
       "      <td>4</td>\n",
       "      <td>365.465457</td>\n",
       "      <td>London</td>\n",
       "    </tr>\n",
       "    <tr>\n",
       "      <th>652</th>\n",
       "      <td>406</td>\n",
       "      <td>70</td>\n",
       "      <td>London</td>\n",
       "      <td>3</td>\n",
       "      <td>1025.358710</td>\n",
       "      <td>London</td>\n",
       "    </tr>\n",
       "    <tr>\n",
       "      <th>653</th>\n",
       "      <td>406</td>\n",
       "      <td>70</td>\n",
       "      <td>London</td>\n",
       "      <td>4</td>\n",
       "      <td>285.271800</td>\n",
       "      <td>London</td>\n",
       "    </tr>\n",
       "    <tr>\n",
       "      <th>736</th>\n",
       "      <td>467</td>\n",
       "      <td>69</td>\n",
       "      <td>London</td>\n",
       "      <td>3</td>\n",
       "      <td>1025.358710</td>\n",
       "      <td>London</td>\n",
       "    </tr>\n",
       "    <tr>\n",
       "      <th>737</th>\n",
       "      <td>467</td>\n",
       "      <td>69</td>\n",
       "      <td>London</td>\n",
       "      <td>4</td>\n",
       "      <td>285.271800</td>\n",
       "      <td>London</td>\n",
       "    </tr>\n",
       "    <tr>\n",
       "      <th>889</th>\n",
       "      <td>642</td>\n",
       "      <td>64</td>\n",
       "      <td>London</td>\n",
       "      <td>3</td>\n",
       "      <td>769.552204</td>\n",
       "      <td>London</td>\n",
       "    </tr>\n",
       "    <tr>\n",
       "      <th>1096</th>\n",
       "      <td>E7</td>\n",
       "      <td>76</td>\n",
       "      <td>London</td>\n",
       "      <td>3</td>\n",
       "      <td>1112.441198</td>\n",
       "      <td>London</td>\n",
       "    </tr>\n",
       "    <tr>\n",
       "      <th>1097</th>\n",
       "      <td>E7</td>\n",
       "      <td>76</td>\n",
       "      <td>London</td>\n",
       "      <td>4</td>\n",
       "      <td>983.711144</td>\n",
       "      <td>London</td>\n",
       "    </tr>\n",
       "    <tr>\n",
       "      <th>1147</th>\n",
       "      <td>K1</td>\n",
       "      <td>76</td>\n",
       "      <td>London</td>\n",
       "      <td>4</td>\n",
       "      <td>363.858573</td>\n",
       "      <td>London</td>\n",
       "    </tr>\n",
       "    <tr>\n",
       "      <th>1152</th>\n",
       "      <td>K3</td>\n",
       "      <td>110</td>\n",
       "      <td>London</td>\n",
       "      <td>3</td>\n",
       "      <td>474.684105</td>\n",
       "      <td>London</td>\n",
       "    </tr>\n",
       "    <tr>\n",
       "      <th>1153</th>\n",
       "      <td>K3</td>\n",
       "      <td>110</td>\n",
       "      <td>London</td>\n",
       "      <td>4</td>\n",
       "      <td>497.419340</td>\n",
       "      <td>London</td>\n",
       "    </tr>\n",
       "  </tbody>\n",
       "</table>\n",
       "</div>"
      ],
      "text/plain": [
       "     Route  Stops  City_x  Run       Length  City_y\n",
       "20     108    122  London    3  1068.375610  London\n",
       "21     108    122  London    4  1201.170333  London\n",
       "558    357     61  London    3   444.918955  London\n",
       "559    357     61  London    4   365.465457  London\n",
       "652    406     70  London    3  1025.358710  London\n",
       "653    406     70  London    4   285.271800  London\n",
       "736    467     69  London    3  1025.358710  London\n",
       "737    467     69  London    4   285.271800  London\n",
       "889    642     64  London    3   769.552204  London\n",
       "1096    E7     76  London    3  1112.441198  London\n",
       "1097    E7     76  London    4   983.711144  London\n",
       "1147    K1     76  London    4   363.858573  London\n",
       "1152    K3    110  London    3   474.684105  London\n",
       "1153    K3    110  London    4   497.419340  London"
      ]
     },
     "execution_count": 85,
     "metadata": {},
     "output_type": "execute_result"
    }
   ],
   "source": [
    "# https://tfl.gov.uk/bus/route/108\n",
    "# it's bending around like a spiral, but not really going anywhere\n",
    "l_merged[(l_merged['Length'] < 5000) & (l_merged['Stops'] > 50)]"
   ]
  },
  {
   "cell_type": "markdown",
   "id": "63de9a40",
   "metadata": {},
   "source": [
    "# Distance between stops"
   ]
  },
  {
   "cell_type": "code",
   "execution_count": 2,
   "id": "775b4cc5",
   "metadata": {},
   "outputs": [
    {
     "data": {
      "text/html": [
       "<div>\n",
       "<style scoped>\n",
       "    .dataframe tbody tr th:only-of-type {\n",
       "        vertical-align: middle;\n",
       "    }\n",
       "\n",
       "    .dataframe tbody tr th {\n",
       "        vertical-align: top;\n",
       "    }\n",
       "\n",
       "    .dataframe thead th {\n",
       "        text-align: right;\n",
       "    }\n",
       "</style>\n",
       "<table border=\"1\" class=\"dataframe\">\n",
       "  <thead>\n",
       "    <tr style=\"text-align: right;\">\n",
       "      <th></th>\n",
       "      <th>Route</th>\n",
       "      <th>Run</th>\n",
       "      <th>0</th>\n",
       "    </tr>\n",
       "  </thead>\n",
       "  <tbody>\n",
       "    <tr>\n",
       "      <th>0</th>\n",
       "      <td>1</td>\n",
       "      <td>1</td>\n",
       "      <td>305.475357</td>\n",
       "    </tr>\n",
       "    <tr>\n",
       "      <th>1</th>\n",
       "      <td>1</td>\n",
       "      <td>2</td>\n",
       "      <td>316.742394</td>\n",
       "    </tr>\n",
       "    <tr>\n",
       "      <th>2</th>\n",
       "      <td>100</td>\n",
       "      <td>1</td>\n",
       "      <td>250.164462</td>\n",
       "    </tr>\n",
       "    <tr>\n",
       "      <th>3</th>\n",
       "      <td>100</td>\n",
       "      <td>2</td>\n",
       "      <td>248.086653</td>\n",
       "    </tr>\n",
       "    <tr>\n",
       "      <th>4</th>\n",
       "      <td>101</td>\n",
       "      <td>1</td>\n",
       "      <td>251.266687</td>\n",
       "    </tr>\n",
       "    <tr>\n",
       "      <th>...</th>\n",
       "      <td>...</td>\n",
       "      <td>...</td>\n",
       "      <td>...</td>\n",
       "    </tr>\n",
       "    <tr>\n",
       "      <th>1542</th>\n",
       "      <td>X140</td>\n",
       "      <td>2</td>\n",
       "      <td>1235.114263</td>\n",
       "    </tr>\n",
       "    <tr>\n",
       "      <th>1543</th>\n",
       "      <td>X26</td>\n",
       "      <td>1</td>\n",
       "      <td>2379.782002</td>\n",
       "    </tr>\n",
       "    <tr>\n",
       "      <th>1544</th>\n",
       "      <td>X26</td>\n",
       "      <td>2</td>\n",
       "      <td>2391.890212</td>\n",
       "    </tr>\n",
       "    <tr>\n",
       "      <th>1545</th>\n",
       "      <td>X68</td>\n",
       "      <td>1</td>\n",
       "      <td>540.620031</td>\n",
       "    </tr>\n",
       "    <tr>\n",
       "      <th>1546</th>\n",
       "      <td>X68</td>\n",
       "      <td>2</td>\n",
       "      <td>502.089268</td>\n",
       "    </tr>\n",
       "  </tbody>\n",
       "</table>\n",
       "<p>1547 rows × 3 columns</p>\n",
       "</div>"
      ],
      "text/plain": [
       "     Route  Run            0\n",
       "0        1    1   305.475357\n",
       "1        1    2   316.742394\n",
       "2      100    1   250.164462\n",
       "3      100    2   248.086653\n",
       "4      101    1   251.266687\n",
       "...    ...  ...          ...\n",
       "1542  X140    2  1235.114263\n",
       "1543   X26    1  2379.782002\n",
       "1544   X26    2  2391.890212\n",
       "1545   X68    1   540.620031\n",
       "1546   X68    2   502.089268\n",
       "\n",
       "[1547 rows x 3 columns]"
      ]
     },
     "execution_count": 2,
     "metadata": {},
     "output_type": "execute_result"
    }
   ],
   "source": [
    "l_dist_b_stops = pd.read_csv('gen/l_stop_dists.csv')\n",
    "l_dist_b_stops"
   ]
  },
  {
   "cell_type": "code",
   "execution_count": 3,
   "id": "48caac89",
   "metadata": {},
   "outputs": [],
   "source": [
    "l_dist_b_stops.rename(columns={'0': 'distance'}, inplace=True)"
   ]
  },
  {
   "cell_type": "code",
   "execution_count": 4,
   "id": "f1131fa1",
   "metadata": {},
   "outputs": [
    {
     "data": {
      "text/plain": [
       "Route\n",
       "1        311.108876\n",
       "100      249.125558\n",
       "101      255.559471\n",
       "102      301.624556\n",
       "103      305.706899\n",
       "           ...     \n",
       "W8       265.991724\n",
       "W9       468.689957\n",
       "X140    1238.420828\n",
       "X26     2385.836107\n",
       "X68      521.354650\n",
       "Name: distance, Length: 771, dtype: float64"
      ]
     },
     "execution_count": 4,
     "metadata": {},
     "output_type": "execute_result"
    }
   ],
   "source": [
    "l_dist_b_stops = l_dist_b_stops.groupby('Route')['distance'].mean()\n",
    "l_dist_b_stops"
   ]
  },
  {
   "cell_type": "code",
   "execution_count": 5,
   "id": "656af8c9",
   "metadata": {},
   "outputs": [],
   "source": [
    "l_dist_b_stops = pd.DataFrame(l_dist_b_stops)"
   ]
  },
  {
   "cell_type": "code",
   "execution_count": 6,
   "id": "0a386ad9",
   "metadata": {},
   "outputs": [],
   "source": [
    "l_dist_b_stops['City'] = 'London'"
   ]
  },
  {
   "cell_type": "code",
   "execution_count": 7,
   "id": "922a695d",
   "metadata": {},
   "outputs": [
    {
     "data": {
      "text/html": [
       "<div>\n",
       "<style scoped>\n",
       "    .dataframe tbody tr th:only-of-type {\n",
       "        vertical-align: middle;\n",
       "    }\n",
       "\n",
       "    .dataframe tbody tr th {\n",
       "        vertical-align: top;\n",
       "    }\n",
       "\n",
       "    .dataframe thead th {\n",
       "        text-align: right;\n",
       "    }\n",
       "</style>\n",
       "<table border=\"1\" class=\"dataframe\">\n",
       "  <thead>\n",
       "    <tr style=\"text-align: right;\">\n",
       "      <th></th>\n",
       "      <th>route_id</th>\n",
       "      <th>distance</th>\n",
       "    </tr>\n",
       "  </thead>\n",
       "  <tbody>\n",
       "    <tr>\n",
       "      <th>0</th>\n",
       "      <td>1001</td>\n",
       "      <td>364.932494</td>\n",
       "    </tr>\n",
       "    <tr>\n",
       "      <th>1</th>\n",
       "      <td>1002</td>\n",
       "      <td>373.773440</td>\n",
       "    </tr>\n",
       "    <tr>\n",
       "      <th>2</th>\n",
       "      <td>1006</td>\n",
       "      <td>547.914668</td>\n",
       "    </tr>\n",
       "    <tr>\n",
       "      <th>3</th>\n",
       "      <td>1008</td>\n",
       "      <td>446.814018</td>\n",
       "    </tr>\n",
       "    <tr>\n",
       "      <th>4</th>\n",
       "      <td>1010</td>\n",
       "      <td>406.577768</td>\n",
       "    </tr>\n",
       "    <tr>\n",
       "      <th>...</th>\n",
       "      <td>...</td>\n",
       "      <td>...</td>\n",
       "    </tr>\n",
       "    <tr>\n",
       "      <th>1433</th>\n",
       "      <td>1000207</td>\n",
       "      <td>1085.143987</td>\n",
       "    </tr>\n",
       "    <tr>\n",
       "      <th>1434</th>\n",
       "      <td>1000208</td>\n",
       "      <td>4496.741284</td>\n",
       "    </tr>\n",
       "    <tr>\n",
       "      <th>1435</th>\n",
       "      <td>1000209</td>\n",
       "      <td>1079.859705</td>\n",
       "    </tr>\n",
       "    <tr>\n",
       "      <th>1436</th>\n",
       "      <td>1000210</td>\n",
       "      <td>2047.796860</td>\n",
       "    </tr>\n",
       "    <tr>\n",
       "      <th>1437</th>\n",
       "      <td>1000211</td>\n",
       "      <td>616.028241</td>\n",
       "    </tr>\n",
       "  </tbody>\n",
       "</table>\n",
       "<p>1438 rows × 2 columns</p>\n",
       "</div>"
      ],
      "text/plain": [
       "      route_id     distance\n",
       "0         1001   364.932494\n",
       "1         1002   373.773440\n",
       "2         1006   547.914668\n",
       "3         1008   446.814018\n",
       "4         1010   406.577768\n",
       "...        ...          ...\n",
       "1433   1000207  1085.143987\n",
       "1434   1000208  4496.741284\n",
       "1435   1000209  1079.859705\n",
       "1436   1000210  2047.796860\n",
       "1437   1000211   616.028241\n",
       "\n",
       "[1438 rows x 2 columns]"
      ]
     },
     "execution_count": 7,
     "metadata": {},
     "output_type": "execute_result"
    }
   ],
   "source": [
    "hk_dist_b_stops = pd.read_csv('gen/hk_stop_dists.csv')\n",
    "hk_dist_b_stops"
   ]
  },
  {
   "cell_type": "code",
   "execution_count": 8,
   "id": "ac21c91d",
   "metadata": {},
   "outputs": [],
   "source": [
    "hk_dist_b_stops.rename(columns={'0': 'distance'}, inplace=True)"
   ]
  },
  {
   "cell_type": "code",
   "execution_count": 9,
   "id": "45533104",
   "metadata": {},
   "outputs": [],
   "source": [
    "hk_dist_b_stops['City'] = 'Hong Kong'"
   ]
  },
  {
   "cell_type": "code",
   "execution_count": 10,
   "id": "b58c5795",
   "metadata": {},
   "outputs": [
    {
     "data": {
      "text/html": [
       "<div>\n",
       "<style scoped>\n",
       "    .dataframe tbody tr th:only-of-type {\n",
       "        vertical-align: middle;\n",
       "    }\n",
       "\n",
       "    .dataframe tbody tr th {\n",
       "        vertical-align: top;\n",
       "    }\n",
       "\n",
       "    .dataframe thead th {\n",
       "        text-align: right;\n",
       "    }\n",
       "</style>\n",
       "<table border=\"1\" class=\"dataframe\">\n",
       "  <thead>\n",
       "    <tr style=\"text-align: right;\">\n",
       "      <th></th>\n",
       "      <th>distance</th>\n",
       "      <th>City</th>\n",
       "    </tr>\n",
       "  </thead>\n",
       "  <tbody>\n",
       "    <tr>\n",
       "      <th>0</th>\n",
       "      <td>311.108876</td>\n",
       "      <td>London</td>\n",
       "    </tr>\n",
       "    <tr>\n",
       "      <th>1</th>\n",
       "      <td>249.125558</td>\n",
       "      <td>London</td>\n",
       "    </tr>\n",
       "    <tr>\n",
       "      <th>2</th>\n",
       "      <td>255.559471</td>\n",
       "      <td>London</td>\n",
       "    </tr>\n",
       "    <tr>\n",
       "      <th>3</th>\n",
       "      <td>301.624556</td>\n",
       "      <td>London</td>\n",
       "    </tr>\n",
       "    <tr>\n",
       "      <th>4</th>\n",
       "      <td>305.706899</td>\n",
       "      <td>London</td>\n",
       "    </tr>\n",
       "    <tr>\n",
       "      <th>...</th>\n",
       "      <td>...</td>\n",
       "      <td>...</td>\n",
       "    </tr>\n",
       "    <tr>\n",
       "      <th>2204</th>\n",
       "      <td>1085.143987</td>\n",
       "      <td>Hong Kong</td>\n",
       "    </tr>\n",
       "    <tr>\n",
       "      <th>2205</th>\n",
       "      <td>4496.741284</td>\n",
       "      <td>Hong Kong</td>\n",
       "    </tr>\n",
       "    <tr>\n",
       "      <th>2206</th>\n",
       "      <td>1079.859705</td>\n",
       "      <td>Hong Kong</td>\n",
       "    </tr>\n",
       "    <tr>\n",
       "      <th>2207</th>\n",
       "      <td>2047.796860</td>\n",
       "      <td>Hong Kong</td>\n",
       "    </tr>\n",
       "    <tr>\n",
       "      <th>2208</th>\n",
       "      <td>616.028241</td>\n",
       "      <td>Hong Kong</td>\n",
       "    </tr>\n",
       "  </tbody>\n",
       "</table>\n",
       "<p>2209 rows × 2 columns</p>\n",
       "</div>"
      ],
      "text/plain": [
       "         distance       City\n",
       "0      311.108876     London\n",
       "1      249.125558     London\n",
       "2      255.559471     London\n",
       "3      301.624556     London\n",
       "4      305.706899     London\n",
       "...           ...        ...\n",
       "2204  1085.143987  Hong Kong\n",
       "2205  4496.741284  Hong Kong\n",
       "2206  1079.859705  Hong Kong\n",
       "2207  2047.796860  Hong Kong\n",
       "2208   616.028241  Hong Kong\n",
       "\n",
       "[2209 rows x 2 columns]"
      ]
     },
     "execution_count": 10,
     "metadata": {},
     "output_type": "execute_result"
    }
   ],
   "source": [
    "dist_b_stops = pd.concat(\n",
    "    [l_dist_b_stops[['distance', 'City']], hk_dist_b_stops[['distance', 'City']]],\n",
    "    ignore_index=True\n",
    ")\n",
    "dist_b_stops"
   ]
  },
  {
   "cell_type": "code",
   "execution_count": 11,
   "id": "575d6997",
   "metadata": {},
   "outputs": [
    {
     "data": {
      "text/plain": [
       "(2209, 2)"
      ]
     },
     "execution_count": 11,
     "metadata": {},
     "output_type": "execute_result"
    }
   ],
   "source": [
    "dist_b_stops.shape"
   ]
  },
  {
   "cell_type": "code",
   "execution_count": 12,
   "id": "b2d58b16",
   "metadata": {},
   "outputs": [
    {
     "data": {
      "text/plain": [
       "2209"
      ]
     },
     "execution_count": 12,
     "metadata": {},
     "output_type": "execute_result"
    }
   ],
   "source": [
    "l_dist_b_stops.shape[0] + hk_dist_b_stops.shape[0]"
   ]
  },
  {
   "cell_type": "code",
   "execution_count": 13,
   "id": "93f22c76",
   "metadata": {},
   "outputs": [
    {
     "data": {
      "text/plain": [
       "Text(0.5, 0, 'Distance between stop (m)')"
      ]
     },
     "execution_count": 13,
     "metadata": {},
     "output_type": "execute_result"
    },
    {
     "data": {
      "image/png": "[encoded data removed]",
      "text/plain": [
       "<Figure size 432x288 with 1 Axes>"
      ]
     },
     "metadata": {
      "needs_background": "light"
     },
     "output_type": "display_data"
    }
   ],
   "source": [
    "_, ax = plt.subplots()\n",
    "sns.histplot(data=dist_b_stops, x='distance', hue='City', ax=ax)\n",
    "sns.despine()\n",
    "plt.xlabel('Distance between stop (m)')"
   ]
  },
  {
   "cell_type": "code",
   "execution_count": 14,
   "id": "c96610c1",
   "metadata": {},
   "outputs": [],
   "source": [
    "dist_b_stops['distance'] = dist_b_stops['distance'] / 1000"
   ]
  },
  {
   "cell_type": "code",
   "execution_count": 15,
   "id": "2cf99f0a",
   "metadata": {},
   "outputs": [
    {
     "data": {
      "text/plain": [
       "Text(0.5, 0, 'Distance between stop (km)')"
      ]
     },
     "execution_count": 15,
     "metadata": {},
     "output_type": "execute_result"
    },
    {
     "data": {
      "image/png": "[encoded data removed]",
      "text/plain": [
       "<Figure size 720x360 with 1 Axes>"
      ]
     },
     "metadata": {
      "needs_background": "light"
     },
     "output_type": "display_data"
    }
   ],
   "source": [
    "_, ax = plt.subplots(figsize=(10, 5))\n",
    "sns.boxplot(data=dist_b_stops, x='distance', y='City', ax=ax, palette='pastel', linewidth=1,\n",
    "           flierprops=dict(markerfacecolor='white', marker='o'))\n",
    "\n",
    "ax.set_xlabel('Distance between stop (km)')\n",
    "ax.xaxis.tick_top()\n",
    "ax.xaxis.set_label_position('top')\n",
    "\n",
    "ax2 = ax.inset_axes([0, -1.2, 1, 1])\n",
    "sns.boxplot(data=dist_b_stops, x='distance', y='City', ax=ax2, palette='pastel', linewidth=1,\n",
    "           flierprops=dict(markerfacecolor='white', marker='o'))\n",
    "ax2.set_xlim((0, 3.5))\n",
    "\n",
    "ax.indicate_inset_zoom(ax2, edgecolor=\"black\")\n",
    "ax2.set_xlabel('Distance between stop (km)')\n",
    "# Use `python extract_fig.py` to generate figure instead\n",
    "#plt.savefig('figures/distance_between_stops.png')"
   ]
  },
  {
   "cell_type": "markdown",
   "id": "285f51a0",
   "metadata": {},
   "source": [
    "## validation"
   ]
  },
  {
   "cell_type": "code",
   "execution_count": 25,
   "id": "07da4e4a",
   "metadata": {},
   "outputs": [],
   "source": [
    "routes = pd.read_csv('data/hk/headway/routes.txt')"
   ]
  },
  {
   "cell_type": "code",
   "execution_count": 31,
   "id": "bcd0caee",
   "metadata": {},
   "outputs": [],
   "source": [
    "joined = hk_dist_b_stops.merge(routes, on='route_id')"
   ]
  },
  {
   "cell_type": "code",
   "execution_count": 36,
   "id": "a2d29b5f",
   "metadata": {},
   "outputs": [
    {
     "data": {
      "text/html": [
       "<div>\n",
       "<style scoped>\n",
       "    .dataframe tbody tr th:only-of-type {\n",
       "        vertical-align: middle;\n",
       "    }\n",
       "\n",
       "    .dataframe tbody tr th {\n",
       "        vertical-align: top;\n",
       "    }\n",
       "\n",
       "    .dataframe thead th {\n",
       "        text-align: right;\n",
       "    }\n",
       "</style>\n",
       "<table border=\"1\" class=\"dataframe\">\n",
       "  <thead>\n",
       "    <tr style=\"text-align: right;\">\n",
       "      <th></th>\n",
       "      <th>route_id</th>\n",
       "      <th>distance</th>\n",
       "      <th>City</th>\n",
       "      <th>agency_id</th>\n",
       "      <th>route_short_name</th>\n",
       "      <th>route_long_name</th>\n",
       "      <th>route_type</th>\n",
       "      <th>route_url</th>\n",
       "    </tr>\n",
       "  </thead>\n",
       "  <tbody>\n",
       "    <tr>\n",
       "      <th>809</th>\n",
       "      <td>8250</td>\n",
       "      <td>26036.886216</td>\n",
       "      <td>Hong Kong</td>\n",
       "      <td>XB</td>\n",
       "      <td>Mong Kok - Huanggang (Night)</td>\n",
       "      <td>MONG KOK - HUANGGANG</td>\n",
       "      <td>3</td>\n",
       "      <td>http://www.td.gov.hk/en/transport_in_hong_kong...</td>\n",
       "    </tr>\n",
       "    <tr>\n",
       "      <th>671</th>\n",
       "      <td>1999</td>\n",
       "      <td>24562.061322</td>\n",
       "      <td>Hong Kong</td>\n",
       "      <td>XB</td>\n",
       "      <td>Disneyland - Huanggang</td>\n",
       "      <td>DISNEYLAND - HUANGGANG</td>\n",
       "      <td>3</td>\n",
       "      <td>https://www.hongkongdisneyland.com/guest-servi...</td>\n",
       "    </tr>\n",
       "    <tr>\n",
       "      <th>664</th>\n",
       "      <td>1991</td>\n",
       "      <td>19833.776696</td>\n",
       "      <td>Hong Kong</td>\n",
       "      <td>XB</td>\n",
       "      <td>Mong Kok - Huanggang (Day)</td>\n",
       "      <td>MONG KOK - HUANGGANG</td>\n",
       "      <td>3</td>\n",
       "      <td>http://www.td.gov.hk/en/transport_in_hong_kong...</td>\n",
       "    </tr>\n",
       "    <tr>\n",
       "      <th>665</th>\n",
       "      <td>1992</td>\n",
       "      <td>19237.024592</td>\n",
       "      <td>Hong Kong</td>\n",
       "      <td>XB</td>\n",
       "      <td>Yau Tsim - Huanggang (Night)</td>\n",
       "      <td>YAU TSIM - HUANGGANG</td>\n",
       "      <td>3</td>\n",
       "      <td>http://www.td.gov.hk/en/transport_in_hong_kong...</td>\n",
       "    </tr>\n",
       "    <tr>\n",
       "      <th>800</th>\n",
       "      <td>8239</td>\n",
       "      <td>18903.089833</td>\n",
       "      <td>Hong Kong</td>\n",
       "      <td>XB</td>\n",
       "      <td>Yau Tsim - Huanggang (Day)</td>\n",
       "      <td>YAU TSIM - HUANGGANG</td>\n",
       "      <td>3</td>\n",
       "      <td>http://www.td.gov.hk/en/transport_in_hong_kong...</td>\n",
       "    </tr>\n",
       "    <tr>\n",
       "      <th>655</th>\n",
       "      <td>1973</td>\n",
       "      <td>13718.033038</td>\n",
       "      <td>Hong Kong</td>\n",
       "      <td>XB</td>\n",
       "      <td>Tsuen Wan - Huanggang (Night)</td>\n",
       "      <td>TSUEN WAN - HUANGGANG</td>\n",
       "      <td>3</td>\n",
       "      <td>http://www.td.gov.hk/en/transport_in_hong_kong...</td>\n",
       "    </tr>\n",
       "    <tr>\n",
       "      <th>1217</th>\n",
       "      <td>8722</td>\n",
       "      <td>13718.033038</td>\n",
       "      <td>Hong Kong</td>\n",
       "      <td>XB</td>\n",
       "      <td>Tsuen Wan - Huanggang</td>\n",
       "      <td>TSUEN WAN - HUANGGANG</td>\n",
       "      <td>3</td>\n",
       "      <td>http://www.td.gov.hk/en/transport_in_hong_kong...</td>\n",
       "    </tr>\n",
       "    <tr>\n",
       "      <th>666</th>\n",
       "      <td>1993</td>\n",
       "      <td>11930.522468</td>\n",
       "      <td>Hong Kong</td>\n",
       "      <td>XB</td>\n",
       "      <td>Wan Chai - Huanggang (Day)</td>\n",
       "      <td>WAN CHAI - HUANGGANG</td>\n",
       "      <td>3</td>\n",
       "      <td>http://www.td.gov.hk/en/transport_in_hong_kong...</td>\n",
       "    </tr>\n",
       "    <tr>\n",
       "      <th>667</th>\n",
       "      <td>1994</td>\n",
       "      <td>10762.294311</td>\n",
       "      <td>Hong Kong</td>\n",
       "      <td>XB</td>\n",
       "      <td>Wan Chai - Huanggang (Night)</td>\n",
       "      <td>WAN CHAI - HUANGGANG</td>\n",
       "      <td>3</td>\n",
       "      <td>http://www.td.gov.hk/en/transport_in_hong_kong...</td>\n",
       "    </tr>\n",
       "    <tr>\n",
       "      <th>668</th>\n",
       "      <td>1996</td>\n",
       "      <td>10205.450429</td>\n",
       "      <td>Hong Kong</td>\n",
       "      <td>XB</td>\n",
       "      <td>Kam Tin - Huanggang</td>\n",
       "      <td>KAM TIN - HUANGGANG</td>\n",
       "      <td>3</td>\n",
       "      <td>http://www.td.gov.hk/en/transport_in_hong_kong...</td>\n",
       "    </tr>\n",
       "    <tr>\n",
       "      <th>654</th>\n",
       "      <td>1972</td>\n",
       "      <td>9807.932798</td>\n",
       "      <td>Hong Kong</td>\n",
       "      <td>XB</td>\n",
       "      <td>Tsuen Wan - Huanggang (Day)</td>\n",
       "      <td>TSUEN WAN - HUANGGANG</td>\n",
       "      <td>3</td>\n",
       "      <td>http://www.td.gov.hk/en/transport_in_hong_kong...</td>\n",
       "    </tr>\n",
       "    <tr>\n",
       "      <th>1218</th>\n",
       "      <td>8723</td>\n",
       "      <td>9807.932798</td>\n",
       "      <td>Hong Kong</td>\n",
       "      <td>XB</td>\n",
       "      <td>Tsuen Wan - Huanggang (Night)</td>\n",
       "      <td>HUANGGANG - TSUEN WAN (TERMINUS AT DISCOVERY P...</td>\n",
       "      <td>3</td>\n",
       "      <td>http://www.td.gov.hk/en/transport_in_hong_kong...</td>\n",
       "    </tr>\n",
       "    <tr>\n",
       "      <th>653</th>\n",
       "      <td>1971</td>\n",
       "      <td>9189.003258</td>\n",
       "      <td>Hong Kong</td>\n",
       "      <td>XB</td>\n",
       "      <td>Kwun Tong - Huanggang (Night)</td>\n",
       "      <td>KWUN TONG - HUANGGANG (STOP OUTSIDE SIU LEK YU...</td>\n",
       "      <td>3</td>\n",
       "      <td>http://www.td.gov.hk/en/transport_in_hong_kong...</td>\n",
       "    </tr>\n",
       "    <tr>\n",
       "      <th>652</th>\n",
       "      <td>1970</td>\n",
       "      <td>9185.490412</td>\n",
       "      <td>Hong Kong</td>\n",
       "      <td>XB</td>\n",
       "      <td>Kwun Tong - Huanggang (Day)</td>\n",
       "      <td>KWUN TONG - HUANGGANG</td>\n",
       "      <td>3</td>\n",
       "      <td>http://www.td.gov.hk/en/transport_in_hong_kong...</td>\n",
       "    </tr>\n",
       "    <tr>\n",
       "      <th>1219</th>\n",
       "      <td>8724</td>\n",
       "      <td>7876.877179</td>\n",
       "      <td>Hong Kong</td>\n",
       "      <td>XB</td>\n",
       "      <td>Kwun Tong - Huanggang (Night)</td>\n",
       "      <td>KWUN TONG - HUANGGANG (OMIT SIU LEK YUEN ROAD ...</td>\n",
       "      <td>3</td>\n",
       "      <td>http://www.td.gov.hk/en/transport_in_hong_kong...</td>\n",
       "    </tr>\n",
       "    <tr>\n",
       "      <th>1221</th>\n",
       "      <td>8726</td>\n",
       "      <td>7874.891689</td>\n",
       "      <td>Hong Kong</td>\n",
       "      <td>XB</td>\n",
       "      <td>Kwun Tong - Huanggang</td>\n",
       "      <td>HUANGGANG - KWUN TONG</td>\n",
       "      <td>3</td>\n",
       "      <td>http://www.td.gov.hk/en/transport_in_hong_kong...</td>\n",
       "    </tr>\n",
       "    <tr>\n",
       "      <th>1220</th>\n",
       "      <td>8725</td>\n",
       "      <td>6573.243112</td>\n",
       "      <td>Hong Kong</td>\n",
       "      <td>XB</td>\n",
       "      <td>Kwun Tong - Huanggang (Night)</td>\n",
       "      <td>HUANGGANG - KWUN TONG (STOP OUSTIDE SIU LEK YU...</td>\n",
       "      <td>3</td>\n",
       "      <td>http://www.td.gov.hk/en/transport_in_hong_kong...</td>\n",
       "    </tr>\n",
       "    <tr>\n",
       "      <th>1138</th>\n",
       "      <td>8636</td>\n",
       "      <td>6439.329564</td>\n",
       "      <td>Hong Kong</td>\n",
       "      <td>CTB</td>\n",
       "      <td>B5</td>\n",
       "      <td>HONG KONG-ZHUHAI-MACAO BRIDGE HONG KONG PORT -...</td>\n",
       "      <td>3</td>\n",
       "      <td>https://mobile.bravobus.com.hk/nwp3/?f=1&amp;ds=B5...</td>\n",
       "    </tr>\n",
       "    <tr>\n",
       "      <th>1136</th>\n",
       "      <td>8634</td>\n",
       "      <td>5520.908202</td>\n",
       "      <td>Hong Kong</td>\n",
       "      <td>CTB</td>\n",
       "      <td>B5</td>\n",
       "      <td>HONG KONG-ZHUHAI-MACAO BRIDGE HONG KONG PORT -...</td>\n",
       "      <td>3</td>\n",
       "      <td>https://mobile.bravobus.com.hk/nwp3/?f=1&amp;ds=B5...</td>\n",
       "    </tr>\n",
       "    <tr>\n",
       "      <th>897</th>\n",
       "      <td>8361</td>\n",
       "      <td>5093.922129</td>\n",
       "      <td>Hong Kong</td>\n",
       "      <td>LWB</td>\n",
       "      <td>A47X</td>\n",
       "      <td>TAI PO (FU HENG) - AIRPORT (GROUND TRANSPORTAT...</td>\n",
       "      <td>3</td>\n",
       "      <td>https://search.kmb.hk/KMBWebSite/?action=route...</td>\n",
       "    </tr>\n",
       "  </tbody>\n",
       "</table>\n",
       "</div>"
      ],
      "text/plain": [
       "      route_id      distance       City agency_id  \\\n",
       "809       8250  26036.886216  Hong Kong        XB   \n",
       "671       1999  24562.061322  Hong Kong        XB   \n",
       "664       1991  19833.776696  Hong Kong        XB   \n",
       "665       1992  19237.024592  Hong Kong        XB   \n",
       "800       8239  18903.089833  Hong Kong        XB   \n",
       "655       1973  13718.033038  Hong Kong        XB   \n",
       "1217      8722  13718.033038  Hong Kong        XB   \n",
       "666       1993  11930.522468  Hong Kong        XB   \n",
       "667       1994  10762.294311  Hong Kong        XB   \n",
       "668       1996  10205.450429  Hong Kong        XB   \n",
       "654       1972   9807.932798  Hong Kong        XB   \n",
       "1218      8723   9807.932798  Hong Kong        XB   \n",
       "653       1971   9189.003258  Hong Kong        XB   \n",
       "652       1970   9185.490412  Hong Kong        XB   \n",
       "1219      8724   7876.877179  Hong Kong        XB   \n",
       "1221      8726   7874.891689  Hong Kong        XB   \n",
       "1220      8725   6573.243112  Hong Kong        XB   \n",
       "1138      8636   6439.329564  Hong Kong       CTB   \n",
       "1136      8634   5520.908202  Hong Kong       CTB   \n",
       "897       8361   5093.922129  Hong Kong       LWB   \n",
       "\n",
       "                   route_short_name  \\\n",
       "809    Mong Kok - Huanggang (Night)   \n",
       "671          Disneyland - Huanggang   \n",
       "664      Mong Kok - Huanggang (Day)   \n",
       "665    Yau Tsim - Huanggang (Night)   \n",
       "800      Yau Tsim - Huanggang (Day)   \n",
       "655   Tsuen Wan - Huanggang (Night)   \n",
       "1217          Tsuen Wan - Huanggang   \n",
       "666      Wan Chai - Huanggang (Day)   \n",
       "667    Wan Chai - Huanggang (Night)   \n",
       "668             Kam Tin - Huanggang   \n",
       "654     Tsuen Wan - Huanggang (Day)   \n",
       "1218  Tsuen Wan - Huanggang (Night)   \n",
       "653   Kwun Tong - Huanggang (Night)   \n",
       "652     Kwun Tong - Huanggang (Day)   \n",
       "1219  Kwun Tong - Huanggang (Night)   \n",
       "1221          Kwun Tong - Huanggang   \n",
       "1220  Kwun Tong - Huanggang (Night)   \n",
       "1138                             B5   \n",
       "1136                             B5   \n",
       "897                            A47X   \n",
       "\n",
       "                                        route_long_name  route_type  \\\n",
       "809                                MONG KOK - HUANGGANG           3   \n",
       "671                              DISNEYLAND - HUANGGANG           3   \n",
       "664                                MONG KOK - HUANGGANG           3   \n",
       "665                                YAU TSIM - HUANGGANG           3   \n",
       "800                                YAU TSIM - HUANGGANG           3   \n",
       "655                               TSUEN WAN - HUANGGANG           3   \n",
       "1217                              TSUEN WAN - HUANGGANG           3   \n",
       "666                                WAN CHAI - HUANGGANG           3   \n",
       "667                                WAN CHAI - HUANGGANG           3   \n",
       "668                                 KAM TIN - HUANGGANG           3   \n",
       "654                               TSUEN WAN - HUANGGANG           3   \n",
       "1218  HUANGGANG - TSUEN WAN (TERMINUS AT DISCOVERY P...           3   \n",
       "653   KWUN TONG - HUANGGANG (STOP OUTSIDE SIU LEK YU...           3   \n",
       "652                               KWUN TONG - HUANGGANG           3   \n",
       "1219  KWUN TONG - HUANGGANG (OMIT SIU LEK YUEN ROAD ...           3   \n",
       "1221                              HUANGGANG - KWUN TONG           3   \n",
       "1220  HUANGGANG - KWUN TONG (STOP OUSTIDE SIU LEK YU...           3   \n",
       "1138  HONG KONG-ZHUHAI-MACAO BRIDGE HONG KONG PORT -...           3   \n",
       "1136  HONG KONG-ZHUHAI-MACAO BRIDGE HONG KONG PORT -...           3   \n",
       "897   TAI PO (FU HENG) - AIRPORT (GROUND TRANSPORTAT...           3   \n",
       "\n",
       "                                              route_url  \n",
       "809   http://www.td.gov.hk/en/transport_in_hong_kong...  \n",
       "671   https://www.hongkongdisneyland.com/guest-servi...  \n",
       "664   http://www.td.gov.hk/en/transport_in_hong_kong...  \n",
       "665   http://www.td.gov.hk/en/transport_in_hong_kong...  \n",
       "800   http://www.td.gov.hk/en/transport_in_hong_kong...  \n",
       "655   http://www.td.gov.hk/en/transport_in_hong_kong...  \n",
       "1217  http://www.td.gov.hk/en/transport_in_hong_kong...  \n",
       "666   http://www.td.gov.hk/en/transport_in_hong_kong...  \n",
       "667   http://www.td.gov.hk/en/transport_in_hong_kong...  \n",
       "668   http://www.td.gov.hk/en/transport_in_hong_kong...  \n",
       "654   http://www.td.gov.hk/en/transport_in_hong_kong...  \n",
       "1218  http://www.td.gov.hk/en/transport_in_hong_kong...  \n",
       "653   http://www.td.gov.hk/en/transport_in_hong_kong...  \n",
       "652   http://www.td.gov.hk/en/transport_in_hong_kong...  \n",
       "1219  http://www.td.gov.hk/en/transport_in_hong_kong...  \n",
       "1221  http://www.td.gov.hk/en/transport_in_hong_kong...  \n",
       "1220  http://www.td.gov.hk/en/transport_in_hong_kong...  \n",
       "1138  https://mobile.bravobus.com.hk/nwp3/?f=1&ds=B5...  \n",
       "1136  https://mobile.bravobus.com.hk/nwp3/?f=1&ds=B5...  \n",
       "897   https://search.kmb.hk/KMBWebSite/?action=route...  "
      ]
     },
     "execution_count": 36,
     "metadata": {},
     "output_type": "execute_result"
    }
   ],
   "source": [
    "# basically the longest routes are non-stop routes from mainland china to various places\n",
    "# also one for the HK-macau-zhuhai bridge\n",
    "# the longest non-border routes is from tai po to the airport\n",
    "joined.sort_values('distance', ascending=False).head(20)"
   ]
  },
  {
   "cell_type": "markdown",
   "id": "daef11fc",
   "metadata": {},
   "source": [
    "# Centrality"
   ]
  },
  {
   "cell_type": "code",
   "execution_count": 56,
   "id": "d140b146",
   "metadata": {},
   "outputs": [],
   "source": [
    "#l_c = pd.read_csv('gen/london_c.csv')"
   ]
  },
  {
   "cell_type": "code",
   "execution_count": 57,
   "id": "a05e51ce",
   "metadata": {},
   "outputs": [],
   "source": [
    "# d_c = pd.read_csv('gen/hk_c.csv')"
   ]
  },
  {
   "cell_type": "code",
   "execution_count": 58,
   "id": "050430bf",
   "metadata": {},
   "outputs": [],
   "source": [
    "# d_c['City'] = 'HK'"
   ]
  },
  {
   "cell_type": "code",
   "execution_count": 59,
   "id": "2161d8a3",
   "metadata": {},
   "outputs": [],
   "source": [
    "# l_c['City'] = 'London'"
   ]
  },
  {
   "cell_type": "code",
   "execution_count": 60,
   "id": "4cd21889",
   "metadata": {},
   "outputs": [],
   "source": [
    "# cc = pd.merge(d_c[['City', 'closeness_global']], l_c[['City', 'closeness_global']], on='City', how='outer')\n",
    "# cc"
   ]
  },
  {
   "cell_type": "code",
   "execution_count": 61,
   "id": "8e793846",
   "metadata": {},
   "outputs": [],
   "source": [
    "# cc.shape"
   ]
  },
  {
   "cell_type": "code",
   "execution_count": 62,
   "id": "f15cf760",
   "metadata": {},
   "outputs": [],
   "source": [
    "# d_c.shape[0]"
   ]
  },
  {
   "cell_type": "code",
   "execution_count": 63,
   "id": "b6273031",
   "metadata": {},
   "outputs": [],
   "source": [
    "# l_c.shape[0]"
   ]
  },
  {
   "cell_type": "code",
   "execution_count": 64,
   "id": "f9f1b3e0",
   "metadata": {},
   "outputs": [],
   "source": [
    "# d_c.shape[0] + l_c.shape[0]"
   ]
  },
  {
   "cell_type": "code",
   "execution_count": 65,
   "id": "3201de5c",
   "metadata": {},
   "outputs": [],
   "source": [
    "# cols = ['closeness_global_x', 'closeness_global_y']\n",
    "# cc = cc.assign(value=cc[cols].sum(1)).drop(labels=cols, axis=1)"
   ]
  },
  {
   "cell_type": "code",
   "execution_count": 66,
   "id": "5cb6e4ee",
   "metadata": {},
   "outputs": [],
   "source": [
    "# cc['value'] = cc.value / 1000"
   ]
  },
  {
   "cell_type": "code",
   "execution_count": 67,
   "id": "5fd0de5e",
   "metadata": {},
   "outputs": [],
   "source": [
    "# _, ax = plt.subplots()\n",
    "# sns.histplot(data=cc, ax=ax, x='value', hue='City')\n",
    "# sns.despine()\n",
    "# plt.xlabel('Closeness centrality')\n",
    "# plt.savefig('figures/cc.png')"
   ]
  },
  {
   "cell_type": "markdown",
   "id": "0013a557",
   "metadata": {},
   "source": [
    "# Percentage of pop within X distance of bus stop"
   ]
  },
  {
   "cell_type": "code",
   "execution_count": 3,
   "id": "4dc41fda",
   "metadata": {
    "tags": []
   },
   "outputs": [],
   "source": [
    "l_pct_within = pd.read_csv('gen/l_percentage_within.csv')"
   ]
  },
  {
   "cell_type": "code",
   "execution_count": 4,
   "id": "20f12816",
   "metadata": {
    "tags": []
   },
   "outputs": [],
   "source": [
    "l_pct_within.rename(columns={'Unnamed: 0': 'distance', 'percentage': 'London'}, inplace=True)"
   ]
  },
  {
   "cell_type": "code",
   "execution_count": 6,
   "id": "7ecd65d6",
   "metadata": {},
   "outputs": [],
   "source": [
    "hk_pct_within = pd.read_csv('gen/hk_percentage_within.csv')\n",
    "hk_pct_within.rename(columns={'Unnamed: 0': 'distance', 'percentage': 'Hong Kong'}, inplace=True)"
   ]
  },
  {
   "cell_type": "code",
   "execution_count": 7,
   "id": "e04e6645",
   "metadata": {},
   "outputs": [],
   "source": [
    "pct_within = l_pct_within.merge(hk_pct_within, on='distance')"
   ]
  },
  {
   "cell_type": "code",
   "execution_count": 8,
   "id": "14ccba6b",
   "metadata": {
    "tags": []
   },
   "outputs": [],
   "source": [
    "melted = pct_within.melt('distance', ['London', 'Hong Kong'], var_name='City')"
   ]
  },
  {
   "cell_type": "code",
   "execution_count": 9,
   "id": "b1a79e0c",
   "metadata": {},
   "outputs": [
    {
     "data": {
      "image/png": "[encoded data removed]",
      "text/plain": [
       "<Figure size 576x360 with 1 Axes>"
      ]
     },
     "metadata": {
      "needs_background": "light"
     },
     "output_type": "display_data"
    }
   ],
   "source": [
    "_, ax = plt.subplots(figsize=(8, 5))\n",
    "ax.set_axisbelow(True)\n",
    "ax.yaxis.grid(True, color='#D9D9D9', zorder=3)\n",
    "\n",
    "sns.barplot(data=melted, x='distance', y='value', hue='City', palette='pastel', ax=ax)\n",
    "#sns.move_legend(ax, 'upper right', bbox_to_anchor=(1.3, 1))\n",
    "\n",
    "sns.despine()\n",
    "plt.xlabel('Distance (m)')\n",
    "plt.ylabel('Share of population within distance of bus stop')\n",
    "plt.tight_layout()\n",
    "plt.savefig('figures/pct_within.png')"
   ]
  },
  {
   "cell_type": "code",
   "execution_count": 10,
   "id": "9ca69525",
   "metadata": {},
   "outputs": [
    {
     "data": {
      "text/html": [
       "<div>\n",
       "<style scoped>\n",
       "    .dataframe tbody tr th:only-of-type {\n",
       "        vertical-align: middle;\n",
       "    }\n",
       "\n",
       "    .dataframe tbody tr th {\n",
       "        vertical-align: top;\n",
       "    }\n",
       "\n",
       "    .dataframe thead th {\n",
       "        text-align: right;\n",
       "    }\n",
       "</style>\n",
       "<table border=\"1\" class=\"dataframe\">\n",
       "  <thead>\n",
       "    <tr style=\"text-align: right;\">\n",
       "      <th></th>\n",
       "      <th>Unnamed: 0</th>\n",
       "      <th>distance</th>\n",
       "      <th>count</th>\n",
       "    </tr>\n",
       "  </thead>\n",
       "  <tbody>\n",
       "    <tr>\n",
       "      <th>0</th>\n",
       "      <td>0</td>\n",
       "      <td>100</td>\n",
       "      <td>0</td>\n",
       "    </tr>\n",
       "    <tr>\n",
       "      <th>1</th>\n",
       "      <td>1</td>\n",
       "      <td>100</td>\n",
       "      <td>0</td>\n",
       "    </tr>\n",
       "    <tr>\n",
       "      <th>2</th>\n",
       "      <td>2</td>\n",
       "      <td>100</td>\n",
       "      <td>1</td>\n",
       "    </tr>\n",
       "    <tr>\n",
       "      <th>3</th>\n",
       "      <td>3</td>\n",
       "      <td>100</td>\n",
       "      <td>0</td>\n",
       "    </tr>\n",
       "    <tr>\n",
       "      <th>4</th>\n",
       "      <td>4</td>\n",
       "      <td>100</td>\n",
       "      <td>0</td>\n",
       "    </tr>\n",
       "    <tr>\n",
       "      <th>...</th>\n",
       "      <td>...</td>\n",
       "      <td>...</td>\n",
       "      <td>...</td>\n",
       "    </tr>\n",
       "    <tr>\n",
       "      <th>232465</th>\n",
       "      <td>232465</td>\n",
       "      <td>1000</td>\n",
       "      <td>18</td>\n",
       "    </tr>\n",
       "    <tr>\n",
       "      <th>232466</th>\n",
       "      <td>232466</td>\n",
       "      <td>1000</td>\n",
       "      <td>0</td>\n",
       "    </tr>\n",
       "    <tr>\n",
       "      <th>232467</th>\n",
       "      <td>232467</td>\n",
       "      <td>1000</td>\n",
       "      <td>17</td>\n",
       "    </tr>\n",
       "    <tr>\n",
       "      <th>232468</th>\n",
       "      <td>232468</td>\n",
       "      <td>1000</td>\n",
       "      <td>7</td>\n",
       "    </tr>\n",
       "    <tr>\n",
       "      <th>232469</th>\n",
       "      <td>232469</td>\n",
       "      <td>1000</td>\n",
       "      <td>19</td>\n",
       "    </tr>\n",
       "  </tbody>\n",
       "</table>\n",
       "<p>232470 rows × 3 columns</p>\n",
       "</div>"
      ],
      "text/plain": [
       "        Unnamed: 0  distance  count\n",
       "0                0       100      0\n",
       "1                1       100      0\n",
       "2                2       100      1\n",
       "3                3       100      0\n",
       "4                4       100      0\n",
       "...            ...       ...    ...\n",
       "232465      232465      1000     18\n",
       "232466      232466      1000      0\n",
       "232467      232467      1000     17\n",
       "232468      232468      1000      7\n",
       "232469      232469      1000     19\n",
       "\n",
       "[232470 rows x 3 columns]"
      ]
     },
     "execution_count": 10,
     "metadata": {},
     "output_type": "execute_result"
    }
   ],
   "source": [
    "l_dists_nstops = pd.read_csv('gen/l_dists_nstops.csv')\n",
    "l_dists_nstops"
   ]
  },
  {
   "cell_type": "code",
   "execution_count": 11,
   "id": "7b29e416",
   "metadata": {},
   "outputs": [],
   "source": [
    "l_dists_nstops = l_dists_nstops[['distance', 'count']]"
   ]
  },
  {
   "cell_type": "code",
   "execution_count": 13,
   "id": "cc48a336",
   "metadata": {},
   "outputs": [
    {
     "data": {
      "text/html": [
       "<div>\n",
       "<style scoped>\n",
       "    .dataframe tbody tr th:only-of-type {\n",
       "        vertical-align: middle;\n",
       "    }\n",
       "\n",
       "    .dataframe tbody tr th {\n",
       "        vertical-align: top;\n",
       "    }\n",
       "\n",
       "    .dataframe thead th {\n",
       "        text-align: right;\n",
       "    }\n",
       "</style>\n",
       "<table border=\"1\" class=\"dataframe\">\n",
       "  <thead>\n",
       "    <tr style=\"text-align: right;\">\n",
       "      <th></th>\n",
       "      <th>Unnamed: 0</th>\n",
       "      <th>distance</th>\n",
       "      <th>count</th>\n",
       "    </tr>\n",
       "  </thead>\n",
       "  <tbody>\n",
       "    <tr>\n",
       "      <th>0</th>\n",
       "      <td>0</td>\n",
       "      <td>100</td>\n",
       "      <td>0</td>\n",
       "    </tr>\n",
       "    <tr>\n",
       "      <th>1</th>\n",
       "      <td>1</td>\n",
       "      <td>100</td>\n",
       "      <td>0</td>\n",
       "    </tr>\n",
       "    <tr>\n",
       "      <th>2</th>\n",
       "      <td>2</td>\n",
       "      <td>100</td>\n",
       "      <td>0</td>\n",
       "    </tr>\n",
       "    <tr>\n",
       "      <th>3</th>\n",
       "      <td>3</td>\n",
       "      <td>100</td>\n",
       "      <td>0</td>\n",
       "    </tr>\n",
       "    <tr>\n",
       "      <th>4</th>\n",
       "      <td>4</td>\n",
       "      <td>100</td>\n",
       "      <td>0</td>\n",
       "    </tr>\n",
       "    <tr>\n",
       "      <th>...</th>\n",
       "      <td>...</td>\n",
       "      <td>...</td>\n",
       "      <td>...</td>\n",
       "    </tr>\n",
       "    <tr>\n",
       "      <th>1099545</th>\n",
       "      <td>1099545</td>\n",
       "      <td>1000</td>\n",
       "      <td>0</td>\n",
       "    </tr>\n",
       "    <tr>\n",
       "      <th>1099546</th>\n",
       "      <td>1099546</td>\n",
       "      <td>1000</td>\n",
       "      <td>0</td>\n",
       "    </tr>\n",
       "    <tr>\n",
       "      <th>1099547</th>\n",
       "      <td>1099547</td>\n",
       "      <td>1000</td>\n",
       "      <td>0</td>\n",
       "    </tr>\n",
       "    <tr>\n",
       "      <th>1099548</th>\n",
       "      <td>1099548</td>\n",
       "      <td>1000</td>\n",
       "      <td>0</td>\n",
       "    </tr>\n",
       "    <tr>\n",
       "      <th>1099549</th>\n",
       "      <td>1099549</td>\n",
       "      <td>1000</td>\n",
       "      <td>0</td>\n",
       "    </tr>\n",
       "  </tbody>\n",
       "</table>\n",
       "<p>1099550 rows × 3 columns</p>\n",
       "</div>"
      ],
      "text/plain": [
       "         Unnamed: 0  distance  count\n",
       "0                 0       100      0\n",
       "1                 1       100      0\n",
       "2                 2       100      0\n",
       "3                 3       100      0\n",
       "4                 4       100      0\n",
       "...             ...       ...    ...\n",
       "1099545     1099545      1000      0\n",
       "1099546     1099546      1000      0\n",
       "1099547     1099547      1000      0\n",
       "1099548     1099548      1000      0\n",
       "1099549     1099549      1000      0\n",
       "\n",
       "[1099550 rows x 3 columns]"
      ]
     },
     "execution_count": 13,
     "metadata": {},
     "output_type": "execute_result"
    }
   ],
   "source": [
    "hk_dists_nstops = pd.read_csv('gen/hk_dists_nstops.csv')\n",
    "hk_dists_nstops"
   ]
  },
  {
   "cell_type": "code",
   "execution_count": 14,
   "id": "87803811",
   "metadata": {},
   "outputs": [],
   "source": [
    "hk_dists_nstops = hk_dists_nstops[['distance', 'count']]"
   ]
  },
  {
   "cell_type": "code",
   "execution_count": 15,
   "id": "621540a5",
   "metadata": {},
   "outputs": [],
   "source": [
    "hk_dists_nstops['City'] = 'Hong Kong'"
   ]
  },
  {
   "cell_type": "code",
   "execution_count": 16,
   "id": "8f5d42a1",
   "metadata": {},
   "outputs": [],
   "source": [
    "l_dists_nstops['City'] = 'London'"
   ]
  },
  {
   "cell_type": "code",
   "execution_count": 17,
   "id": "a1b7ef7f",
   "metadata": {},
   "outputs": [
    {
     "data": {
      "text/html": [
       "<div>\n",
       "<style scoped>\n",
       "    .dataframe tbody tr th:only-of-type {\n",
       "        vertical-align: middle;\n",
       "    }\n",
       "\n",
       "    .dataframe tbody tr th {\n",
       "        vertical-align: top;\n",
       "    }\n",
       "\n",
       "    .dataframe thead th {\n",
       "        text-align: right;\n",
       "    }\n",
       "</style>\n",
       "<table border=\"1\" class=\"dataframe\">\n",
       "  <thead>\n",
       "    <tr style=\"text-align: right;\">\n",
       "      <th></th>\n",
       "      <th>distance</th>\n",
       "      <th>count</th>\n",
       "      <th>City</th>\n",
       "    </tr>\n",
       "  </thead>\n",
       "  <tbody>\n",
       "    <tr>\n",
       "      <th>0</th>\n",
       "      <td>100</td>\n",
       "      <td>0</td>\n",
       "      <td>London</td>\n",
       "    </tr>\n",
       "    <tr>\n",
       "      <th>1</th>\n",
       "      <td>100</td>\n",
       "      <td>0</td>\n",
       "      <td>London</td>\n",
       "    </tr>\n",
       "    <tr>\n",
       "      <th>2</th>\n",
       "      <td>100</td>\n",
       "      <td>1</td>\n",
       "      <td>London</td>\n",
       "    </tr>\n",
       "    <tr>\n",
       "      <th>3</th>\n",
       "      <td>100</td>\n",
       "      <td>0</td>\n",
       "      <td>London</td>\n",
       "    </tr>\n",
       "    <tr>\n",
       "      <th>4</th>\n",
       "      <td>100</td>\n",
       "      <td>0</td>\n",
       "      <td>London</td>\n",
       "    </tr>\n",
       "    <tr>\n",
       "      <th>...</th>\n",
       "      <td>...</td>\n",
       "      <td>...</td>\n",
       "      <td>...</td>\n",
       "    </tr>\n",
       "    <tr>\n",
       "      <th>1332015</th>\n",
       "      <td>1000</td>\n",
       "      <td>0</td>\n",
       "      <td>Hong Kong</td>\n",
       "    </tr>\n",
       "    <tr>\n",
       "      <th>1332016</th>\n",
       "      <td>1000</td>\n",
       "      <td>0</td>\n",
       "      <td>Hong Kong</td>\n",
       "    </tr>\n",
       "    <tr>\n",
       "      <th>1332017</th>\n",
       "      <td>1000</td>\n",
       "      <td>0</td>\n",
       "      <td>Hong Kong</td>\n",
       "    </tr>\n",
       "    <tr>\n",
       "      <th>1332018</th>\n",
       "      <td>1000</td>\n",
       "      <td>0</td>\n",
       "      <td>Hong Kong</td>\n",
       "    </tr>\n",
       "    <tr>\n",
       "      <th>1332019</th>\n",
       "      <td>1000</td>\n",
       "      <td>0</td>\n",
       "      <td>Hong Kong</td>\n",
       "    </tr>\n",
       "  </tbody>\n",
       "</table>\n",
       "<p>1332020 rows × 3 columns</p>\n",
       "</div>"
      ],
      "text/plain": [
       "         distance  count       City\n",
       "0             100      0     London\n",
       "1             100      0     London\n",
       "2             100      1     London\n",
       "3             100      0     London\n",
       "4             100      0     London\n",
       "...           ...    ...        ...\n",
       "1332015      1000      0  Hong Kong\n",
       "1332016      1000      0  Hong Kong\n",
       "1332017      1000      0  Hong Kong\n",
       "1332018      1000      0  Hong Kong\n",
       "1332019      1000      0  Hong Kong\n",
       "\n",
       "[1332020 rows x 3 columns]"
      ]
     },
     "execution_count": 17,
     "metadata": {},
     "output_type": "execute_result"
    }
   ],
   "source": [
    "dists_nstops = pd.concat(\n",
    "    [l_dists_nstops, hk_dists_nstops],\n",
    "    ignore_index=True\n",
    ")\n",
    "dists_nstops"
   ]
  },
  {
   "cell_type": "code",
   "execution_count": 18,
   "id": "e2de1323",
   "metadata": {},
   "outputs": [
    {
     "data": {
      "image/png": "[encoded data removed]",
      "text/plain": [
       "<Figure size 720x576 with 1 Axes>"
      ]
     },
     "metadata": {
      "needs_background": "light"
     },
     "output_type": "display_data"
    }
   ],
   "source": [
    "_, ax = plt.subplots(figsize=(10,8))\n",
    "sns.boxplot(data=dists_nstops, y='count', x='distance', hue='City', ax=ax, palette='pastel', linewidth=1,\n",
    "           flierprops=dict(markerfacecolor='white', marker='o'))\n",
    "sns.despine()\n",
    "plt.xlabel('Distance (m)')\n",
    "plt.ylabel('Number of bus stops within distance for a population dot')\n",
    "plt.tight_layout()\n",
    "plt.savefig('figures/nstops_distribution.png')"
   ]
  }
 ],
 "metadata": {
  "kernelspec": {
   "display_name": "Python 3 (ipykernel)",
   "language": "python",
   "name": "python3"
  },
  "language_info": {
   "codemirror_mode": {
    "name": "ipython",
    "version": 3
   },
   "file_extension": ".py",
   "mimetype": "text/x-python",
   "name": "python",
   "nbconvert_exporter": "python",
   "pygments_lexer": "ipython3",
   "version": "3.9.1"
  }
 },
 "nbformat": 4,
 "nbformat_minor": 5
}
