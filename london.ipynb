{
 "cells": [
  {
   "cell_type": "code",
   "execution_count": 1,
   "id": "d0753bb7",
   "metadata": {},
   "outputs": [
    {
     "name": "stderr",
     "output_type": "stream",
     "text": [
      "/home/twenty/miniconda3/lib/python3.9/site-packages/geopandas/_compat.py:111: UserWarning: The Shapely GEOS version (3.8.0-CAPI-1.13.1 ) is incompatible with the GEOS version PyGEOS was compiled with (3.9.0-CAPI-1.16.2). Conversions between both will be slow.\n",
      "  warnings.warn(\n"
     ]
    }
   ],
   "source": [
    "import datetime as dt\n",
    "from datetime import date\n",
    "from datetime import datetime\n",
    "from datetime import timedelta\n",
    "import pandas as pd\n",
    "import geopandas as gpd\n",
    "import numpy as np\n",
    "import seaborn as sns\n",
    "import matplotlib.pyplot as plt\n",
    "from shapely.geometry import LineString, Point\n",
    "import pyproj\n",
    "from shapely.ops import transform\n",
    "import networkx as nx\n",
    "import momepy\n"
   ]
  },
  {
   "cell_type": "markdown",
   "id": "8a0d9652",
   "metadata": {},
   "source": [
    "# Number of routes"
   ]
  },
  {
   "cell_type": "code",
   "execution_count": 2,
   "id": "af2cee9d",
   "metadata": {},
   "outputs": [],
   "source": [
    "bus_sequences = pd.read_csv('data/london/bus-sequences.csv')"
   ]
  },
  {
   "cell_type": "code",
   "execution_count": 3,
   "id": "80accdff",
   "metadata": {},
   "outputs": [
    {
     "data": {
      "text/html": [
       "<div>\n",
       "<style scoped>\n",
       "    .dataframe tbody tr th:only-of-type {\n",
       "        vertical-align: middle;\n",
       "    }\n",
       "\n",
       "    .dataframe tbody tr th {\n",
       "        vertical-align: top;\n",
       "    }\n",
       "\n",
       "    .dataframe thead th {\n",
       "        text-align: right;\n",
       "    }\n",
       "</style>\n",
       "<table border=\"1\" class=\"dataframe\">\n",
       "  <thead>\n",
       "    <tr style=\"text-align: right;\">\n",
       "      <th></th>\n",
       "      <th>Route</th>\n",
       "      <th>Run</th>\n",
       "      <th>Sequence</th>\n",
       "      <th>Stop_Code_LBSL</th>\n",
       "      <th>Bus_Stop_Code</th>\n",
       "      <th>Naptan_Atco</th>\n",
       "      <th>Stop_Name</th>\n",
       "      <th>Location_Easting</th>\n",
       "      <th>Location_Northing</th>\n",
       "      <th>Heading</th>\n",
       "      <th>Virtual_Bus_Stop</th>\n",
       "    </tr>\n",
       "  </thead>\n",
       "  <tbody>\n",
       "    <tr>\n",
       "      <th>0</th>\n",
       "      <td>1</td>\n",
       "      <td>1</td>\n",
       "      <td>1</td>\n",
       "      <td>14456</td>\n",
       "      <td>53369</td>\n",
       "      <td>490000235Z</td>\n",
       "      <td>NEW OXFORD STREET</td>\n",
       "      <td>529998</td>\n",
       "      <td>181428</td>\n",
       "      <td>74.0</td>\n",
       "      <td>0</td>\n",
       "    </tr>\n",
       "    <tr>\n",
       "      <th>1</th>\n",
       "      <td>1</td>\n",
       "      <td>1</td>\n",
       "      <td>2</td>\n",
       "      <td>29844</td>\n",
       "      <td>54468</td>\n",
       "      <td>490010131WB</td>\n",
       "      <td>MUSEUM STREET</td>\n",
       "      <td>530237</td>\n",
       "      <td>181523</td>\n",
       "      <td>53.0</td>\n",
       "      <td>0</td>\n",
       "    </tr>\n",
       "    <tr>\n",
       "      <th>2</th>\n",
       "      <td>1</td>\n",
       "      <td>1</td>\n",
       "      <td>3</td>\n",
       "      <td>26425</td>\n",
       "      <td>54321</td>\n",
       "      <td>490000112M</td>\n",
       "      <td>KINGSWAY / HOLBORN STATION &lt;&gt;</td>\n",
       "      <td>530560</td>\n",
       "      <td>181433</td>\n",
       "      <td>155.0</td>\n",
       "      <td>0</td>\n",
       "    </tr>\n",
       "    <tr>\n",
       "      <th>3</th>\n",
       "      <td>1</td>\n",
       "      <td>1</td>\n",
       "      <td>4</td>\n",
       "      <td>BP6517</td>\n",
       "      <td>92618</td>\n",
       "      <td>490019703Z</td>\n",
       "      <td>ALDWYCH / DRURY LANE</td>\n",
       "      <td>530637</td>\n",
       "      <td>180940</td>\n",
       "      <td>201.0</td>\n",
       "      <td>0</td>\n",
       "    </tr>\n",
       "    <tr>\n",
       "      <th>4</th>\n",
       "      <td>1</td>\n",
       "      <td>1</td>\n",
       "      <td>5</td>\n",
       "      <td>1835</td>\n",
       "      <td>71368</td>\n",
       "      <td>490014271N</td>\n",
       "      <td>WATERLOO BRIDGE / SOUTH BANK</td>\n",
       "      <td>530890</td>\n",
       "      <td>180366</td>\n",
       "      <td>149.0</td>\n",
       "      <td>0</td>\n",
       "    </tr>\n",
       "    <tr>\n",
       "      <th>...</th>\n",
       "      <td>...</td>\n",
       "      <td>...</td>\n",
       "      <td>...</td>\n",
       "      <td>...</td>\n",
       "      <td>...</td>\n",
       "      <td>...</td>\n",
       "      <td>...</td>\n",
       "      <td>...</td>\n",
       "      <td>...</td>\n",
       "      <td>...</td>\n",
       "      <td>...</td>\n",
       "    </tr>\n",
       "    <tr>\n",
       "      <th>58100</th>\n",
       "      <td>X68</td>\n",
       "      <td>2</td>\n",
       "      <td>32</td>\n",
       "      <td>6545</td>\n",
       "      <td>73787</td>\n",
       "      <td>490010343S</td>\n",
       "      <td>NORTHCOTE ROAD / LEGACY YOUTH ZONE</td>\n",
       "      <td>532571</td>\n",
       "      <td>167119</td>\n",
       "      <td>196.0</td>\n",
       "      <td>0</td>\n",
       "    </tr>\n",
       "    <tr>\n",
       "      <th>58101</th>\n",
       "      <td>X68</td>\n",
       "      <td>2</td>\n",
       "      <td>33</td>\n",
       "      <td>6544</td>\n",
       "      <td>56294</td>\n",
       "      <td>490013376S</td>\n",
       "      <td>CROMWELL ROAD</td>\n",
       "      <td>532488</td>\n",
       "      <td>166822</td>\n",
       "      <td>195.0</td>\n",
       "      <td>0</td>\n",
       "    </tr>\n",
       "    <tr>\n",
       "      <th>58102</th>\n",
       "      <td>X68</td>\n",
       "      <td>2</td>\n",
       "      <td>34</td>\n",
       "      <td>6543</td>\n",
       "      <td>58680</td>\n",
       "      <td>490015451S</td>\n",
       "      <td>HOGARTH CRESCENT</td>\n",
       "      <td>532429</td>\n",
       "      <td>166605</td>\n",
       "      <td>198.0</td>\n",
       "      <td>0</td>\n",
       "    </tr>\n",
       "    <tr>\n",
       "      <th>58103</th>\n",
       "      <td>X68</td>\n",
       "      <td>2</td>\n",
       "      <td>35</td>\n",
       "      <td>6542</td>\n",
       "      <td>57633</td>\n",
       "      <td>490003793S</td>\n",
       "      <td>BEDFORD HALL</td>\n",
       "      <td>532368</td>\n",
       "      <td>166379</td>\n",
       "      <td>191.0</td>\n",
       "      <td>0</td>\n",
       "    </tr>\n",
       "    <tr>\n",
       "      <th>58104</th>\n",
       "      <td>X68</td>\n",
       "      <td>2</td>\n",
       "      <td>36</td>\n",
       "      <td>BP6119</td>\n",
       "      <td>92195</td>\n",
       "      <td>490014420Z</td>\n",
       "      <td>WEST CROYDON BUS STATION</td>\n",
       "      <td>532236</td>\n",
       "      <td>166185</td>\n",
       "      <td>238.0</td>\n",
       "      <td>0</td>\n",
       "    </tr>\n",
       "  </tbody>\n",
       "</table>\n",
       "<p>58105 rows × 11 columns</p>\n",
       "</div>"
      ],
      "text/plain": [
       "      Route  Run  Sequence Stop_Code_LBSL Bus_Stop_Code  Naptan_Atco  \\\n",
       "0         1    1         1          14456         53369   490000235Z   \n",
       "1         1    1         2          29844         54468  490010131WB   \n",
       "2         1    1         3          26425         54321   490000112M   \n",
       "3         1    1         4         BP6517         92618   490019703Z   \n",
       "4         1    1         5           1835         71368   490014271N   \n",
       "...     ...  ...       ...            ...           ...          ...   \n",
       "58100   X68    2        32           6545         73787   490010343S   \n",
       "58101   X68    2        33           6544         56294   490013376S   \n",
       "58102   X68    2        34           6543         58680   490015451S   \n",
       "58103   X68    2        35           6542         57633   490003793S   \n",
       "58104   X68    2        36         BP6119         92195   490014420Z   \n",
       "\n",
       "                                Stop_Name  Location_Easting  \\\n",
       "0                       NEW OXFORD STREET            529998   \n",
       "1                           MUSEUM STREET            530237   \n",
       "2           KINGSWAY / HOLBORN STATION <>            530560   \n",
       "3                    ALDWYCH / DRURY LANE            530637   \n",
       "4            WATERLOO BRIDGE / SOUTH BANK            530890   \n",
       "...                                   ...               ...   \n",
       "58100  NORTHCOTE ROAD / LEGACY YOUTH ZONE            532571   \n",
       "58101                       CROMWELL ROAD            532488   \n",
       "58102                    HOGARTH CRESCENT            532429   \n",
       "58103                        BEDFORD HALL            532368   \n",
       "58104            WEST CROYDON BUS STATION            532236   \n",
       "\n",
       "       Location_Northing  Heading  Virtual_Bus_Stop  \n",
       "0                 181428     74.0                 0  \n",
       "1                 181523     53.0                 0  \n",
       "2                 181433    155.0                 0  \n",
       "3                 180940    201.0                 0  \n",
       "4                 180366    149.0                 0  \n",
       "...                  ...      ...               ...  \n",
       "58100             167119    196.0                 0  \n",
       "58101             166822    195.0                 0  \n",
       "58102             166605    198.0                 0  \n",
       "58103             166379    191.0                 0  \n",
       "58104             166185    238.0                 0  \n",
       "\n",
       "[58105 rows x 11 columns]"
      ]
     },
     "execution_count": 3,
     "metadata": {},
     "output_type": "execute_result"
    }
   ],
   "source": [
    "bus_sequences"
   ]
  },
  {
   "cell_type": "markdown",
   "id": "0216fb0c",
   "metadata": {},
   "source": [
    "# Cleaning up"
   ]
  },
  {
   "cell_type": "markdown",
   "id": "a096072f",
   "metadata": {},
   "source": [
    "## Drop virtual bus stops"
   ]
  },
  {
   "cell_type": "code",
   "execution_count": 4,
   "id": "8fa488aa",
   "metadata": {},
   "outputs": [],
   "source": [
    "bus_sequences = bus_sequences[bus_sequences.Virtual_Bus_Stop == 0]"
   ]
  },
  {
   "cell_type": "code",
   "execution_count": 5,
   "id": "ce86c12c",
   "metadata": {},
   "outputs": [
    {
     "data": {
      "text/plain": [
       "(774,)"
      ]
     },
     "execution_count": 5,
     "metadata": {},
     "output_type": "execute_result"
    }
   ],
   "source": [
    "bus_sequences.Route.unique().shape"
   ]
  },
  {
   "cell_type": "code",
   "execution_count": 6,
   "id": "5a4f6b34",
   "metadata": {},
   "outputs": [
    {
     "data": {
      "text/plain": [
       "0.4933078393881453"
      ]
     },
     "execution_count": 6,
     "metadata": {},
     "output_type": "execute_result"
    }
   ],
   "source": [
    "# number of routes per km2\n",
    "774 / 1_569"
   ]
  },
  {
   "cell_type": "code",
   "execution_count": 7,
   "id": "c3df673a",
   "metadata": {},
   "outputs": [
    {
     "data": {
      "text/plain": [
       "8.697239974717326e-05"
      ]
     },
     "execution_count": 7,
     "metadata": {},
     "output_type": "execute_result"
    }
   ],
   "source": [
    "# number of routes per capita\n",
    "774 / 8_899_375"
   ]
  },
  {
   "cell_type": "markdown",
   "id": "666d1e56",
   "metadata": {},
   "source": [
    "## Remove incorrect data"
   ]
  },
  {
   "cell_type": "code",
   "execution_count": 8,
   "id": "e8dd7287",
   "metadata": {},
   "outputs": [
    {
     "data": {
      "text/html": [
       "<div>\n",
       "<style scoped>\n",
       "    .dataframe tbody tr th:only-of-type {\n",
       "        vertical-align: middle;\n",
       "    }\n",
       "\n",
       "    .dataframe tbody tr th {\n",
       "        vertical-align: top;\n",
       "    }\n",
       "\n",
       "    .dataframe thead th {\n",
       "        text-align: right;\n",
       "    }\n",
       "</style>\n",
       "<table border=\"1\" class=\"dataframe\">\n",
       "  <thead>\n",
       "    <tr style=\"text-align: right;\">\n",
       "      <th></th>\n",
       "      <th>Route</th>\n",
       "      <th>Run</th>\n",
       "      <th>Sequence</th>\n",
       "      <th>Stop_Code_LBSL</th>\n",
       "      <th>Bus_Stop_Code</th>\n",
       "      <th>Naptan_Atco</th>\n",
       "      <th>Stop_Name</th>\n",
       "      <th>Location_Easting</th>\n",
       "      <th>Location_Northing</th>\n",
       "      <th>Heading</th>\n",
       "      <th>Virtual_Bus_Stop</th>\n",
       "    </tr>\n",
       "  </thead>\n",
       "  <tbody>\n",
       "    <tr>\n",
       "      <th>56065</th>\n",
       "      <td>UL29</td>\n",
       "      <td>1</td>\n",
       "      <td>1</td>\n",
       "      <td>BP4272</td>\n",
       "      <td>56216</td>\n",
       "      <td>490014164C</td>\n",
       "      <td>WALTHAMSTOW BUS STATION &lt;&gt; #</td>\n",
       "      <td>537246</td>\n",
       "      <td>189096</td>\n",
       "      <td>180.0</td>\n",
       "      <td>0</td>\n",
       "    </tr>\n",
       "    <tr>\n",
       "      <th>56066</th>\n",
       "      <td>UL29</td>\n",
       "      <td>1</td>\n",
       "      <td>1</td>\n",
       "      <td>BP5006</td>\n",
       "      <td>51593</td>\n",
       "      <td>490007705L</td>\n",
       "      <td>HAMMERSMITH BUS STATION</td>\n",
       "      <td>523452</td>\n",
       "      <td>178558</td>\n",
       "      <td>150.0</td>\n",
       "      <td>0</td>\n",
       "    </tr>\n",
       "    <tr>\n",
       "      <th>56067</th>\n",
       "      <td>UL29</td>\n",
       "      <td>1</td>\n",
       "      <td>2</td>\n",
       "      <td>7973</td>\n",
       "      <td>59088</td>\n",
       "      <td>490001178S</td>\n",
       "      <td>LEYTON MIDLAND ROAD STATION #</td>\n",
       "      <td>538139</td>\n",
       "      <td>187497</td>\n",
       "      <td>184.0</td>\n",
       "      <td>0</td>\n",
       "    </tr>\n",
       "    <tr>\n",
       "      <th>56068</th>\n",
       "      <td>UL29</td>\n",
       "      <td>1</td>\n",
       "      <td>2</td>\n",
       "      <td>BP1501</td>\n",
       "      <td>72255</td>\n",
       "      <td>490011594W</td>\n",
       "      <td>RAVENSCOURT PARK STATION &lt;&gt;</td>\n",
       "      <td>522571</td>\n",
       "      <td>178581</td>\n",
       "      <td>280.0</td>\n",
       "      <td>0</td>\n",
       "    </tr>\n",
       "    <tr>\n",
       "      <th>56069</th>\n",
       "      <td>UL29</td>\n",
       "      <td>1</td>\n",
       "      <td>3</td>\n",
       "      <td>174</td>\n",
       "      <td>52258</td>\n",
       "      <td>490007272H</td>\n",
       "      <td>GOLDHAWK ROAD</td>\n",
       "      <td>521996</td>\n",
       "      <td>178621</td>\n",
       "      <td>265.0</td>\n",
       "      <td>0</td>\n",
       "    </tr>\n",
       "    <tr>\n",
       "      <th>56070</th>\n",
       "      <td>UL29</td>\n",
       "      <td>1</td>\n",
       "      <td>3</td>\n",
       "      <td>R0022</td>\n",
       "      <td>76013</td>\n",
       "      <td>490001179N</td>\n",
       "      <td>LEYTONSTONE HIGH ROAD STATION #</td>\n",
       "      <td>539373</td>\n",
       "      <td>186790</td>\n",
       "      <td>18.0</td>\n",
       "      <td>0</td>\n",
       "    </tr>\n",
       "    <tr>\n",
       "      <th>56071</th>\n",
       "      <td>UL29</td>\n",
       "      <td>1</td>\n",
       "      <td>4</td>\n",
       "      <td>6153</td>\n",
       "      <td>52755</td>\n",
       "      <td>490013850RR</td>\n",
       "      <td>CHISWICK LANE</td>\n",
       "      <td>521346</td>\n",
       "      <td>178534</td>\n",
       "      <td>263.0</td>\n",
       "      <td>0</td>\n",
       "    </tr>\n",
       "    <tr>\n",
       "      <th>56072</th>\n",
       "      <td>UL29</td>\n",
       "      <td>1</td>\n",
       "      <td>4</td>\n",
       "      <td>BP1545</td>\n",
       "      <td>50847</td>\n",
       "      <td>490000137T</td>\n",
       "      <td>LEYTONSTONE STATION &lt;&gt;</td>\n",
       "      <td>539325</td>\n",
       "      <td>187425</td>\n",
       "      <td>205.0</td>\n",
       "      <td>0</td>\n",
       "    </tr>\n",
       "    <tr>\n",
       "      <th>56073</th>\n",
       "      <td>UL29</td>\n",
       "      <td>1</td>\n",
       "      <td>5</td>\n",
       "      <td>133</td>\n",
       "      <td>47958</td>\n",
       "      <td>490000048CV</td>\n",
       "      <td>TURNHAM GREEN CHURCH</td>\n",
       "      <td>520462</td>\n",
       "      <td>178495</td>\n",
       "      <td>273.0</td>\n",
       "      <td>0</td>\n",
       "    </tr>\n",
       "    <tr>\n",
       "      <th>56074</th>\n",
       "      <td>UL29</td>\n",
       "      <td>1</td>\n",
       "      <td>6</td>\n",
       "      <td>27303</td>\n",
       "      <td>52780</td>\n",
       "      <td>490000094A</td>\n",
       "      <td>GUNNERSBURY STATION &lt;&gt; #</td>\n",
       "      <td>519856</td>\n",
       "      <td>178454</td>\n",
       "      <td>261.0</td>\n",
       "      <td>0</td>\n",
       "    </tr>\n",
       "    <tr>\n",
       "      <th>56075</th>\n",
       "      <td>UL29</td>\n",
       "      <td>1</td>\n",
       "      <td>7</td>\n",
       "      <td>33852</td>\n",
       "      <td>50980</td>\n",
       "      <td>490000002B</td>\n",
       "      <td>ACTON TOWN STATION &lt;&gt;</td>\n",
       "      <td>519485</td>\n",
       "      <td>179745</td>\n",
       "      <td>20.0</td>\n",
       "      <td>0</td>\n",
       "    </tr>\n",
       "    <tr>\n",
       "      <th>56076</th>\n",
       "      <td>UL29</td>\n",
       "      <td>1</td>\n",
       "      <td>8</td>\n",
       "      <td>4639</td>\n",
       "      <td>77705</td>\n",
       "      <td>490000063U</td>\n",
       "      <td>EALING COMMON STATION &lt;&gt;</td>\n",
       "      <td>518943</td>\n",
       "      <td>180408</td>\n",
       "      <td>295.0</td>\n",
       "      <td>0</td>\n",
       "    </tr>\n",
       "    <tr>\n",
       "      <th>56077</th>\n",
       "      <td>UL29</td>\n",
       "      <td>1</td>\n",
       "      <td>9</td>\n",
       "      <td>733</td>\n",
       "      <td>71884</td>\n",
       "      <td>490000062K</td>\n",
       "      <td>EALING BROADWAY STATION &lt;&gt; #</td>\n",
       "      <td>518080</td>\n",
       "      <td>180819</td>\n",
       "      <td>291.0</td>\n",
       "      <td>0</td>\n",
       "    </tr>\n",
       "    <tr>\n",
       "      <th>56078</th>\n",
       "      <td>UL29</td>\n",
       "      <td>1</td>\n",
       "      <td>10</td>\n",
       "      <td>15696</td>\n",
       "      <td>53340</td>\n",
       "      <td>490000208B</td>\n",
       "      <td>SOUTH EALING STATION &lt;&gt;</td>\n",
       "      <td>517636</td>\n",
       "      <td>179377</td>\n",
       "      <td>169.0</td>\n",
       "      <td>0</td>\n",
       "    </tr>\n",
       "    <tr>\n",
       "      <th>56079</th>\n",
       "      <td>UL29</td>\n",
       "      <td>1</td>\n",
       "      <td>11</td>\n",
       "      <td>14092</td>\n",
       "      <td>50730</td>\n",
       "      <td>490000159B</td>\n",
       "      <td>NORTHFIELDS STATION &lt;&gt;</td>\n",
       "      <td>517055</td>\n",
       "      <td>179194</td>\n",
       "      <td>343.0</td>\n",
       "      <td>0</td>\n",
       "    </tr>\n",
       "    <tr>\n",
       "      <th>56080</th>\n",
       "      <td>UL29</td>\n",
       "      <td>1</td>\n",
       "      <td>12</td>\n",
       "      <td>10901</td>\n",
       "      <td>77062</td>\n",
       "      <td>490000027B</td>\n",
       "      <td>BOSTON MANOR STATION &lt;&gt;</td>\n",
       "      <td>516433</td>\n",
       "      <td>178756</td>\n",
       "      <td>119.0</td>\n",
       "      <td>0</td>\n",
       "    </tr>\n",
       "    <tr>\n",
       "      <th>56081</th>\n",
       "      <td>UL29</td>\n",
       "      <td>1</td>\n",
       "      <td>13</td>\n",
       "      <td>3017</td>\n",
       "      <td>77117</td>\n",
       "      <td>490000171B</td>\n",
       "      <td>OSTERLEY STATION &lt;&gt;</td>\n",
       "      <td>514563</td>\n",
       "      <td>177036</td>\n",
       "      <td>253.0</td>\n",
       "      <td>0</td>\n",
       "    </tr>\n",
       "    <tr>\n",
       "      <th>56082</th>\n",
       "      <td>UL29</td>\n",
       "      <td>2</td>\n",
       "      <td>1</td>\n",
       "      <td>BP1545</td>\n",
       "      <td>50847</td>\n",
       "      <td>490000137T</td>\n",
       "      <td>LEYTONSTONE STATION &lt;&gt;</td>\n",
       "      <td>539325</td>\n",
       "      <td>187425</td>\n",
       "      <td>205.0</td>\n",
       "      <td>0</td>\n",
       "    </tr>\n",
       "    <tr>\n",
       "      <th>56083</th>\n",
       "      <td>UL29</td>\n",
       "      <td>2</td>\n",
       "      <td>1</td>\n",
       "      <td>R0224</td>\n",
       "      <td>53539</td>\n",
       "      <td>490000171A</td>\n",
       "      <td>OSTERLEY STATION &lt;&gt;</td>\n",
       "      <td>514546</td>\n",
       "      <td>177058</td>\n",
       "      <td>73.0</td>\n",
       "      <td>0</td>\n",
       "    </tr>\n",
       "    <tr>\n",
       "      <th>56084</th>\n",
       "      <td>UL29</td>\n",
       "      <td>2</td>\n",
       "      <td>2</td>\n",
       "      <td>3211</td>\n",
       "      <td>55915</td>\n",
       "      <td>490001179S</td>\n",
       "      <td>LEYTONSTONE HIGH ROAD STATION #</td>\n",
       "      <td>539408</td>\n",
       "      <td>186891</td>\n",
       "      <td>187.0</td>\n",
       "      <td>0</td>\n",
       "    </tr>\n",
       "    <tr>\n",
       "      <th>56085</th>\n",
       "      <td>UL29</td>\n",
       "      <td>2</td>\n",
       "      <td>2</td>\n",
       "      <td>6881</td>\n",
       "      <td>47173</td>\n",
       "      <td>490000027A</td>\n",
       "      <td>BOSTON MANOR STATION &lt;&gt;</td>\n",
       "      <td>516375</td>\n",
       "      <td>178772</td>\n",
       "      <td>307.0</td>\n",
       "      <td>0</td>\n",
       "    </tr>\n",
       "    <tr>\n",
       "      <th>56086</th>\n",
       "      <td>UL29</td>\n",
       "      <td>2</td>\n",
       "      <td>3</td>\n",
       "      <td>7974</td>\n",
       "      <td>59416</td>\n",
       "      <td>490001178N</td>\n",
       "      <td>LEYTON MIDLAND ROAD STATION &lt;&gt;</td>\n",
       "      <td>538121</td>\n",
       "      <td>187606</td>\n",
       "      <td>354.0</td>\n",
       "      <td>0</td>\n",
       "    </tr>\n",
       "    <tr>\n",
       "      <th>56087</th>\n",
       "      <td>UL29</td>\n",
       "      <td>2</td>\n",
       "      <td>3</td>\n",
       "      <td>BP3594</td>\n",
       "      <td>NONE</td>\n",
       "      <td>490000159X</td>\n",
       "      <td>NORTHFIELDS STATION &lt;&gt;</td>\n",
       "      <td>517098</td>\n",
       "      <td>179134</td>\n",
       "      <td>149.0</td>\n",
       "      <td>0</td>\n",
       "    </tr>\n",
       "    <tr>\n",
       "      <th>56088</th>\n",
       "      <td>UL29</td>\n",
       "      <td>2</td>\n",
       "      <td>4</td>\n",
       "      <td>15697</td>\n",
       "      <td>56374</td>\n",
       "      <td>490000208A</td>\n",
       "      <td>SOUTH EALING STATION &lt;&gt;</td>\n",
       "      <td>517628</td>\n",
       "      <td>179353</td>\n",
       "      <td>349.0</td>\n",
       "      <td>0</td>\n",
       "    </tr>\n",
       "    <tr>\n",
       "      <th>56089</th>\n",
       "      <td>UL29</td>\n",
       "      <td>2</td>\n",
       "      <td>4</td>\n",
       "      <td>R0010</td>\n",
       "      <td>NONE</td>\n",
       "      <td>490000249K</td>\n",
       "      <td>WALTHAMSTOW CENTRAL STATION &lt;&gt; #</td>\n",
       "      <td>537183</td>\n",
       "      <td>188970</td>\n",
       "      <td>260.0</td>\n",
       "      <td>0</td>\n",
       "    </tr>\n",
       "    <tr>\n",
       "      <th>56090</th>\n",
       "      <td>UL29</td>\n",
       "      <td>2</td>\n",
       "      <td>5</td>\n",
       "      <td>734</td>\n",
       "      <td>47760</td>\n",
       "      <td>490000062H</td>\n",
       "      <td>EALING BROADWAY STATION &lt;&gt; #</td>\n",
       "      <td>517890</td>\n",
       "      <td>180813</td>\n",
       "      <td>67.0</td>\n",
       "      <td>0</td>\n",
       "    </tr>\n",
       "    <tr>\n",
       "      <th>56091</th>\n",
       "      <td>UL29</td>\n",
       "      <td>2</td>\n",
       "      <td>6</td>\n",
       "      <td>688</td>\n",
       "      <td>53898</td>\n",
       "      <td>490000063S</td>\n",
       "      <td>EALING COMMON STATION &lt;&gt;</td>\n",
       "      <td>518837</td>\n",
       "      <td>180470</td>\n",
       "      <td>113.0</td>\n",
       "      <td>0</td>\n",
       "    </tr>\n",
       "    <tr>\n",
       "      <th>56092</th>\n",
       "      <td>UL29</td>\n",
       "      <td>2</td>\n",
       "      <td>7</td>\n",
       "      <td>33851</td>\n",
       "      <td>57685</td>\n",
       "      <td>490000002A</td>\n",
       "      <td>ACTON TOWN STATION &lt;&gt;</td>\n",
       "      <td>519409</td>\n",
       "      <td>179600</td>\n",
       "      <td>230.0</td>\n",
       "      <td>0</td>\n",
       "    </tr>\n",
       "    <tr>\n",
       "      <th>56093</th>\n",
       "      <td>UL29</td>\n",
       "      <td>2</td>\n",
       "      <td>8</td>\n",
       "      <td>1049</td>\n",
       "      <td>58644</td>\n",
       "      <td>490000094B</td>\n",
       "      <td>GUNNERSBURY STATION &lt;&gt; #</td>\n",
       "      <td>519799</td>\n",
       "      <td>178464</td>\n",
       "      <td>81.0</td>\n",
       "      <td>0</td>\n",
       "    </tr>\n",
       "    <tr>\n",
       "      <th>56094</th>\n",
       "      <td>UL29</td>\n",
       "      <td>2</td>\n",
       "      <td>9</td>\n",
       "      <td>134</td>\n",
       "      <td>50706</td>\n",
       "      <td>490013848DD</td>\n",
       "      <td>TURNHAM GREEN CHURCH</td>\n",
       "      <td>520555</td>\n",
       "      <td>178504</td>\n",
       "      <td>93.0</td>\n",
       "      <td>0</td>\n",
       "    </tr>\n",
       "    <tr>\n",
       "      <th>56095</th>\n",
       "      <td>UL29</td>\n",
       "      <td>2</td>\n",
       "      <td>10</td>\n",
       "      <td>29149</td>\n",
       "      <td>48750</td>\n",
       "      <td>490013850OO</td>\n",
       "      <td>CHISWICK LANE</td>\n",
       "      <td>521303</td>\n",
       "      <td>178545</td>\n",
       "      <td>84.0</td>\n",
       "      <td>0</td>\n",
       "    </tr>\n",
       "    <tr>\n",
       "      <th>56096</th>\n",
       "      <td>UL29</td>\n",
       "      <td>2</td>\n",
       "      <td>11</td>\n",
       "      <td>172</td>\n",
       "      <td>52091</td>\n",
       "      <td>490007273L</td>\n",
       "      <td>GOLDHAWK ROAD / YOUNG'S CORNER</td>\n",
       "      <td>521826</td>\n",
       "      <td>178621</td>\n",
       "      <td>85.0</td>\n",
       "      <td>0</td>\n",
       "    </tr>\n",
       "    <tr>\n",
       "      <th>56097</th>\n",
       "      <td>UL29</td>\n",
       "      <td>2</td>\n",
       "      <td>12</td>\n",
       "      <td>6146</td>\n",
       "      <td>71308</td>\n",
       "      <td>490011438E</td>\n",
       "      <td>RAVENSCOURT PARK STATION &lt;&gt;</td>\n",
       "      <td>522460</td>\n",
       "      <td>178626</td>\n",
       "      <td>106.0</td>\n",
       "      <td>0</td>\n",
       "    </tr>\n",
       "    <tr>\n",
       "      <th>56098</th>\n",
       "      <td>UL29</td>\n",
       "      <td>2</td>\n",
       "      <td>13</td>\n",
       "      <td>29966</td>\n",
       "      <td>57309</td>\n",
       "      <td>490000097T</td>\n",
       "      <td>HAMMERSMITH STN / H&amp;C AND CIRCLE LINES&lt;&gt;</td>\n",
       "      <td>523309</td>\n",
       "      <td>178646</td>\n",
       "      <td>119.0</td>\n",
       "      <td>0</td>\n",
       "    </tr>\n",
       "  </tbody>\n",
       "</table>\n",
       "</div>"
      ],
      "text/plain": [
       "      Route  Run  Sequence Stop_Code_LBSL Bus_Stop_Code  Naptan_Atco  \\\n",
       "56065  UL29    1         1         BP4272         56216   490014164C   \n",
       "56066  UL29    1         1         BP5006         51593   490007705L   \n",
       "56067  UL29    1         2           7973         59088   490001178S   \n",
       "56068  UL29    1         2         BP1501         72255   490011594W   \n",
       "56069  UL29    1         3            174         52258   490007272H   \n",
       "56070  UL29    1         3          R0022         76013   490001179N   \n",
       "56071  UL29    1         4           6153         52755  490013850RR   \n",
       "56072  UL29    1         4         BP1545         50847   490000137T   \n",
       "56073  UL29    1         5            133         47958  490000048CV   \n",
       "56074  UL29    1         6          27303         52780   490000094A   \n",
       "56075  UL29    1         7          33852         50980   490000002B   \n",
       "56076  UL29    1         8           4639         77705   490000063U   \n",
       "56077  UL29    1         9            733         71884   490000062K   \n",
       "56078  UL29    1        10          15696         53340   490000208B   \n",
       "56079  UL29    1        11          14092         50730   490000159B   \n",
       "56080  UL29    1        12          10901         77062   490000027B   \n",
       "56081  UL29    1        13           3017         77117   490000171B   \n",
       "56082  UL29    2         1         BP1545         50847   490000137T   \n",
       "56083  UL29    2         1          R0224         53539   490000171A   \n",
       "56084  UL29    2         2           3211         55915   490001179S   \n",
       "56085  UL29    2         2           6881         47173   490000027A   \n",
       "56086  UL29    2         3           7974         59416   490001178N   \n",
       "56087  UL29    2         3         BP3594          NONE   490000159X   \n",
       "56088  UL29    2         4          15697         56374   490000208A   \n",
       "56089  UL29    2         4          R0010          NONE   490000249K   \n",
       "56090  UL29    2         5            734         47760   490000062H   \n",
       "56091  UL29    2         6            688         53898   490000063S   \n",
       "56092  UL29    2         7          33851         57685   490000002A   \n",
       "56093  UL29    2         8           1049         58644   490000094B   \n",
       "56094  UL29    2         9            134         50706  490013848DD   \n",
       "56095  UL29    2        10          29149         48750  490013850OO   \n",
       "56096  UL29    2        11            172         52091   490007273L   \n",
       "56097  UL29    2        12           6146         71308   490011438E   \n",
       "56098  UL29    2        13          29966         57309   490000097T   \n",
       "\n",
       "                                      Stop_Name  Location_Easting  \\\n",
       "56065              WALTHAMSTOW BUS STATION <> #            537246   \n",
       "56066                   HAMMERSMITH BUS STATION            523452   \n",
       "56067             LEYTON MIDLAND ROAD STATION #            538139   \n",
       "56068               RAVENSCOURT PARK STATION <>            522571   \n",
       "56069                             GOLDHAWK ROAD            521996   \n",
       "56070           LEYTONSTONE HIGH ROAD STATION #            539373   \n",
       "56071                             CHISWICK LANE            521346   \n",
       "56072                    LEYTONSTONE STATION <>            539325   \n",
       "56073                      TURNHAM GREEN CHURCH            520462   \n",
       "56074                  GUNNERSBURY STATION <> #            519856   \n",
       "56075                     ACTON TOWN STATION <>            519485   \n",
       "56076                  EALING COMMON STATION <>            518943   \n",
       "56077              EALING BROADWAY STATION <> #            518080   \n",
       "56078                   SOUTH EALING STATION <>            517636   \n",
       "56079                    NORTHFIELDS STATION <>            517055   \n",
       "56080                   BOSTON MANOR STATION <>            516433   \n",
       "56081                       OSTERLEY STATION <>            514563   \n",
       "56082                    LEYTONSTONE STATION <>            539325   \n",
       "56083                       OSTERLEY STATION <>            514546   \n",
       "56084           LEYTONSTONE HIGH ROAD STATION #            539408   \n",
       "56085                   BOSTON MANOR STATION <>            516375   \n",
       "56086            LEYTON MIDLAND ROAD STATION <>            538121   \n",
       "56087                    NORTHFIELDS STATION <>            517098   \n",
       "56088                   SOUTH EALING STATION <>            517628   \n",
       "56089          WALTHAMSTOW CENTRAL STATION <> #            537183   \n",
       "56090              EALING BROADWAY STATION <> #            517890   \n",
       "56091                  EALING COMMON STATION <>            518837   \n",
       "56092                     ACTON TOWN STATION <>            519409   \n",
       "56093                  GUNNERSBURY STATION <> #            519799   \n",
       "56094                      TURNHAM GREEN CHURCH            520555   \n",
       "56095                             CHISWICK LANE            521303   \n",
       "56096            GOLDHAWK ROAD / YOUNG'S CORNER            521826   \n",
       "56097               RAVENSCOURT PARK STATION <>            522460   \n",
       "56098  HAMMERSMITH STN / H&C AND CIRCLE LINES<>            523309   \n",
       "\n",
       "       Location_Northing  Heading  Virtual_Bus_Stop  \n",
       "56065             189096    180.0                 0  \n",
       "56066             178558    150.0                 0  \n",
       "56067             187497    184.0                 0  \n",
       "56068             178581    280.0                 0  \n",
       "56069             178621    265.0                 0  \n",
       "56070             186790     18.0                 0  \n",
       "56071             178534    263.0                 0  \n",
       "56072             187425    205.0                 0  \n",
       "56073             178495    273.0                 0  \n",
       "56074             178454    261.0                 0  \n",
       "56075             179745     20.0                 0  \n",
       "56076             180408    295.0                 0  \n",
       "56077             180819    291.0                 0  \n",
       "56078             179377    169.0                 0  \n",
       "56079             179194    343.0                 0  \n",
       "56080             178756    119.0                 0  \n",
       "56081             177036    253.0                 0  \n",
       "56082             187425    205.0                 0  \n",
       "56083             177058     73.0                 0  \n",
       "56084             186891    187.0                 0  \n",
       "56085             178772    307.0                 0  \n",
       "56086             187606    354.0                 0  \n",
       "56087             179134    149.0                 0  \n",
       "56088             179353    349.0                 0  \n",
       "56089             188970    260.0                 0  \n",
       "56090             180813     67.0                 0  \n",
       "56091             180470    113.0                 0  \n",
       "56092             179600    230.0                 0  \n",
       "56093             178464     81.0                 0  \n",
       "56094             178504     93.0                 0  \n",
       "56095             178545     84.0                 0  \n",
       "56096             178621     85.0                 0  \n",
       "56097             178626    106.0                 0  \n",
       "56098             178646    119.0                 0  "
      ]
     },
     "execution_count": 8,
     "metadata": {},
     "output_type": "execute_result"
    }
   ],
   "source": [
    "# The problem is that there are duplicated [Route, Run, Sequences], that makes it impossible to\n",
    "# split up the two apparent different bus routes with the same name\n",
    "bus_sequences[bus_sequences.Route == 'UL29']"
   ]
  },
  {
   "cell_type": "code",
   "execution_count": 9,
   "id": "29839e40",
   "metadata": {},
   "outputs": [],
   "source": [
    "bus_sequences = bus_sequences[bus_sequences.Route != 'UL29']"
   ]
  },
  {
   "cell_type": "markdown",
   "id": "6e76d18f",
   "metadata": {},
   "source": [
    "# Number of stops"
   ]
  },
  {
   "cell_type": "markdown",
   "id": "5a025d68",
   "metadata": {},
   "source": [
    "The reference on LBSL stop code says:\n",
    "\n",
    "> *** KEY FIELD *** This is the alphanumeric identifier of a bus stop used by LBSL.\n",
    "\n",
    "This number is pretty similar to the \"bus stop code\", so it must be \"double counting\" stops by distinguishing direction"
   ]
  },
  {
   "cell_type": "code",
   "execution_count": 10,
   "id": "fbb14f1c",
   "metadata": {},
   "outputs": [
    {
     "data": {
      "text/plain": [
       "(18919,)"
      ]
     },
     "execution_count": 10,
     "metadata": {},
     "output_type": "execute_result"
    }
   ],
   "source": [
    "bus_sequences.Stop_Code_LBSL.unique().shape"
   ]
  },
  {
   "cell_type": "markdown",
   "id": "a221d269",
   "metadata": {},
   "source": [
    "The reference on Bus stop code says:\n",
    "\n",
    "> The area code for London is “1”.  As an example, the bus stop code for Southwark Station heading northbound is: 77293.  The NaPTAN NaptanCode for this stop is therefore 177293\n",
    "\n",
    "Should this \"double count\" stops by distinguishing direction?"
   ]
  },
  {
   "cell_type": "code",
   "execution_count": 11,
   "id": "656cd386",
   "metadata": {},
   "outputs": [
    {
     "data": {
      "text/plain": [
       "(18872,)"
      ]
     },
     "execution_count": 11,
     "metadata": {},
     "output_type": "execute_result"
    }
   ],
   "source": [
    "bus_sequences.Bus_Stop_Code.unique().shape"
   ]
  },
  {
   "cell_type": "code",
   "execution_count": 12,
   "id": "d2dadebd",
   "metadata": {},
   "outputs": [
    {
     "data": {
      "text/plain": [
       "(9693,)"
      ]
     },
     "execution_count": 12,
     "metadata": {},
     "output_type": "execute_result"
    }
   ],
   "source": [
    "bus_sequences.Stop_Name.unique().shape"
   ]
  },
  {
   "cell_type": "code",
   "execution_count": 13,
   "id": "74326a5b",
   "metadata": {},
   "outputs": [
    {
     "data": {
      "text/plain": [
       "(18919,)"
      ]
     },
     "execution_count": 13,
     "metadata": {},
     "output_type": "execute_result"
    }
   ],
   "source": [
    "bus_sequences.Naptan_Atco.unique().shape"
   ]
  },
  {
   "cell_type": "code",
   "execution_count": 14,
   "id": "8bd4b1d6",
   "metadata": {},
   "outputs": [
    {
     "data": {
      "text/plain": [
       "12.02804333970682"
      ]
     },
     "execution_count": 14,
     "metadata": {},
     "output_type": "execute_result"
    }
   ],
   "source": [
    "# number of stops per km2\n",
    "18872 / 1_569"
   ]
  },
  {
   "cell_type": "code",
   "execution_count": 15,
   "id": "74d3358c",
   "metadata": {},
   "outputs": [
    {
     "data": {
      "text/plain": [
       "0.0021205983566261674"
      ]
     },
     "execution_count": 15,
     "metadata": {},
     "output_type": "execute_result"
    }
   ],
   "source": [
    "# number of stops per capita\n",
    "18872 / 8_899_375"
   ]
  },
  {
   "cell_type": "markdown",
   "id": "9a8e500e",
   "metadata": {},
   "source": [
    "# Average number of stops per route"
   ]
  },
  {
   "cell_type": "markdown",
   "id": "b01a6608",
   "metadata": {},
   "source": [
    "Let's accomodate all the different measures..."
   ]
  },
  {
   "cell_type": "code",
   "execution_count": 16,
   "id": "6f0a14d3",
   "metadata": {},
   "outputs": [],
   "source": [
    "measures = [\n",
    "    lambda x: x.Stop_Code_LBSL,\n",
    "    lambda x: x.Bus_Stop_Code,\n",
    "    lambda x: x.Stop_Name,\n",
    "    lambda x: x.Naptan_Atco\n",
    "]"
   ]
  },
  {
   "cell_type": "code",
   "execution_count": 17,
   "id": "65d77e0a",
   "metadata": {},
   "outputs": [
    {
     "name": "stdout",
     "output_type": "stream",
     "text": [
      "72.42820181112549\n",
      "72.42561448900388\n",
      "72.42820181112549\n",
      "72.42820181112549\n"
     ]
    }
   ],
   "source": [
    "for measure in measures:\n",
    "    print(measure(bus_sequences.groupby('Route')).count().mean())"
   ]
  },
  {
   "cell_type": "code",
   "execution_count": 18,
   "id": "63a27225",
   "metadata": {},
   "outputs": [
    {
     "data": {
      "text/plain": [
       "75.0"
      ]
     },
     "execution_count": 18,
     "metadata": {},
     "output_type": "execute_result"
    }
   ],
   "source": [
    "bus_sequences.groupby('Route').Stop_Code_LBSL.count().median()"
   ]
  },
  {
   "cell_type": "code",
   "execution_count": 19,
   "id": "6bd0f7a8",
   "metadata": {},
   "outputs": [],
   "source": [
    "counts = bus_sequences.groupby('Route').Stop_Code_LBSL.count()"
   ]
  },
  {
   "cell_type": "code",
   "execution_count": 20,
   "id": "22690622",
   "metadata": {},
   "outputs": [
    {
     "data": {
      "image/png": "[encoded data removed]",
      "text/plain": [
       "<Figure size 432x288 with 1 Axes>"
      ]
     },
     "metadata": {
      "needs_background": "light"
     },
     "output_type": "display_data"
    }
   ],
   "source": [
    "sns.histplot(x=counts)\n",
    "plt.xlabel('Number of stops')\n",
    "plt.title('London')\n",
    "sns.despine()\n",
    "plt.savefig('figures/l_nstops.png')"
   ]
  },
  {
   "cell_type": "code",
   "execution_count": 21,
   "id": "4c0993e7",
   "metadata": {},
   "outputs": [],
   "source": [
    "counts.to_csv('gen/l_nstops.csv')"
   ]
  },
  {
   "cell_type": "markdown",
   "id": "b3102884",
   "metadata": {},
   "source": [
    "# Average route length"
   ]
  },
  {
   "cell_type": "markdown",
   "id": "061c8a41",
   "metadata": {},
   "source": [
    "The CRS is British National Grid (27700), which is in metres"
   ]
  },
  {
   "cell_type": "code",
   "execution_count": 22,
   "id": "d938e915",
   "metadata": {},
   "outputs": [],
   "source": [
    "c = bus_sequences[['Location_Easting', 'Location_Northing']].apply(Point, axis=1)"
   ]
  },
  {
   "cell_type": "code",
   "execution_count": 23,
   "id": "5c7ab8af",
   "metadata": {},
   "outputs": [
    {
     "data": {
      "text/plain": [
       "0        POINT (529998 181428)\n",
       "1        POINT (530237 181523)\n",
       "2        POINT (530560 181433)\n",
       "3        POINT (530637 180940)\n",
       "4        POINT (530890 180366)\n",
       "                 ...          \n",
       "58100    POINT (532571 167119)\n",
       "58101    POINT (532488 166822)\n",
       "58102    POINT (532429 166605)\n",
       "58103    POINT (532368 166379)\n",
       "58104    POINT (532236 166185)\n",
       "Length: 55987, dtype: object"
      ]
     },
     "execution_count": 23,
     "metadata": {},
     "output_type": "execute_result"
    }
   ],
   "source": [
    "c"
   ]
  },
  {
   "cell_type": "code",
   "execution_count": 24,
   "id": "d060a4b0",
   "metadata": {},
   "outputs": [],
   "source": [
    "bus_sequences['geometry'] = c"
   ]
  },
  {
   "cell_type": "code",
   "execution_count": 25,
   "id": "5efcfbc7",
   "metadata": {},
   "outputs": [
    {
     "data": {
      "text/plain": [
       "Route  Run\n",
       "1      1      LINESTRING (529998 181428, 530237 181523, 5305...\n",
       "       2      LINESTRING (535467 179451, 535430 179135, 5357...\n",
       "100    1      LINESTRING (532026 181450, 532062 181569, 5322...\n",
       "       2      LINESTRING (534799 180910, 534821 180706, 5348...\n",
       "101    1      LINESTRING (540542 188400, 540584 188379, 5405...\n",
       "                                    ...                        \n",
       "X140   2      LINESTRING (515288 188108, 514225 186352, 5137...\n",
       "X26    1      LINESTRING (532220 166139, 532748 165706, 5287...\n",
       "       2      LINESTRING (507514 175845, 509614 175382, 5157...\n",
       "X68    1      LINESTRING (532250 166167, 532365 166417, 5323...\n",
       "       2      LINESTRING (530033 182042, 530289 181907, 5304...\n",
       "Length: 1569, dtype: object"
      ]
     },
     "execution_count": 25,
     "metadata": {},
     "output_type": "execute_result"
    }
   ],
   "source": [
    "def to_linestring(x):\n",
    "    geom = x.geometry\n",
    "    if len(geom) == 1:\n",
    "        return None\n",
    "    return LineString(geom.reset_index(drop=True))\n",
    "\n",
    "# For every route and run...\n",
    "linestring_by_runs = bus_sequences.groupby(['Route', 'Run']).apply(to_linestring)\n",
    "linestring_by_runs"
   ]
  },
  {
   "cell_type": "code",
   "execution_count": 26,
   "id": "35d22688",
   "metadata": {},
   "outputs": [
    {
     "data": {
      "text/plain": [
       "Route  Run\n",
       "1      1       8247.834640\n",
       "       2       8552.044646\n",
       "100    1       5753.782624\n",
       "       2       5209.819719\n",
       "101    1      10804.467542\n",
       "                  ...     \n",
       "X140   2      14821.371159\n",
       "X26    1      30937.166032\n",
       "       2      31094.572755\n",
       "X68    1      17299.840987\n",
       "       2      17573.124391\n",
       "Length: 1547, dtype: float64"
      ]
     },
     "execution_count": 26,
     "metadata": {},
     "output_type": "execute_result"
    }
   ],
   "source": [
    "route_lengths = linestring_by_runs.dropna().apply(lambda x: x.length)\n",
    "route_lengths"
   ]
  },
  {
   "cell_type": "code",
   "execution_count": 27,
   "id": "c206e2d4",
   "metadata": {},
   "outputs": [
    {
     "data": {
      "text/plain": [
       "11853.769624649534"
      ]
     },
     "execution_count": 27,
     "metadata": {},
     "output_type": "execute_result"
    }
   ],
   "source": [
    "# Global Average route length in metres\n",
    "route_lengths.mean()"
   ]
  },
  {
   "cell_type": "code",
   "execution_count": 28,
   "id": "e690f836",
   "metadata": {},
   "outputs": [
    {
     "data": {
      "text/plain": [
       "11462.78139141907"
      ]
     },
     "execution_count": 28,
     "metadata": {},
     "output_type": "execute_result"
    }
   ],
   "source": [
    "route_lengths.median()"
   ]
  },
  {
   "cell_type": "code",
   "execution_count": 29,
   "id": "78fbf013",
   "metadata": {},
   "outputs": [
    {
     "data": {
      "text/plain": [
       "Text(0.5, 1.0, 'London')"
      ]
     },
     "execution_count": 29,
     "metadata": {},
     "output_type": "execute_result"
    },
    {
     "data": {
      "image/png": "[encoded data removed]",
      "text/plain": [
       "<Figure size 720x360 with 2 Axes>"
      ]
     },
     "metadata": {
      "needs_background": "light"
     },
     "output_type": "display_data"
    }
   ],
   "source": [
    "fig, axes = plt.subplots(nrows=2, figsize=(10, 5), sharex=True, gridspec_kw={'height_ratios': [3, 1]})\n",
    "plt.tight_layout()  # has to be before subplots_adjust\n",
    "# Remove horizontal space between axes\n",
    "fig.subplots_adjust(hspace=0)\n",
    "sns.histplot(x=route_lengths,ax=axes[0])\n",
    "sns.boxplot(x=route_lengths, ax=axes[1])\n",
    "plt.xlabel('Route length (m)')\n",
    "plt.title('London')\n",
    "#plt.savefig('figures/l_rlengths.png')"
   ]
  },
  {
   "cell_type": "code",
   "execution_count": 30,
   "id": "ea2d2c40",
   "metadata": {},
   "outputs": [
    {
     "data": {
      "image/png": "[encoded data removed]",
      "text/plain": [
       "<Figure size 432x288 with 1 Axes>"
      ]
     },
     "metadata": {
      "needs_background": "light"
     },
     "output_type": "display_data"
    }
   ],
   "source": [
    "sns.histplot(x=route_lengths)\n",
    "sns.despine()\n",
    "plt.title('London')\n",
    "plt.xlabel('Route length (m)')\n",
    "plt.savefig('figures/l_rlengths.png')"
   ]
  },
  {
   "cell_type": "code",
   "execution_count": 31,
   "id": "a619b757",
   "metadata": {},
   "outputs": [],
   "source": [
    "route_lengths.to_csv('gen/l_rlengths.csv')"
   ]
  },
  {
   "cell_type": "code",
   "execution_count": 32,
   "id": "fac5ba44",
   "metadata": {},
   "outputs": [
    {
     "data": {
      "text/plain": [
       "Route  Run\n",
       "N199   1      32406.206615\n",
       "       2      32374.462137\n",
       "N89    1      32306.152415\n",
       "       2      32082.524668\n",
       "X26    2      31094.572755\n",
       "dtype: float64"
      ]
     },
     "execution_count": 32,
     "metadata": {},
     "output_type": "execute_result"
    }
   ],
   "source": [
    "route_lengths.sort_values(ascending=False).head()"
   ]
  },
  {
   "cell_type": "markdown",
   "id": "6a77e6ca",
   "metadata": {},
   "source": [
    "# Map of bus network"
   ]
  },
  {
   "cell_type": "code",
   "execution_count": 33,
   "id": "0ad78339",
   "metadata": {},
   "outputs": [],
   "source": [
    "gdf = gpd.GeoDataFrame(linestring_by_runs.reset_index(drop=True), columns=['geometry'])"
   ]
  },
  {
   "cell_type": "code",
   "execution_count": 34,
   "id": "3bc4dad2",
   "metadata": {},
   "outputs": [
    {
     "data": {
      "text/plain": [
       "<AxesSubplot:>"
      ]
     },
     "execution_count": 34,
     "metadata": {},
     "output_type": "execute_result"
    },
    {
     "data": {
      "image/png": "[encoded data removed]",
      "text/plain": [
       "<Figure size 432x288 with 1 Axes>"
      ]
     },
     "metadata": {
      "needs_background": "light"
     },
     "output_type": "display_data"
    }
   ],
   "source": [
    "gdf.plot()"
   ]
  },
  {
   "cell_type": "code",
   "execution_count": 35,
   "id": "513af7df",
   "metadata": {},
   "outputs": [],
   "source": [
    "gdf.to_file('data/london/london_bus_routes.shp')"
   ]
  },
  {
   "cell_type": "markdown",
   "id": "02a52e51",
   "metadata": {},
   "source": [
    "# Average distance between stops"
   ]
  },
  {
   "cell_type": "code",
   "execution_count": 36,
   "id": "3b74f75d",
   "metadata": {},
   "outputs": [],
   "source": [
    "# TODO: copied from delhi.ipynb\n",
    "def calc_distances(x):\n",
    "    '''\n",
    "    input: [(float, float)]\n",
    "        a list of coordinates\n",
    "    output: [float]\n",
    "        the distances between each coordinates\n",
    "    '''\n",
    "    return [Point(a).distance(Point(b)) for a, b in zip(x, x[1:])]"
   ]
  },
  {
   "cell_type": "code",
   "execution_count": 37,
   "id": "506bb8dd",
   "metadata": {},
   "outputs": [
    {
     "data": {
      "text/plain": [
       "Route  Run\n",
       "1      1      [257.1886467167631, 335.3043393694749, 498.976...\n",
       "       2      [318.15876539866065, 311.8236681203016, 68.680...\n",
       "100    1      [124.32618388738553, 200.0024999843752, 376.22...\n",
       "       2      [205.1828452868319, 320.30610359467084, 141.99...\n",
       "101    1      [46.95742752749558, 208.83725721240452, 345.85...\n",
       "                                    ...                        \n",
       "X140   2      [2052.682391408861, 884.7762428998645, 1156.41...\n",
       "X26    1      [682.8418557762844, 4148.835981332595, 534.899...\n",
       "       2      [2150.434607236407, 7529.286353964763, 2696.28...\n",
       "X68    1      [275.1817581163403, 259.5149321330085, 351.410...\n",
       "       2      [289.4149270511112, 206.4654934849889, 343.209...\n",
       "Length: 1569, dtype: object"
      ]
     },
     "execution_count": 37,
     "metadata": {},
     "output_type": "execute_result"
    }
   ],
   "source": [
    "def f(x):\n",
    "    geom = x.geometry\n",
    "    if len(geom) == 1:\n",
    "        return None\n",
    "    return calc_distances(geom.reset_index(drop=True))\n",
    "\n",
    "route_stop_dists = bus_sequences.groupby(['Route', 'Run']).apply(f)\n",
    "route_stop_dists"
   ]
  },
  {
   "cell_type": "code",
   "execution_count": 38,
   "id": "26ea9d80",
   "metadata": {},
   "outputs": [
    {
     "data": {
      "text/plain": [
       "Route  Run\n",
       "1      1       305.475357\n",
       "       2       316.742394\n",
       "100    1       250.164462\n",
       "       2       248.086653\n",
       "101    1       251.266687\n",
       "                 ...     \n",
       "X140   2      1235.114263\n",
       "X26    1      2379.782002\n",
       "       2      2391.890212\n",
       "X68    1       540.620031\n",
       "       2       502.089268\n",
       "Length: 1547, dtype: float64"
      ]
     },
     "execution_count": 38,
     "metadata": {},
     "output_type": "execute_result"
    }
   ],
   "source": [
    "route_avg_stop_dists = route_stop_dists.dropna().apply(np.mean)\n",
    "route_avg_stop_dists"
   ]
  },
  {
   "cell_type": "code",
   "execution_count": 39,
   "id": "cf228de3",
   "metadata": {},
   "outputs": [
    {
     "data": {
      "text/plain": [
       "481.3724916625562"
      ]
     },
     "execution_count": 39,
     "metadata": {},
     "output_type": "execute_result"
    }
   ],
   "source": [
    "# Global average distance between stops meters\n",
    "route_avg_stop_dists.mean()"
   ]
  },
  {
   "cell_type": "code",
   "execution_count": 40,
   "id": "b8fe9d76",
   "metadata": {},
   "outputs": [
    {
     "data": {
      "text/plain": [
       "310.7910849509891"
      ]
     },
     "execution_count": 40,
     "metadata": {},
     "output_type": "execute_result"
    }
   ],
   "source": [
    "# Using the median is better because it is resistant to outliers, see below\n",
    "route_avg_stop_dists.median()"
   ]
  },
  {
   "cell_type": "code",
   "execution_count": 41,
   "id": "c260709a",
   "metadata": {},
   "outputs": [
    {
     "data": {
      "text/plain": [
       "<AxesSubplot:>"
      ]
     },
     "execution_count": 41,
     "metadata": {},
     "output_type": "execute_result"
    },
    {
     "data": {
      "image/png": "[encoded data removed]",
      "text/plain": [
       "<Figure size 432x288 with 1 Axes>"
      ]
     },
     "metadata": {
      "needs_background": "light"
     },
     "output_type": "display_data"
    }
   ],
   "source": [
    "sns.boxplot(x=route_avg_stop_dists)"
   ]
  },
  {
   "cell_type": "code",
   "execution_count": 42,
   "id": "afbe1f8b",
   "metadata": {},
   "outputs": [
    {
     "data": {
      "text/plain": [
       "<AxesSubplot:>"
      ]
     },
     "execution_count": 42,
     "metadata": {},
     "output_type": "execute_result"
    },
    {
     "data": {
      "image/png": "[encoded data removed]",
      "text/plain": [
       "<Figure size 432x288 with 1 Axes>"
      ]
     },
     "metadata": {
      "needs_background": "light"
     },
     "output_type": "display_data"
    }
   ],
   "source": [
    "# The individual distances between every stops in every route\n",
    "sns.boxplot(x=route_stop_dists.explode().values.astype(float))"
   ]
  },
  {
   "cell_type": "code",
   "execution_count": 43,
   "id": "f24907f3",
   "metadata": {},
   "outputs": [],
   "source": [
    "exploded = route_stop_dists.explode().dropna()"
   ]
  },
  {
   "cell_type": "code",
   "execution_count": 44,
   "id": "0ed93714",
   "metadata": {},
   "outputs": [],
   "source": [
    "#exploded.to_csv('gen/l_stop_dists.csv')\n",
    "route_avg_stop_dists.to_csv('gen/l_stop_dists.csv')"
   ]
  },
  {
   "cell_type": "code",
   "execution_count": 44,
   "id": "d809fe59",
   "metadata": {},
   "outputs": [
    {
     "data": {
      "text/plain": [
       "array([257.18864672, 335.30433937, 498.97695338, ..., 224.87774456,\n",
       "       234.08759044, 234.64867355])"
      ]
     },
     "execution_count": 44,
     "metadata": {},
     "output_type": "execute_result"
    }
   ],
   "source": [
    "every_run = exploded.values.astype(float)\n",
    "every_run"
   ]
  },
  {
   "cell_type": "code",
   "execution_count": 45,
   "id": "d3aa3e1e",
   "metadata": {},
   "outputs": [
    {
     "data": {
      "image/png": "[encoded data removed]",
      "text/plain": [
       "<Figure size 720x360 with 2 Axes>"
      ]
     },
     "metadata": {
      "needs_background": "light"
     },
     "output_type": "display_data"
    }
   ],
   "source": [
    "fig, axes = plt.subplots(nrows=2, figsize=(10, 5), sharex=True, gridspec_kw={'height_ratios': [3, 1]})\n",
    "plt.tight_layout()  # has to be before subplots_adjust\n",
    "# Remove horizontal space between axes\n",
    "fig.subplots_adjust(hspace=0)\n",
    "sns.histplot(x=every_run,ax=axes[0])\n",
    "sns.boxplot(x=every_run, ax=axes[1])\n",
    "plt.xlabel('Distance between two stops (m)')\n",
    "plt.savefig('figures/l_dist_b_stops.png')"
   ]
  },
  {
   "cell_type": "code",
   "execution_count": 46,
   "id": "8035ec8f",
   "metadata": {},
   "outputs": [
    {
     "data": {
      "text/plain": [
       "Route  Run\n",
       "UL92   2      14009.464301\n",
       "       1      13855.678728\n",
       "UL6    1       9490.832682\n",
       "UL96   1        8187.00342\n",
       "UL17   1       8107.451634\n",
       "UL96   2       8024.959875\n",
       "UL17   2       7992.912423\n",
       "X68    1       7756.286354\n",
       "       2       7686.851111\n",
       "X26    1       7544.519203\n",
       "dtype: object"
      ]
     },
     "execution_count": 46,
     "metadata": {},
     "output_type": "execute_result"
    }
   ],
   "source": [
    "exploded.sort_values(ascending=False).head(10)"
   ]
  },
  {
   "cell_type": "code",
   "execution_count": 47,
   "id": "ec8bad40",
   "metadata": {},
   "outputs": [
    {
     "data": {
      "image/svg+xml": [
       "<svg xmlns=\"http://www.w3.org/2000/svg\" xmlns:xlink=\"http://www.w3.org/1999/xlink\" width=\"300\" height=\"300\" viewBox=\"529520.4 165538.4 4608.199999999953 16972.20000000001\" preserveAspectRatio=\"xMinYMin meet\"><g transform=\"matrix(1,0,0,-1,0,348049.0)\"><polyline fill=\"none\" stroke=\"#66cc99\" stroke-width=\"113.14800000000008\" points=\"532250.0,166167.0 532365.0,166417.0 532337.0,166675.0 532520.0,166975.0 532661.0,167470.0 532716.0,167781.0 532786.0,168148.0 533030.0,168366.0 533292.0,168559.0 533409.0,168774.0 533500.0,169043.0 533311.0,169233.0 533215.0,169377.0 533164.0,169518.0 533062.0,169832.0 532719.0,170115.0 532333.0,170391.0 532110.0,170530.0 531864.0,170581.0 531768.0,170891.0 531802.0,171038.0 531824.0,171232.0 531851.0,171492.0 531874.0,171832.0 531898.0,172078.0 531886.0,172360.0 531013.0,180067.0 530920.0,180276.0 530650.0,180735.0 530690.0,181024.0 530533.0,181447.0 530403.0,181739.0 530149.0,181882.0\" opacity=\"0.8\" /></g></svg>"
      ],
      "text/plain": [
       "<shapely.geometry.linestring.LineString at 0x7fec94c876a0>"
      ]
     },
     "execution_count": 47,
     "metadata": {},
     "output_type": "execute_result"
    }
   ],
   "source": [
    "LineString(bus_sequences[(bus_sequences.Route == 'X68') & (bus_sequences.Run == 1)].geometry.reset_index(drop=True))"
   ]
  },
  {
   "cell_type": "markdown",
   "id": "9b6d92b0",
   "metadata": {},
   "source": [
    "# Median bus speed"
   ]
  },
  {
   "cell_type": "markdown",
   "id": "670c110e",
   "metadata": {},
   "source": [
    "I don't have static time data for London buses (at least, not in this dataset)\n",
    "\n",
    "But tbf, in the delhi dataset, the time data is unreliable too, as it is the scheduled times not the actual times"
   ]
  },
  {
   "cell_type": "markdown",
   "id": "3556bd54",
   "metadata": {},
   "source": [
    "# Network diameter"
   ]
  },
  {
   "cell_type": "code",
   "execution_count": 48,
   "id": "53a60a93",
   "metadata": {},
   "outputs": [
    {
     "data": {
      "text/plain": [
       "<pandas.core.groupby.generic.DataFrameGroupBy object at 0x7fec9d1a49d0>"
      ]
     },
     "execution_count": 48,
     "metadata": {},
     "output_type": "execute_result"
    }
   ],
   "source": [
    "route_stop_coords = bus_sequences.groupby(['Route', 'Run'])\n",
    "route_stop_coords"
   ]
  },
  {
   "cell_type": "code",
   "execution_count": 49,
   "id": "6715275e",
   "metadata": {},
   "outputs": [
    {
     "data": {
      "text/plain": [
       "Route  Run\n",
       "1      1      [(14456, 529998, 181428), (29844, 530237, 1815...\n",
       "       2      [(BP2391, 535467, 179451), (25923, 535430, 179...\n",
       "100    1      [(BP5593, 532026, 181450), (BP5594, 532062, 18...\n",
       "       2      [(BP2340, 534799, 180910), (LE108, 534821, 180...\n",
       "101    1      [(34050, 540542, 188400), (15555, 540584, 1883...\n",
       "                                    ...                        \n",
       "X140   2      [(R0842, 515288, 188108), (26472, 514225, 1863...\n",
       "X26    1      [(BP6117, 532220, 166139), (BP2129, 532748, 16...\n",
       "       2      [(BP5117, 507514, 175845), (35287, 509614, 175...\n",
       "X68    1      [(BP6115, 532250, 166167), (6564, 532365, 1664...\n",
       "       2      [(33925, 530033, 182042), (8437, 530289, 18190...\n",
       "Length: 1569, dtype: object"
      ]
     },
     "execution_count": 49,
     "metadata": {},
     "output_type": "execute_result"
    }
   ],
   "source": [
    "def f(x):\n",
    "    return [(n, x, y) for n, x, y in zip(x.Stop_Code_LBSL, x.Location_Easting, x.Location_Northing)]\n",
    "    \n",
    "route_stop_coords = route_stop_coords.apply(f)\n",
    "route_stop_coords"
   ]
  },
  {
   "cell_type": "code",
   "execution_count": 50,
   "id": "2ca831a9",
   "metadata": {},
   "outputs": [
    {
     "data": {
      "text/plain": [
       "0        (14456, 529998, 181428)\n",
       "0        (29844, 530237, 181523)\n",
       "0        (26425, 530560, 181433)\n",
       "0       (BP6517, 530637, 180940)\n",
       "0         (1835, 530890, 180366)\n",
       "                  ...           \n",
       "1568      (6545, 532571, 167119)\n",
       "1568      (6544, 532488, 166822)\n",
       "1568      (6543, 532429, 166605)\n",
       "1568      (6542, 532368, 166379)\n",
       "1568    (BP6119, 532236, 166185)\n",
       "Length: 55987, dtype: object"
      ]
     },
     "execution_count": 50,
     "metadata": {},
     "output_type": "execute_result"
    }
   ],
   "source": [
    "exploded = route_stop_coords.reset_index(drop=True).explode()\n",
    "exploded"
   ]
  },
  {
   "cell_type": "code",
   "execution_count": 51,
   "id": "741fe9f7",
   "metadata": {},
   "outputs": [],
   "source": [
    "df = pd.DataFrame()\n",
    "df['names'] = exploded.map(lambda x: x[0])\n",
    "df['x'] = exploded.map(lambda x: x[1])\n",
    "df['y'] = exploded.map(lambda x: x[2])"
   ]
  },
  {
   "cell_type": "code",
   "execution_count": 52,
   "id": "afce4e78",
   "metadata": {},
   "outputs": [],
   "source": [
    "g = nx.from_dict_of_lists(df.to_dict())"
   ]
  },
  {
   "cell_type": "code",
   "execution_count": 53,
   "id": "5a5d5800",
   "metadata": {},
   "outputs": [
    {
     "data": {
      "text/plain": [
       "2"
      ]
     },
     "execution_count": 53,
     "metadata": {},
     "output_type": "execute_result"
    }
   ],
   "source": [
    "nx.algorithms.distance_measures.diameter(g)"
   ]
  },
  {
   "cell_type": "markdown",
   "id": "f5836e22",
   "metadata": {},
   "source": [
    "# Network density"
   ]
  },
  {
   "cell_type": "code",
   "execution_count": 54,
   "id": "d33648a4",
   "metadata": {},
   "outputs": [
    {
     "data": {
      "text/plain": [
       "0.0038119348302486384"
      ]
     },
     "execution_count": 54,
     "metadata": {},
     "output_type": "execute_result"
    }
   ],
   "source": [
    "nx.classes.function.density(g)"
   ]
  },
  {
   "cell_type": "code",
   "execution_count": 55,
   "id": "1957d03d",
   "metadata": {},
   "outputs": [
    {
     "data": {
      "image/png": "[encoded data removed]",
      "text/plain": [
       "<Figure size 432x288 with 1 Axes>"
      ]
     },
     "metadata": {},
     "output_type": "display_data"
    }
   ],
   "source": [
    "nx.draw(g, node_size=5)"
   ]
  }
 ],
 "metadata": {
  "kernelspec": {
   "display_name": "Python 3 (ipykernel)",
   "language": "python",
   "name": "python3"
  },
  "language_info": {
   "codemirror_mode": {
    "name": "ipython",
    "version": 3
   },
   "file_extension": ".py",
   "mimetype": "text/x-python",
   "name": "python",
   "nbconvert_exporter": "python",
   "pygments_lexer": "ipython3",
   "version": "3.9.1"
  }
 },
 "nbformat": 4,
 "nbformat_minor": 5
}
