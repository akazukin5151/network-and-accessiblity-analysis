{
 "cells": [
  {
   "cell_type": "code",
   "execution_count": 1,
   "id": "d8efe91b",
   "metadata": {},
   "outputs": [
    {
     "name": "stderr",
     "output_type": "stream",
     "text": [
      "/home/twenty/miniconda3/lib/python3.9/site-packages/geopandas/_compat.py:111: UserWarning: The Shapely GEOS version (3.8.0-CAPI-1.13.1 ) is incompatible with the GEOS version PyGEOS was compiled with (3.9.0-CAPI-1.16.2). Conversions between both will be slow.\n",
      "  warnings.warn(\n"
     ]
    }
   ],
   "source": [
    "import os\n",
    "import geopandas as gpd\n",
    "import seaborn as sns\n",
    "import pandas as pd\n",
    "import matplotlib.pyplot as plt"
   ]
  },
  {
   "cell_type": "code",
   "execution_count": 2,
   "id": "9e313708",
   "metadata": {},
   "outputs": [],
   "source": [
    "import shapely as sp"
   ]
  },
  {
   "cell_type": "code",
   "execution_count": 3,
   "id": "0824f00b",
   "metadata": {},
   "outputs": [],
   "source": [
    "stops = pd.read_csv('data/hk/headway/stops.txt')"
   ]
  },
  {
   "cell_type": "code",
   "execution_count": 4,
   "id": "1266a39a",
   "metadata": {},
   "outputs": [],
   "source": [
    "trips = pd.read_csv('data/hk/headway/trips.txt')"
   ]
  },
  {
   "cell_type": "code",
   "execution_count": 5,
   "id": "a32715f7",
   "metadata": {},
   "outputs": [],
   "source": [
    "routes = pd.read_csv('data/hk/headway/routes.txt')"
   ]
  },
  {
   "cell_type": "code",
   "execution_count": 6,
   "id": "c27173f1",
   "metadata": {},
   "outputs": [],
   "source": [
    "stop_times = pd.read_csv('data/hk/headway/stop_times.txt')"
   ]
  },
  {
   "cell_type": "markdown",
   "id": "953517ad",
   "metadata": {},
   "source": [
    "# Process bus stop data"
   ]
  },
  {
   "cell_type": "code",
   "execution_count": 7,
   "id": "88a5a5ef",
   "metadata": {},
   "outputs": [
    {
     "data": {
      "text/plain": [
       "array(['KMB', 'KMB+CTB', 'KMB+NWFB', 'LWB', 'LWB+CTB', 'NWFB', 'CTB',\n",
       "       'NLB', 'LRTFeeder', 'XB', 'DB', 'PI'], dtype=object)"
      ]
     },
     "execution_count": 7,
     "metadata": {},
     "output_type": "execute_result"
    }
   ],
   "source": [
    "# exclude ferry, peak tram, and hki trams\n",
    "conds = (routes.agency_id != 'FERRY') & (routes.agency_id != 'PTRAM') & (routes.agency_id != 'TRAM') & (routes.agency_id != 'GMB')\n",
    "bus_routes = routes[conds]\n",
    "bus_routes.agency_id.unique()"
   ]
  },
  {
   "cell_type": "code",
   "execution_count": 8,
   "id": "8608a094",
   "metadata": {},
   "outputs": [
    {
     "data": {
      "text/html": [
       "<div>\n",
       "<style scoped>\n",
       "    .dataframe tbody tr th:only-of-type {\n",
       "        vertical-align: middle;\n",
       "    }\n",
       "\n",
       "    .dataframe tbody tr th {\n",
       "        vertical-align: top;\n",
       "    }\n",
       "\n",
       "    .dataframe thead th {\n",
       "        text-align: right;\n",
       "    }\n",
       "</style>\n",
       "<table border=\"1\" class=\"dataframe\">\n",
       "  <thead>\n",
       "    <tr style=\"text-align: right;\">\n",
       "      <th></th>\n",
       "      <th>route_id</th>\n",
       "      <th>agency_id</th>\n",
       "      <th>route_short_name</th>\n",
       "      <th>route_long_name</th>\n",
       "      <th>route_type</th>\n",
       "      <th>route_url</th>\n",
       "      <th>service_id</th>\n",
       "      <th>trip_id</th>\n",
       "    </tr>\n",
       "  </thead>\n",
       "  <tbody>\n",
       "    <tr>\n",
       "      <th>0</th>\n",
       "      <td>1001</td>\n",
       "      <td>KMB</td>\n",
       "      <td>1</td>\n",
       "      <td>CHUK YUEN ESTATE - STAR FERRY</td>\n",
       "      <td>3</td>\n",
       "      <td>https://search.kmb.hk/KMBWebSite/?action=route...</td>\n",
       "      <td>287</td>\n",
       "      <td>1001-1-287-0535</td>\n",
       "    </tr>\n",
       "    <tr>\n",
       "      <th>1</th>\n",
       "      <td>1001</td>\n",
       "      <td>KMB</td>\n",
       "      <td>1</td>\n",
       "      <td>CHUK YUEN ESTATE - STAR FERRY</td>\n",
       "      <td>3</td>\n",
       "      <td>https://search.kmb.hk/KMBWebSite/?action=route...</td>\n",
       "      <td>287</td>\n",
       "      <td>1001-1-287-0623</td>\n",
       "    </tr>\n",
       "    <tr>\n",
       "      <th>2</th>\n",
       "      <td>1001</td>\n",
       "      <td>KMB</td>\n",
       "      <td>1</td>\n",
       "      <td>CHUK YUEN ESTATE - STAR FERRY</td>\n",
       "      <td>3</td>\n",
       "      <td>https://search.kmb.hk/KMBWebSite/?action=route...</td>\n",
       "      <td>287</td>\n",
       "      <td>1001-1-287-0647</td>\n",
       "    </tr>\n",
       "    <tr>\n",
       "      <th>3</th>\n",
       "      <td>1001</td>\n",
       "      <td>KMB</td>\n",
       "      <td>1</td>\n",
       "      <td>CHUK YUEN ESTATE - STAR FERRY</td>\n",
       "      <td>3</td>\n",
       "      <td>https://search.kmb.hk/KMBWebSite/?action=route...</td>\n",
       "      <td>287</td>\n",
       "      <td>1001-1-287-0757</td>\n",
       "    </tr>\n",
       "    <tr>\n",
       "      <th>4</th>\n",
       "      <td>1001</td>\n",
       "      <td>KMB</td>\n",
       "      <td>1</td>\n",
       "      <td>CHUK YUEN ESTATE - STAR FERRY</td>\n",
       "      <td>3</td>\n",
       "      <td>https://search.kmb.hk/KMBWebSite/?action=route...</td>\n",
       "      <td>287</td>\n",
       "      <td>1001-1-287-0829</td>\n",
       "    </tr>\n",
       "  </tbody>\n",
       "</table>\n",
       "</div>"
      ],
      "text/plain": [
       "   route_id agency_id route_short_name                route_long_name  \\\n",
       "0      1001       KMB                1  CHUK YUEN ESTATE - STAR FERRY   \n",
       "1      1001       KMB                1  CHUK YUEN ESTATE - STAR FERRY   \n",
       "2      1001       KMB                1  CHUK YUEN ESTATE - STAR FERRY   \n",
       "3      1001       KMB                1  CHUK YUEN ESTATE - STAR FERRY   \n",
       "4      1001       KMB                1  CHUK YUEN ESTATE - STAR FERRY   \n",
       "\n",
       "   route_type                                          route_url  service_id  \\\n",
       "0           3  https://search.kmb.hk/KMBWebSite/?action=route...         287   \n",
       "1           3  https://search.kmb.hk/KMBWebSite/?action=route...         287   \n",
       "2           3  https://search.kmb.hk/KMBWebSite/?action=route...         287   \n",
       "3           3  https://search.kmb.hk/KMBWebSite/?action=route...         287   \n",
       "4           3  https://search.kmb.hk/KMBWebSite/?action=route...         287   \n",
       "\n",
       "           trip_id  \n",
       "0  1001-1-287-0535  \n",
       "1  1001-1-287-0623  \n",
       "2  1001-1-287-0647  \n",
       "3  1001-1-287-0757  \n",
       "4  1001-1-287-0829  "
      ]
     },
     "execution_count": 8,
     "metadata": {},
     "output_type": "execute_result"
    }
   ],
   "source": [
    "bus_trips = bus_routes.merge(trips, on='route_id', how='inner')\n",
    "bus_trips.head()"
   ]
  },
  {
   "cell_type": "code",
   "execution_count": 9,
   "id": "8d1b9ccc",
   "metadata": {},
   "outputs": [
    {
     "data": {
      "text/html": [
       "<div>\n",
       "<style scoped>\n",
       "    .dataframe tbody tr th:only-of-type {\n",
       "        vertical-align: middle;\n",
       "    }\n",
       "\n",
       "    .dataframe tbody tr th {\n",
       "        vertical-align: top;\n",
       "    }\n",
       "\n",
       "    .dataframe thead th {\n",
       "        text-align: right;\n",
       "    }\n",
       "</style>\n",
       "<table border=\"1\" class=\"dataframe\">\n",
       "  <thead>\n",
       "    <tr style=\"text-align: right;\">\n",
       "      <th></th>\n",
       "      <th>trip_id</th>\n",
       "      <th>arrival_time</th>\n",
       "      <th>departure_time</th>\n",
       "      <th>stop_id</th>\n",
       "      <th>stop_sequence</th>\n",
       "      <th>pickup_type</th>\n",
       "      <th>drop_off_type</th>\n",
       "      <th>timepoint</th>\n",
       "    </tr>\n",
       "  </thead>\n",
       "  <tbody>\n",
       "    <tr>\n",
       "      <th>0</th>\n",
       "      <td>1001-1-287-0535</td>\n",
       "      <td>05:35:00</td>\n",
       "      <td>05:35:00</td>\n",
       "      <td>4001</td>\n",
       "      <td>1</td>\n",
       "      <td>0</td>\n",
       "      <td>1</td>\n",
       "      <td>1</td>\n",
       "    </tr>\n",
       "    <tr>\n",
       "      <th>1</th>\n",
       "      <td>1001-1-287-0535</td>\n",
       "      <td>NaN</td>\n",
       "      <td>NaN</td>\n",
       "      <td>4002</td>\n",
       "      <td>2</td>\n",
       "      <td>0</td>\n",
       "      <td>0</td>\n",
       "      <td>0</td>\n",
       "    </tr>\n",
       "    <tr>\n",
       "      <th>2</th>\n",
       "      <td>1001-1-287-0535</td>\n",
       "      <td>NaN</td>\n",
       "      <td>NaN</td>\n",
       "      <td>4003</td>\n",
       "      <td>3</td>\n",
       "      <td>0</td>\n",
       "      <td>0</td>\n",
       "      <td>0</td>\n",
       "    </tr>\n",
       "    <tr>\n",
       "      <th>3</th>\n",
       "      <td>1001-1-287-0535</td>\n",
       "      <td>NaN</td>\n",
       "      <td>NaN</td>\n",
       "      <td>4004</td>\n",
       "      <td>4</td>\n",
       "      <td>0</td>\n",
       "      <td>0</td>\n",
       "      <td>0</td>\n",
       "    </tr>\n",
       "    <tr>\n",
       "      <th>4</th>\n",
       "      <td>1001-1-287-0535</td>\n",
       "      <td>NaN</td>\n",
       "      <td>NaN</td>\n",
       "      <td>4005</td>\n",
       "      <td>5</td>\n",
       "      <td>0</td>\n",
       "      <td>0</td>\n",
       "      <td>0</td>\n",
       "    </tr>\n",
       "    <tr>\n",
       "      <th>...</th>\n",
       "      <td>...</td>\n",
       "      <td>...</td>\n",
       "      <td>...</td>\n",
       "      <td>...</td>\n",
       "      <td>...</td>\n",
       "      <td>...</td>\n",
       "      <td>...</td>\n",
       "      <td>...</td>\n",
       "    </tr>\n",
       "    <tr>\n",
       "      <th>552705</th>\n",
       "      <td>1000211-1-287-0730</td>\n",
       "      <td>NaN</td>\n",
       "      <td>NaN</td>\n",
       "      <td>1371</td>\n",
       "      <td>16</td>\n",
       "      <td>0</td>\n",
       "      <td>0</td>\n",
       "      <td>0</td>\n",
       "    </tr>\n",
       "    <tr>\n",
       "      <th>552706</th>\n",
       "      <td>1000211-1-287-0730</td>\n",
       "      <td>NaN</td>\n",
       "      <td>NaN</td>\n",
       "      <td>1148</td>\n",
       "      <td>17</td>\n",
       "      <td>0</td>\n",
       "      <td>0</td>\n",
       "      <td>0</td>\n",
       "    </tr>\n",
       "    <tr>\n",
       "      <th>552707</th>\n",
       "      <td>1000211-1-287-0730</td>\n",
       "      <td>NaN</td>\n",
       "      <td>NaN</td>\n",
       "      <td>8340</td>\n",
       "      <td>18</td>\n",
       "      <td>0</td>\n",
       "      <td>0</td>\n",
       "      <td>0</td>\n",
       "    </tr>\n",
       "    <tr>\n",
       "      <th>552708</th>\n",
       "      <td>1000211-1-287-0730</td>\n",
       "      <td>NaN</td>\n",
       "      <td>NaN</td>\n",
       "      <td>10265</td>\n",
       "      <td>19</td>\n",
       "      <td>0</td>\n",
       "      <td>0</td>\n",
       "      <td>0</td>\n",
       "    </tr>\n",
       "    <tr>\n",
       "      <th>552709</th>\n",
       "      <td>1000211-1-287-0730</td>\n",
       "      <td>08:10:00</td>\n",
       "      <td>08:10:00</td>\n",
       "      <td>8082</td>\n",
       "      <td>20</td>\n",
       "      <td>1</td>\n",
       "      <td>0</td>\n",
       "      <td>1</td>\n",
       "    </tr>\n",
       "  </tbody>\n",
       "</table>\n",
       "<p>552710 rows × 8 columns</p>\n",
       "</div>"
      ],
      "text/plain": [
       "                   trip_id arrival_time departure_time  stop_id  \\\n",
       "0          1001-1-287-0535     05:35:00       05:35:00     4001   \n",
       "1          1001-1-287-0535          NaN            NaN     4002   \n",
       "2          1001-1-287-0535          NaN            NaN     4003   \n",
       "3          1001-1-287-0535          NaN            NaN     4004   \n",
       "4          1001-1-287-0535          NaN            NaN     4005   \n",
       "...                    ...          ...            ...      ...   \n",
       "552705  1000211-1-287-0730          NaN            NaN     1371   \n",
       "552706  1000211-1-287-0730          NaN            NaN     1148   \n",
       "552707  1000211-1-287-0730          NaN            NaN     8340   \n",
       "552708  1000211-1-287-0730          NaN            NaN    10265   \n",
       "552709  1000211-1-287-0730     08:10:00       08:10:00     8082   \n",
       "\n",
       "        stop_sequence  pickup_type  drop_off_type  timepoint  \n",
       "0                   1            0              1          1  \n",
       "1                   2            0              0          0  \n",
       "2                   3            0              0          0  \n",
       "3                   4            0              0          0  \n",
       "4                   5            0              0          0  \n",
       "...               ...          ...            ...        ...  \n",
       "552705             16            0              0          0  \n",
       "552706             17            0              0          0  \n",
       "552707             18            0              0          0  \n",
       "552708             19            0              0          0  \n",
       "552709             20            1              0          1  \n",
       "\n",
       "[552710 rows x 8 columns]"
      ]
     },
     "execution_count": 9,
     "metadata": {},
     "output_type": "execute_result"
    }
   ],
   "source": [
    "bus_stop_times = stop_times[stop_times.trip_id.isin(bus_trips.trip_id)]\n",
    "bus_stop_times"
   ]
  },
  {
   "cell_type": "code",
   "execution_count": 10,
   "id": "94706eb5",
   "metadata": {},
   "outputs": [
    {
     "data": {
      "text/html": [
       "<div>\n",
       "<style scoped>\n",
       "    .dataframe tbody tr th:only-of-type {\n",
       "        vertical-align: middle;\n",
       "    }\n",
       "\n",
       "    .dataframe tbody tr th {\n",
       "        vertical-align: top;\n",
       "    }\n",
       "\n",
       "    .dataframe thead th {\n",
       "        text-align: right;\n",
       "    }\n",
       "</style>\n",
       "<table border=\"1\" class=\"dataframe\">\n",
       "  <thead>\n",
       "    <tr style=\"text-align: right;\">\n",
       "      <th></th>\n",
       "      <th>trip_id</th>\n",
       "      <th>stop_id</th>\n",
       "      <th>stop_name</th>\n",
       "      <th>stop_lat</th>\n",
       "      <th>stop_lon</th>\n",
       "      <th>zone_id</th>\n",
       "      <th>location_type</th>\n",
       "      <th>stop_timezone</th>\n",
       "    </tr>\n",
       "  </thead>\n",
       "  <tbody>\n",
       "    <tr>\n",
       "      <th>0</th>\n",
       "      <td>1001-1-287-0535</td>\n",
       "      <td>4001</td>\n",
       "      <td>[CTB] CHUK YUEN ESTATE|[KMB+CTB] CHUK YUEN EST...</td>\n",
       "      <td>22.34535</td>\n",
       "      <td>114.19244</td>\n",
       "      <td>4001</td>\n",
       "      <td>0</td>\n",
       "      <td>Asia/Hong_Kong</td>\n",
       "    </tr>\n",
       "    <tr>\n",
       "      <th>1</th>\n",
       "      <td>1001-1-287-0623</td>\n",
       "      <td>4001</td>\n",
       "      <td>[CTB] CHUK YUEN ESTATE|[KMB+CTB] CHUK YUEN EST...</td>\n",
       "      <td>22.34535</td>\n",
       "      <td>114.19244</td>\n",
       "      <td>4001</td>\n",
       "      <td>0</td>\n",
       "      <td>Asia/Hong_Kong</td>\n",
       "    </tr>\n",
       "    <tr>\n",
       "      <th>2</th>\n",
       "      <td>1001-1-287-0647</td>\n",
       "      <td>4001</td>\n",
       "      <td>[CTB] CHUK YUEN ESTATE|[KMB+CTB] CHUK YUEN EST...</td>\n",
       "      <td>22.34535</td>\n",
       "      <td>114.19244</td>\n",
       "      <td>4001</td>\n",
       "      <td>0</td>\n",
       "      <td>Asia/Hong_Kong</td>\n",
       "    </tr>\n",
       "    <tr>\n",
       "      <th>3</th>\n",
       "      <td>1001-1-287-0757</td>\n",
       "      <td>4001</td>\n",
       "      <td>[CTB] CHUK YUEN ESTATE|[KMB+CTB] CHUK YUEN EST...</td>\n",
       "      <td>22.34535</td>\n",
       "      <td>114.19244</td>\n",
       "      <td>4001</td>\n",
       "      <td>0</td>\n",
       "      <td>Asia/Hong_Kong</td>\n",
       "    </tr>\n",
       "    <tr>\n",
       "      <th>4</th>\n",
       "      <td>1001-1-287-0829</td>\n",
       "      <td>4001</td>\n",
       "      <td>[CTB] CHUK YUEN ESTATE|[KMB+CTB] CHUK YUEN EST...</td>\n",
       "      <td>22.34535</td>\n",
       "      <td>114.19244</td>\n",
       "      <td>4001</td>\n",
       "      <td>0</td>\n",
       "      <td>Asia/Hong_Kong</td>\n",
       "    </tr>\n",
       "    <tr>\n",
       "      <th>...</th>\n",
       "      <td>...</td>\n",
       "      <td>...</td>\n",
       "      <td>...</td>\n",
       "      <td>...</td>\n",
       "      <td>...</td>\n",
       "      <td>...</td>\n",
       "      <td>...</td>\n",
       "      <td>...</td>\n",
       "    </tr>\n",
       "    <tr>\n",
       "      <th>552705</th>\n",
       "      <td>1000199-1-480-0800</td>\n",
       "      <td>10000093</td>\n",
       "      <td>[CTB] QUEEN'S HILL ESTATE, LUNG MA ROAD</td>\n",
       "      <td>22.50348</td>\n",
       "      <td>114.15595</td>\n",
       "      <td>10000093</td>\n",
       "      <td>0</td>\n",
       "      <td>Asia/Hong_Kong</td>\n",
       "    </tr>\n",
       "    <tr>\n",
       "      <th>552706</th>\n",
       "      <td>1000198-1-287-0715</td>\n",
       "      <td>10000096</td>\n",
       "      <td>[CTB] KAI TAK</td>\n",
       "      <td>22.33276</td>\n",
       "      <td>114.19908</td>\n",
       "      <td>10000096</td>\n",
       "      <td>0</td>\n",
       "      <td>Asia/Hong_Kong</td>\n",
       "    </tr>\n",
       "    <tr>\n",
       "      <th>552707</th>\n",
       "      <td>1000198-1-287-0800</td>\n",
       "      <td>10000096</td>\n",
       "      <td>[CTB] KAI TAK</td>\n",
       "      <td>22.33276</td>\n",
       "      <td>114.19908</td>\n",
       "      <td>10000096</td>\n",
       "      <td>0</td>\n",
       "      <td>Asia/Hong_Kong</td>\n",
       "    </tr>\n",
       "    <tr>\n",
       "      <th>552708</th>\n",
       "      <td>1000198-2-287-1715</td>\n",
       "      <td>10000096</td>\n",
       "      <td>[CTB] KAI TAK</td>\n",
       "      <td>22.33276</td>\n",
       "      <td>114.19908</td>\n",
       "      <td>10000096</td>\n",
       "      <td>0</td>\n",
       "      <td>Asia/Hong_Kong</td>\n",
       "    </tr>\n",
       "    <tr>\n",
       "      <th>552709</th>\n",
       "      <td>1000198-2-287-1800</td>\n",
       "      <td>10000096</td>\n",
       "      <td>[CTB] KAI TAK</td>\n",
       "      <td>22.33276</td>\n",
       "      <td>114.19908</td>\n",
       "      <td>10000096</td>\n",
       "      <td>0</td>\n",
       "      <td>Asia/Hong_Kong</td>\n",
       "    </tr>\n",
       "  </tbody>\n",
       "</table>\n",
       "<p>552710 rows × 8 columns</p>\n",
       "</div>"
      ],
      "text/plain": [
       "                   trip_id   stop_id  \\\n",
       "0          1001-1-287-0535      4001   \n",
       "1          1001-1-287-0623      4001   \n",
       "2          1001-1-287-0647      4001   \n",
       "3          1001-1-287-0757      4001   \n",
       "4          1001-1-287-0829      4001   \n",
       "...                    ...       ...   \n",
       "552705  1000199-1-480-0800  10000093   \n",
       "552706  1000198-1-287-0715  10000096   \n",
       "552707  1000198-1-287-0800  10000096   \n",
       "552708  1000198-2-287-1715  10000096   \n",
       "552709  1000198-2-287-1800  10000096   \n",
       "\n",
       "                                                stop_name  stop_lat  \\\n",
       "0       [CTB] CHUK YUEN ESTATE|[KMB+CTB] CHUK YUEN EST...  22.34535   \n",
       "1       [CTB] CHUK YUEN ESTATE|[KMB+CTB] CHUK YUEN EST...  22.34535   \n",
       "2       [CTB] CHUK YUEN ESTATE|[KMB+CTB] CHUK YUEN EST...  22.34535   \n",
       "3       [CTB] CHUK YUEN ESTATE|[KMB+CTB] CHUK YUEN EST...  22.34535   \n",
       "4       [CTB] CHUK YUEN ESTATE|[KMB+CTB] CHUK YUEN EST...  22.34535   \n",
       "...                                                   ...       ...   \n",
       "552705            [CTB] QUEEN'S HILL ESTATE, LUNG MA ROAD  22.50348   \n",
       "552706                                      [CTB] KAI TAK  22.33276   \n",
       "552707                                      [CTB] KAI TAK  22.33276   \n",
       "552708                                      [CTB] KAI TAK  22.33276   \n",
       "552709                                      [CTB] KAI TAK  22.33276   \n",
       "\n",
       "         stop_lon   zone_id  location_type   stop_timezone  \n",
       "0       114.19244      4001              0  Asia/Hong_Kong  \n",
       "1       114.19244      4001              0  Asia/Hong_Kong  \n",
       "2       114.19244      4001              0  Asia/Hong_Kong  \n",
       "3       114.19244      4001              0  Asia/Hong_Kong  \n",
       "4       114.19244      4001              0  Asia/Hong_Kong  \n",
       "...           ...       ...            ...             ...  \n",
       "552705  114.15595  10000093              0  Asia/Hong_Kong  \n",
       "552706  114.19908  10000096              0  Asia/Hong_Kong  \n",
       "552707  114.19908  10000096              0  Asia/Hong_Kong  \n",
       "552708  114.19908  10000096              0  Asia/Hong_Kong  \n",
       "552709  114.19908  10000096              0  Asia/Hong_Kong  \n",
       "\n",
       "[552710 rows x 8 columns]"
      ]
     },
     "execution_count": 10,
     "metadata": {},
     "output_type": "execute_result"
    }
   ],
   "source": [
    "bus_stops = bus_stop_times[['trip_id', 'stop_id']].merge(stops, on='stop_id')\n",
    "bus_stops"
   ]
  },
  {
   "cell_type": "code",
   "execution_count": 11,
   "id": "b72d6073",
   "metadata": {
    "tags": []
   },
   "outputs": [],
   "source": [
    "bus_stops = bus_stops.drop_duplicates('stop_id')"
   ]
  },
  {
   "cell_type": "code",
   "execution_count": 12,
   "id": "82ccc0d6",
   "metadata": {},
   "outputs": [
    {
     "data": {
      "text/html": [
       "<div>\n",
       "<style scoped>\n",
       "    .dataframe tbody tr th:only-of-type {\n",
       "        vertical-align: middle;\n",
       "    }\n",
       "\n",
       "    .dataframe tbody tr th {\n",
       "        vertical-align: top;\n",
       "    }\n",
       "\n",
       "    .dataframe thead th {\n",
       "        text-align: right;\n",
       "    }\n",
       "</style>\n",
       "<table border=\"1\" class=\"dataframe\">\n",
       "  <thead>\n",
       "    <tr style=\"text-align: right;\">\n",
       "      <th></th>\n",
       "      <th>trip_id</th>\n",
       "      <th>stop_id</th>\n",
       "      <th>stop_name</th>\n",
       "      <th>stop_lat</th>\n",
       "      <th>stop_lon</th>\n",
       "      <th>zone_id</th>\n",
       "      <th>location_type</th>\n",
       "      <th>stop_timezone</th>\n",
       "    </tr>\n",
       "  </thead>\n",
       "  <tbody>\n",
       "    <tr>\n",
       "      <th>0</th>\n",
       "      <td>1001-1-287-0535</td>\n",
       "      <td>4001</td>\n",
       "      <td>[CTB] CHUK YUEN ESTATE|[KMB+CTB] CHUK YUEN EST...</td>\n",
       "      <td>22.34535</td>\n",
       "      <td>114.19244</td>\n",
       "      <td>4001</td>\n",
       "      <td>0</td>\n",
       "      <td>Asia/Hong_Kong</td>\n",
       "    </tr>\n",
       "    <tr>\n",
       "      <th>225</th>\n",
       "      <td>1001-1-287-0535</td>\n",
       "      <td>4002</td>\n",
       "      <td>[CTB] BAPTIST RAINBOW PRIMARY SCHOOL, CHUK YUE...</td>\n",
       "      <td>22.34506</td>\n",
       "      <td>114.19000</td>\n",
       "      <td>4002</td>\n",
       "      <td>0</td>\n",
       "      <td>Asia/Hong_Kong</td>\n",
       "    </tr>\n",
       "    <tr>\n",
       "      <th>354</th>\n",
       "      <td>1001-1-287-0535</td>\n",
       "      <td>4003</td>\n",
       "      <td>[KMB+CTB] MA CHAI HANG RECREATION GROUND/&lt;BR&gt;M...</td>\n",
       "      <td>22.34422</td>\n",
       "      <td>114.18777</td>\n",
       "      <td>4003</td>\n",
       "      <td>0</td>\n",
       "      <td>Asia/Hong_Kong</td>\n",
       "    </tr>\n",
       "    <tr>\n",
       "      <th>479</th>\n",
       "      <td>1001-1-287-0535</td>\n",
       "      <td>4004</td>\n",
       "      <td>[KMB+NWFB] MORSE PARK/&lt;BR&gt;MORSE PARK, FUNG MO ...</td>\n",
       "      <td>22.33971</td>\n",
       "      <td>114.18938</td>\n",
       "      <td>4004</td>\n",
       "      <td>0</td>\n",
       "      <td>Asia/Hong_Kong</td>\n",
       "    </tr>\n",
       "    <tr>\n",
       "      <th>605</th>\n",
       "      <td>1001-1-287-0535</td>\n",
       "      <td>4005</td>\n",
       "      <td>[KMB+NWFB] MORSE PARK SPORTS CENTRE/&lt;BR&gt;MORSE ...</td>\n",
       "      <td>22.33780</td>\n",
       "      <td>114.18990</td>\n",
       "      <td>4005</td>\n",
       "      <td>0</td>\n",
       "      <td>Asia/Hong_Kong</td>\n",
       "    </tr>\n",
       "    <tr>\n",
       "      <th>...</th>\n",
       "      <td>...</td>\n",
       "      <td>...</td>\n",
       "      <td>...</td>\n",
       "      <td>...</td>\n",
       "      <td>...</td>\n",
       "      <td>...</td>\n",
       "      <td>...</td>\n",
       "      <td>...</td>\n",
       "    </tr>\n",
       "    <tr>\n",
       "      <th>552653</th>\n",
       "      <td>1000193-1-287-0015</td>\n",
       "      <td>10000088</td>\n",
       "      <td>[DB] DISCOVERY BAY ROAD NEAR CAPEVALE DRIVE</td>\n",
       "      <td>22.29412</td>\n",
       "      <td>114.02284</td>\n",
       "      <td>10000088</td>\n",
       "      <td>0</td>\n",
       "      <td>Asia/Hong_Kong</td>\n",
       "    </tr>\n",
       "    <tr>\n",
       "      <th>552668</th>\n",
       "      <td>1000193-2-287-0050</td>\n",
       "      <td>10000089</td>\n",
       "      <td>[DB] DISCOVERY BAY ROAD NEAR CAPEVALE DRIVE</td>\n",
       "      <td>22.29420</td>\n",
       "      <td>114.02281</td>\n",
       "      <td>10000089</td>\n",
       "      <td>0</td>\n",
       "      <td>Asia/Hong_Kong</td>\n",
       "    </tr>\n",
       "    <tr>\n",
       "      <th>552683</th>\n",
       "      <td>1000193-2-287-0050</td>\n",
       "      <td>10000087</td>\n",
       "      <td>[DB] DISCOVERY BAY ROAD OPPOSITE NO. 8 COASTLI...</td>\n",
       "      <td>22.29521</td>\n",
       "      <td>114.02360</td>\n",
       "      <td>10000087</td>\n",
       "      <td>0</td>\n",
       "      <td>Asia/Hong_Kong</td>\n",
       "    </tr>\n",
       "    <tr>\n",
       "      <th>552698</th>\n",
       "      <td>1000198-1-287-0715</td>\n",
       "      <td>10000093</td>\n",
       "      <td>[CTB] QUEEN'S HILL ESTATE, LUNG MA ROAD</td>\n",
       "      <td>22.50348</td>\n",
       "      <td>114.15595</td>\n",
       "      <td>10000093</td>\n",
       "      <td>0</td>\n",
       "      <td>Asia/Hong_Kong</td>\n",
       "    </tr>\n",
       "    <tr>\n",
       "      <th>552706</th>\n",
       "      <td>1000198-1-287-0715</td>\n",
       "      <td>10000096</td>\n",
       "      <td>[CTB] KAI TAK</td>\n",
       "      <td>22.33276</td>\n",
       "      <td>114.19908</td>\n",
       "      <td>10000096</td>\n",
       "      <td>0</td>\n",
       "      <td>Asia/Hong_Kong</td>\n",
       "    </tr>\n",
       "  </tbody>\n",
       "</table>\n",
       "<p>4282 rows × 8 columns</p>\n",
       "</div>"
      ],
      "text/plain": [
       "                   trip_id   stop_id  \\\n",
       "0          1001-1-287-0535      4001   \n",
       "225        1001-1-287-0535      4002   \n",
       "354        1001-1-287-0535      4003   \n",
       "479        1001-1-287-0535      4004   \n",
       "605        1001-1-287-0535      4005   \n",
       "...                    ...       ...   \n",
       "552653  1000193-1-287-0015  10000088   \n",
       "552668  1000193-2-287-0050  10000089   \n",
       "552683  1000193-2-287-0050  10000087   \n",
       "552698  1000198-1-287-0715  10000093   \n",
       "552706  1000198-1-287-0715  10000096   \n",
       "\n",
       "                                                stop_name  stop_lat  \\\n",
       "0       [CTB] CHUK YUEN ESTATE|[KMB+CTB] CHUK YUEN EST...  22.34535   \n",
       "225     [CTB] BAPTIST RAINBOW PRIMARY SCHOOL, CHUK YUE...  22.34506   \n",
       "354     [KMB+CTB] MA CHAI HANG RECREATION GROUND/<BR>M...  22.34422   \n",
       "479     [KMB+NWFB] MORSE PARK/<BR>MORSE PARK, FUNG MO ...  22.33971   \n",
       "605     [KMB+NWFB] MORSE PARK SPORTS CENTRE/<BR>MORSE ...  22.33780   \n",
       "...                                                   ...       ...   \n",
       "552653        [DB] DISCOVERY BAY ROAD NEAR CAPEVALE DRIVE  22.29412   \n",
       "552668        [DB] DISCOVERY BAY ROAD NEAR CAPEVALE DRIVE  22.29420   \n",
       "552683  [DB] DISCOVERY BAY ROAD OPPOSITE NO. 8 COASTLI...  22.29521   \n",
       "552698            [CTB] QUEEN'S HILL ESTATE, LUNG MA ROAD  22.50348   \n",
       "552706                                      [CTB] KAI TAK  22.33276   \n",
       "\n",
       "         stop_lon   zone_id  location_type   stop_timezone  \n",
       "0       114.19244      4001              0  Asia/Hong_Kong  \n",
       "225     114.19000      4002              0  Asia/Hong_Kong  \n",
       "354     114.18777      4003              0  Asia/Hong_Kong  \n",
       "479     114.18938      4004              0  Asia/Hong_Kong  \n",
       "605     114.18990      4005              0  Asia/Hong_Kong  \n",
       "...           ...       ...            ...             ...  \n",
       "552653  114.02284  10000088              0  Asia/Hong_Kong  \n",
       "552668  114.02281  10000089              0  Asia/Hong_Kong  \n",
       "552683  114.02360  10000087              0  Asia/Hong_Kong  \n",
       "552698  114.15595  10000093              0  Asia/Hong_Kong  \n",
       "552706  114.19908  10000096              0  Asia/Hong_Kong  \n",
       "\n",
       "[4282 rows x 8 columns]"
      ]
     },
     "execution_count": 12,
     "metadata": {},
     "output_type": "execute_result"
    }
   ],
   "source": [
    "bus_stops"
   ]
  },
  {
   "cell_type": "code",
   "execution_count": 13,
   "id": "17e93ed9",
   "metadata": {},
   "outputs": [],
   "source": [
    "bus_stops = gpd.GeoDataFrame(bus_stops)"
   ]
  },
  {
   "cell_type": "code",
   "execution_count": 14,
   "id": "0a423f5e",
   "metadata": {},
   "outputs": [],
   "source": [
    "bus_stops['geometry'] = bus_stops.apply(lambda r: sp.geometry.Point(r.stop_lon, r.stop_lat), axis=1)"
   ]
  },
  {
   "cell_type": "code",
   "execution_count": 15,
   "id": "02b15974",
   "metadata": {},
   "outputs": [],
   "source": [
    "bus_stops = bus_stops.set_crs(epsg=4326)"
   ]
  },
  {
   "cell_type": "code",
   "execution_count": 16,
   "id": "2cd3f83f",
   "metadata": {},
   "outputs": [],
   "source": [
    "bus_stops = bus_stops.to_crs(epsg=3857)"
   ]
  },
  {
   "cell_type": "code",
   "execution_count": 17,
   "id": "4dfe5840",
   "metadata": {},
   "outputs": [
    {
     "data": {
      "text/plain": [
       "<AxesSubplot:>"
      ]
     },
     "execution_count": 17,
     "metadata": {},
     "output_type": "execute_result"
    },
    {
     "data": {
      "image/png": "[encoded data removed]",
      "text/plain": [
       "<Figure size 432x288 with 1 Axes>"
      ]
     },
     "metadata": {
      "needs_background": "light"
     },
     "output_type": "display_data"
    }
   ],
   "source": [
    "bus_stops.sample(1000).plot()"
   ]
  },
  {
   "cell_type": "markdown",
   "id": "61ef450d",
   "metadata": {},
   "source": [
    "# Load pop data"
   ]
  },
  {
   "cell_type": "code",
   "execution_count": 18,
   "id": "1b59b71c",
   "metadata": {},
   "outputs": [
    {
     "data": {
      "text/html": [
       "<div>\n",
       "<style scoped>\n",
       "    .dataframe tbody tr th:only-of-type {\n",
       "        vertical-align: middle;\n",
       "    }\n",
       "\n",
       "    .dataframe tbody tr th {\n",
       "        vertical-align: top;\n",
       "    }\n",
       "\n",
       "    .dataframe thead th {\n",
       "        text-align: right;\n",
       "    }\n",
       "</style>\n",
       "<table border=\"1\" class=\"dataframe\">\n",
       "  <thead>\n",
       "    <tr style=\"text-align: right;\">\n",
       "      <th></th>\n",
       "      <th>latitude</th>\n",
       "      <th>longitude</th>\n",
       "      <th>population_2015</th>\n",
       "      <th>population_2020</th>\n",
       "    </tr>\n",
       "  </thead>\n",
       "  <tbody>\n",
       "    <tr>\n",
       "      <th>0</th>\n",
       "      <td>22.160139</td>\n",
       "      <td>113.899028</td>\n",
       "      <td>9.337329</td>\n",
       "      <td>9.659727</td>\n",
       "    </tr>\n",
       "    <tr>\n",
       "      <th>1</th>\n",
       "      <td>22.163472</td>\n",
       "      <td>114.253194</td>\n",
       "      <td>17.163928</td>\n",
       "      <td>17.446940</td>\n",
       "    </tr>\n",
       "    <tr>\n",
       "      <th>2</th>\n",
       "      <td>22.163750</td>\n",
       "      <td>114.254306</td>\n",
       "      <td>17.163928</td>\n",
       "      <td>17.446940</td>\n",
       "    </tr>\n",
       "    <tr>\n",
       "      <th>3</th>\n",
       "      <td>22.164306</td>\n",
       "      <td>114.251250</td>\n",
       "      <td>17.163928</td>\n",
       "      <td>17.446940</td>\n",
       "    </tr>\n",
       "    <tr>\n",
       "      <th>4</th>\n",
       "      <td>22.164861</td>\n",
       "      <td>113.910139</td>\n",
       "      <td>9.337329</td>\n",
       "      <td>9.659727</td>\n",
       "    </tr>\n",
       "    <tr>\n",
       "      <th>...</th>\n",
       "      <td>...</td>\n",
       "      <td>...</td>\n",
       "      <td>...</td>\n",
       "      <td>...</td>\n",
       "    </tr>\n",
       "    <tr>\n",
       "      <th>109950</th>\n",
       "      <td>22.559306</td>\n",
       "      <td>114.170417</td>\n",
       "      <td>4.370319</td>\n",
       "      <td>4.752405</td>\n",
       "    </tr>\n",
       "    <tr>\n",
       "      <th>109951</th>\n",
       "      <td>22.559306</td>\n",
       "      <td>114.170694</td>\n",
       "      <td>4.370319</td>\n",
       "      <td>4.752405</td>\n",
       "    </tr>\n",
       "    <tr>\n",
       "      <th>109952</th>\n",
       "      <td>22.559306</td>\n",
       "      <td>114.177917</td>\n",
       "      <td>4.370319</td>\n",
       "      <td>4.752405</td>\n",
       "    </tr>\n",
       "    <tr>\n",
       "      <th>109953</th>\n",
       "      <td>22.559583</td>\n",
       "      <td>114.177639</td>\n",
       "      <td>4.370319</td>\n",
       "      <td>4.752405</td>\n",
       "    </tr>\n",
       "    <tr>\n",
       "      <th>109954</th>\n",
       "      <td>22.559583</td>\n",
       "      <td>114.178194</td>\n",
       "      <td>4.370319</td>\n",
       "      <td>4.752405</td>\n",
       "    </tr>\n",
       "  </tbody>\n",
       "</table>\n",
       "<p>109955 rows × 4 columns</p>\n",
       "</div>"
      ],
      "text/plain": [
       "         latitude   longitude  population_2015  population_2020\n",
       "0       22.160139  113.899028         9.337329         9.659727\n",
       "1       22.163472  114.253194        17.163928        17.446940\n",
       "2       22.163750  114.254306        17.163928        17.446940\n",
       "3       22.164306  114.251250        17.163928        17.446940\n",
       "4       22.164861  113.910139         9.337329         9.659727\n",
       "...           ...         ...              ...              ...\n",
       "109950  22.559306  114.170417         4.370319         4.752405\n",
       "109951  22.559306  114.170694         4.370319         4.752405\n",
       "109952  22.559306  114.177917         4.370319         4.752405\n",
       "109953  22.559583  114.177639         4.370319         4.752405\n",
       "109954  22.559583  114.178194         4.370319         4.752405\n",
       "\n",
       "[109955 rows x 4 columns]"
      ]
     },
     "execution_count": 18,
     "metadata": {},
     "output_type": "execute_result"
    }
   ],
   "source": [
    "pop = pd.read_csv('data/hk/pop/population_hkg_2018-10-01.csv')\n",
    "pop"
   ]
  },
  {
   "cell_type": "code",
   "execution_count": 19,
   "id": "988fb8ab",
   "metadata": {},
   "outputs": [],
   "source": [
    "pop['geometry'] = pop.apply(lambda r: sp.geometry.Point(r.longitude, r.latitude), axis=1)"
   ]
  },
  {
   "cell_type": "code",
   "execution_count": 20,
   "id": "368bf65a",
   "metadata": {},
   "outputs": [],
   "source": [
    "pop = gpd.GeoDataFrame(pop)"
   ]
  },
  {
   "cell_type": "code",
   "execution_count": 21,
   "id": "ab46cedc",
   "metadata": {},
   "outputs": [],
   "source": [
    "pop = pop.set_crs(epsg=4326).to_crs(epsg=3857)"
   ]
  },
  {
   "cell_type": "code",
   "execution_count": 22,
   "id": "6f3dac1c",
   "metadata": {},
   "outputs": [
    {
     "data": {
      "text/plain": [
       "<AxesSubplot:>"
      ]
     },
     "execution_count": 22,
     "metadata": {},
     "output_type": "execute_result"
    },
    {
     "data": {
      "image/png": "[encoded data removed]",
      "text/plain": [
       "<Figure size 432x288 with 1 Axes>"
      ]
     },
     "metadata": {
      "needs_background": "light"
     },
     "output_type": "display_data"
    }
   ],
   "source": [
    "_, ax = plt.subplots()\n",
    "bus_stops.sample(1000).plot(ax=ax)\n",
    "pop.sample(1000).plot(ax=ax)"
   ]
  },
  {
   "cell_type": "code",
   "execution_count": 23,
   "id": "72c5a25a",
   "metadata": {},
   "outputs": [
    {
     "data": {
      "text/html": [
       "<div>\n",
       "<style scoped>\n",
       "    .dataframe tbody tr th:only-of-type {\n",
       "        vertical-align: middle;\n",
       "    }\n",
       "\n",
       "    .dataframe tbody tr th {\n",
       "        vertical-align: top;\n",
       "    }\n",
       "\n",
       "    .dataframe thead th {\n",
       "        text-align: right;\n",
       "    }\n",
       "</style>\n",
       "<table border=\"1\" class=\"dataframe\">\n",
       "  <thead>\n",
       "    <tr style=\"text-align: right;\">\n",
       "      <th></th>\n",
       "      <th>latitude</th>\n",
       "      <th>longitude</th>\n",
       "      <th>population_2015</th>\n",
       "      <th>population_2020</th>\n",
       "      <th>geometry</th>\n",
       "    </tr>\n",
       "  </thead>\n",
       "  <tbody>\n",
       "    <tr>\n",
       "      <th>67374</th>\n",
       "      <td>22.420139</td>\n",
       "      <td>114.224306</td>\n",
       "      <td>2123.358547</td>\n",
       "      <td>2211.049633</td>\n",
       "      <td>POINT (12715391.531 2562043.248)</td>\n",
       "    </tr>\n",
       "    <tr>\n",
       "      <th>68007</th>\n",
       "      <td>22.421250</td>\n",
       "      <td>114.224583</td>\n",
       "      <td>2123.358547</td>\n",
       "      <td>2211.049633</td>\n",
       "      <td>POINT (12715422.453 2562177.050)</td>\n",
       "    </tr>\n",
       "    <tr>\n",
       "      <th>67524</th>\n",
       "      <td>22.420417</td>\n",
       "      <td>114.225694</td>\n",
       "      <td>2123.358547</td>\n",
       "      <td>2211.049633</td>\n",
       "      <td>POINT (12715546.141 2562076.698)</td>\n",
       "    </tr>\n",
       "    <tr>\n",
       "      <th>68180</th>\n",
       "      <td>22.421528</td>\n",
       "      <td>114.224583</td>\n",
       "      <td>2123.358547</td>\n",
       "      <td>2211.049633</td>\n",
       "      <td>POINT (12715422.453 2562210.501)</td>\n",
       "    </tr>\n",
       "    <tr>\n",
       "      <th>67680</th>\n",
       "      <td>22.420694</td>\n",
       "      <td>114.225139</td>\n",
       "      <td>2123.358547</td>\n",
       "      <td>2211.049633</td>\n",
       "      <td>POINT (12715484.297 2562110.149)</td>\n",
       "    </tr>\n",
       "    <tr>\n",
       "      <th>...</th>\n",
       "      <td>...</td>\n",
       "      <td>...</td>\n",
       "      <td>...</td>\n",
       "      <td>...</td>\n",
       "      <td>...</td>\n",
       "    </tr>\n",
       "    <tr>\n",
       "      <th>107706</th>\n",
       "      <td>22.526528</td>\n",
       "      <td>114.259861</td>\n",
       "      <td>4.370319</td>\n",
       "      <td>4.752405</td>\n",
       "      <td>POINT (12719349.557 2574859.722)</td>\n",
       "    </tr>\n",
       "    <tr>\n",
       "      <th>107707</th>\n",
       "      <td>22.526528</td>\n",
       "      <td>114.260417</td>\n",
       "      <td>4.370319</td>\n",
       "      <td>4.752405</td>\n",
       "      <td>POINT (12719411.401 2574859.722)</td>\n",
       "    </tr>\n",
       "    <tr>\n",
       "      <th>107708</th>\n",
       "      <td>22.526528</td>\n",
       "      <td>114.260694</td>\n",
       "      <td>4.370319</td>\n",
       "      <td>4.752405</td>\n",
       "      <td>POINT (12719442.323 2574859.722)</td>\n",
       "    </tr>\n",
       "    <tr>\n",
       "      <th>107709</th>\n",
       "      <td>22.526806</td>\n",
       "      <td>114.121806</td>\n",
       "      <td>4.370319</td>\n",
       "      <td>4.752405</td>\n",
       "      <td>POINT (12703981.283 2574893.198)</td>\n",
       "    </tr>\n",
       "    <tr>\n",
       "      <th>109954</th>\n",
       "      <td>22.559583</td>\n",
       "      <td>114.178194</td>\n",
       "      <td>4.370319</td>\n",
       "      <td>4.752405</td>\n",
       "      <td>POINT (12710258.465 2578843.871)</td>\n",
       "    </tr>\n",
       "  </tbody>\n",
       "</table>\n",
       "<p>109955 rows × 5 columns</p>\n",
       "</div>"
      ],
      "text/plain": [
       "         latitude   longitude  population_2015  population_2020  \\\n",
       "67374   22.420139  114.224306      2123.358547      2211.049633   \n",
       "68007   22.421250  114.224583      2123.358547      2211.049633   \n",
       "67524   22.420417  114.225694      2123.358547      2211.049633   \n",
       "68180   22.421528  114.224583      2123.358547      2211.049633   \n",
       "67680   22.420694  114.225139      2123.358547      2211.049633   \n",
       "...           ...         ...              ...              ...   \n",
       "107706  22.526528  114.259861         4.370319         4.752405   \n",
       "107707  22.526528  114.260417         4.370319         4.752405   \n",
       "107708  22.526528  114.260694         4.370319         4.752405   \n",
       "107709  22.526806  114.121806         4.370319         4.752405   \n",
       "109954  22.559583  114.178194         4.370319         4.752405   \n",
       "\n",
       "                                geometry  \n",
       "67374   POINT (12715391.531 2562043.248)  \n",
       "68007   POINT (12715422.453 2562177.050)  \n",
       "67524   POINT (12715546.141 2562076.698)  \n",
       "68180   POINT (12715422.453 2562210.501)  \n",
       "67680   POINT (12715484.297 2562110.149)  \n",
       "...                                  ...  \n",
       "107706  POINT (12719349.557 2574859.722)  \n",
       "107707  POINT (12719411.401 2574859.722)  \n",
       "107708  POINT (12719442.323 2574859.722)  \n",
       "107709  POINT (12703981.283 2574893.198)  \n",
       "109954  POINT (12710258.465 2578843.871)  \n",
       "\n",
       "[109955 rows x 5 columns]"
      ]
     },
     "execution_count": 23,
     "metadata": {},
     "output_type": "execute_result"
    }
   ],
   "source": [
    "pop.sort_values('population_2020', ascending=False)"
   ]
  },
  {
   "cell_type": "markdown",
   "id": "7170ae25",
   "metadata": {},
   "source": [
    "## Inspecting correctedness"
   ]
  },
  {
   "cell_type": "code",
   "execution_count": 24,
   "id": "aa9f5a4d",
   "metadata": {},
   "outputs": [],
   "source": [
    "dists = bus_stops.distance(pop.geometry.iloc[67374])"
   ]
  },
  {
   "cell_type": "code",
   "execution_count": 25,
   "id": "d3a1a952",
   "metadata": {},
   "outputs": [
    {
     "data": {
      "text/plain": [
       "245.35390236131144"
      ]
     },
     "execution_count": 25,
     "metadata": {},
     "output_type": "execute_result"
    }
   ],
   "source": [
    "dists.min()"
   ]
  },
  {
   "cell_type": "code",
   "execution_count": 26,
   "id": "0da1f5de",
   "metadata": {},
   "outputs": [
    {
     "data": {
      "text/plain": [
       "336760    245.353902\n",
       "dtype: float64"
      ]
     },
     "execution_count": 26,
     "metadata": {},
     "output_type": "execute_result"
    }
   ],
   "source": [
    "dists[dists == dists.min()]"
   ]
  },
  {
   "cell_type": "code",
   "execution_count": 27,
   "id": "2958297e",
   "metadata": {},
   "outputs": [
    {
     "data": {
      "text/plain": [
       "trip_id                                            1153-1-287-0530\n",
       "stop_id                                                       6156\n",
       "stop_name        [KMB+CTB] VISTA PARADISO/<BR>VISTA PARADISO, S...\n",
       "stop_lat                                                  22.41887\n",
       "stop_lon                                                 114.22603\n",
       "zone_id                                                       6156\n",
       "location_type                                                    0\n",
       "stop_timezone                                       Asia/Hong_Kong\n",
       "geometry               POINT (12715583.49493719 2561890.446433533)\n",
       "Name: 336760, dtype: object"
      ]
     },
     "execution_count": 27,
     "metadata": {},
     "output_type": "execute_result"
    }
   ],
   "source": [
    "bus_stops.loc[336760]"
   ]
  },
  {
   "cell_type": "markdown",
   "id": "83ea83f0",
   "metadata": {},
   "source": [
    "## testing analysis"
   ]
  },
  {
   "cell_type": "code",
   "execution_count": 28,
   "id": "9ecbc74b",
   "metadata": {},
   "outputs": [],
   "source": [
    "# too expensive, need a smarter method\n",
    "# matrix = pop.sample(100).geometry.apply(lambda g: bus_stops.sample(100).distance(g))\n",
    "# matrix"
   ]
  },
  {
   "cell_type": "code",
   "execution_count": 29,
   "id": "ec12580b",
   "metadata": {},
   "outputs": [
    {
     "data": {
      "text/plain": [
       "(12714891.530669907, 2561543.24779966, 12715891.530669907, 2562543.24779966)"
      ]
     },
     "execution_count": 29,
     "metadata": {},
     "output_type": "execute_result"
    }
   ],
   "source": [
    "bounds = pop.iloc[67374].geometry.buffer(500).bounds\n",
    "bounds"
   ]
  },
  {
   "cell_type": "code",
   "execution_count": 30,
   "id": "252a3026",
   "metadata": {},
   "outputs": [],
   "source": [
    "within = bus_stops.cx[bounds[0]:bounds[2], bounds[1]:bounds[3]]"
   ]
  },
  {
   "cell_type": "code",
   "execution_count": 31,
   "id": "348132dd",
   "metadata": {},
   "outputs": [
    {
     "data": {
      "text/plain": [
       "10"
      ]
     },
     "execution_count": 31,
     "metadata": {},
     "output_type": "execute_result"
    }
   ],
   "source": [
    "within.stop_id.drop_duplicates().count()"
   ]
  },
  {
   "cell_type": "code",
   "execution_count": 32,
   "id": "0c168b89",
   "metadata": {},
   "outputs": [
    {
     "data": {
      "text/plain": [
       "<AxesSubplot:>"
      ]
     },
     "execution_count": 32,
     "metadata": {},
     "output_type": "execute_result"
    },
    {
     "data": {
      "image/png": "[encoded data removed]",
      "text/plain": [
       "<Figure size 432x288 with 1 Axes>"
      ]
     },
     "metadata": {
      "needs_background": "light"
     },
     "output_type": "display_data"
    }
   ],
   "source": [
    "within.plot()"
   ]
  },
  {
   "cell_type": "markdown",
   "id": "be876148",
   "metadata": {},
   "source": [
    "# number of stops within X distance for every population dot"
   ]
  },
  {
   "cell_type": "code",
   "execution_count": 33,
   "id": "ab83cfd2",
   "metadata": {},
   "outputs": [],
   "source": [
    "# slightly speed it up\n",
    "pop_tmp = pop[['population_2020', 'geometry']]"
   ]
  },
  {
   "cell_type": "code",
   "execution_count": 34,
   "id": "ee2cd0f3",
   "metadata": {},
   "outputs": [],
   "source": [
    "from npy_append_array import NpyAppendArray\n",
    "import numpy as np"
   ]
  },
  {
   "cell_type": "markdown",
   "id": "33851d2c",
   "metadata": {},
   "source": [
    "# Warning: takes an hour"
   ]
  },
  {
   "cell_type": "code",
   "execution_count": 35,
   "id": "d8d12d2c",
   "metadata": {},
   "outputs": [],
   "source": [
    "if not os.path.exists('gen/hk_matrix.npy'):\n",
    "    chunksize = 1000\n",
    "    with NpyAppendArray('gen/hk_matrix.npy') as npya:\n",
    "        for i in range(0, pop_tmp.shape[0], chunksize):\n",
    "            df = pop_tmp[i:i+chunksize]\n",
    "            sub_matrix = df.geometry.apply(lambda g: bus_stops.distance(g))\n",
    "            npya.append(np.ascontiguousarray(sub_matrix.to_numpy()))"
   ]
  },
  {
   "cell_type": "code",
   "execution_count": 36,
   "id": "b6ec6f7c",
   "metadata": {},
   "outputs": [],
   "source": [
    "matrix = np.load('gen/hk_matrix.npy', mmap_mode='r')"
   ]
  },
  {
   "cell_type": "code",
   "execution_count": 37,
   "id": "facd82ed",
   "metadata": {},
   "outputs": [
    {
     "data": {
      "text/plain": [
       "memmap([[39535.956719  , 39292.08886239, 39030.26044147, ...,\n",
       "         21357.45997408, 50252.35848858, 39328.24878266],\n",
       "        [22897.65877411, 22946.12553228, 22927.55801592, ...,\n",
       "         30070.11208626, 42326.68870151, 21233.28547077],\n",
       "        [22902.65024759, 22952.62100741, 22935.54471544, ...,\n",
       "         30157.795959  , 42326.23758395, 21236.74542386],\n",
       "        ...,\n",
       "        [25821.60338739, 25840.8769399 , 25930.15345222, ...,\n",
       "         36147.33405948,  7158.6240466 , 27387.68491041],\n",
       "        [25856.97399596, 25875.94178206, 25964.932472  , ...,\n",
       "         36162.12594247,  7179.64569968, 27423.71916513],\n",
       "        [25853.10684613, 25872.72673388, 25962.31978285, ...,\n",
       "         36191.49246294,  7200.67841771, 27418.40579942]])"
      ]
     },
     "execution_count": 37,
     "metadata": {},
     "output_type": "execute_result"
    }
   ],
   "source": [
    "matrix"
   ]
  },
  {
   "cell_type": "code",
   "execution_count": 38,
   "id": "309567a3",
   "metadata": {},
   "outputs": [
    {
     "data": {
      "text/plain": [
       "(109955, 4282)"
      ]
     },
     "execution_count": 38,
     "metadata": {},
     "output_type": "execute_result"
    }
   ],
   "source": [
    "matrix.shape"
   ]
  },
  {
   "cell_type": "code",
   "execution_count": 39,
   "id": "0da84118",
   "metadata": {},
   "outputs": [
    {
     "data": {
      "text/plain": [
       "RangeIndex(start=0, stop=109955, step=1)"
      ]
     },
     "execution_count": 39,
     "metadata": {},
     "output_type": "execute_result"
    }
   ],
   "source": [
    "pop_idxs = pop_tmp.index\n",
    "pop_idxs"
   ]
  },
  {
   "cell_type": "code",
   "execution_count": 40,
   "id": "78ede06b",
   "metadata": {},
   "outputs": [
    {
     "data": {
      "text/plain": [
       "array([0, 0, 0, ..., 0, 0, 0])"
      ]
     },
     "execution_count": 40,
     "metadata": {},
     "output_type": "execute_result"
    }
   ],
   "source": [
    "count_for_every_pop = np.count_nonzero(matrix <= 500, axis=1)\n",
    "count_for_every_pop"
   ]
  },
  {
   "cell_type": "code",
   "execution_count": 41,
   "id": "c5f81868",
   "metadata": {},
   "outputs": [
    {
     "data": {
      "text/plain": [
       "(109955,)"
      ]
     },
     "execution_count": 41,
     "metadata": {},
     "output_type": "execute_result"
    }
   ],
   "source": [
    "count_for_every_pop.shape"
   ]
  },
  {
   "cell_type": "code",
   "execution_count": 42,
   "id": "073a4c6e",
   "metadata": {},
   "outputs": [],
   "source": [
    "df = pd.DataFrame([count_for_every_pop, pop_idxs], index=['counts', 'pop_idx'])"
   ]
  },
  {
   "cell_type": "code",
   "execution_count": 43,
   "id": "5b955a4e",
   "metadata": {},
   "outputs": [
    {
     "data": {
      "text/html": [
       "<div>\n",
       "<style scoped>\n",
       "    .dataframe tbody tr th:only-of-type {\n",
       "        vertical-align: middle;\n",
       "    }\n",
       "\n",
       "    .dataframe tbody tr th {\n",
       "        vertical-align: top;\n",
       "    }\n",
       "\n",
       "    .dataframe thead th {\n",
       "        text-align: right;\n",
       "    }\n",
       "</style>\n",
       "<table border=\"1\" class=\"dataframe\">\n",
       "  <thead>\n",
       "    <tr style=\"text-align: right;\">\n",
       "      <th></th>\n",
       "      <th>counts</th>\n",
       "      <th>pop_idx</th>\n",
       "    </tr>\n",
       "  </thead>\n",
       "  <tbody>\n",
       "    <tr>\n",
       "      <th>0</th>\n",
       "      <td>0</td>\n",
       "      <td>0</td>\n",
       "    </tr>\n",
       "    <tr>\n",
       "      <th>1</th>\n",
       "      <td>0</td>\n",
       "      <td>1</td>\n",
       "    </tr>\n",
       "    <tr>\n",
       "      <th>2</th>\n",
       "      <td>0</td>\n",
       "      <td>2</td>\n",
       "    </tr>\n",
       "    <tr>\n",
       "      <th>3</th>\n",
       "      <td>0</td>\n",
       "      <td>3</td>\n",
       "    </tr>\n",
       "    <tr>\n",
       "      <th>4</th>\n",
       "      <td>0</td>\n",
       "      <td>4</td>\n",
       "    </tr>\n",
       "    <tr>\n",
       "      <th>...</th>\n",
       "      <td>...</td>\n",
       "      <td>...</td>\n",
       "    </tr>\n",
       "    <tr>\n",
       "      <th>109950</th>\n",
       "      <td>0</td>\n",
       "      <td>109950</td>\n",
       "    </tr>\n",
       "    <tr>\n",
       "      <th>109951</th>\n",
       "      <td>0</td>\n",
       "      <td>109951</td>\n",
       "    </tr>\n",
       "    <tr>\n",
       "      <th>109952</th>\n",
       "      <td>0</td>\n",
       "      <td>109952</td>\n",
       "    </tr>\n",
       "    <tr>\n",
       "      <th>109953</th>\n",
       "      <td>0</td>\n",
       "      <td>109953</td>\n",
       "    </tr>\n",
       "    <tr>\n",
       "      <th>109954</th>\n",
       "      <td>0</td>\n",
       "      <td>109954</td>\n",
       "    </tr>\n",
       "  </tbody>\n",
       "</table>\n",
       "<p>109955 rows × 2 columns</p>\n",
       "</div>"
      ],
      "text/plain": [
       "        counts  pop_idx\n",
       "0            0        0\n",
       "1            0        1\n",
       "2            0        2\n",
       "3            0        3\n",
       "4            0        4\n",
       "...        ...      ...\n",
       "109950       0   109950\n",
       "109951       0   109951\n",
       "109952       0   109952\n",
       "109953       0   109953\n",
       "109954       0   109954\n",
       "\n",
       "[109955 rows x 2 columns]"
      ]
     },
     "execution_count": 43,
     "metadata": {},
     "output_type": "execute_result"
    }
   ],
   "source": [
    "df = df.T\n",
    "df"
   ]
  },
  {
   "cell_type": "code",
   "execution_count": 44,
   "id": "a6713fd9",
   "metadata": {},
   "outputs": [
    {
     "data": {
      "text/html": [
       "<div>\n",
       "<style scoped>\n",
       "    .dataframe tbody tr th:only-of-type {\n",
       "        vertical-align: middle;\n",
       "    }\n",
       "\n",
       "    .dataframe tbody tr th {\n",
       "        vertical-align: top;\n",
       "    }\n",
       "\n",
       "    .dataframe thead th {\n",
       "        text-align: right;\n",
       "    }\n",
       "</style>\n",
       "<table border=\"1\" class=\"dataframe\">\n",
       "  <thead>\n",
       "    <tr style=\"text-align: right;\">\n",
       "      <th></th>\n",
       "      <th>latitude</th>\n",
       "      <th>longitude</th>\n",
       "      <th>population_2015</th>\n",
       "      <th>population_2020</th>\n",
       "      <th>geometry</th>\n",
       "    </tr>\n",
       "  </thead>\n",
       "  <tbody>\n",
       "    <tr>\n",
       "      <th>0</th>\n",
       "      <td>22.160139</td>\n",
       "      <td>113.899028</td>\n",
       "      <td>9.337329</td>\n",
       "      <td>9.659727</td>\n",
       "      <td>POINT (12679181.774 2530762.709)</td>\n",
       "    </tr>\n",
       "    <tr>\n",
       "      <th>1</th>\n",
       "      <td>22.163472</td>\n",
       "      <td>114.253194</td>\n",
       "      <td>17.163928</td>\n",
       "      <td>17.446940</td>\n",
       "      <td>POINT (12718607.427 2531163.374)</td>\n",
       "    </tr>\n",
       "    <tr>\n",
       "      <th>2</th>\n",
       "      <td>22.163750</td>\n",
       "      <td>114.254306</td>\n",
       "      <td>17.163928</td>\n",
       "      <td>17.446940</td>\n",
       "      <td>POINT (12718731.115 2531196.764)</td>\n",
       "    </tr>\n",
       "    <tr>\n",
       "      <th>3</th>\n",
       "      <td>22.164306</td>\n",
       "      <td>114.251250</td>\n",
       "      <td>17.163928</td>\n",
       "      <td>17.446940</td>\n",
       "      <td>POINT (12718390.973 2531263.542)</td>\n",
       "    </tr>\n",
       "    <tr>\n",
       "      <th>4</th>\n",
       "      <td>22.164861</td>\n",
       "      <td>113.910139</td>\n",
       "      <td>9.337329</td>\n",
       "      <td>9.659727</td>\n",
       "      <td>POINT (12680418.657 2531330.321)</td>\n",
       "    </tr>\n",
       "    <tr>\n",
       "      <th>...</th>\n",
       "      <td>...</td>\n",
       "      <td>...</td>\n",
       "      <td>...</td>\n",
       "      <td>...</td>\n",
       "      <td>...</td>\n",
       "    </tr>\n",
       "    <tr>\n",
       "      <th>109950</th>\n",
       "      <td>22.559306</td>\n",
       "      <td>114.170417</td>\n",
       "      <td>4.370319</td>\n",
       "      <td>4.752405</td>\n",
       "      <td>POINT (12709392.647 2578810.387)</td>\n",
       "    </tr>\n",
       "    <tr>\n",
       "      <th>109951</th>\n",
       "      <td>22.559306</td>\n",
       "      <td>114.170694</td>\n",
       "      <td>4.370319</td>\n",
       "      <td>4.752405</td>\n",
       "      <td>POINT (12709423.569 2578810.387)</td>\n",
       "    </tr>\n",
       "    <tr>\n",
       "      <th>109952</th>\n",
       "      <td>22.559306</td>\n",
       "      <td>114.177917</td>\n",
       "      <td>4.370319</td>\n",
       "      <td>4.752405</td>\n",
       "      <td>POINT (12710227.543 2578810.387)</td>\n",
       "    </tr>\n",
       "    <tr>\n",
       "      <th>109953</th>\n",
       "      <td>22.559583</td>\n",
       "      <td>114.177639</td>\n",
       "      <td>4.370319</td>\n",
       "      <td>4.752405</td>\n",
       "      <td>POINT (12710196.621 2578843.871)</td>\n",
       "    </tr>\n",
       "    <tr>\n",
       "      <th>109954</th>\n",
       "      <td>22.559583</td>\n",
       "      <td>114.178194</td>\n",
       "      <td>4.370319</td>\n",
       "      <td>4.752405</td>\n",
       "      <td>POINT (12710258.465 2578843.871)</td>\n",
       "    </tr>\n",
       "  </tbody>\n",
       "</table>\n",
       "<p>109955 rows × 5 columns</p>\n",
       "</div>"
      ],
      "text/plain": [
       "         latitude   longitude  population_2015  population_2020  \\\n",
       "0       22.160139  113.899028         9.337329         9.659727   \n",
       "1       22.163472  114.253194        17.163928        17.446940   \n",
       "2       22.163750  114.254306        17.163928        17.446940   \n",
       "3       22.164306  114.251250        17.163928        17.446940   \n",
       "4       22.164861  113.910139         9.337329         9.659727   \n",
       "...           ...         ...              ...              ...   \n",
       "109950  22.559306  114.170417         4.370319         4.752405   \n",
       "109951  22.559306  114.170694         4.370319         4.752405   \n",
       "109952  22.559306  114.177917         4.370319         4.752405   \n",
       "109953  22.559583  114.177639         4.370319         4.752405   \n",
       "109954  22.559583  114.178194         4.370319         4.752405   \n",
       "\n",
       "                                geometry  \n",
       "0       POINT (12679181.774 2530762.709)  \n",
       "1       POINT (12718607.427 2531163.374)  \n",
       "2       POINT (12718731.115 2531196.764)  \n",
       "3       POINT (12718390.973 2531263.542)  \n",
       "4       POINT (12680418.657 2531330.321)  \n",
       "...                                  ...  \n",
       "109950  POINT (12709392.647 2578810.387)  \n",
       "109951  POINT (12709423.569 2578810.387)  \n",
       "109952  POINT (12710227.543 2578810.387)  \n",
       "109953  POINT (12710196.621 2578843.871)  \n",
       "109954  POINT (12710258.465 2578843.871)  \n",
       "\n",
       "[109955 rows x 5 columns]"
      ]
     },
     "execution_count": 44,
     "metadata": {},
     "output_type": "execute_result"
    }
   ],
   "source": [
    "pop_tmp_2 = pop.iloc[pop_tmp.index]\n",
    "pop_tmp_2"
   ]
  },
  {
   "cell_type": "code",
   "execution_count": 45,
   "id": "af45ea76",
   "metadata": {},
   "outputs": [],
   "source": [
    "df['pop'] = df['pop_idx'].apply(lambda idx: pop_tmp.iloc[idx].population_2020)"
   ]
  },
  {
   "cell_type": "code",
   "execution_count": 46,
   "id": "3fb74861",
   "metadata": {},
   "outputs": [],
   "source": [
    "left, width = 0.1, 0.65\n",
    "bottom, height = 0.1, 0.65\n",
    "spacing = 0.005"
   ]
  },
  {
   "cell_type": "code",
   "execution_count": 47,
   "id": "41486b40",
   "metadata": {},
   "outputs": [],
   "source": [
    "rect_scatter = [left, bottom, width, height]\n",
    "rect_histx = [left, bottom + height + spacing, width, 0.2]\n",
    "rect_histy = [left + width + spacing, bottom, 0.2, height]"
   ]
  },
  {
   "cell_type": "code",
   "execution_count": 48,
   "id": "ee4bc2ad",
   "metadata": {},
   "outputs": [
    {
     "data": {
      "text/plain": [
       "Text(0, 0.5, 'number of bus stops within 500 m')"
      ]
     },
     "execution_count": 48,
     "metadata": {},
     "output_type": "execute_result"
    },
    {
     "data": {
      "image/png": "[encoded data removed]",
      "text/plain": [
       "<Figure size 576x576 with 3 Axes>"
      ]
     },
     "metadata": {
      "needs_background": "light"
     },
     "output_type": "display_data"
    }
   ],
   "source": [
    "fig = plt.figure(figsize=(8,8))\n",
    "ax = fig.add_axes(rect_scatter)\n",
    "ax.scatter(df['pop'], df['counts'], s=5)\n",
    "ax.axvline(x=df['pop'].mean(), c='green')\n",
    "ax.axhline(y=df['counts'].mean(), c='green')\n",
    "\n",
    "ax_hx = fig.add_axes(rect_histx, sharex=ax)\n",
    "ax_hy = fig.add_axes(rect_histy, sharey=ax)\n",
    "ax_hx.tick_params(axis=\"x\", labelbottom=False)\n",
    "ax_hy.tick_params(axis=\"y\", labelleft=False)\n",
    "\n",
    "ax_hx.hist(df['pop'], bins=20)\n",
    "ax_hy.hist(df['counts'], orientation='horizontal', bins=20)\n",
    "\n",
    "ax.set_xlabel('population')\n",
    "ax.set_ylabel('number of bus stops within 500 m')"
   ]
  },
  {
   "cell_type": "code",
   "execution_count": 49,
   "id": "cc38f7ae",
   "metadata": {},
   "outputs": [
    {
     "data": {
      "text/plain": [
       "count    109955.000000\n",
       "mean          8.700650\n",
       "std           9.027064\n",
       "min           0.000000\n",
       "25%           2.000000\n",
       "50%           6.000000\n",
       "75%          14.000000\n",
       "max          56.000000\n",
       "Name: counts, dtype: float64"
      ]
     },
     "execution_count": 49,
     "metadata": {},
     "output_type": "execute_result"
    }
   ],
   "source": [
    "df['counts'].describe()"
   ]
  },
  {
   "cell_type": "code",
   "execution_count": 50,
   "id": "f5105166",
   "metadata": {},
   "outputs": [],
   "source": [
    "df[['counts', 'pop']].to_csv('gen/hk_nstops_500m.csv')"
   ]
  },
  {
   "cell_type": "code",
   "execution_count": 51,
   "id": "6be91344",
   "metadata": {},
   "outputs": [
    {
     "data": {
      "text/html": [
       "<div>\n",
       "<style scoped>\n",
       "    .dataframe tbody tr th:only-of-type {\n",
       "        vertical-align: middle;\n",
       "    }\n",
       "\n",
       "    .dataframe tbody tr th {\n",
       "        vertical-align: top;\n",
       "    }\n",
       "\n",
       "    .dataframe thead th {\n",
       "        text-align: right;\n",
       "    }\n",
       "</style>\n",
       "<table border=\"1\" class=\"dataframe\">\n",
       "  <thead>\n",
       "    <tr style=\"text-align: right;\">\n",
       "      <th></th>\n",
       "      <th>counts</th>\n",
       "      <th>pop_idx</th>\n",
       "      <th>pop</th>\n",
       "    </tr>\n",
       "  </thead>\n",
       "  <tbody>\n",
       "    <tr>\n",
       "      <th>4488</th>\n",
       "      <td>14</td>\n",
       "      <td>4488</td>\n",
       "      <td>409.018686</td>\n",
       "    </tr>\n",
       "    <tr>\n",
       "      <th>4489</th>\n",
       "      <td>14</td>\n",
       "      <td>4489</td>\n",
       "      <td>409.018686</td>\n",
       "    </tr>\n",
       "    <tr>\n",
       "      <th>4533</th>\n",
       "      <td>14</td>\n",
       "      <td>4533</td>\n",
       "      <td>409.018686</td>\n",
       "    </tr>\n",
       "    <tr>\n",
       "      <th>4534</th>\n",
       "      <td>14</td>\n",
       "      <td>4534</td>\n",
       "      <td>409.018686</td>\n",
       "    </tr>\n",
       "    <tr>\n",
       "      <th>4579</th>\n",
       "      <td>12</td>\n",
       "      <td>4579</td>\n",
       "      <td>409.018686</td>\n",
       "    </tr>\n",
       "    <tr>\n",
       "      <th>...</th>\n",
       "      <td>...</td>\n",
       "      <td>...</td>\n",
       "      <td>...</td>\n",
       "    </tr>\n",
       "    <tr>\n",
       "      <th>99467</th>\n",
       "      <td>12</td>\n",
       "      <td>99467</td>\n",
       "      <td>641.409662</td>\n",
       "    </tr>\n",
       "    <tr>\n",
       "      <th>99468</th>\n",
       "      <td>13</td>\n",
       "      <td>99468</td>\n",
       "      <td>641.409662</td>\n",
       "    </tr>\n",
       "    <tr>\n",
       "      <th>99522</th>\n",
       "      <td>11</td>\n",
       "      <td>99522</td>\n",
       "      <td>641.409662</td>\n",
       "    </tr>\n",
       "    <tr>\n",
       "      <th>99523</th>\n",
       "      <td>12</td>\n",
       "      <td>99523</td>\n",
       "      <td>641.409662</td>\n",
       "    </tr>\n",
       "    <tr>\n",
       "      <th>99576</th>\n",
       "      <td>13</td>\n",
       "      <td>99576</td>\n",
       "      <td>641.409662</td>\n",
       "    </tr>\n",
       "  </tbody>\n",
       "</table>\n",
       "<p>3335 rows × 3 columns</p>\n",
       "</div>"
      ],
      "text/plain": [
       "       counts  pop_idx         pop\n",
       "4488       14     4488  409.018686\n",
       "4489       14     4489  409.018686\n",
       "4533       14     4533  409.018686\n",
       "4534       14     4534  409.018686\n",
       "4579       12     4579  409.018686\n",
       "...       ...      ...         ...\n",
       "99467      12    99467  641.409662\n",
       "99468      13    99468  641.409662\n",
       "99522      11    99522  641.409662\n",
       "99523      12    99523  641.409662\n",
       "99576      13    99576  641.409662\n",
       "\n",
       "[3335 rows x 3 columns]"
      ]
     },
     "execution_count": 51,
     "metadata": {},
     "output_type": "execute_result"
    }
   ],
   "source": [
    "df_outliers = df[\n",
    "    (df['pop'] >= df['pop'].mean() + df['pop'].std() * 3)\n",
    "    | (df['counts'] >= df['counts'].mean() + df['counts'].std() * 3)\n",
    "]\n",
    "df_outliers"
   ]
  },
  {
   "cell_type": "code",
   "execution_count": 52,
   "id": "4c5a61ae",
   "metadata": {},
   "outputs": [],
   "source": [
    "df_gray = df[~df.index.isin(df_outliers.index)]"
   ]
  },
  {
   "cell_type": "code",
   "execution_count": 53,
   "id": "8d676c4c",
   "metadata": {},
   "outputs": [
    {
     "data": {
      "text/plain": [
       "Text(0, 0.5, 'number of bus stops within 500 m')"
      ]
     },
     "execution_count": 53,
     "metadata": {},
     "output_type": "execute_result"
    },
    {
     "data": {
      "image/png": "[encoded data removed]",
      "text/plain": [
       "<Figure size 576x576 with 3 Axes>"
      ]
     },
     "metadata": {
      "needs_background": "light"
     },
     "output_type": "display_data"
    }
   ],
   "source": [
    "fig = plt.figure(figsize=(8,8))\n",
    "ax = fig.add_axes(rect_scatter)\n",
    "ax.scatter(df_gray['pop'], df_gray['counts'], s=5, c='gray')\n",
    "ax.scatter(df_outliers['pop'], df_outliers['counts'], s=5)\n",
    "\n",
    "ax_hx = fig.add_axes(rect_histx, sharex=ax)\n",
    "ax_hy = fig.add_axes(rect_histy, sharey=ax)\n",
    "ax_hx.tick_params(axis=\"x\", labelbottom=False)\n",
    "ax_hy.tick_params(axis=\"y\", labelleft=False)\n",
    "\n",
    "ax_hx.hist(df_gray['pop'], bins=20)\n",
    "ax_hy.hist(df_gray['counts'], orientation='horizontal', bins=20)\n",
    "\n",
    "ax.set_xlabel('population')\n",
    "ax.set_ylabel('number of bus stops within 500 m')"
   ]
  },
  {
   "cell_type": "code",
   "execution_count": 56,
   "id": "3c6e0931",
   "metadata": {},
   "outputs": [],
   "source": [
    "df['geometry'] = df['pop_idx'].apply(lambda idx: pop_tmp.iloc[idx].geometry)"
   ]
  },
  {
   "cell_type": "code",
   "execution_count": 57,
   "id": "4f84e1bf",
   "metadata": {},
   "outputs": [],
   "source": [
    "gdf = gpd.GeoDataFrame(df)"
   ]
  },
  {
   "cell_type": "code",
   "execution_count": 58,
   "id": "a40704e8",
   "metadata": {},
   "outputs": [],
   "source": [
    "gdf[['pop', 'counts', 'geometry']].to_file('gen/hk_nstops_500m.shp')"
   ]
  },
  {
   "cell_type": "code",
   "execution_count": 59,
   "id": "cb83fe07",
   "metadata": {},
   "outputs": [
    {
     "data": {
      "text/plain": [
       "<AxesSubplot:>"
      ]
     },
     "execution_count": 59,
     "metadata": {},
     "output_type": "execute_result"
    },
    {
     "data": {
      "image/png": "[encoded data removed]",
      "text/plain": [
       "<Figure size 432x288 with 1 Axes>"
      ]
     },
     "metadata": {
      "needs_background": "light"
     },
     "output_type": "display_data"
    }
   ],
   "source": [
    "gdf.sample(5000).plot('pop')"
   ]
  },
  {
   "cell_type": "code",
   "execution_count": 60,
   "id": "a263de5a",
   "metadata": {},
   "outputs": [
    {
     "data": {
      "text/plain": [
       "<AxesSubplot:>"
      ]
     },
     "execution_count": 60,
     "metadata": {},
     "output_type": "execute_result"
    },
    {
     "data": {
      "image/png": "[encoded data removed]",
      "text/plain": [
       "<Figure size 432x288 with 1 Axes>"
      ]
     },
     "metadata": {
      "needs_background": "light"
     },
     "output_type": "display_data"
    }
   ],
   "source": [
    "gdf.sample(5000).plot('counts')"
   ]
  },
  {
   "cell_type": "code",
   "execution_count": 61,
   "id": "b2a39890",
   "metadata": {},
   "outputs": [],
   "source": [
    "gdf_outliers = gdf[\n",
    "    (gdf['pop'] >= gdf['pop'].mean() + gdf['pop'].std() * 3)\n",
    "    | (gdf['counts'] >= gdf['counts'].mean() + gdf['counts'].std() * 3)\n",
    "]\n"
   ]
  },
  {
   "cell_type": "code",
   "execution_count": 62,
   "id": "3961ef0f",
   "metadata": {},
   "outputs": [
    {
     "data": {
      "text/plain": [
       "<AxesSubplot:>"
      ]
     },
     "execution_count": 62,
     "metadata": {},
     "output_type": "execute_result"
    },
    {
     "data": {
      "image/png": "[encoded data removed]",
      "text/plain": [
       "<Figure size 432x288 with 1 Axes>"
      ]
     },
     "metadata": {
      "needs_background": "light"
     },
     "output_type": "display_data"
    }
   ],
   "source": [
    "gdf_outliers.plot('counts')"
   ]
  },
  {
   "cell_type": "code",
   "execution_count": null,
   "id": "8fd20c2d",
   "metadata": {},
   "outputs": [],
   "source": []
  },
  {
   "cell_type": "code",
   "execution_count": 63,
   "id": "138ca550",
   "metadata": {
    "tags": []
   },
   "outputs": [],
   "source": [
    "# def f(row):\n",
    "#     xmin, ymin, xmax, ymax = row.geometry.buffer(500).bounds\n",
    "#     within = bus_stops.cx[xmin:xmax, ymin:ymax]\n",
    "#     return within.stop_id.drop_duplicates().count()\n",
    "\n",
    "# pop_tmp['counts'] = pop_tmp.apply(f, axis=1)"
   ]
  },
  {
   "cell_type": "code",
   "execution_count": 64,
   "id": "333012b3",
   "metadata": {},
   "outputs": [],
   "source": [
    "#pop_tmp.head()"
   ]
  },
  {
   "cell_type": "code",
   "execution_count": 65,
   "id": "5a63020b",
   "metadata": {},
   "outputs": [],
   "source": [
    "#sns.scatterplot(data=pop_tmp, x='population_2020', y='counts')"
   ]
  },
  {
   "cell_type": "code",
   "execution_count": 66,
   "id": "35101e85",
   "metadata": {},
   "outputs": [],
   "source": [
    "#pop_tmp.to_csv('gen/hk_stops_within_pop.csv')"
   ]
  },
  {
   "cell_type": "markdown",
   "id": "95b6c5b8",
   "metadata": {},
   "source": [
    "# % of people living within X distance of bus stop"
   ]
  },
  {
   "cell_type": "code",
   "execution_count": 67,
   "id": "8e749ad0",
   "metadata": {},
   "outputs": [
    {
     "data": {
      "text/html": [
       "<div>\n",
       "<style scoped>\n",
       "    .dataframe tbody tr th:only-of-type {\n",
       "        vertical-align: middle;\n",
       "    }\n",
       "\n",
       "    .dataframe tbody tr th {\n",
       "        vertical-align: top;\n",
       "    }\n",
       "\n",
       "    .dataframe thead th {\n",
       "        text-align: right;\n",
       "    }\n",
       "</style>\n",
       "<table border=\"1\" class=\"dataframe\">\n",
       "  <thead>\n",
       "    <tr style=\"text-align: right;\">\n",
       "      <th></th>\n",
       "      <th>counts</th>\n",
       "      <th>pop_idx</th>\n",
       "      <th>pop</th>\n",
       "      <th>geometry</th>\n",
       "    </tr>\n",
       "  </thead>\n",
       "  <tbody>\n",
       "    <tr>\n",
       "      <th>0</th>\n",
       "      <td>0</td>\n",
       "      <td>0</td>\n",
       "      <td>9.659727</td>\n",
       "      <td>POINT (12679181.774 2530762.709)</td>\n",
       "    </tr>\n",
       "    <tr>\n",
       "      <th>1</th>\n",
       "      <td>0</td>\n",
       "      <td>1</td>\n",
       "      <td>17.446940</td>\n",
       "      <td>POINT (12718607.427 2531163.374)</td>\n",
       "    </tr>\n",
       "    <tr>\n",
       "      <th>2</th>\n",
       "      <td>0</td>\n",
       "      <td>2</td>\n",
       "      <td>17.446940</td>\n",
       "      <td>POINT (12718731.115 2531196.764)</td>\n",
       "    </tr>\n",
       "    <tr>\n",
       "      <th>3</th>\n",
       "      <td>0</td>\n",
       "      <td>3</td>\n",
       "      <td>17.446940</td>\n",
       "      <td>POINT (12718390.973 2531263.542)</td>\n",
       "    </tr>\n",
       "    <tr>\n",
       "      <th>4</th>\n",
       "      <td>0</td>\n",
       "      <td>4</td>\n",
       "      <td>9.659727</td>\n",
       "      <td>POINT (12680418.657 2531330.321)</td>\n",
       "    </tr>\n",
       "    <tr>\n",
       "      <th>...</th>\n",
       "      <td>...</td>\n",
       "      <td>...</td>\n",
       "      <td>...</td>\n",
       "      <td>...</td>\n",
       "    </tr>\n",
       "    <tr>\n",
       "      <th>109950</th>\n",
       "      <td>0</td>\n",
       "      <td>109950</td>\n",
       "      <td>4.752405</td>\n",
       "      <td>POINT (12709392.647 2578810.387)</td>\n",
       "    </tr>\n",
       "    <tr>\n",
       "      <th>109951</th>\n",
       "      <td>0</td>\n",
       "      <td>109951</td>\n",
       "      <td>4.752405</td>\n",
       "      <td>POINT (12709423.569 2578810.387)</td>\n",
       "    </tr>\n",
       "    <tr>\n",
       "      <th>109952</th>\n",
       "      <td>0</td>\n",
       "      <td>109952</td>\n",
       "      <td>4.752405</td>\n",
       "      <td>POINT (12710227.543 2578810.387)</td>\n",
       "    </tr>\n",
       "    <tr>\n",
       "      <th>109953</th>\n",
       "      <td>0</td>\n",
       "      <td>109953</td>\n",
       "      <td>4.752405</td>\n",
       "      <td>POINT (12710196.621 2578843.871)</td>\n",
       "    </tr>\n",
       "    <tr>\n",
       "      <th>109954</th>\n",
       "      <td>0</td>\n",
       "      <td>109954</td>\n",
       "      <td>4.752405</td>\n",
       "      <td>POINT (12710258.465 2578843.871)</td>\n",
       "    </tr>\n",
       "  </tbody>\n",
       "</table>\n",
       "<p>24097 rows × 4 columns</p>\n",
       "</div>"
      ],
      "text/plain": [
       "        counts  pop_idx        pop                          geometry\n",
       "0            0        0   9.659727  POINT (12679181.774 2530762.709)\n",
       "1            0        1  17.446940  POINT (12718607.427 2531163.374)\n",
       "2            0        2  17.446940  POINT (12718731.115 2531196.764)\n",
       "3            0        3  17.446940  POINT (12718390.973 2531263.542)\n",
       "4            0        4   9.659727  POINT (12680418.657 2531330.321)\n",
       "...        ...      ...        ...                               ...\n",
       "109950       0   109950   4.752405  POINT (12709392.647 2578810.387)\n",
       "109951       0   109951   4.752405  POINT (12709423.569 2578810.387)\n",
       "109952       0   109952   4.752405  POINT (12710227.543 2578810.387)\n",
       "109953       0   109953   4.752405  POINT (12710196.621 2578843.871)\n",
       "109954       0   109954   4.752405  POINT (12710258.465 2578843.871)\n",
       "\n",
       "[24097 rows x 4 columns]"
      ]
     },
     "execution_count": 67,
     "metadata": {},
     "output_type": "execute_result"
    }
   ],
   "source": [
    "no_stops = gdf[gdf.counts == 0]\n",
    "no_stops"
   ]
  },
  {
   "cell_type": "code",
   "execution_count": 68,
   "id": "80b04a55",
   "metadata": {},
   "outputs": [
    {
     "data": {
      "text/plain": [
       "<AxesSubplot:>"
      ]
     },
     "execution_count": 68,
     "metadata": {},
     "output_type": "execute_result"
    },
    {
     "data": {
      "image/png": "[encoded data removed]",
      "text/plain": [
       "<Figure size 432x288 with 1 Axes>"
      ]
     },
     "metadata": {
      "needs_background": "light"
     },
     "output_type": "display_data"
    }
   ],
   "source": [
    "no_stops.plot('pop')"
   ]
  },
  {
   "cell_type": "code",
   "execution_count": 69,
   "id": "703a87e4",
   "metadata": {},
   "outputs": [
    {
     "data": {
      "text/plain": [
       "413438.55197697796"
      ]
     },
     "execution_count": 69,
     "metadata": {},
     "output_type": "execute_result"
    }
   ],
   "source": [
    "no_stops['pop'].sum()"
   ]
  },
  {
   "cell_type": "code",
   "execution_count": 70,
   "id": "f3dba94d",
   "metadata": {},
   "outputs": [
    {
     "data": {
      "text/plain": [
       "7557179.66036896"
      ]
     },
     "execution_count": 70,
     "metadata": {},
     "output_type": "execute_result"
    }
   ],
   "source": [
    "pop.population_2020.sum()"
   ]
  },
  {
   "cell_type": "code",
   "execution_count": 71,
   "id": "9ec142fb",
   "metadata": {},
   "outputs": [
    {
     "data": {
      "text/plain": [
       "0.05470804857864036"
      ]
     },
     "execution_count": 71,
     "metadata": {},
     "output_type": "execute_result"
    }
   ],
   "source": [
    "# % of pop not within 500m of bus stop\n",
    "no_stops['pop'].sum() / pop.population_2020.sum()"
   ]
  },
  {
   "cell_type": "code",
   "execution_count": 72,
   "id": "a4162f41",
   "metadata": {},
   "outputs": [
    {
     "data": {
      "text/plain": [
       "0.9452919514213597"
      ]
     },
     "execution_count": 72,
     "metadata": {},
     "output_type": "execute_result"
    }
   ],
   "source": [
    "# % of pop within 500m of bus stop\n",
    "1 - no_stops['pop'].sum() / pop.population_2020.sum()"
   ]
  },
  {
   "cell_type": "markdown",
   "id": "87bbfa72",
   "metadata": {},
   "source": [
    "# More continuous plots of share within"
   ]
  },
  {
   "cell_type": "code",
   "execution_count": 73,
   "id": "3b6866d7",
   "metadata": {
    "tags": []
   },
   "outputs": [],
   "source": [
    "def pct_pop_within_stop(distance):\n",
    "    if not os.path.exists(f'gen/hk_count_{distance}m.h5'):\n",
    "        count_for_every_pop = pd.HDFStore(f'gen/hk_count_{distance}m.h5')\n",
    "        for x in store.select('df', chunksize=10):\n",
    "            count_for_every_pop.put('data', x[x <= distance].count(axis=1), format='table', append=True)\n",
    "        count_for_every_pop.close()\n",
    "\n",
    "    df = pd.read_hdf(f'gen/hk_count_{distance}m.h5', key='data')\n",
    "    df = df.reset_index()\n",
    "    df.columns = ['idx', 'counts']\n",
    "    df['pop'] = df['idx'].apply(lambda idx: pop_tmp.iloc[idx].population_2020)\n",
    "    #df['geometry'] = df['idx'].apply(lambda idx: pop_tmp.loc[idx].geometry)\n",
    "    no_stops = df[df.counts == 0]\n",
    "\n",
    "    return 1 - no_stops['pop'].sum() / pop.population_2020.sum()"
   ]
  },
  {
   "cell_type": "code",
   "execution_count": 74,
   "id": "85f2847a",
   "metadata": {},
   "outputs": [
    {
     "data": {
      "text/plain": [
       "[100, 200, 300, 400, 500, 600, 700, 800, 900, 1000]"
      ]
     },
     "execution_count": 74,
     "metadata": {},
     "output_type": "execute_result"
    }
   ],
   "source": [
    "domain = list(range(100, 1100, 100))\n",
    "domain"
   ]
  },
  {
   "cell_type": "markdown",
   "id": "5c3edd5f",
   "metadata": {},
   "source": [
    "# Warning: slow"
   ]
  },
  {
   "cell_type": "code",
   "execution_count": 75,
   "id": "6493fda0",
   "metadata": {},
   "outputs": [
    {
     "data": {
      "text/plain": [
       "[0.4391480179097227,\n",
       " 0.7835597974640731,\n",
       " 0.887248533371269,\n",
       " 0.9254743547581761,\n",
       " 0.9452919514213597,\n",
       " 0.9558688691634051,\n",
       " 0.9643932317771083,\n",
       " 0.9701678389904258,\n",
       " 0.97469771775156,\n",
       " 0.9782272559946402]"
      ]
     },
     "execution_count": 75,
     "metadata": {},
     "output_type": "execute_result"
    }
   ],
   "source": [
    "pcts = [pct_pop_within_stop(x) for x in domain]\n",
    "pcts"
   ]
  },
  {
   "cell_type": "code",
   "execution_count": 76,
   "id": "05bb90fb",
   "metadata": {},
   "outputs": [
    {
     "data": {
      "text/plain": [
       "<AxesSubplot:>"
      ]
     },
     "execution_count": 76,
     "metadata": {},
     "output_type": "execute_result"
    },
    {
     "data": {
      "image/png": "[encoded data removed]",
      "text/plain": [
       "<Figure size 432x288 with 1 Axes>"
      ]
     },
     "metadata": {
      "needs_background": "light"
     },
     "output_type": "display_data"
    }
   ],
   "source": [
    "sns.barplot(y=pcts, x=domain)"
   ]
  },
  {
   "cell_type": "code",
   "execution_count": 77,
   "id": "c1436765",
   "metadata": {},
   "outputs": [],
   "source": [
    "pd.DataFrame(pcts, columns=['percentage'], index=domain).to_csv('gen/hk_percentage_within.csv')"
   ]
  },
  {
   "cell_type": "markdown",
   "id": "56f193d9",
   "metadata": {},
   "source": [
    "# Distributions of number of dots within stop"
   ]
  },
  {
   "cell_type": "code",
   "execution_count": 78,
   "id": "3872cffc",
   "metadata": {},
   "outputs": [],
   "source": [
    "def distributions_nstops(distance):\n",
    "    if not os.path.exists(f'gen/hk_count_{distance}m.h5'):\n",
    "        count_for_every_pop = pd.HDFStore(f'gen/hk_count_{distance}m.h5')\n",
    "        for x in store.select('df', chunksize=10):\n",
    "            count_for_every_pop.put('data', x[x <= distance].count(axis=1), format='table', append=True)\n",
    "        count_for_every_pop.close()\n",
    "    df = pd.read_hdf(f'gen/hk_count_{distance}m.h5', key='data')\n",
    "    return df.values"
   ]
  },
  {
   "cell_type": "code",
   "execution_count": 79,
   "id": "e94df531",
   "metadata": {},
   "outputs": [
    {
     "data": {
      "text/plain": [
       "[array([0, 0, 0, ..., 0, 0, 0]),\n",
       " array([0, 0, 0, ..., 0, 0, 0]),\n",
       " array([0, 0, 0, ..., 0, 0, 0]),\n",
       " array([0, 0, 0, ..., 0, 0, 0]),\n",
       " array([0, 0, 0, ..., 0, 0, 0]),\n",
       " array([0, 0, 0, ..., 0, 0, 0]),\n",
       " array([0, 0, 0, ..., 0, 0, 0]),\n",
       " array([0, 0, 0, ..., 0, 0, 0]),\n",
       " array([0, 0, 0, ..., 0, 0, 0]),\n",
       " array([0, 0, 0, ..., 0, 0, 0])]"
      ]
     },
     "execution_count": 79,
     "metadata": {},
     "output_type": "execute_result"
    }
   ],
   "source": [
    "distrs = [distributions_nstops(distance) for distance in domain]\n",
    "distrs"
   ]
  },
  {
   "cell_type": "code",
   "execution_count": 80,
   "id": "ed6dbe06",
   "metadata": {},
   "outputs": [],
   "source": [
    "dists_df = pd.DataFrame(distrs).T"
   ]
  },
  {
   "cell_type": "code",
   "execution_count": 81,
   "id": "c8b4fd51",
   "metadata": {},
   "outputs": [],
   "source": [
    "dists_df.columns = domain"
   ]
  },
  {
   "cell_type": "code",
   "execution_count": 82,
   "id": "018e8cb5",
   "metadata": {},
   "outputs": [
    {
     "data": {
      "text/html": [
       "<div>\n",
       "<style scoped>\n",
       "    .dataframe tbody tr th:only-of-type {\n",
       "        vertical-align: middle;\n",
       "    }\n",
       "\n",
       "    .dataframe tbody tr th {\n",
       "        vertical-align: top;\n",
       "    }\n",
       "\n",
       "    .dataframe thead th {\n",
       "        text-align: right;\n",
       "    }\n",
       "</style>\n",
       "<table border=\"1\" class=\"dataframe\">\n",
       "  <thead>\n",
       "    <tr style=\"text-align: right;\">\n",
       "      <th></th>\n",
       "      <th>100</th>\n",
       "      <th>200</th>\n",
       "      <th>300</th>\n",
       "      <th>400</th>\n",
       "      <th>500</th>\n",
       "      <th>600</th>\n",
       "      <th>700</th>\n",
       "      <th>800</th>\n",
       "      <th>900</th>\n",
       "      <th>1000</th>\n",
       "    </tr>\n",
       "  </thead>\n",
       "  <tbody>\n",
       "    <tr>\n",
       "      <th>0</th>\n",
       "      <td>0</td>\n",
       "      <td>0</td>\n",
       "      <td>0</td>\n",
       "      <td>0</td>\n",
       "      <td>0</td>\n",
       "      <td>0</td>\n",
       "      <td>0</td>\n",
       "      <td>0</td>\n",
       "      <td>0</td>\n",
       "      <td>0</td>\n",
       "    </tr>\n",
       "    <tr>\n",
       "      <th>1</th>\n",
       "      <td>0</td>\n",
       "      <td>0</td>\n",
       "      <td>0</td>\n",
       "      <td>0</td>\n",
       "      <td>0</td>\n",
       "      <td>0</td>\n",
       "      <td>0</td>\n",
       "      <td>0</td>\n",
       "      <td>0</td>\n",
       "      <td>0</td>\n",
       "    </tr>\n",
       "    <tr>\n",
       "      <th>2</th>\n",
       "      <td>0</td>\n",
       "      <td>0</td>\n",
       "      <td>0</td>\n",
       "      <td>0</td>\n",
       "      <td>0</td>\n",
       "      <td>0</td>\n",
       "      <td>0</td>\n",
       "      <td>0</td>\n",
       "      <td>0</td>\n",
       "      <td>0</td>\n",
       "    </tr>\n",
       "    <tr>\n",
       "      <th>3</th>\n",
       "      <td>0</td>\n",
       "      <td>0</td>\n",
       "      <td>0</td>\n",
       "      <td>0</td>\n",
       "      <td>0</td>\n",
       "      <td>0</td>\n",
       "      <td>0</td>\n",
       "      <td>0</td>\n",
       "      <td>0</td>\n",
       "      <td>0</td>\n",
       "    </tr>\n",
       "    <tr>\n",
       "      <th>4</th>\n",
       "      <td>0</td>\n",
       "      <td>0</td>\n",
       "      <td>0</td>\n",
       "      <td>0</td>\n",
       "      <td>0</td>\n",
       "      <td>0</td>\n",
       "      <td>0</td>\n",
       "      <td>0</td>\n",
       "      <td>0</td>\n",
       "      <td>0</td>\n",
       "    </tr>\n",
       "    <tr>\n",
       "      <th>...</th>\n",
       "      <td>...</td>\n",
       "      <td>...</td>\n",
       "      <td>...</td>\n",
       "      <td>...</td>\n",
       "      <td>...</td>\n",
       "      <td>...</td>\n",
       "      <td>...</td>\n",
       "      <td>...</td>\n",
       "      <td>...</td>\n",
       "      <td>...</td>\n",
       "    </tr>\n",
       "    <tr>\n",
       "      <th>109950</th>\n",
       "      <td>0</td>\n",
       "      <td>0</td>\n",
       "      <td>0</td>\n",
       "      <td>0</td>\n",
       "      <td>0</td>\n",
       "      <td>0</td>\n",
       "      <td>0</td>\n",
       "      <td>0</td>\n",
       "      <td>0</td>\n",
       "      <td>0</td>\n",
       "    </tr>\n",
       "    <tr>\n",
       "      <th>109951</th>\n",
       "      <td>0</td>\n",
       "      <td>0</td>\n",
       "      <td>0</td>\n",
       "      <td>0</td>\n",
       "      <td>0</td>\n",
       "      <td>0</td>\n",
       "      <td>0</td>\n",
       "      <td>0</td>\n",
       "      <td>0</td>\n",
       "      <td>0</td>\n",
       "    </tr>\n",
       "    <tr>\n",
       "      <th>109952</th>\n",
       "      <td>0</td>\n",
       "      <td>0</td>\n",
       "      <td>0</td>\n",
       "      <td>0</td>\n",
       "      <td>0</td>\n",
       "      <td>0</td>\n",
       "      <td>0</td>\n",
       "      <td>0</td>\n",
       "      <td>0</td>\n",
       "      <td>0</td>\n",
       "    </tr>\n",
       "    <tr>\n",
       "      <th>109953</th>\n",
       "      <td>0</td>\n",
       "      <td>0</td>\n",
       "      <td>0</td>\n",
       "      <td>0</td>\n",
       "      <td>0</td>\n",
       "      <td>0</td>\n",
       "      <td>0</td>\n",
       "      <td>0</td>\n",
       "      <td>0</td>\n",
       "      <td>0</td>\n",
       "    </tr>\n",
       "    <tr>\n",
       "      <th>109954</th>\n",
       "      <td>0</td>\n",
       "      <td>0</td>\n",
       "      <td>0</td>\n",
       "      <td>0</td>\n",
       "      <td>0</td>\n",
       "      <td>0</td>\n",
       "      <td>0</td>\n",
       "      <td>0</td>\n",
       "      <td>0</td>\n",
       "      <td>0</td>\n",
       "    </tr>\n",
       "  </tbody>\n",
       "</table>\n",
       "<p>109955 rows × 10 columns</p>\n",
       "</div>"
      ],
      "text/plain": [
       "        100   200   300   400   500   600   700   800   900   1000\n",
       "0          0     0     0     0     0     0     0     0     0     0\n",
       "1          0     0     0     0     0     0     0     0     0     0\n",
       "2          0     0     0     0     0     0     0     0     0     0\n",
       "3          0     0     0     0     0     0     0     0     0     0\n",
       "4          0     0     0     0     0     0     0     0     0     0\n",
       "...      ...   ...   ...   ...   ...   ...   ...   ...   ...   ...\n",
       "109950     0     0     0     0     0     0     0     0     0     0\n",
       "109951     0     0     0     0     0     0     0     0     0     0\n",
       "109952     0     0     0     0     0     0     0     0     0     0\n",
       "109953     0     0     0     0     0     0     0     0     0     0\n",
       "109954     0     0     0     0     0     0     0     0     0     0\n",
       "\n",
       "[109955 rows x 10 columns]"
      ]
     },
     "execution_count": 82,
     "metadata": {},
     "output_type": "execute_result"
    }
   ],
   "source": [
    "dists_df"
   ]
  },
  {
   "cell_type": "code",
   "execution_count": 83,
   "id": "1f9154af",
   "metadata": {},
   "outputs": [
    {
     "data": {
      "text/html": [
       "<div>\n",
       "<style scoped>\n",
       "    .dataframe tbody tr th:only-of-type {\n",
       "        vertical-align: middle;\n",
       "    }\n",
       "\n",
       "    .dataframe tbody tr th {\n",
       "        vertical-align: top;\n",
       "    }\n",
       "\n",
       "    .dataframe thead th {\n",
       "        text-align: right;\n",
       "    }\n",
       "</style>\n",
       "<table border=\"1\" class=\"dataframe\">\n",
       "  <thead>\n",
       "    <tr style=\"text-align: right;\">\n",
       "      <th></th>\n",
       "      <th>index</th>\n",
       "      <th>distance</th>\n",
       "      <th>count</th>\n",
       "    </tr>\n",
       "  </thead>\n",
       "  <tbody>\n",
       "    <tr>\n",
       "      <th>0</th>\n",
       "      <td>0</td>\n",
       "      <td>100</td>\n",
       "      <td>0</td>\n",
       "    </tr>\n",
       "    <tr>\n",
       "      <th>1</th>\n",
       "      <td>1</td>\n",
       "      <td>100</td>\n",
       "      <td>0</td>\n",
       "    </tr>\n",
       "    <tr>\n",
       "      <th>2</th>\n",
       "      <td>2</td>\n",
       "      <td>100</td>\n",
       "      <td>0</td>\n",
       "    </tr>\n",
       "    <tr>\n",
       "      <th>3</th>\n",
       "      <td>3</td>\n",
       "      <td>100</td>\n",
       "      <td>0</td>\n",
       "    </tr>\n",
       "    <tr>\n",
       "      <th>4</th>\n",
       "      <td>4</td>\n",
       "      <td>100</td>\n",
       "      <td>0</td>\n",
       "    </tr>\n",
       "    <tr>\n",
       "      <th>...</th>\n",
       "      <td>...</td>\n",
       "      <td>...</td>\n",
       "      <td>...</td>\n",
       "    </tr>\n",
       "    <tr>\n",
       "      <th>1099545</th>\n",
       "      <td>109950</td>\n",
       "      <td>1000</td>\n",
       "      <td>0</td>\n",
       "    </tr>\n",
       "    <tr>\n",
       "      <th>1099546</th>\n",
       "      <td>109951</td>\n",
       "      <td>1000</td>\n",
       "      <td>0</td>\n",
       "    </tr>\n",
       "    <tr>\n",
       "      <th>1099547</th>\n",
       "      <td>109952</td>\n",
       "      <td>1000</td>\n",
       "      <td>0</td>\n",
       "    </tr>\n",
       "    <tr>\n",
       "      <th>1099548</th>\n",
       "      <td>109953</td>\n",
       "      <td>1000</td>\n",
       "      <td>0</td>\n",
       "    </tr>\n",
       "    <tr>\n",
       "      <th>1099549</th>\n",
       "      <td>109954</td>\n",
       "      <td>1000</td>\n",
       "      <td>0</td>\n",
       "    </tr>\n",
       "  </tbody>\n",
       "</table>\n",
       "<p>1099550 rows × 3 columns</p>\n",
       "</div>"
      ],
      "text/plain": [
       "          index distance  count\n",
       "0             0      100      0\n",
       "1             1      100      0\n",
       "2             2      100      0\n",
       "3             3      100      0\n",
       "4             4      100      0\n",
       "...         ...      ...    ...\n",
       "1099545  109950     1000      0\n",
       "1099546  109951     1000      0\n",
       "1099547  109952     1000      0\n",
       "1099548  109953     1000      0\n",
       "1099549  109954     1000      0\n",
       "\n",
       "[1099550 rows x 3 columns]"
      ]
     },
     "execution_count": 83,
     "metadata": {},
     "output_type": "execute_result"
    }
   ],
   "source": [
    "dists_df = dists_df.reset_index().melt('index', dists_df.columns, var_name='distance', value_name='count')\n",
    "dists_df"
   ]
  },
  {
   "cell_type": "code",
   "execution_count": 84,
   "id": "2043427c",
   "metadata": {},
   "outputs": [
    {
     "data": {
      "text/plain": [
       "<AxesSubplot:xlabel='distance', ylabel='count'>"
      ]
     },
     "execution_count": 84,
     "metadata": {},
     "output_type": "execute_result"
    },
    {
     "data": {
      "image/png": "[encoded data removed]",
      "text/plain": [
       "<Figure size 432x288 with 1 Axes>"
      ]
     },
     "metadata": {
      "needs_background": "light"
     },
     "output_type": "display_data"
    }
   ],
   "source": [
    "sns.boxplot(data=dists_df, x='distance', y='count')"
   ]
  },
  {
   "cell_type": "code",
   "execution_count": 85,
   "id": "93e4eace",
   "metadata": {},
   "outputs": [],
   "source": [
    "dists_df[['distance', 'count']].to_csv('gen/hk_dists_nstops.csv')"
   ]
  },
  {
   "cell_type": "code",
   "execution_count": null,
   "id": "69294373",
   "metadata": {},
   "outputs": [],
   "source": []
  },
  {
   "cell_type": "code",
   "execution_count": 86,
   "id": "b5fcb4cc",
   "metadata": {},
   "outputs": [
    {
     "data": {
      "text/html": [
       "<div>\n",
       "<style scoped>\n",
       "    .dataframe tbody tr th:only-of-type {\n",
       "        vertical-align: middle;\n",
       "    }\n",
       "\n",
       "    .dataframe tbody tr th {\n",
       "        vertical-align: top;\n",
       "    }\n",
       "\n",
       "    .dataframe thead th {\n",
       "        text-align: right;\n",
       "    }\n",
       "</style>\n",
       "<table border=\"1\" class=\"dataframe\">\n",
       "  <thead>\n",
       "    <tr style=\"text-align: right;\">\n",
       "      <th></th>\n",
       "      <th>index</th>\n",
       "      <th>distance</th>\n",
       "      <th>count</th>\n",
       "    </tr>\n",
       "  </thead>\n",
       "  <tbody>\n",
       "    <tr>\n",
       "      <th>1025812</th>\n",
       "      <td>36217</td>\n",
       "      <td>1000</td>\n",
       "      <td>145</td>\n",
       "    </tr>\n",
       "    <tr>\n",
       "      <th>1026004</th>\n",
       "      <td>36409</td>\n",
       "      <td>1000</td>\n",
       "      <td>145</td>\n",
       "    </tr>\n",
       "  </tbody>\n",
       "</table>\n",
       "</div>"
      ],
      "text/plain": [
       "         index distance  count\n",
       "1025812  36217     1000    145\n",
       "1026004  36409     1000    145"
      ]
     },
     "execution_count": 86,
     "metadata": {},
     "output_type": "execute_result"
    }
   ],
   "source": [
    "dists_df[dists_df['count'] == dists_df['count'].max()]"
   ]
  },
  {
   "cell_type": "code",
   "execution_count": 87,
   "id": "4d92b453",
   "metadata": {},
   "outputs": [
    {
     "data": {
      "text/plain": [
       "population_2020                                     202.981126\n",
       "geometry           POINT (12708372.21833377 2551676.790489478)\n",
       "Name: 36217, dtype: object"
      ]
     },
     "execution_count": 87,
     "metadata": {},
     "output_type": "execute_result"
    }
   ],
   "source": [
    "pop_tmp.iloc[36217]"
   ]
  },
  {
   "cell_type": "markdown",
   "id": "d26739d1",
   "metadata": {},
   "source": [
    "# 1km"
   ]
  },
  {
   "cell_type": "code",
   "execution_count": 88,
   "id": "b78765cf",
   "metadata": {
    "tags": []
   },
   "outputs": [],
   "source": [
    "if not os.path.exists('gen/hk_count_1000m.h5'):\n",
    "    count_for_every_pop = pd.HDFStore('gen/hk_count_1000m.h5')\n",
    "    for x in store.select('df', chunksize=10):\n",
    "        count_for_every_pop.put('data', x[x <= 1000].count(axis=1), format='table', append=True)\n",
    "    count_for_every_pop.close()"
   ]
  },
  {
   "cell_type": "code",
   "execution_count": 89,
   "id": "fd21ead3",
   "metadata": {},
   "outputs": [],
   "source": [
    "df = pd.read_hdf('gen/hk_count_1000m.h5', key='data')"
   ]
  },
  {
   "cell_type": "code",
   "execution_count": 90,
   "id": "d8854c00",
   "metadata": {},
   "outputs": [],
   "source": [
    "df = df.reset_index()"
   ]
  },
  {
   "cell_type": "code",
   "execution_count": 91,
   "id": "1bbc05b6",
   "metadata": {},
   "outputs": [],
   "source": [
    "df.columns = ['idx', 'counts']"
   ]
  },
  {
   "cell_type": "code",
   "execution_count": 92,
   "id": "0fbd8153",
   "metadata": {},
   "outputs": [],
   "source": [
    "df['pop'] = df['idx'].apply(lambda idx: pop_tmp.iloc[idx].population_2020)"
   ]
  },
  {
   "cell_type": "code",
   "execution_count": 93,
   "id": "1bfc5a93",
   "metadata": {},
   "outputs": [],
   "source": [
    "left, width = 0.1, 0.65\n",
    "bottom, height = 0.1, 0.65\n",
    "spacing = 0.005"
   ]
  },
  {
   "cell_type": "code",
   "execution_count": 94,
   "id": "295c8252",
   "metadata": {},
   "outputs": [],
   "source": [
    "rect_scatter = [left, bottom, width, height]\n",
    "rect_histx = [left, bottom + height + spacing, width, 0.2]\n",
    "rect_histy = [left + width + spacing, bottom, 0.2, height]"
   ]
  },
  {
   "cell_type": "code",
   "execution_count": 95,
   "id": "5a561e1c",
   "metadata": {},
   "outputs": [
    {
     "data": {
      "text/plain": [
       "Text(0, 0.5, 'number of bus stops within 1000 m')"
      ]
     },
     "execution_count": 95,
     "metadata": {},
     "output_type": "execute_result"
    },
    {
     "data": {
      "image/png": "[encoded data removed]",
      "text/plain": [
       "<Figure size 576x576 with 3 Axes>"
      ]
     },
     "metadata": {
      "needs_background": "light"
     },
     "output_type": "display_data"
    }
   ],
   "source": [
    "fig = plt.figure(figsize=(8,8))\n",
    "ax = fig.add_axes(rect_scatter)\n",
    "ax.scatter(df['pop'], df['counts'], s=5)\n",
    "ax.axvline(x=df['pop'].mean(), c='green')\n",
    "ax.axhline(y=df['counts'].mean(), c='green')\n",
    "\n",
    "ax_hx = fig.add_axes(rect_histx, sharex=ax)\n",
    "ax_hy = fig.add_axes(rect_histy, sharey=ax)\n",
    "ax_hx.tick_params(axis=\"x\", labelbottom=False)\n",
    "ax_hy.tick_params(axis=\"y\", labelleft=False)\n",
    "\n",
    "ax_hx.hist(df['pop'], bins=20)\n",
    "ax_hy.hist(df['counts'], orientation='horizontal', bins=20)\n",
    "\n",
    "ax.set_xlabel('population')\n",
    "ax.set_ylabel('number of bus stops within 1000 m')"
   ]
  },
  {
   "cell_type": "code",
   "execution_count": 96,
   "id": "50bb45fd",
   "metadata": {},
   "outputs": [
    {
     "data": {
      "text/plain": [
       "count    109955.000000\n",
       "mean         28.690437\n",
       "std          27.475528\n",
       "min           0.000000\n",
       "25%           8.000000\n",
       "50%          18.000000\n",
       "75%          43.000000\n",
       "max         145.000000\n",
       "Name: counts, dtype: float64"
      ]
     },
     "execution_count": 96,
     "metadata": {},
     "output_type": "execute_result"
    }
   ],
   "source": [
    "df['counts'].describe()"
   ]
  },
  {
   "cell_type": "code",
   "execution_count": 97,
   "id": "00b77287",
   "metadata": {},
   "outputs": [],
   "source": [
    "df[['counts', 'pop']].to_csv('gen/hk_nstops_1000m.csv')"
   ]
  },
  {
   "cell_type": "code",
   "execution_count": 98,
   "id": "6c074203",
   "metadata": {},
   "outputs": [
    {
     "data": {
      "text/html": [
       "<div>\n",
       "<style scoped>\n",
       "    .dataframe tbody tr th:only-of-type {\n",
       "        vertical-align: middle;\n",
       "    }\n",
       "\n",
       "    .dataframe tbody tr th {\n",
       "        vertical-align: top;\n",
       "    }\n",
       "\n",
       "    .dataframe thead th {\n",
       "        text-align: right;\n",
       "    }\n",
       "</style>\n",
       "<table border=\"1\" class=\"dataframe\">\n",
       "  <thead>\n",
       "    <tr style=\"text-align: right;\">\n",
       "      <th></th>\n",
       "      <th>idx</th>\n",
       "      <th>counts</th>\n",
       "      <th>pop</th>\n",
       "    </tr>\n",
       "  </thead>\n",
       "  <tbody>\n",
       "    <tr>\n",
       "      <th>4488</th>\n",
       "      <td>4488</td>\n",
       "      <td>53</td>\n",
       "      <td>409.018686</td>\n",
       "    </tr>\n",
       "    <tr>\n",
       "      <th>4489</th>\n",
       "      <td>4489</td>\n",
       "      <td>53</td>\n",
       "      <td>409.018686</td>\n",
       "    </tr>\n",
       "    <tr>\n",
       "      <th>4533</th>\n",
       "      <td>4533</td>\n",
       "      <td>53</td>\n",
       "      <td>409.018686</td>\n",
       "    </tr>\n",
       "    <tr>\n",
       "      <th>4534</th>\n",
       "      <td>4534</td>\n",
       "      <td>53</td>\n",
       "      <td>409.018686</td>\n",
       "    </tr>\n",
       "    <tr>\n",
       "      <th>4579</th>\n",
       "      <td>4579</td>\n",
       "      <td>51</td>\n",
       "      <td>409.018686</td>\n",
       "    </tr>\n",
       "    <tr>\n",
       "      <th>...</th>\n",
       "      <td>...</td>\n",
       "      <td>...</td>\n",
       "      <td>...</td>\n",
       "    </tr>\n",
       "    <tr>\n",
       "      <th>99467</th>\n",
       "      <td>99467</td>\n",
       "      <td>31</td>\n",
       "      <td>641.409662</td>\n",
       "    </tr>\n",
       "    <tr>\n",
       "      <th>99468</th>\n",
       "      <td>99468</td>\n",
       "      <td>32</td>\n",
       "      <td>641.409662</td>\n",
       "    </tr>\n",
       "    <tr>\n",
       "      <th>99522</th>\n",
       "      <td>99522</td>\n",
       "      <td>32</td>\n",
       "      <td>641.409662</td>\n",
       "    </tr>\n",
       "    <tr>\n",
       "      <th>99523</th>\n",
       "      <td>99523</td>\n",
       "      <td>32</td>\n",
       "      <td>641.409662</td>\n",
       "    </tr>\n",
       "    <tr>\n",
       "      <th>99576</th>\n",
       "      <td>99576</td>\n",
       "      <td>32</td>\n",
       "      <td>641.409662</td>\n",
       "    </tr>\n",
       "  </tbody>\n",
       "</table>\n",
       "<p>2681 rows × 3 columns</p>\n",
       "</div>"
      ],
      "text/plain": [
       "         idx  counts         pop\n",
       "4488    4488      53  409.018686\n",
       "4489    4489      53  409.018686\n",
       "4533    4533      53  409.018686\n",
       "4534    4534      53  409.018686\n",
       "4579    4579      51  409.018686\n",
       "...      ...     ...         ...\n",
       "99467  99467      31  641.409662\n",
       "99468  99468      32  641.409662\n",
       "99522  99522      32  641.409662\n",
       "99523  99523      32  641.409662\n",
       "99576  99576      32  641.409662\n",
       "\n",
       "[2681 rows x 3 columns]"
      ]
     },
     "execution_count": 98,
     "metadata": {},
     "output_type": "execute_result"
    }
   ],
   "source": [
    "df_outliers = df[\n",
    "    (df['pop'] >= df['pop'].mean() + df['pop'].std() * 3)\n",
    "    | (df['counts'] >= df['counts'].mean() + df['counts'].std() * 3)\n",
    "]\n",
    "df_outliers"
   ]
  },
  {
   "cell_type": "code",
   "execution_count": 99,
   "id": "1ba15608",
   "metadata": {},
   "outputs": [],
   "source": [
    "df_gray = df[~df.index.isin(df_outliers.index)]"
   ]
  },
  {
   "cell_type": "code",
   "execution_count": 100,
   "id": "7603b040",
   "metadata": {},
   "outputs": [
    {
     "data": {
      "text/plain": [
       "Text(0, 0.5, 'number of bus stops within 1000 m')"
      ]
     },
     "execution_count": 100,
     "metadata": {},
     "output_type": "execute_result"
    },
    {
     "data": {
      "image/png": "[encoded data removed]",
      "text/plain": [
       "<Figure size 576x576 with 3 Axes>"
      ]
     },
     "metadata": {
      "needs_background": "light"
     },
     "output_type": "display_data"
    }
   ],
   "source": [
    "fig = plt.figure(figsize=(8,8))\n",
    "ax = fig.add_axes(rect_scatter)\n",
    "ax.scatter(df_gray['pop'], df_gray['counts'], s=5, c='gray')\n",
    "ax.scatter(df_outliers['pop'], df_outliers['counts'], s=5)\n",
    "\n",
    "ax_hx = fig.add_axes(rect_histx, sharex=ax)\n",
    "ax_hy = fig.add_axes(rect_histy, sharey=ax)\n",
    "ax_hx.tick_params(axis=\"x\", labelbottom=False)\n",
    "ax_hy.tick_params(axis=\"y\", labelleft=False)\n",
    "\n",
    "ax_hx.hist(df_gray['pop'], bins=20)\n",
    "ax_hy.hist(df_gray['counts'], orientation='horizontal', bins=20)\n",
    "\n",
    "ax.set_xlabel('population')\n",
    "ax.set_ylabel('number of bus stops within 1000 m')"
   ]
  },
  {
   "cell_type": "code",
   "execution_count": 101,
   "id": "d6f40fe2",
   "metadata": {},
   "outputs": [],
   "source": [
    "df['geometry'] = df['idx'].apply(lambda idx: pop_tmp.loc[idx].geometry)"
   ]
  },
  {
   "cell_type": "code",
   "execution_count": 102,
   "id": "d4bde624",
   "metadata": {},
   "outputs": [],
   "source": [
    "gdf = gpd.GeoDataFrame(df)"
   ]
  },
  {
   "cell_type": "code",
   "execution_count": 103,
   "id": "5aa4a518",
   "metadata": {},
   "outputs": [
    {
     "data": {
      "text/plain": [
       "<AxesSubplot:>"
      ]
     },
     "execution_count": 103,
     "metadata": {},
     "output_type": "execute_result"
    },
    {
     "data": {
      "image/png": "[encoded data removed]",
      "text/plain": [
       "<Figure size 432x288 with 1 Axes>"
      ]
     },
     "metadata": {
      "needs_background": "light"
     },
     "output_type": "display_data"
    }
   ],
   "source": [
    "gdf.sample(5000).plot('pop')"
   ]
  },
  {
   "cell_type": "code",
   "execution_count": 104,
   "id": "497be437",
   "metadata": {},
   "outputs": [
    {
     "data": {
      "text/plain": [
       "<AxesSubplot:>"
      ]
     },
     "execution_count": 104,
     "metadata": {},
     "output_type": "execute_result"
    },
    {
     "data": {
      "image/png": "[encoded data removed]",
      "text/plain": [
       "<Figure size 432x288 with 1 Axes>"
      ]
     },
     "metadata": {
      "needs_background": "light"
     },
     "output_type": "display_data"
    }
   ],
   "source": [
    "gdf.sample(5000).plot('counts')"
   ]
  },
  {
   "cell_type": "code",
   "execution_count": 105,
   "id": "d652943a",
   "metadata": {},
   "outputs": [],
   "source": [
    "gdf_outliers = gdf[\n",
    "    (gdf['pop'] >= gdf['pop'].mean() + gdf['pop'].std() * 3)\n",
    "    | (gdf['counts'] >= gdf['counts'].mean() + gdf['counts'].std() * 3)\n",
    "]\n"
   ]
  },
  {
   "cell_type": "code",
   "execution_count": 106,
   "id": "14520410",
   "metadata": {},
   "outputs": [
    {
     "data": {
      "text/plain": [
       "<AxesSubplot:>"
      ]
     },
     "execution_count": 106,
     "metadata": {},
     "output_type": "execute_result"
    },
    {
     "data": {
      "image/png": "[encoded data removed]",
      "text/plain": [
       "<Figure size 432x288 with 1 Axes>"
      ]
     },
     "metadata": {
      "needs_background": "light"
     },
     "output_type": "display_data"
    }
   ],
   "source": [
    "gdf_outliers.plot('counts')"
   ]
  },
  {
   "cell_type": "markdown",
   "id": "79a181cc",
   "metadata": {},
   "source": [
    "# % of people living within X distance of bus stop"
   ]
  },
  {
   "cell_type": "code",
   "execution_count": 107,
   "id": "f40167b5",
   "metadata": {},
   "outputs": [
    {
     "data": {
      "text/html": [
       "<div>\n",
       "<style scoped>\n",
       "    .dataframe tbody tr th:only-of-type {\n",
       "        vertical-align: middle;\n",
       "    }\n",
       "\n",
       "    .dataframe tbody tr th {\n",
       "        vertical-align: top;\n",
       "    }\n",
       "\n",
       "    .dataframe thead th {\n",
       "        text-align: right;\n",
       "    }\n",
       "</style>\n",
       "<table border=\"1\" class=\"dataframe\">\n",
       "  <thead>\n",
       "    <tr style=\"text-align: right;\">\n",
       "      <th></th>\n",
       "      <th>idx</th>\n",
       "      <th>counts</th>\n",
       "      <th>pop</th>\n",
       "      <th>geometry</th>\n",
       "    </tr>\n",
       "  </thead>\n",
       "  <tbody>\n",
       "    <tr>\n",
       "      <th>0</th>\n",
       "      <td>0</td>\n",
       "      <td>0</td>\n",
       "      <td>9.659727</td>\n",
       "      <td>POINT (12679181.774 2530762.709)</td>\n",
       "    </tr>\n",
       "    <tr>\n",
       "      <th>1</th>\n",
       "      <td>1</td>\n",
       "      <td>0</td>\n",
       "      <td>17.446940</td>\n",
       "      <td>POINT (12718607.427 2531163.374)</td>\n",
       "    </tr>\n",
       "    <tr>\n",
       "      <th>2</th>\n",
       "      <td>2</td>\n",
       "      <td>0</td>\n",
       "      <td>17.446940</td>\n",
       "      <td>POINT (12718731.115 2531196.764)</td>\n",
       "    </tr>\n",
       "    <tr>\n",
       "      <th>3</th>\n",
       "      <td>3</td>\n",
       "      <td>0</td>\n",
       "      <td>17.446940</td>\n",
       "      <td>POINT (12718390.973 2531263.542)</td>\n",
       "    </tr>\n",
       "    <tr>\n",
       "      <th>4</th>\n",
       "      <td>4</td>\n",
       "      <td>0</td>\n",
       "      <td>9.659727</td>\n",
       "      <td>POINT (12680418.657 2531330.321)</td>\n",
       "    </tr>\n",
       "    <tr>\n",
       "      <th>...</th>\n",
       "      <td>...</td>\n",
       "      <td>...</td>\n",
       "      <td>...</td>\n",
       "      <td>...</td>\n",
       "    </tr>\n",
       "    <tr>\n",
       "      <th>109950</th>\n",
       "      <td>109950</td>\n",
       "      <td>0</td>\n",
       "      <td>4.752405</td>\n",
       "      <td>POINT (12709392.647 2578810.387)</td>\n",
       "    </tr>\n",
       "    <tr>\n",
       "      <th>109951</th>\n",
       "      <td>109951</td>\n",
       "      <td>0</td>\n",
       "      <td>4.752405</td>\n",
       "      <td>POINT (12709423.569 2578810.387)</td>\n",
       "    </tr>\n",
       "    <tr>\n",
       "      <th>109952</th>\n",
       "      <td>109952</td>\n",
       "      <td>0</td>\n",
       "      <td>4.752405</td>\n",
       "      <td>POINT (12710227.543 2578810.387)</td>\n",
       "    </tr>\n",
       "    <tr>\n",
       "      <th>109953</th>\n",
       "      <td>109953</td>\n",
       "      <td>0</td>\n",
       "      <td>4.752405</td>\n",
       "      <td>POINT (12710196.621 2578843.871)</td>\n",
       "    </tr>\n",
       "    <tr>\n",
       "      <th>109954</th>\n",
       "      <td>109954</td>\n",
       "      <td>0</td>\n",
       "      <td>4.752405</td>\n",
       "      <td>POINT (12710258.465 2578843.871)</td>\n",
       "    </tr>\n",
       "  </tbody>\n",
       "</table>\n",
       "<p>10485 rows × 4 columns</p>\n",
       "</div>"
      ],
      "text/plain": [
       "           idx  counts        pop                          geometry\n",
       "0            0       0   9.659727  POINT (12679181.774 2530762.709)\n",
       "1            1       0  17.446940  POINT (12718607.427 2531163.374)\n",
       "2            2       0  17.446940  POINT (12718731.115 2531196.764)\n",
       "3            3       0  17.446940  POINT (12718390.973 2531263.542)\n",
       "4            4       0   9.659727  POINT (12680418.657 2531330.321)\n",
       "...        ...     ...        ...                               ...\n",
       "109950  109950       0   4.752405  POINT (12709392.647 2578810.387)\n",
       "109951  109951       0   4.752405  POINT (12709423.569 2578810.387)\n",
       "109952  109952       0   4.752405  POINT (12710227.543 2578810.387)\n",
       "109953  109953       0   4.752405  POINT (12710196.621 2578843.871)\n",
       "109954  109954       0   4.752405  POINT (12710258.465 2578843.871)\n",
       "\n",
       "[10485 rows x 4 columns]"
      ]
     },
     "execution_count": 107,
     "metadata": {},
     "output_type": "execute_result"
    }
   ],
   "source": [
    "no_stops = gdf[gdf.counts == 0]\n",
    "no_stops"
   ]
  },
  {
   "cell_type": "code",
   "execution_count": 108,
   "id": "d4b4123b",
   "metadata": {},
   "outputs": [
    {
     "data": {
      "text/plain": [
       "<AxesSubplot:>"
      ]
     },
     "execution_count": 108,
     "metadata": {},
     "output_type": "execute_result"
    },
    {
     "data": {
      "image/png": "[encoded data removed]",
      "text/plain": [
       "<Figure size 432x288 with 1 Axes>"
      ]
     },
     "metadata": {
      "needs_background": "light"
     },
     "output_type": "display_data"
    }
   ],
   "source": [
    "no_stops.plot('pop')"
   ]
  },
  {
   "cell_type": "code",
   "execution_count": 109,
   "id": "2670418f",
   "metadata": {},
   "outputs": [
    {
     "data": {
      "text/plain": [
       "164540.53814772505"
      ]
     },
     "execution_count": 109,
     "metadata": {},
     "output_type": "execute_result"
    }
   ],
   "source": [
    "no_stops['pop'].sum()"
   ]
  },
  {
   "cell_type": "code",
   "execution_count": 110,
   "id": "836bd6e5",
   "metadata": {},
   "outputs": [
    {
     "data": {
      "text/plain": [
       "7557179.66036896"
      ]
     },
     "execution_count": 110,
     "metadata": {},
     "output_type": "execute_result"
    }
   ],
   "source": [
    "gdf['pop'].sum()  # same as total population"
   ]
  },
  {
   "cell_type": "code",
   "execution_count": 111,
   "id": "56228302",
   "metadata": {},
   "outputs": [
    {
     "data": {
      "text/plain": [
       "7557179.66036896"
      ]
     },
     "execution_count": 111,
     "metadata": {},
     "output_type": "execute_result"
    }
   ],
   "source": [
    "pop.population_2020.sum()"
   ]
  },
  {
   "cell_type": "code",
   "execution_count": 112,
   "id": "aca6cca9",
   "metadata": {},
   "outputs": [
    {
     "data": {
      "text/plain": [
       "0.02177274400535977"
      ]
     },
     "execution_count": 112,
     "metadata": {},
     "output_type": "execute_result"
    }
   ],
   "source": [
    "# % of pop not within 1000 m of bus stop\n",
    "no_stops['pop'].sum() / pop.population_2020.sum()"
   ]
  },
  {
   "cell_type": "code",
   "execution_count": 113,
   "id": "a76ee217",
   "metadata": {},
   "outputs": [
    {
     "data": {
      "text/plain": [
       "0.9782272559946402"
      ]
     },
     "execution_count": 113,
     "metadata": {},
     "output_type": "execute_result"
    }
   ],
   "source": [
    "# % of pop within 1000 m of bus stop\n",
    "1 - no_stops['pop'].sum() / pop.population_2020.sum()"
   ]
  },
  {
   "cell_type": "markdown",
   "id": "e5719a88",
   "metadata": {},
   "source": [
    "# 100 m"
   ]
  },
  {
   "cell_type": "code",
   "execution_count": 114,
   "id": "80ac6280",
   "metadata": {
    "tags": []
   },
   "outputs": [],
   "source": [
    "if not os.path.exists('gen/hk_count_100m.h5'):\n",
    "    count_for_every_pop = pd.HDFStore('gen/hk_count_100m.h5')\n",
    "    for x in store.select('df', chunksize=10):\n",
    "        count_for_every_pop.put('data', x[x <= 100].count(axis=1), format='table', append=True)\n",
    "    count_for_every_pop.close()"
   ]
  },
  {
   "cell_type": "code",
   "execution_count": 115,
   "id": "4c150efc",
   "metadata": {},
   "outputs": [],
   "source": [
    "df = pd.read_hdf('gen/hk_count_100m.h5', key='data')"
   ]
  },
  {
   "cell_type": "code",
   "execution_count": 116,
   "id": "1e25bfb5",
   "metadata": {},
   "outputs": [],
   "source": [
    "df = df.reset_index()"
   ]
  },
  {
   "cell_type": "code",
   "execution_count": 117,
   "id": "7143d122",
   "metadata": {},
   "outputs": [],
   "source": [
    "df.columns = ['idx', 'counts']"
   ]
  },
  {
   "cell_type": "code",
   "execution_count": 118,
   "id": "bfa67629",
   "metadata": {},
   "outputs": [],
   "source": [
    "df['pop'] = df['idx'].apply(lambda idx: pop_tmp.iloc[idx].population_2020)"
   ]
  },
  {
   "cell_type": "code",
   "execution_count": 119,
   "id": "ff6691aa",
   "metadata": {},
   "outputs": [],
   "source": [
    "left, width = 0.1, 0.65\n",
    "bottom, height = 0.1, 0.65\n",
    "spacing = 0.005"
   ]
  },
  {
   "cell_type": "code",
   "execution_count": 120,
   "id": "2c003765",
   "metadata": {},
   "outputs": [],
   "source": [
    "rect_scatter = [left, bottom, width, height]\n",
    "rect_histx = [left, bottom + height + spacing, width, 0.2]\n",
    "rect_histy = [left + width + spacing, bottom, 0.2, height]"
   ]
  },
  {
   "cell_type": "code",
   "execution_count": 121,
   "id": "1de6af56",
   "metadata": {},
   "outputs": [
    {
     "data": {
      "text/plain": [
       "Text(0, 0.5, 'number of bus stops within 100 m')"
      ]
     },
     "execution_count": 121,
     "metadata": {},
     "output_type": "execute_result"
    },
    {
     "data": {
      "image/png": "[encoded data removed]",
      "text/plain": [
       "<Figure size 576x576 with 3 Axes>"
      ]
     },
     "metadata": {
      "needs_background": "light"
     },
     "output_type": "display_data"
    }
   ],
   "source": [
    "fig = plt.figure(figsize=(8,8))\n",
    "ax = fig.add_axes(rect_scatter)\n",
    "ax.scatter(df['pop'], df['counts'], s=5)\n",
    "ax.axvline(x=df['pop'].mean(), c='green')\n",
    "ax.axhline(y=df['counts'].mean(), c='green')\n",
    "\n",
    "ax_hx = fig.add_axes(rect_histx, sharex=ax)\n",
    "ax_hy = fig.add_axes(rect_histy, sharey=ax)\n",
    "ax_hx.tick_params(axis=\"x\", labelbottom=False)\n",
    "ax_hy.tick_params(axis=\"y\", labelleft=False)\n",
    "\n",
    "ax_hx.hist(df['pop'], bins=20)\n",
    "ax_hy.hist(df['counts'], orientation='horizontal', bins=20)\n",
    "\n",
    "ax.set_xlabel('population')\n",
    "ax.set_ylabel('number of bus stops within 100 m')"
   ]
  },
  {
   "cell_type": "code",
   "execution_count": 122,
   "id": "70b18c07",
   "metadata": {},
   "outputs": [
    {
     "data": {
      "text/plain": [
       "count    109955.000000\n",
       "mean          0.424101\n",
       "std           0.829923\n",
       "min           0.000000\n",
       "25%           0.000000\n",
       "50%           0.000000\n",
       "75%           1.000000\n",
       "max           9.000000\n",
       "Name: counts, dtype: float64"
      ]
     },
     "execution_count": 122,
     "metadata": {},
     "output_type": "execute_result"
    }
   ],
   "source": [
    "df['counts'].describe()"
   ]
  },
  {
   "cell_type": "code",
   "execution_count": 123,
   "id": "ca2b9bed",
   "metadata": {},
   "outputs": [],
   "source": [
    "df[['counts', 'pop']].to_csv('gen/hk_nstops_100m.csv')"
   ]
  },
  {
   "cell_type": "code",
   "execution_count": 124,
   "id": "d95f54f6",
   "metadata": {},
   "outputs": [
    {
     "data": {
      "text/html": [
       "<div>\n",
       "<style scoped>\n",
       "    .dataframe tbody tr th:only-of-type {\n",
       "        vertical-align: middle;\n",
       "    }\n",
       "\n",
       "    .dataframe tbody tr th {\n",
       "        vertical-align: top;\n",
       "    }\n",
       "\n",
       "    .dataframe thead th {\n",
       "        text-align: right;\n",
       "    }\n",
       "</style>\n",
       "<table border=\"1\" class=\"dataframe\">\n",
       "  <thead>\n",
       "    <tr style=\"text-align: right;\">\n",
       "      <th></th>\n",
       "      <th>idx</th>\n",
       "      <th>counts</th>\n",
       "      <th>pop</th>\n",
       "    </tr>\n",
       "  </thead>\n",
       "  <tbody>\n",
       "    <tr>\n",
       "      <th>1314</th>\n",
       "      <td>1314</td>\n",
       "      <td>3</td>\n",
       "      <td>17.446940</td>\n",
       "    </tr>\n",
       "    <tr>\n",
       "      <th>1320</th>\n",
       "      <td>1320</td>\n",
       "      <td>4</td>\n",
       "      <td>17.446940</td>\n",
       "    </tr>\n",
       "    <tr>\n",
       "      <th>1321</th>\n",
       "      <td>1321</td>\n",
       "      <td>4</td>\n",
       "      <td>17.446940</td>\n",
       "    </tr>\n",
       "    <tr>\n",
       "      <th>1322</th>\n",
       "      <td>1322</td>\n",
       "      <td>3</td>\n",
       "      <td>17.446940</td>\n",
       "    </tr>\n",
       "    <tr>\n",
       "      <th>1355</th>\n",
       "      <td>1355</td>\n",
       "      <td>3</td>\n",
       "      <td>17.446940</td>\n",
       "    </tr>\n",
       "    <tr>\n",
       "      <th>...</th>\n",
       "      <td>...</td>\n",
       "      <td>...</td>\n",
       "      <td>...</td>\n",
       "    </tr>\n",
       "    <tr>\n",
       "      <th>105680</th>\n",
       "      <td>105680</td>\n",
       "      <td>3</td>\n",
       "      <td>9.065602</td>\n",
       "    </tr>\n",
       "    <tr>\n",
       "      <th>105800</th>\n",
       "      <td>105800</td>\n",
       "      <td>3</td>\n",
       "      <td>9.065602</td>\n",
       "    </tr>\n",
       "    <tr>\n",
       "      <th>105801</th>\n",
       "      <td>105801</td>\n",
       "      <td>3</td>\n",
       "      <td>9.065602</td>\n",
       "    </tr>\n",
       "    <tr>\n",
       "      <th>105802</th>\n",
       "      <td>105802</td>\n",
       "      <td>3</td>\n",
       "      <td>9.065602</td>\n",
       "    </tr>\n",
       "    <tr>\n",
       "      <th>108513</th>\n",
       "      <td>108513</td>\n",
       "      <td>3</td>\n",
       "      <td>4.752405</td>\n",
       "    </tr>\n",
       "  </tbody>\n",
       "</table>\n",
       "<p>4930 rows × 3 columns</p>\n",
       "</div>"
      ],
      "text/plain": [
       "           idx  counts        pop\n",
       "1314      1314       3  17.446940\n",
       "1320      1320       4  17.446940\n",
       "1321      1321       4  17.446940\n",
       "1322      1322       3  17.446940\n",
       "1355      1355       3  17.446940\n",
       "...        ...     ...        ...\n",
       "105680  105680       3   9.065602\n",
       "105800  105800       3   9.065602\n",
       "105801  105801       3   9.065602\n",
       "105802  105802       3   9.065602\n",
       "108513  108513       3   4.752405\n",
       "\n",
       "[4930 rows x 3 columns]"
      ]
     },
     "execution_count": 124,
     "metadata": {},
     "output_type": "execute_result"
    }
   ],
   "source": [
    "df_outliers = df[\n",
    "    (df['pop'] >= df['pop'].mean() + df['pop'].std() * 3)\n",
    "    | (df['counts'] >= df['counts'].mean() + df['counts'].std() * 3)\n",
    "]\n",
    "df_outliers"
   ]
  },
  {
   "cell_type": "code",
   "execution_count": 125,
   "id": "0225ad42",
   "metadata": {},
   "outputs": [],
   "source": [
    "df_gray = df[~df.index.isin(df_outliers.index)]"
   ]
  },
  {
   "cell_type": "code",
   "execution_count": 126,
   "id": "ce093f9f",
   "metadata": {},
   "outputs": [
    {
     "data": {
      "text/plain": [
       "Text(0, 0.5, 'number of bus stops within 100 m')"
      ]
     },
     "execution_count": 126,
     "metadata": {},
     "output_type": "execute_result"
    },
    {
     "data": {
      "image/png": "[encoded data removed]",
      "text/plain": [
       "<Figure size 576x576 with 3 Axes>"
      ]
     },
     "metadata": {
      "needs_background": "light"
     },
     "output_type": "display_data"
    }
   ],
   "source": [
    "fig = plt.figure(figsize=(8,8))\n",
    "ax = fig.add_axes(rect_scatter)\n",
    "ax.scatter(df_gray['pop'], df_gray['counts'], s=5, c='gray')\n",
    "ax.scatter(df_outliers['pop'], df_outliers['counts'], s=5)\n",
    "\n",
    "ax_hx = fig.add_axes(rect_histx, sharex=ax)\n",
    "ax_hy = fig.add_axes(rect_histy, sharey=ax)\n",
    "ax_hx.tick_params(axis=\"x\", labelbottom=False)\n",
    "ax_hy.tick_params(axis=\"y\", labelleft=False)\n",
    "\n",
    "ax_hx.hist(df_gray['pop'], bins=20)\n",
    "ax_hy.hist(df_gray['counts'], orientation='horizontal', bins=20)\n",
    "\n",
    "ax.set_xlabel('population')\n",
    "ax.set_ylabel('number of bus stops within 100 m')"
   ]
  },
  {
   "cell_type": "code",
   "execution_count": 127,
   "id": "5733b3f4",
   "metadata": {},
   "outputs": [],
   "source": [
    "df['geometry'] = df['idx'].apply(lambda idx: pop_tmp.loc[idx].geometry)"
   ]
  },
  {
   "cell_type": "code",
   "execution_count": 128,
   "id": "280ea166",
   "metadata": {},
   "outputs": [],
   "source": [
    "gdf = gpd.GeoDataFrame(df)"
   ]
  },
  {
   "cell_type": "code",
   "execution_count": 129,
   "id": "ec34b945",
   "metadata": {},
   "outputs": [
    {
     "data": {
      "text/plain": [
       "<AxesSubplot:>"
      ]
     },
     "execution_count": 129,
     "metadata": {},
     "output_type": "execute_result"
    },
    {
     "data": {
      "image/png": "[encoded data removed]",
      "text/plain": [
       "<Figure size 432x288 with 1 Axes>"
      ]
     },
     "metadata": {
      "needs_background": "light"
     },
     "output_type": "display_data"
    }
   ],
   "source": [
    "gdf.sample(5000).plot('pop')"
   ]
  },
  {
   "cell_type": "code",
   "execution_count": 130,
   "id": "e7c55703",
   "metadata": {},
   "outputs": [
    {
     "data": {
      "text/plain": [
       "<AxesSubplot:>"
      ]
     },
     "execution_count": 130,
     "metadata": {},
     "output_type": "execute_result"
    },
    {
     "data": {
      "image/png": "[encoded data removed]",
      "text/plain": [
       "<Figure size 432x288 with 1 Axes>"
      ]
     },
     "metadata": {
      "needs_background": "light"
     },
     "output_type": "display_data"
    }
   ],
   "source": [
    "gdf.sample(5000).plot('counts')"
   ]
  },
  {
   "cell_type": "code",
   "execution_count": 131,
   "id": "72981066",
   "metadata": {},
   "outputs": [],
   "source": [
    "gdf_outliers = gdf[\n",
    "    (gdf['pop'] >= gdf['pop'].mean() + gdf['pop'].std() * 3)\n",
    "    | (gdf['counts'] >= gdf['counts'].mean() + gdf['counts'].std() * 3)\n",
    "]\n"
   ]
  },
  {
   "cell_type": "code",
   "execution_count": 132,
   "id": "f8741db1",
   "metadata": {},
   "outputs": [
    {
     "data": {
      "text/plain": [
       "<AxesSubplot:>"
      ]
     },
     "execution_count": 132,
     "metadata": {},
     "output_type": "execute_result"
    },
    {
     "data": {
      "image/png": "[encoded data removed]",
      "text/plain": [
       "<Figure size 432x288 with 1 Axes>"
      ]
     },
     "metadata": {
      "needs_background": "light"
     },
     "output_type": "display_data"
    }
   ],
   "source": [
    "gdf_outliers.plot('counts')"
   ]
  },
  {
   "cell_type": "markdown",
   "id": "0dda36af",
   "metadata": {},
   "source": [
    "# % of people living within X distance of bus stop"
   ]
  },
  {
   "cell_type": "code",
   "execution_count": 133,
   "id": "f1b883d0",
   "metadata": {},
   "outputs": [
    {
     "data": {
      "text/html": [
       "<div>\n",
       "<style scoped>\n",
       "    .dataframe tbody tr th:only-of-type {\n",
       "        vertical-align: middle;\n",
       "    }\n",
       "\n",
       "    .dataframe tbody tr th {\n",
       "        vertical-align: top;\n",
       "    }\n",
       "\n",
       "    .dataframe thead th {\n",
       "        text-align: right;\n",
       "    }\n",
       "</style>\n",
       "<table border=\"1\" class=\"dataframe\">\n",
       "  <thead>\n",
       "    <tr style=\"text-align: right;\">\n",
       "      <th></th>\n",
       "      <th>idx</th>\n",
       "      <th>counts</th>\n",
       "      <th>pop</th>\n",
       "      <th>geometry</th>\n",
       "    </tr>\n",
       "  </thead>\n",
       "  <tbody>\n",
       "    <tr>\n",
       "      <th>0</th>\n",
       "      <td>0</td>\n",
       "      <td>0</td>\n",
       "      <td>9.659727</td>\n",
       "      <td>POINT (12679181.774 2530762.709)</td>\n",
       "    </tr>\n",
       "    <tr>\n",
       "      <th>1</th>\n",
       "      <td>1</td>\n",
       "      <td>0</td>\n",
       "      <td>17.446940</td>\n",
       "      <td>POINT (12718607.427 2531163.374)</td>\n",
       "    </tr>\n",
       "    <tr>\n",
       "      <th>2</th>\n",
       "      <td>2</td>\n",
       "      <td>0</td>\n",
       "      <td>17.446940</td>\n",
       "      <td>POINT (12718731.115 2531196.764)</td>\n",
       "    </tr>\n",
       "    <tr>\n",
       "      <th>3</th>\n",
       "      <td>3</td>\n",
       "      <td>0</td>\n",
       "      <td>17.446940</td>\n",
       "      <td>POINT (12718390.973 2531263.542)</td>\n",
       "    </tr>\n",
       "    <tr>\n",
       "      <th>4</th>\n",
       "      <td>4</td>\n",
       "      <td>0</td>\n",
       "      <td>9.659727</td>\n",
       "      <td>POINT (12680418.657 2531330.321)</td>\n",
       "    </tr>\n",
       "    <tr>\n",
       "      <th>...</th>\n",
       "      <td>...</td>\n",
       "      <td>...</td>\n",
       "      <td>...</td>\n",
       "      <td>...</td>\n",
       "    </tr>\n",
       "    <tr>\n",
       "      <th>109950</th>\n",
       "      <td>109950</td>\n",
       "      <td>0</td>\n",
       "      <td>4.752405</td>\n",
       "      <td>POINT (12709392.647 2578810.387)</td>\n",
       "    </tr>\n",
       "    <tr>\n",
       "      <th>109951</th>\n",
       "      <td>109951</td>\n",
       "      <td>0</td>\n",
       "      <td>4.752405</td>\n",
       "      <td>POINT (12709423.569 2578810.387)</td>\n",
       "    </tr>\n",
       "    <tr>\n",
       "      <th>109952</th>\n",
       "      <td>109952</td>\n",
       "      <td>0</td>\n",
       "      <td>4.752405</td>\n",
       "      <td>POINT (12710227.543 2578810.387)</td>\n",
       "    </tr>\n",
       "    <tr>\n",
       "      <th>109953</th>\n",
       "      <td>109953</td>\n",
       "      <td>0</td>\n",
       "      <td>4.752405</td>\n",
       "      <td>POINT (12710196.621 2578843.871)</td>\n",
       "    </tr>\n",
       "    <tr>\n",
       "      <th>109954</th>\n",
       "      <td>109954</td>\n",
       "      <td>0</td>\n",
       "      <td>4.752405</td>\n",
       "      <td>POINT (12710258.465 2578843.871)</td>\n",
       "    </tr>\n",
       "  </tbody>\n",
       "</table>\n",
       "<p>81339 rows × 4 columns</p>\n",
       "</div>"
      ],
      "text/plain": [
       "           idx  counts        pop                          geometry\n",
       "0            0       0   9.659727  POINT (12679181.774 2530762.709)\n",
       "1            1       0  17.446940  POINT (12718607.427 2531163.374)\n",
       "2            2       0  17.446940  POINT (12718731.115 2531196.764)\n",
       "3            3       0  17.446940  POINT (12718390.973 2531263.542)\n",
       "4            4       0   9.659727  POINT (12680418.657 2531330.321)\n",
       "...        ...     ...        ...                               ...\n",
       "109950  109950       0   4.752405  POINT (12709392.647 2578810.387)\n",
       "109951  109951       0   4.752405  POINT (12709423.569 2578810.387)\n",
       "109952  109952       0   4.752405  POINT (12710227.543 2578810.387)\n",
       "109953  109953       0   4.752405  POINT (12710196.621 2578843.871)\n",
       "109954  109954       0   4.752405  POINT (12710258.465 2578843.871)\n",
       "\n",
       "[81339 rows x 4 columns]"
      ]
     },
     "execution_count": 133,
     "metadata": {},
     "output_type": "execute_result"
    }
   ],
   "source": [
    "no_stops = gdf[gdf.counts == 0]\n",
    "no_stops"
   ]
  },
  {
   "cell_type": "code",
   "execution_count": 134,
   "id": "b625e8ec",
   "metadata": {},
   "outputs": [
    {
     "data": {
      "text/plain": [
       "<AxesSubplot:>"
      ]
     },
     "execution_count": 134,
     "metadata": {},
     "output_type": "execute_result"
    },
    {
     "data": {
      "image/png": "[encoded data removed]",
      "text/plain": [
       "<Figure size 432x288 with 1 Axes>"
      ]
     },
     "metadata": {
      "needs_background": "light"
     },
     "output_type": "display_data"
    }
   ],
   "source": [
    "no_stops.plot('pop')"
   ]
  },
  {
   "cell_type": "code",
   "execution_count": 135,
   "id": "cc5b1cab",
   "metadata": {},
   "outputs": [
    {
     "data": {
      "text/plain": [
       "4238459.19153026"
      ]
     },
     "execution_count": 135,
     "metadata": {},
     "output_type": "execute_result"
    }
   ],
   "source": [
    "no_stops['pop'].sum()"
   ]
  },
  {
   "cell_type": "code",
   "execution_count": 136,
   "id": "fa14c7b1",
   "metadata": {},
   "outputs": [
    {
     "data": {
      "text/plain": [
       "7557179.66036896"
      ]
     },
     "execution_count": 136,
     "metadata": {},
     "output_type": "execute_result"
    }
   ],
   "source": [
    "gdf['pop'].sum()  # same as total population"
   ]
  },
  {
   "cell_type": "code",
   "execution_count": 137,
   "id": "4f1768cf",
   "metadata": {},
   "outputs": [
    {
     "data": {
      "text/plain": [
       "7557179.66036896"
      ]
     },
     "execution_count": 137,
     "metadata": {},
     "output_type": "execute_result"
    }
   ],
   "source": [
    "pop.population_2020.sum()"
   ]
  },
  {
   "cell_type": "code",
   "execution_count": 138,
   "id": "b08a754a",
   "metadata": {},
   "outputs": [
    {
     "data": {
      "text/plain": [
       "0.5608519820902773"
      ]
     },
     "execution_count": 138,
     "metadata": {},
     "output_type": "execute_result"
    }
   ],
   "source": [
    "# % of pop not within 1000 m of bus stop\n",
    "no_stops['pop'].sum() / pop.population_2020.sum()"
   ]
  },
  {
   "cell_type": "code",
   "execution_count": 139,
   "id": "e1c3e569",
   "metadata": {},
   "outputs": [
    {
     "data": {
      "text/plain": [
       "0.4391480179097227"
      ]
     },
     "execution_count": 139,
     "metadata": {},
     "output_type": "execute_result"
    }
   ],
   "source": [
    "# % of pop within 1000 m of bus stop\n",
    "1 - no_stops['pop'].sum() / pop.population_2020.sum()"
   ]
  },
  {
   "cell_type": "code",
   "execution_count": null,
   "id": "4d3d09b2",
   "metadata": {},
   "outputs": [],
   "source": []
  }
 ],
 "metadata": {
  "kernelspec": {
   "display_name": "Python 3 (ipykernel)",
   "language": "python",
   "name": "python3"
  },
  "language_info": {
   "codemirror_mode": {
    "name": "ipython",
    "version": 3
   },
   "file_extension": ".py",
   "mimetype": "text/x-python",
   "name": "python",
   "nbconvert_exporter": "python",
   "pygments_lexer": "ipython3",
   "version": "3.9.1"
  }
 },
 "nbformat": 4,
 "nbformat_minor": 5
}
